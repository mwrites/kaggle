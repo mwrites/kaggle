{
 "cells": [
  {
   "cell_type": "markdown",
   "id": "e663275d",
   "metadata": {},
   "source": [
    "# [Binary Classification of Insurance Cross Selling](https://www.kaggle.com/competitions/playground-series-s4e7)"
   ]
  },
  {
   "cell_type": "code",
   "execution_count": 7,
   "id": "80f09f17-cb3c-4920-9fab-0f70405b4c46",
   "metadata": {},
   "outputs": [],
   "source": [
    "# pip install \\\n",
    "#     --extra-index-url=https://pypi.nvidia.com \\\n",
    "#     cudf-cu12==24.6.* dask-cudf-cu12==24.6.* cuml-cu12==24.6.* \\\n",
    "#     cugraph-cu12==24.6.* cuspatial-cu12==24.6.* cuproj-cu12==24.6.* \\\n",
    "#     cuxfilter-cu12==24.6.* cucim-cu12==24.6.* pylibraft-cu12==24.6.* \\\n",
    "#     raft-dask-cu12==24.6.* cuvs-cu12==24.6.*"
   ]
  },
  {
   "cell_type": "code",
   "execution_count": 8,
   "id": "26411cbd-5653-48a2-98f7-daf22fe5198c",
   "metadata": {},
   "outputs": [],
   "source": [
    "# %pip install matplotlib seaborn scikit-learn category_encoders torchmetrics kagtool"
   ]
  },
  {
   "cell_type": "markdown",
   "id": "08927340-9830-453c-b450-7b3091d7f9cc",
   "metadata": {},
   "source": [
    "# Preprocess + Training"
   ]
  },
  {
   "cell_type": "code",
   "execution_count": 9,
   "id": "a33cc861-b654-4424-8b4b-b88ced51071d",
   "metadata": {},
   "outputs": [
    {
     "name": "stdout",
     "output_type": "stream",
     "text": [
      "The cudf.pandas extension is already loaded. To reload it, use:\n",
      "  %reload_ext cudf.pandas\n"
     ]
    },
    {
     "data": {
      "text/plain": [
       "'Number of rows: 11504798, Number of columns: 12'"
      ]
     },
     "metadata": {},
     "output_type": "display_data"
    },
    {
     "data": {
      "text/html": [
       "<div>\n",
       "<style scoped>\n",
       "    .dataframe tbody tr th:only-of-type {\n",
       "        vertical-align: middle;\n",
       "    }\n",
       "\n",
       "    .dataframe tbody tr th {\n",
       "        vertical-align: top;\n",
       "    }\n",
       "\n",
       "    .dataframe thead th {\n",
       "        text-align: right;\n",
       "    }\n",
       "</style>\n",
       "<table border=\"1\" class=\"dataframe\">\n",
       "  <thead>\n",
       "    <tr style=\"text-align: right;\">\n",
       "      <th></th>\n",
       "      <th>id</th>\n",
       "      <th>Gender</th>\n",
       "      <th>Age</th>\n",
       "      <th>Driving_License</th>\n",
       "      <th>Region_Code</th>\n",
       "      <th>Previously_Insured</th>\n",
       "      <th>Vehicle_Age</th>\n",
       "      <th>Vehicle_Damage</th>\n",
       "      <th>Annual_Premium</th>\n",
       "      <th>Policy_Sales_Channel</th>\n",
       "      <th>Vintage</th>\n",
       "      <th>Response</th>\n",
       "    </tr>\n",
       "  </thead>\n",
       "  <tbody>\n",
       "    <tr>\n",
       "      <th>0</th>\n",
       "      <td>0</td>\n",
       "      <td>Male</td>\n",
       "      <td>21</td>\n",
       "      <td>1</td>\n",
       "      <td>35.0</td>\n",
       "      <td>0</td>\n",
       "      <td>1-2 Year</td>\n",
       "      <td>Yes</td>\n",
       "      <td>65101.0</td>\n",
       "      <td>124.0</td>\n",
       "      <td>187</td>\n",
       "      <td>0</td>\n",
       "    </tr>\n",
       "    <tr>\n",
       "      <th>1</th>\n",
       "      <td>1</td>\n",
       "      <td>Male</td>\n",
       "      <td>43</td>\n",
       "      <td>1</td>\n",
       "      <td>28.0</td>\n",
       "      <td>0</td>\n",
       "      <td>&gt; 2 Years</td>\n",
       "      <td>Yes</td>\n",
       "      <td>58911.0</td>\n",
       "      <td>26.0</td>\n",
       "      <td>288</td>\n",
       "      <td>1</td>\n",
       "    </tr>\n",
       "    <tr>\n",
       "      <th>2</th>\n",
       "      <td>2</td>\n",
       "      <td>Female</td>\n",
       "      <td>25</td>\n",
       "      <td>1</td>\n",
       "      <td>14.0</td>\n",
       "      <td>1</td>\n",
       "      <td>&lt; 1 Year</td>\n",
       "      <td>No</td>\n",
       "      <td>38043.0</td>\n",
       "      <td>152.0</td>\n",
       "      <td>254</td>\n",
       "      <td>0</td>\n",
       "    </tr>\n",
       "    <tr>\n",
       "      <th>3</th>\n",
       "      <td>3</td>\n",
       "      <td>Female</td>\n",
       "      <td>35</td>\n",
       "      <td>1</td>\n",
       "      <td>1.0</td>\n",
       "      <td>0</td>\n",
       "      <td>1-2 Year</td>\n",
       "      <td>Yes</td>\n",
       "      <td>2630.0</td>\n",
       "      <td>156.0</td>\n",
       "      <td>76</td>\n",
       "      <td>0</td>\n",
       "    </tr>\n",
       "    <tr>\n",
       "      <th>4</th>\n",
       "      <td>4</td>\n",
       "      <td>Female</td>\n",
       "      <td>36</td>\n",
       "      <td>1</td>\n",
       "      <td>15.0</td>\n",
       "      <td>1</td>\n",
       "      <td>1-2 Year</td>\n",
       "      <td>No</td>\n",
       "      <td>31951.0</td>\n",
       "      <td>152.0</td>\n",
       "      <td>294</td>\n",
       "      <td>0</td>\n",
       "    </tr>\n",
       "  </tbody>\n",
       "</table>\n",
       "</div>"
      ],
      "text/plain": [
       "   id  Gender  Age  Driving_License  Region_Code  Previously_Insured Vehicle_Age Vehicle_Damage  Annual_Premium  Policy_Sales_Channel  \\\n",
       "0   0    Male   21                1         35.0                   0    1-2 Year            Yes         65101.0                 124.0   \n",
       "1   1    Male   43                1         28.0                   0   > 2 Years            Yes         58911.0                  26.0   \n",
       "2   2  Female   25                1         14.0                   1    < 1 Year             No         38043.0                 152.0   \n",
       "3   3  Female   35                1          1.0                   0    1-2 Year            Yes          2630.0                 156.0   \n",
       "4   4  Female   36                1         15.0                   1    1-2 Year             No         31951.0                 152.0   \n",
       "\n",
       "   Vintage  Response  \n",
       "0      187         0  \n",
       "1      288         1  \n",
       "2      254         0  \n",
       "3       76         0  \n",
       "4      294         0  "
      ]
     },
     "execution_count": 9,
     "metadata": {},
     "output_type": "execute_result"
    }
   ],
   "source": [
    "# # https://docs.rapids.ai/install\n",
    "%load_ext cudf.pandas\n",
    "\n",
    "from pathlib import Path\n",
    "import os\n",
    "import time\n",
    "import pandas as pd\n",
    "import numpy as np\n",
    "import matplotlib.pyplot as plt, seaborn as sns\n",
    "from tqdm import tqdm\n",
    "import gc\n",
    "\n",
    "import joblib\n",
    "from scipy import sparse\n",
    "from sklearn.model_selection import train_test_split\n",
    "from sklearn.preprocessing import StandardScaler, LabelEncoder\n",
    "from sklearn.linear_model import LogisticRegression\n",
    "from sklearn.metrics import roc_auc_score, roc_curve\n",
    "import category_encoders as ce\n",
    "from category_encoders import TargetEncoder\n",
    "\n",
    "import torch\n",
    "import torch.nn as nn\n",
    "import torch.nn.functional as F\n",
    "from torch.utils.data import Dataset, DataLoader, Subset, TensorDataset\n",
    "import torch.optim as optim\n",
    "from torchmetrics.classification import BinaryAUROC\n",
    "from torchmetrics.functional import roc as torch_roc\n",
    "\n",
    "np.set_printoptions(linewidth=140)\n",
    "pd.set_option('display.width', 140)\n",
    "\n",
    "device = torch.device(\"cuda\" if torch.cuda.is_available() else \"cpu\")\n",
    "\n",
    "if 'KAGGLE_KERNEL_RUN_TYPE' in os.environ:\n",
    "    path = Path('/kaggle/input/playground-series-s4e7')\n",
    "else:\n",
    "    path = Path('playground-series-s4e7')\n",
    "    \n",
    "sample_df = pd.read_csv(path/'sample_submission.csv')\n",
    "test_df = pd.read_csv(path/'test.csv')\n",
    "df = pd.read_csv(path/'train.csv')\n",
    "display(f\"Number of rows: {len(df)}, Number of columns: {len(df.columns)}\")\n",
    "df.head()"
   ]
  },
  {
   "cell_type": "code",
   "execution_count": 10,
   "id": "4a2b0529-e884-4758-bac2-4d33a005f36a",
   "metadata": {},
   "outputs": [
    {
     "name": "stdout",
     "output_type": "stream",
     "text": [
      "51728\n",
      "152\n",
      "290\n",
      "66\n"
     ]
    }
   ],
   "source": [
    "for c in [\"Annual_Premium\", \"Policy_Sales_Channel\", \"Vintage\", \"Age\"]:\n",
    "    print(df[c].nunique())"
   ]
  },
  {
   "cell_type": "markdown",
   "id": "ffa28820-8403-403e-810d-96476dbb1db8",
   "metadata": {},
   "source": [
    "### Target Encoding Annual_Premium - One Hot Encode Others"
   ]
  },
  {
   "cell_type": "code",
   "execution_count": 11,
   "id": "3462c9cf-d1b5-4aa0-b9f0-bac8a0241c4e",
   "metadata": {},
   "outputs": [
    {
     "name": "stderr",
     "output_type": "stream",
     "text": [
      "Label encoding features: 100%|██████████| 10/10 [00:19<00:00,  1.91s/it]\n"
     ]
    },
    {
     "name": "stdout",
     "output_type": "stream",
     "text": [
      "<class 'pandas.core.frame.DataFrame'>\n",
      "RangeIndex: 11504798 entries, 0 to 11504797\n",
      "Data columns (total 11 columns):\n",
      " #   Column                Dtype  \n",
      "---  ------                -----  \n",
      " 0   Response              int8   \n",
      " 1   Gender                float16\n",
      " 2   Age                   float16\n",
      " 3   Driving_License       float16\n",
      " 4   Region_Code           float16\n",
      " 5   Previously_Insured    float16\n",
      " 6   Vehicle_Age           float16\n",
      " 7   Vehicle_Damage        float16\n",
      " 8   Annual_Premium        float16\n",
      " 9   Policy_Sales_Channel  float16\n",
      " 10  Vintage               float16\n",
      "dtypes: float16(10), int8(1)\n",
      "memory usage: 230.4 MB\n"
     ]
    },
    {
     "data": {
      "text/plain": [
       "None"
      ]
     },
     "metadata": {},
     "output_type": "display_data"
    },
    {
     "name": "stderr",
     "output_type": "stream",
     "text": [
      "Label encoding features: 100%|██████████| 10/10 [00:12<00:00,  1.29s/it]\n"
     ]
    },
    {
     "data": {
      "text/html": [
       "<div>\n",
       "<style scoped>\n",
       "    .dataframe tbody tr th:only-of-type {\n",
       "        vertical-align: middle;\n",
       "    }\n",
       "\n",
       "    .dataframe tbody tr th {\n",
       "        vertical-align: top;\n",
       "    }\n",
       "\n",
       "    .dataframe thead th {\n",
       "        text-align: right;\n",
       "    }\n",
       "</style>\n",
       "<table border=\"1\" class=\"dataframe\">\n",
       "  <thead>\n",
       "    <tr style=\"text-align: right;\">\n",
       "      <th></th>\n",
       "      <th>Gender</th>\n",
       "      <th>Age</th>\n",
       "      <th>Driving_License</th>\n",
       "      <th>Region_Code</th>\n",
       "      <th>Previously_Insured</th>\n",
       "      <th>Vehicle_Age</th>\n",
       "      <th>Vehicle_Damage</th>\n",
       "      <th>Annual_Premium</th>\n",
       "      <th>Policy_Sales_Channel</th>\n",
       "      <th>Vintage</th>\n",
       "    </tr>\n",
       "  </thead>\n",
       "  <tbody>\n",
       "    <tr>\n",
       "      <th>0</th>\n",
       "      <td>0.0</td>\n",
       "      <td>0.0</td>\n",
       "      <td>1.0</td>\n",
       "      <td>42.0</td>\n",
       "      <td>0.0</td>\n",
       "      <td>0.0</td>\n",
       "      <td>0.0</td>\n",
       "      <td>0.127930</td>\n",
       "      <td>2.0</td>\n",
       "      <td>30.0</td>\n",
       "    </tr>\n",
       "    <tr>\n",
       "      <th>1</th>\n",
       "      <td>1.0</td>\n",
       "      <td>16.0</td>\n",
       "      <td>1.0</td>\n",
       "      <td>21.0</td>\n",
       "      <td>0.0</td>\n",
       "      <td>1.0</td>\n",
       "      <td>1.0</td>\n",
       "      <td>0.373047</td>\n",
       "      <td>6.0</td>\n",
       "      <td>9.0</td>\n",
       "    </tr>\n",
       "    <tr>\n",
       "      <th>2</th>\n",
       "      <td>1.0</td>\n",
       "      <td>16.0</td>\n",
       "      <td>1.0</td>\n",
       "      <td>38.0</td>\n",
       "      <td>0.0</td>\n",
       "      <td>1.0</td>\n",
       "      <td>1.0</td>\n",
       "      <td>0.127930</td>\n",
       "      <td>1.0</td>\n",
       "      <td>39.0</td>\n",
       "    </tr>\n",
       "    <tr>\n",
       "      <th>3</th>\n",
       "      <td>0.0</td>\n",
       "      <td>1.0</td>\n",
       "      <td>1.0</td>\n",
       "      <td>42.0</td>\n",
       "      <td>1.0</td>\n",
       "      <td>0.0</td>\n",
       "      <td>0.0</td>\n",
       "      <td>0.009132</td>\n",
       "      <td>8.0</td>\n",
       "      <td>7.0</td>\n",
       "    </tr>\n",
       "    <tr>\n",
       "      <th>4</th>\n",
       "      <td>1.0</td>\n",
       "      <td>19.0</td>\n",
       "      <td>1.0</td>\n",
       "      <td>11.0</td>\n",
       "      <td>0.0</td>\n",
       "      <td>1.0</td>\n",
       "      <td>0.0</td>\n",
       "      <td>0.378418</td>\n",
       "      <td>6.0</td>\n",
       "      <td>14.0</td>\n",
       "    </tr>\n",
       "  </tbody>\n",
       "</table>\n",
       "</div>"
      ],
      "text/plain": [
       "   Gender   Age  Driving_License  Region_Code  Previously_Insured  Vehicle_Age  Vehicle_Damage  Annual_Premium  Policy_Sales_Channel  \\\n",
       "0     0.0   0.0              1.0         42.0                 0.0          0.0             0.0        0.127930                   2.0   \n",
       "1     1.0  16.0              1.0         21.0                 0.0          1.0             1.0        0.373047                   6.0   \n",
       "2     1.0  16.0              1.0         38.0                 0.0          1.0             1.0        0.127930                   1.0   \n",
       "3     0.0   1.0              1.0         42.0                 1.0          0.0             0.0        0.009132                   8.0   \n",
       "4     1.0  19.0              1.0         11.0                 0.0          1.0             0.0        0.378418                   6.0   \n",
       "\n",
       "   Vintage  \n",
       "0     30.0  \n",
       "1      9.0  \n",
       "2     39.0  \n",
       "3      7.0  \n",
       "4     14.0  "
      ]
     },
     "metadata": {},
     "output_type": "display_data"
    },
    {
     "data": {
      "text/html": [
       "<div>\n",
       "<style scoped>\n",
       "    .dataframe tbody tr th:only-of-type {\n",
       "        vertical-align: middle;\n",
       "    }\n",
       "\n",
       "    .dataframe tbody tr th {\n",
       "        vertical-align: top;\n",
       "    }\n",
       "\n",
       "    .dataframe thead th {\n",
       "        text-align: right;\n",
       "    }\n",
       "</style>\n",
       "<table border=\"1\" class=\"dataframe\">\n",
       "  <thead>\n",
       "    <tr style=\"text-align: right;\">\n",
       "      <th></th>\n",
       "      <th>Gender</th>\n",
       "      <th>Age</th>\n",
       "      <th>Driving_License</th>\n",
       "      <th>Region_Code</th>\n",
       "      <th>Previously_Insured</th>\n",
       "      <th>Vehicle_Age</th>\n",
       "      <th>Vehicle_Damage</th>\n",
       "      <th>Annual_Premium</th>\n",
       "      <th>Policy_Sales_Channel</th>\n",
       "      <th>Vintage</th>\n",
       "    </tr>\n",
       "  </thead>\n",
       "  <tbody>\n",
       "    <tr>\n",
       "      <th>0</th>\n",
       "      <td>0.0</td>\n",
       "      <td>0.0</td>\n",
       "      <td>1.0</td>\n",
       "      <td>42.0</td>\n",
       "      <td>0.0</td>\n",
       "      <td>0.0</td>\n",
       "      <td>0.0</td>\n",
       "      <td>0.127930</td>\n",
       "      <td>2.0</td>\n",
       "      <td>30.0</td>\n",
       "    </tr>\n",
       "    <tr>\n",
       "      <th>1</th>\n",
       "      <td>1.0</td>\n",
       "      <td>16.0</td>\n",
       "      <td>1.0</td>\n",
       "      <td>21.0</td>\n",
       "      <td>0.0</td>\n",
       "      <td>1.0</td>\n",
       "      <td>1.0</td>\n",
       "      <td>0.373047</td>\n",
       "      <td>6.0</td>\n",
       "      <td>9.0</td>\n",
       "    </tr>\n",
       "    <tr>\n",
       "      <th>2</th>\n",
       "      <td>1.0</td>\n",
       "      <td>16.0</td>\n",
       "      <td>1.0</td>\n",
       "      <td>38.0</td>\n",
       "      <td>0.0</td>\n",
       "      <td>1.0</td>\n",
       "      <td>1.0</td>\n",
       "      <td>0.127930</td>\n",
       "      <td>1.0</td>\n",
       "      <td>39.0</td>\n",
       "    </tr>\n",
       "    <tr>\n",
       "      <th>3</th>\n",
       "      <td>0.0</td>\n",
       "      <td>1.0</td>\n",
       "      <td>1.0</td>\n",
       "      <td>42.0</td>\n",
       "      <td>1.0</td>\n",
       "      <td>0.0</td>\n",
       "      <td>0.0</td>\n",
       "      <td>0.009132</td>\n",
       "      <td>8.0</td>\n",
       "      <td>7.0</td>\n",
       "    </tr>\n",
       "    <tr>\n",
       "      <th>4</th>\n",
       "      <td>1.0</td>\n",
       "      <td>19.0</td>\n",
       "      <td>1.0</td>\n",
       "      <td>11.0</td>\n",
       "      <td>0.0</td>\n",
       "      <td>1.0</td>\n",
       "      <td>0.0</td>\n",
       "      <td>0.378418</td>\n",
       "      <td>6.0</td>\n",
       "      <td>14.0</td>\n",
       "    </tr>\n",
       "  </tbody>\n",
       "</table>\n",
       "</div>"
      ],
      "text/plain": [
       "   Gender   Age  Driving_License  Region_Code  Previously_Insured  Vehicle_Age  Vehicle_Damage  Annual_Premium  Policy_Sales_Channel  \\\n",
       "0     0.0   0.0              1.0         42.0                 0.0          0.0             0.0        0.127930                   2.0   \n",
       "1     1.0  16.0              1.0         21.0                 0.0          1.0             1.0        0.373047                   6.0   \n",
       "2     1.0  16.0              1.0         38.0                 0.0          1.0             1.0        0.127930                   1.0   \n",
       "3     0.0   1.0              1.0         42.0                 1.0          0.0             0.0        0.009132                   8.0   \n",
       "4     1.0  19.0              1.0         11.0                 0.0          1.0             0.0        0.378418                   6.0   \n",
       "\n",
       "   Vintage  \n",
       "0     30.0  \n",
       "1      9.0  \n",
       "2     39.0  \n",
       "3      7.0  \n",
       "4     14.0  "
      ]
     },
     "metadata": {},
     "output_type": "display_data"
    }
   ],
   "source": [
    "def preprocess_data(df, features, scaler=None):\n",
    "    start_time = time.time()`\n",
    "    df = df.copy()\n",
    "    \n",
    "    # Explicitly cast columns to appropriate dtypes\n",
    "    df[\"Vehicle_Age\"] = df[\"Vehicle_Age\"].astype('category').cat.rename_categories(\n",
    "        {\"1-2 Year\": 1, \"< 1 Year\": 0, \"> 2 Years\": 2}).astype('int8')\n",
    "    df[\"Gender\"] = (df[\"Gender\"] == \"Male\").astype(\"int8\")\n",
    "    df[\"Vehicle_Damage\"] = (df[\"Vehicle_Damage\"] == \"Yes\").astype(\"int8\")\n",
    "    df[\"Age\"] = df[\"Age\"].astype(\"int8\")\n",
    "    df[\"Driving_License\"] = df[\"Driving_License\"].astype(\"int8\")\n",
    "    df[\"Region_Code\"] = df[\"Region_Code\"].astype(\"int8\")\n",
    "    df[\"Previously_Insured\"] = df[\"Previously_Insured\"].astype(\"int8\")\n",
    "\n",
    "    # Binning continuous features\n",
    "    df['Age'] = pd.qcut(df['Age'], q=50, labels=False, duplicates='drop').astype('int8')\n",
    "    df['Vintage'] = pd.qcut(df['Vintage'], q=50, labels=False, duplicates='drop').astype('int8')\n",
    "    df['Policy_Sales_Channel'] = pd.qcut(df['Policy_Sales_Channel'], q=50, labels=False, duplicates='drop').astype('int8')\n",
    "\n",
    "    # Target encode Annual Premium\n",
    "    if scaler is None:\n",
    "        mean_response = df.groupby('Annual_Premium')['Response'].mean()\n",
    "        df['Annual_Premium'] = df['Annual_Premium'].map(mean_response).astype('float16')\n",
    "        mean_response.to_csv('annual_premium_mean_response.csv', index=True)\n",
    "    else:\n",
    "        mean_response = pd.read_csv('annual_premium_mean_response.csv', index_col=0).squeeze()\n",
    "        df['Annual_Premium'] = df['Annual_Premium'].map(mean_response).astype('float16')\n",
    "        df['Annual_Premium'] = df['Annual_Premium'].fillna(mean_response.mean()).astype('float16')\n",
    "\n",
    "    if 'Response' in df:\n",
    "        df['Response'] = df['Response'].astype('int8')\n",
    "\n",
    "    # Encode all features with LabelEncoder individually\n",
    "    for feat in tqdm(features, desc=\"Label encoding features\"):\n",
    "        if feat != 'Annual_Premium':\n",
    "            lbl_enc = LabelEncoder()\n",
    "            df[feat] = lbl_enc.fit_transform(df[feat].astype(str).values)\n",
    "            df[feat] = df[feat].astype('float16')\n",
    "\n",
    "    # Normalize Annual Premium\n",
    "    if scaler is None:\n",
    "        scaler = StandardScaler()\n",
    "        df['Annual_Premium'] = scaler.fit_transform(df[['Annual_Premium']])\n",
    "        \n",
    "    if 'Response' in df:\n",
    "        new_df = pd.concat([df['Response'], df[features]], axis=1)\n",
    "    else:\n",
    "        new_df = df[features].copy()\n",
    "\n",
    "    return new_df, scaler\n",
    "\n",
    "# Example usage\n",
    "features = [f for f in df.columns if f not in (\"id\", \"Response\")]\n",
    "new_df, scaler = preprocess_data(df, features)\n",
    "display(new_df.info())\n",
    "\n",
    "# Test preprocessing on a new dataset\n",
    "processed_test_df, _ = preprocess_data(test_df, features, scaler=scaler)\n",
    "display(processed_test_df.head())\n",
    "display(processed_test_df.head())"
   ]
  },
  {
   "cell_type": "markdown",
   "id": "0288cddb-8cb9-4683-9d0c-393d453dd6e1",
   "metadata": {},
   "source": [
    "### Preprocess"
   ]
  },
  {
   "cell_type": "code",
   "execution_count": 12,
   "id": "2e9dfbfa-f47f-4a9a-80d5-7ed017fa2035",
   "metadata": {},
   "outputs": [
    {
     "name": "stdout",
     "output_type": "stream",
     "text": [
      "Tensor preparation done in 4.23 seconds\n"
     ]
    },
    {
     "data": {
      "text/plain": [
       "(torch.Size([9]), torch.Size([1]))"
      ]
     },
     "execution_count": 12,
     "metadata": {},
     "output_type": "execute_result"
    }
   ],
   "source": [
    "import torch\n",
    "import torch.nn as nn\n",
    "import torch.optim as optim\n",
    "import torch.nn.functional as F\n",
    "import numpy as np\n",
    "import pandas as pd\n",
    "from torch.utils.data import Dataset, DataLoader, TensorDataset\n",
    "from sklearn import preprocessing\n",
    "from sklearn.model_selection import train_test_split\n",
    "from torch.optim.lr_scheduler import OneCycleLR\n",
    "from tqdm import tqdm  # Import tqdm for progress bars\n",
    "\n",
    "\n",
    "# credit: https://www.kaggle.com/code/cpmpml/the-power-of-undersampling-cudf-pandas\n",
    "def down_sampling(X, y, i, half_sample=True):\n",
    "    majority_class = X[y == 0].copy()\n",
    "    minority_class = X[y == 1]\n",
    "    if half_sample:\n",
    "        sample_size = len(minority_class) // 2  # Half the size of the minority class\n",
    "    else:\n",
    "        sample_size = len(minority_class)\n",
    "    majority_sample, X_rest, y_sample, y_rest = train_test_split(\n",
    "        majority_class, y[y == 0], train_size=sample_size, random_state=i, stratify=majority_class['Age'])\n",
    "    X_minimal = pd.concat([majority_sample, minority_class], axis=0)\n",
    "    y_minimal = pd.concat([y_sample, y[y == 1]])\n",
    "\n",
    "    return X_minimal, y_minimal, X_rest, y_rest\n",
    "\n",
    "\n",
    "def prepare_tensors(df, cat_features, cont_features, split=0.05, down_sample=False):\n",
    "    start_time = time.time()\n",
    "    \n",
    "    # Split the data into training and validation sets\n",
    "    df_train, df_valid = train_test_split(df, test_size=split, stratify=df[\"Response\"])\n",
    "    ytrain, yvalid = df_train.pop('Response'), df_valid.pop('Response')\n",
    "\n",
    "    # Down-sample the training dataset if specified\n",
    "    if down_sample:\n",
    "        df_train, ytrain, _, _ = down_sampling(df_train, ytrain, i=42, half_sample=False)\n",
    "\n",
    "    # Prepare feature tensors directly\n",
    "    xtrain_cat = torch.tensor(df_train[cat_features].values, dtype=torch.float32).to(device)\n",
    "    xvalid_cat = torch.tensor(df_valid[cat_features].values, dtype=torch.float32).to(device)\n",
    "    xtrain_cont = torch.tensor(df_train[cont_features].values, dtype=torch.float32).to(device)\n",
    "    xvalid_cont = torch.tensor(df_valid[cont_features].values, dtype=torch.float32).to(device)\n",
    "\n",
    "    ytrain_tensor = torch.tensor(ytrain.values, dtype=torch.float32).to(device)\n",
    "    yvalid_tensor = torch.tensor(yvalid.values, dtype=torch.float32).to(device)\n",
    "\n",
    "    # Ensure the number of samples matches\n",
    "    assert xtrain_cat.size(0) == ytrain_tensor.size(0), \"Size mismatch between xtrain_cat and ytrain tensors\"\n",
    "    assert xvalid_cat.size(0) == yvalid_tensor.size(0), \"Size mismatch between xvalid_cat and yvalid tensors\"\n",
    "    assert xtrain_cont.size(0) == ytrain_tensor.size(0), \"Size mismatch between xtrain_cont and ytrain tensors\"\n",
    "    assert xvalid_cont.size(0) == yvalid_tensor.size(0), \"Size mismatch between xvalid_cont and yvalid tensors\"\n",
    "\n",
    "    print(f\"Tensor preparation done in {time.time() - start_time:.2f} seconds\")\n",
    "\n",
    "    return (\n",
    "        TensorDataset(xtrain_cat, xtrain_cont, ytrain_tensor),\n",
    "        TensorDataset(xvalid_cat, xvalid_cont, yvalid_tensor)\n",
    "    )\n",
    "\n",
    "\n",
    "# new_df.info()\n",
    "cat_features = ['Gender', 'Age', 'Driving_License', 'Region_Code', 'Previously_Insured', 'Vehicle_Age', 'Vehicle_Damage', 'Policy_Sales_Channel', 'Vintage']\n",
    "cont_features = ['Annual_Premium']\n",
    "tr_ds, val_ds = prepare_tensors(new_df, cat_features, cont_features, split=0.1, down_sample=False) \n",
    "tr_ds[0][0].shape, tr_ds[0][1].shape"
   ]
  },
  {
   "cell_type": "code",
   "execution_count": 13,
   "id": "d2974892-31c2-461e-8246-60a4a17b1105",
   "metadata": {},
   "outputs": [
    {
     "data": {
      "text/plain": [
       "(cudf.pandas._wrappers.numpy.ndarray, dtype('float16'), (11504798, 9))"
      ]
     },
     "execution_count": 13,
     "metadata": {},
     "output_type": "execute_result"
    }
   ],
   "source": [
    "xtrain_cat = new_df[cat_features].values\n",
    "type(xtrain_cat), xtrain_cat.dtype, xtrain_cat.shape"
   ]
  },
  {
   "cell_type": "markdown",
   "id": "f14fafda-491c-40d4-afd5-4da9e9eabac0",
   "metadata": {},
   "source": [
    "### Embedding + Dense Layer"
   ]
  },
  {
   "cell_type": "code",
   "execution_count": 18,
   "id": "62e96e6b-4b16-4307-ae73-5f6e436a7824",
   "metadata": {
    "editable": true,
    "slideshow": {
     "slide_type": ""
    },
    "tags": []
   },
   "outputs": [
    {
     "name": "stderr",
     "output_type": "stream",
     "text": [
      "Creating embedding layers: 100%|██████████| 9/9 [00:02<00:00,  3.36it/s]\n",
      "Training Epoch 1/7: 100%|██████████| 5056/5056 [02:49<00:00, 29.84it/s]\n"
     ]
    },
    {
     "name": "stdout",
     "output_type": "stream",
     "text": [
      "Epoch 1 done in 186.25 seconds, Training Loss: 0.26223835301927373, Validation Loss: 0.25406744063324777, Validation AUC: 0.8809\n"
     ]
    },
    {
     "name": "stderr",
     "output_type": "stream",
     "text": [
      "Training Epoch 2/7: 100%|██████████| 5056/5056 [02:49<00:00, 29.89it/s]\n"
     ]
    },
    {
     "name": "stdout",
     "output_type": "stream",
     "text": [
      "Epoch 2 done in 369.49 seconds, Training Loss: 0.2567911802708537, Validation Loss: 0.2543600890454024, Validation AUC: 0.8815\n"
     ]
    },
    {
     "name": "stderr",
     "output_type": "stream",
     "text": [
      "Training Epoch 3/7: 100%|██████████| 5056/5056 [02:51<00:00, 29.48it/s]\n"
     ]
    },
    {
     "name": "stdout",
     "output_type": "stream",
     "text": [
      "Epoch 3 done in 554.95 seconds, Training Loss: 0.25666678868988646, Validation Loss: 0.2503640203607464, Validation AUC: 0.8824\n"
     ]
    },
    {
     "name": "stderr",
     "output_type": "stream",
     "text": [
      "Training Epoch 4/7: 100%|██████████| 5056/5056 [02:49<00:00, 29.91it/s]\n"
     ]
    },
    {
     "name": "stdout",
     "output_type": "stream",
     "text": [
      "Epoch 4 done in 738.22 seconds, Training Loss: 0.2556032901040361, Validation Loss: 0.2509207422198774, Validation AUC: 0.8826\n"
     ]
    },
    {
     "name": "stderr",
     "output_type": "stream",
     "text": [
      "Training Epoch 5/7: 100%|██████████| 5056/5056 [02:50<00:00, 29.74it/s]\n"
     ]
    },
    {
     "name": "stdout",
     "output_type": "stream",
     "text": [
      "Epoch 5 done in 922.87 seconds, Training Loss: 0.25427875327406146, Validation Loss: 0.24950039662500292, Validation AUC: 0.8829\n"
     ]
    },
    {
     "name": "stderr",
     "output_type": "stream",
     "text": [
      "Training Epoch 6/7: 100%|██████████| 5056/5056 [02:50<00:00, 29.59it/s]\n"
     ]
    },
    {
     "name": "stdout",
     "output_type": "stream",
     "text": [
      "Epoch 6 done in 1108.31 seconds, Training Loss: 0.2529214698161128, Validation Loss: 0.24939156755858044, Validation AUC: 0.8832\n"
     ]
    },
    {
     "name": "stderr",
     "output_type": "stream",
     "text": [
      "Training Epoch 7/7: 100%|██████████| 5056/5056 [02:50<00:00, 29.61it/s]\n"
     ]
    },
    {
     "name": "stdout",
     "output_type": "stream",
     "text": [
      "Epoch 7 done in 1293.60 seconds, Training Loss: 0.25196926890506965, Validation Loss: 0.24931364901549452, Validation AUC: 0.8832\n"
     ]
    }
   ],
   "source": [
    "class EntityEmbeddingModel(nn.Module):\n",
    "    def __init__(self, data, catcols, contcols, dropout):\n",
    "        super().__init__()\n",
    "        self.emb_layers = nn.ModuleList([\n",
    "            nn.Embedding(data[c].nunique() + 1, min(int(np.ceil(data[c].nunique() / 2)), 50))\n",
    "            for c in tqdm(catcols, desc=\"Creating embedding layers\")\n",
    "        ])\n",
    "        \n",
    "        total_embed_dim = sum(emb.embedding_dim for emb in self.emb_layers)\n",
    "        self.num_cont_features = len(contcols)\n",
    "\n",
    "        self.fc_layers = nn.Sequential(\n",
    "            nn.BatchNorm1d(total_embed_dim + self.num_cont_features),\n",
    "            nn.Linear(total_embed_dim + self.num_cont_features, 128),\n",
    "            nn.ReLU(),\n",
    "            nn.BatchNorm1d(128),\n",
    "            nn.Dropout(dropout),\n",
    "            nn.Linear(128, 64),\n",
    "            nn.ReLU(),\n",
    "            nn.BatchNorm1d(64),\n",
    "            nn.Dropout(dropout),\n",
    "            nn.Linear(64, 32),\n",
    "            nn.ReLU(),\n",
    "            nn.BatchNorm1d(32),\n",
    "            nn.Dropout(dropout),\n",
    "            nn.Linear(32, 1)\n",
    "        )\n",
    "        self._initialize_weights()\n",
    "\n",
    "    def _initialize_weights(self):\n",
    "        for m in self.modules():\n",
    "            if isinstance(m, nn.Linear):\n",
    "                nn.init.kaiming_uniform_(m.weight, nonlinearity='relu')\n",
    "                if m.bias is not None:\n",
    "                    nn.init.constant_(m.bias, 0)\n",
    "            elif isinstance(m, nn.Embedding):\n",
    "                nn.init.xavier_uniform_(m.weight)\n",
    "            elif isinstance(m, nn.BatchNorm1d):\n",
    "                nn.init.constant_(m.weight, 1)\n",
    "                nn.init.constant_(m.bias, 0)\n",
    "\n",
    "    def forward(self, x_cat, x_cont):\n",
    "        x_cat = x_cat.long()\n",
    "        x_cat = torch.cat([emb_layer(x_cat[:, i]) for i, emb_layer in enumerate(self.emb_layers)], dim=1)\n",
    "        x = torch.cat([x_cat, x_cont], dim=1)\n",
    "        return self.fc_layers(x)\n",
    "\n",
    "\n",
    "def train_and_evaluate_model(tr_ds, val_ds, df, cat_features, cont_features, bs, epochs, lr, max_lr, dropout):\n",
    "    start_time = time.time()\n",
    "    train_loader = DataLoader(tr_ds, batch_size=bs, shuffle=True)\n",
    "    valid_loader = DataLoader(val_ds, batch_size=bs, shuffle=False)\n",
    "    \n",
    "    # Initialize model\n",
    "    model = EntityEmbeddingModel(df, catcols=cat_features, contcols=cont_features, dropout=dropout).to(device)\n",
    "    \n",
    "    criterion = nn.BCEWithLogitsLoss()\n",
    "    optimizer = optim.Adam(model.parameters(), lr=lr)\n",
    "    scheduler = optim.lr_scheduler.OneCycleLR(optimizer, max_lr=max_lr, steps_per_epoch=len(train_loader), epochs=epochs)\n",
    "    auc_metric = BinaryAUROC().to(device)\n",
    "\n",
    "    for epoch in range(epochs):\n",
    "        model.train()\n",
    "        train_loss = 0.0\n",
    "        \n",
    "        for X_cat_batch, X_cont_batch, y_batch in tqdm(train_loader, desc=f\"Training Epoch {epoch+1}/{epochs}\"):\n",
    "            X_cat_batch, X_cont_batch, y_batch = X_cat_batch.to(device, non_blocking=True), X_cont_batch.to(device, non_blocking=True), y_batch.to(device, non_blocking=True)\n",
    "            optimizer.zero_grad()\n",
    "            output = model(X_cat_batch, X_cont_batch).squeeze(1)\n",
    "            loss = criterion(output, y_batch.float())\n",
    "            loss.backward()\n",
    "            optimizer.step()\n",
    "            scheduler.step()\n",
    "            train_loss += loss.item()\n",
    "        \n",
    "        model.eval()\n",
    "        valid_loss = 0.0\n",
    "        all_outputs, all_targets = [], []\n",
    "        with torch.no_grad():\n",
    "            for X_cat_batch, X_cont_batch, y_batch in valid_loader:\n",
    "                X_cat_batch, X_cont_batch, y_batch = X_cat_batch.to(device, non_blocking=True), X_cont_batch.to(device, non_blocking=True), y_batch.to(device, non_blocking=True)\n",
    "                output = model(X_cat_batch, X_cont_batch).squeeze(1)\n",
    "                loss = criterion(output, y_batch.float())\n",
    "                valid_loss += loss.item()\n",
    "                all_outputs.append(output)\n",
    "                all_targets.append(y_batch)\n",
    "\n",
    "        all_outputs = torch.cat(all_outputs)\n",
    "        all_targets = torch.cat(all_targets)\n",
    "        auc = auc_metric(all_outputs, all_targets)\n",
    "        \n",
    "        print(\n",
    "            f\"Epoch {epoch+1} done in {time.time() - start_time:.2f} seconds, \"\n",
    "            f\"Training Loss: {train_loss/len(train_loader)}, \"\n",
    "            f\"Validation Loss: {valid_loss/len(valid_loader)}, \"\n",
    "            f\"Validation AUC: {auc:.4f}\"\n",
    "        )\n",
    "    return model, all_outputs, all_targets\n",
    "        \n",
    "# Train and evaluate the model\n",
    "torch.cuda.empty_cache()\n",
    "gc.collect()\n",
    "model, all_outputs, all_targets = train_and_evaluate_model(tr_ds, val_ds, new_df, cat_features, cont_features,\n",
    "                                                           bs=2048, epochs=7, lr=1e-1, max_lr=1e-1, dropout=0.5)\n"
   ]
  },
  {
   "cell_type": "markdown",
   "id": "1ae2e488-3da6-45ab-bcaf-7050844ac0f0",
   "metadata": {},
   "source": [
    "# Submission"
   ]
  },
  {
   "cell_type": "code",
   "execution_count": 23,
   "id": "f01d6cd1-c1c0-43e7-b382-df35c4c2f09f",
   "metadata": {},
   "outputs": [
    {
     "name": "stderr",
     "output_type": "stream",
     "text": [
      "Label encoding features: 100%|██████████| 10/10 [00:12<00:00,  1.30s/it]\n"
     ]
    },
    {
     "data": {
      "text/html": [
       "<div>\n",
       "<style scoped>\n",
       "    .dataframe tbody tr th:only-of-type {\n",
       "        vertical-align: middle;\n",
       "    }\n",
       "\n",
       "    .dataframe tbody tr th {\n",
       "        vertical-align: top;\n",
       "    }\n",
       "\n",
       "    .dataframe thead th {\n",
       "        text-align: right;\n",
       "    }\n",
       "</style>\n",
       "<table border=\"1\" class=\"dataframe\">\n",
       "  <thead>\n",
       "    <tr style=\"text-align: right;\">\n",
       "      <th></th>\n",
       "      <th>Gender</th>\n",
       "      <th>Age</th>\n",
       "      <th>Driving_License</th>\n",
       "      <th>Region_Code</th>\n",
       "      <th>Previously_Insured</th>\n",
       "      <th>Vehicle_Age</th>\n",
       "      <th>Vehicle_Damage</th>\n",
       "      <th>Annual_Premium</th>\n",
       "      <th>Policy_Sales_Channel</th>\n",
       "      <th>Vintage</th>\n",
       "    </tr>\n",
       "  </thead>\n",
       "  <tbody>\n",
       "    <tr>\n",
       "      <th>0</th>\n",
       "      <td>0.0</td>\n",
       "      <td>0.0</td>\n",
       "      <td>1.0</td>\n",
       "      <td>42.0</td>\n",
       "      <td>0.0</td>\n",
       "      <td>0.0</td>\n",
       "      <td>0.0</td>\n",
       "      <td>0.127930</td>\n",
       "      <td>2.0</td>\n",
       "      <td>30.0</td>\n",
       "    </tr>\n",
       "    <tr>\n",
       "      <th>1</th>\n",
       "      <td>1.0</td>\n",
       "      <td>16.0</td>\n",
       "      <td>1.0</td>\n",
       "      <td>21.0</td>\n",
       "      <td>0.0</td>\n",
       "      <td>1.0</td>\n",
       "      <td>1.0</td>\n",
       "      <td>0.373047</td>\n",
       "      <td>6.0</td>\n",
       "      <td>9.0</td>\n",
       "    </tr>\n",
       "    <tr>\n",
       "      <th>2</th>\n",
       "      <td>1.0</td>\n",
       "      <td>16.0</td>\n",
       "      <td>1.0</td>\n",
       "      <td>38.0</td>\n",
       "      <td>0.0</td>\n",
       "      <td>1.0</td>\n",
       "      <td>1.0</td>\n",
       "      <td>0.127930</td>\n",
       "      <td>1.0</td>\n",
       "      <td>39.0</td>\n",
       "    </tr>\n",
       "    <tr>\n",
       "      <th>3</th>\n",
       "      <td>0.0</td>\n",
       "      <td>1.0</td>\n",
       "      <td>1.0</td>\n",
       "      <td>42.0</td>\n",
       "      <td>1.0</td>\n",
       "      <td>0.0</td>\n",
       "      <td>0.0</td>\n",
       "      <td>0.009132</td>\n",
       "      <td>8.0</td>\n",
       "      <td>7.0</td>\n",
       "    </tr>\n",
       "    <tr>\n",
       "      <th>4</th>\n",
       "      <td>1.0</td>\n",
       "      <td>19.0</td>\n",
       "      <td>1.0</td>\n",
       "      <td>11.0</td>\n",
       "      <td>0.0</td>\n",
       "      <td>1.0</td>\n",
       "      <td>0.0</td>\n",
       "      <td>0.378418</td>\n",
       "      <td>6.0</td>\n",
       "      <td>14.0</td>\n",
       "    </tr>\n",
       "  </tbody>\n",
       "</table>\n",
       "</div>"
      ],
      "text/plain": [
       "   Gender   Age  Driving_License  Region_Code  Previously_Insured  Vehicle_Age  Vehicle_Damage  Annual_Premium  Policy_Sales_Channel  \\\n",
       "0     0.0   0.0              1.0         42.0                 0.0          0.0             0.0        0.127930                   2.0   \n",
       "1     1.0  16.0              1.0         21.0                 0.0          1.0             1.0        0.373047                   6.0   \n",
       "2     1.0  16.0              1.0         38.0                 0.0          1.0             1.0        0.127930                   1.0   \n",
       "3     0.0   1.0              1.0         42.0                 1.0          0.0             0.0        0.009132                   8.0   \n",
       "4     1.0  19.0              1.0         11.0                 0.0          1.0             0.0        0.378418                   6.0   \n",
       "\n",
       "   Vintage  \n",
       "0     30.0  \n",
       "1      9.0  \n",
       "2     39.0  \n",
       "3      7.0  \n",
       "4     14.0  "
      ]
     },
     "metadata": {},
     "output_type": "display_data"
    },
    {
     "name": "stdout",
     "output_type": "stream",
     "text": [
      "x_cat shape: (7669866, 9), x_cat dtype: float16\n",
      "x_cont shape: (7669866, 1), x_cont dtype: float16\n",
      "Prepare x_cat, x_cont done in 0.18 seconds\n",
      "x_cat sample: [ 0.  0.  1. 42.  0.  0.  0.  2. 30.]\n",
      "x_cont sample: [0.1279]\n",
      "x_cat_tensor dtype: torch.float16\n",
      "x_cont_tensor dtype: torch.float16\n",
      "x_cat_tensor shape: torch.Size([7669866, 9])\n",
      "x_cont_tensor shape: torch.Size([7669866, 1])\n",
      "Tensors conversion done in 0.01 seconds\n"
     ]
    },
    {
     "data": {
      "text/plain": [
       "7669866"
      ]
     },
     "execution_count": 23,
     "metadata": {},
     "output_type": "execute_result"
    }
   ],
   "source": [
    "def prepare_test_tensors(df, cat_features, cont_features):\n",
    "    # Start timing the process\n",
    "    start_time = time.time()\n",
    "    \n",
    "    # Separate categorical and continuous features\n",
    "    x_cat = df[cat_features].values\n",
    "    x_cont = df[cont_features].values\n",
    "    \n",
    "    # Convert to numpy arrays\n",
    "    x_cat = np.array(x_cat)\n",
    "    x_cont = np.array(x_cont)\n",
    "    \n",
    "    print(f\"x_cat shape: {x_cat.shape}, x_cat dtype: {x_cat.dtype}\")\n",
    "    print(f\"x_cont shape: {x_cont.shape}, x_cont dtype: {x_cont.dtype}\")\n",
    "    print(f\"Prepare x_cat, x_cont done in {time.time() - start_time:.2f} seconds\")\n",
    "    \n",
    "    print('x_cat sample:', x_cat[0])\n",
    "    print('x_cont sample:', x_cont[0])\n",
    "    \n",
    "    # Convert to PyTorch tensors with appropriate dtype\n",
    "    start_time = time.time()\n",
    "    x_cat_tensor = torch.from_numpy(x_cat).to(device)\n",
    "    x_cont_tensor = torch.from_numpy(x_cont).to(device)\n",
    "    \n",
    "    print(f\"x_cat_tensor dtype: {x_cat_tensor.dtype}\")\n",
    "    print(f\"x_cont_tensor dtype: {x_cont_tensor.dtype}\")\n",
    "    print(f\"x_cat_tensor shape: {x_cat_tensor.shape}\")\n",
    "    print(f\"x_cont_tensor shape: {x_cont_tensor.shape}\")\n",
    "    print(f\"Tensors conversion done in {time.time() - start_time:.2f} seconds\")\n",
    "    return TensorDataset(x_cat_tensor, x_cont_tensor)\n",
    "\n",
    "processed_test_df, _ = preprocess_data(test_df, features, scaler=scaler)\n",
    "display(processed_test_df.head())\n",
    "\n",
    "test_ds = prepare_test_tensors(processed_test_df, cat_features, cont_features)\n",
    "len(test_ds)"
   ]
  },
  {
   "cell_type": "code",
   "execution_count": 24,
   "id": "e406ab55-5741-4288-b3af-e19d5704f9be",
   "metadata": {},
   "outputs": [
    {
     "name": "stderr",
     "output_type": "stream",
     "text": [
      "Processing batches: 100%|██████████| 7491/7491 [00:59<00:00, 126.75it/s]\n"
     ]
    },
    {
     "data": {
      "text/plain": [
       "torch.Size([7669866])"
      ]
     },
     "metadata": {},
     "output_type": "display_data"
    }
   ],
   "source": [
    "model.eval()\n",
    "test_preds = []\n",
    "with torch.no_grad():\n",
    "    for X_cat_batch, X_cont_batch in tqdm(DataLoader(test_ds, batch_size=1024, shuffle=False), desc=\"Processing batches\"):\n",
    "        output = model(X_cat_batch, X_cont_batch).squeeze(1)\n",
    "        test_preds.append(output)\n",
    "test_preds = torch.cat(test_preds)\n",
    "display(test_preds.shape)"
   ]
  },
  {
   "cell_type": "code",
   "execution_count": 25,
   "id": "040c320c-7a06-4ec2-87e7-02ba36c447e3",
   "metadata": {},
   "outputs": [
    {
     "name": "stdout",
     "output_type": "stream",
     "text": [
      "Optimal Threshold: 0.1168849989771843\n"
     ]
    },
    {
     "data": {
      "text/html": [
       "<div>\n",
       "<style scoped>\n",
       "    .dataframe tbody tr th:only-of-type {\n",
       "        vertical-align: middle;\n",
       "    }\n",
       "\n",
       "    .dataframe tbody tr th {\n",
       "        vertical-align: top;\n",
       "    }\n",
       "\n",
       "    .dataframe thead th {\n",
       "        text-align: right;\n",
       "    }\n",
       "</style>\n",
       "<table border=\"1\" class=\"dataframe\">\n",
       "  <thead>\n",
       "    <tr style=\"text-align: right;\">\n",
       "      <th></th>\n",
       "      <th>id</th>\n",
       "      <th>target</th>\n",
       "    </tr>\n",
       "  </thead>\n",
       "  <tbody>\n",
       "    <tr>\n",
       "      <th>0</th>\n",
       "      <td>11504798</td>\n",
       "      <td>0</td>\n",
       "    </tr>\n",
       "    <tr>\n",
       "      <th>1</th>\n",
       "      <td>11504799</td>\n",
       "      <td>1</td>\n",
       "    </tr>\n",
       "    <tr>\n",
       "      <th>2</th>\n",
       "      <td>11504800</td>\n",
       "      <td>1</td>\n",
       "    </tr>\n",
       "    <tr>\n",
       "      <th>3</th>\n",
       "      <td>11504801</td>\n",
       "      <td>0</td>\n",
       "    </tr>\n",
       "    <tr>\n",
       "      <th>4</th>\n",
       "      <td>11504802</td>\n",
       "      <td>0</td>\n",
       "    </tr>\n",
       "  </tbody>\n",
       "</table>\n",
       "</div>"
      ],
      "text/plain": [
       "         id  target\n",
       "0  11504798       0\n",
       "1  11504799       1\n",
       "2  11504800       1\n",
       "3  11504801       0\n",
       "4  11504802       0"
      ]
     },
     "execution_count": 25,
     "metadata": {},
     "output_type": "execute_result"
    }
   ],
   "source": [
    "# Compute ROC curve using torchmetrics\n",
    "fpr, tpr, thresholds = torch_roc(all_outputs, all_targets.long(), task=\"binary\")\n",
    "\n",
    "# Convert tensors to numpy arrays for further processing\n",
    "fpr = fpr.cpu().numpy()\n",
    "tpr = tpr.cpu().numpy()\n",
    "thresholds = thresholds.cpu().numpy()\n",
    "\n",
    "# Calculate the Youden's J statistic for each threshold\n",
    "youden_j = tpr - fpr\n",
    "\n",
    "# Find the index of the maximum Youden's J statistic\n",
    "optimal_index = np.argmax(youden_j)\n",
    "optimal_threshold = thresholds[optimal_index]\n",
    "print(f'Optimal Threshold: {optimal_threshold}')\n",
    "\n",
    "proba = torch.sigmoid(test_preds).cpu().numpy().reshape(-1, 1)\n",
    "preds_df = pd.DataFrame({\n",
    "    'id': test_df.id,\n",
    "    'target': (proba >= optimal_threshold).astype(int).flatten()\n",
    "})\n",
    "preds_df.to_csv(\"subm_mlp_embedding.csv\", index=False)\n",
    "preds_df.head()"
   ]
  },
  {
   "cell_type": "code",
   "execution_count": null,
   "id": "f33052ca-d928-4066-ba3c-d4f2c56e91d3",
   "metadata": {},
   "outputs": [],
   "source": []
  }
 ],
 "metadata": {
  "kernelspec": {
   "display_name": "Python 3 (ipykernel)",
   "language": "python",
   "name": "python3"
  },
  "language_info": {
   "codemirror_mode": {
    "name": "ipython",
    "version": 3
   },
   "file_extension": ".py",
   "mimetype": "text/x-python",
   "name": "python",
   "nbconvert_exporter": "python",
   "pygments_lexer": "ipython3",
   "version": "3.10.12"
  }
 },
 "nbformat": 4,
 "nbformat_minor": 5
}
