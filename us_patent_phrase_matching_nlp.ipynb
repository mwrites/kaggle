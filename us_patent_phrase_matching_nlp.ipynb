{
 "cells": [
  {
   "cell_type": "markdown",
   "id": "30ca1dd7",
   "metadata": {},
   "source": [
    "[https://www.kaggle.com/competitions/us-patent-phrase-to-phrase-matching](https://www.kaggle.com/competitions/us-patent-phrase-to-phrase-matching)"
   ]
  },
  {
   "cell_type": "markdown",
   "id": "fcb8c5ea-cc44-4811-8fd5-2be0f8960070",
   "metadata": {},
   "source": [
    "# Setup"
   ]
  },
  {
   "cell_type": "code",
   "execution_count": 105,
   "id": "b50791a6-bb8c-499f-b529-db2e290fe159",
   "metadata": {},
   "outputs": [
    {
     "name": "stderr",
     "output_type": "stream",
     "text": [
      "huggingface/tokenizers: The current process just got forked, after parallelism has already been used. Disabling parallelism to avoid deadlocks...\n",
      "To disable this warning, you can either:\n",
      "\t- Avoid using `tokenizers` before the fork if possible\n",
      "\t- Explicitly set the environment variable TOKENIZERS_PARALLELISM=(true | false)\n"
     ]
    },
    {
     "name": "stdout",
     "output_type": "stream",
     "text": [
      "Requirement already satisfied: kagtool in /usr/local/lib/python3.10/dist-packages (12.0.2)\n",
      "Requirement already satisfied: pandas in /usr/local/lib/python3.10/dist-packages (2.2.1)\n",
      "Requirement already satisfied: matplotlib in /usr/local/lib/python3.10/dist-packages (3.8.3)\n",
      "Requirement already satisfied: scikit-learn in /usr/local/lib/python3.10/dist-packages (1.4.1.post1)\n",
      "Requirement already satisfied: kaggle in /usr/local/lib/python3.10/dist-packages (1.6.8)\n",
      "Requirement already satisfied: fastai in /usr/local/lib/python3.10/dist-packages (2.7.14)\n",
      "Requirement already satisfied: transformers in /usr/local/lib/python3.10/dist-packages (4.39.1)\n",
      "Requirement already satisfied: datasets in /usr/local/lib/python3.10/dist-packages (2.18.0)\n",
      "Requirement already satisfied: evaluate in /usr/local/lib/python3.10/dist-packages (0.4.1)\n",
      "Requirement already satisfied: accelerate in /usr/local/lib/python3.10/dist-packages (0.28.0)\n",
      "Requirement already satisfied: sentencepiece in /usr/local/lib/python3.10/dist-packages (0.2.0)\n",
      "Requirement already satisfied: protobuf in /usr/local/lib/python3.10/dist-packages (5.26.0)\n",
      "Requirement already satisfied: numpy<2,>=1.22.4 in /usr/local/lib/python3.10/dist-packages (from pandas) (1.24.1)\n",
      "Requirement already satisfied: python-dateutil>=2.8.2 in /usr/local/lib/python3.10/dist-packages (from pandas) (2.8.2)\n",
      "Requirement already satisfied: pytz>=2020.1 in /usr/local/lib/python3.10/dist-packages (from pandas) (2024.1)\n",
      "Requirement already satisfied: tzdata>=2022.7 in /usr/local/lib/python3.10/dist-packages (from pandas) (2024.1)\n",
      "Requirement already satisfied: contourpy>=1.0.1 in /usr/local/lib/python3.10/dist-packages (from matplotlib) (1.2.0)\n",
      "Requirement already satisfied: cycler>=0.10 in /usr/local/lib/python3.10/dist-packages (from matplotlib) (0.12.1)\n",
      "Requirement already satisfied: fonttools>=4.22.0 in /usr/local/lib/python3.10/dist-packages (from matplotlib) (4.50.0)\n",
      "Requirement already satisfied: kiwisolver>=1.3.1 in /usr/local/lib/python3.10/dist-packages (from matplotlib) (1.4.5)\n",
      "Requirement already satisfied: packaging>=20.0 in /usr/local/lib/python3.10/dist-packages (from matplotlib) (23.2)\n",
      "Requirement already satisfied: pillow>=8 in /usr/local/lib/python3.10/dist-packages (from matplotlib) (9.3.0)\n",
      "Requirement already satisfied: pyparsing>=2.3.1 in /usr/lib/python3/dist-packages (from matplotlib) (2.4.7)\n",
      "Requirement already satisfied: scipy>=1.6.0 in /usr/local/lib/python3.10/dist-packages (from scikit-learn) (1.12.0)\n",
      "Requirement already satisfied: joblib>=1.2.0 in /usr/local/lib/python3.10/dist-packages (from scikit-learn) (1.3.2)\n",
      "Requirement already satisfied: threadpoolctl>=2.0.0 in /usr/local/lib/python3.10/dist-packages (from scikit-learn) (3.4.0)\n",
      "Requirement already satisfied: six>=1.10 in /usr/lib/python3/dist-packages (from kaggle) (1.16.0)\n",
      "Requirement already satisfied: certifi>=2023.7.22 in /usr/local/lib/python3.10/dist-packages (from kaggle) (2024.2.2)\n",
      "Requirement already satisfied: requests in /usr/local/lib/python3.10/dist-packages (from kaggle) (2.31.0)\n",
      "Requirement already satisfied: tqdm in /usr/local/lib/python3.10/dist-packages (from kaggle) (4.66.2)\n",
      "Requirement already satisfied: python-slugify in /usr/local/lib/python3.10/dist-packages (from kaggle) (8.0.4)\n",
      "Requirement already satisfied: urllib3 in /usr/local/lib/python3.10/dist-packages (from kaggle) (1.26.13)\n",
      "Requirement already satisfied: bleach in /usr/local/lib/python3.10/dist-packages (from kaggle) (6.1.0)\n",
      "Requirement already satisfied: pip in /usr/local/lib/python3.10/dist-packages (from fastai) (23.3.1)\n",
      "Requirement already satisfied: fastdownload<2,>=0.0.5 in /usr/local/lib/python3.10/dist-packages (from fastai) (0.0.7)\n",
      "Requirement already satisfied: fastcore<1.6,>=1.5.29 in /usr/local/lib/python3.10/dist-packages (from fastai) (1.5.29)\n",
      "Requirement already satisfied: torchvision>=0.11 in /usr/local/lib/python3.10/dist-packages (from fastai) (0.16.0+cu118)\n",
      "Requirement already satisfied: pyyaml in /usr/local/lib/python3.10/dist-packages (from fastai) (6.0.1)\n",
      "Requirement already satisfied: fastprogress>=0.2.4 in /usr/local/lib/python3.10/dist-packages (from fastai) (1.0.3)\n",
      "Requirement already satisfied: spacy<4 in /usr/local/lib/python3.10/dist-packages (from fastai) (3.7.4)\n",
      "Requirement already satisfied: torch<2.3,>=1.10 in /usr/local/lib/python3.10/dist-packages (from fastai) (2.1.0+cu118)\n",
      "Requirement already satisfied: filelock in /usr/local/lib/python3.10/dist-packages (from transformers) (3.9.0)\n",
      "Requirement already satisfied: huggingface-hub<1.0,>=0.19.3 in /usr/local/lib/python3.10/dist-packages (from transformers) (0.22.1)\n",
      "Requirement already satisfied: regex!=2019.12.17 in /usr/local/lib/python3.10/dist-packages (from transformers) (2023.12.25)\n",
      "Requirement already satisfied: tokenizers<0.19,>=0.14 in /usr/local/lib/python3.10/dist-packages (from transformers) (0.15.2)\n",
      "Requirement already satisfied: safetensors>=0.4.1 in /usr/local/lib/python3.10/dist-packages (from transformers) (0.4.2)\n",
      "Requirement already satisfied: pyarrow>=12.0.0 in /usr/local/lib/python3.10/dist-packages (from datasets) (15.0.2)\n",
      "Requirement already satisfied: pyarrow-hotfix in /usr/local/lib/python3.10/dist-packages (from datasets) (0.6)\n",
      "Requirement already satisfied: dill<0.3.9,>=0.3.0 in /usr/local/lib/python3.10/dist-packages (from datasets) (0.3.8)\n",
      "Requirement already satisfied: xxhash in /usr/local/lib/python3.10/dist-packages (from datasets) (3.4.1)\n",
      "Requirement already satisfied: multiprocess in /usr/local/lib/python3.10/dist-packages (from datasets) (0.70.16)\n",
      "Requirement already satisfied: fsspec<=2024.2.0,>=2023.1.0 in /usr/local/lib/python3.10/dist-packages (from fsspec[http]<=2024.2.0,>=2023.1.0->datasets) (2024.2.0)\n",
      "Requirement already satisfied: aiohttp in /usr/local/lib/python3.10/dist-packages (from datasets) (3.9.3)\n",
      "Requirement already satisfied: responses<0.19 in /usr/local/lib/python3.10/dist-packages (from evaluate) (0.18.0)\n",
      "Requirement already satisfied: psutil in /usr/local/lib/python3.10/dist-packages (from accelerate) (5.9.6)\n",
      "Requirement already satisfied: aiosignal>=1.1.2 in /usr/local/lib/python3.10/dist-packages (from aiohttp->datasets) (1.3.1)\n",
      "Requirement already satisfied: attrs>=17.3.0 in /usr/local/lib/python3.10/dist-packages (from aiohttp->datasets) (23.1.0)\n",
      "Requirement already satisfied: frozenlist>=1.1.1 in /usr/local/lib/python3.10/dist-packages (from aiohttp->datasets) (1.4.1)\n",
      "Requirement already satisfied: multidict<7.0,>=4.5 in /usr/local/lib/python3.10/dist-packages (from aiohttp->datasets) (6.0.5)\n",
      "Requirement already satisfied: yarl<2.0,>=1.0 in /usr/local/lib/python3.10/dist-packages (from aiohttp->datasets) (1.9.4)\n",
      "Requirement already satisfied: async-timeout<5.0,>=4.0 in /usr/local/lib/python3.10/dist-packages (from aiohttp->datasets) (4.0.3)\n",
      "Requirement already satisfied: typing-extensions>=3.7.4.3 in /usr/local/lib/python3.10/dist-packages (from huggingface-hub<1.0,>=0.19.3->transformers) (4.10.0)\n",
      "Requirement already satisfied: charset-normalizer<4,>=2 in /usr/local/lib/python3.10/dist-packages (from requests->kaggle) (2.1.1)\n",
      "Requirement already satisfied: idna<4,>=2.5 in /usr/local/lib/python3.10/dist-packages (from requests->kaggle) (3.4)\n",
      "Requirement already satisfied: spacy-legacy<3.1.0,>=3.0.11 in /usr/local/lib/python3.10/dist-packages (from spacy<4->fastai) (3.0.12)\n",
      "Requirement already satisfied: spacy-loggers<2.0.0,>=1.0.0 in /usr/local/lib/python3.10/dist-packages (from spacy<4->fastai) (1.0.5)\n",
      "Requirement already satisfied: murmurhash<1.1.0,>=0.28.0 in /usr/local/lib/python3.10/dist-packages (from spacy<4->fastai) (1.0.10)\n",
      "Requirement already satisfied: cymem<2.1.0,>=2.0.2 in /usr/local/lib/python3.10/dist-packages (from spacy<4->fastai) (2.0.8)\n",
      "Requirement already satisfied: preshed<3.1.0,>=3.0.2 in /usr/local/lib/python3.10/dist-packages (from spacy<4->fastai) (3.0.9)\n",
      "Requirement already satisfied: thinc<8.3.0,>=8.2.2 in /usr/local/lib/python3.10/dist-packages (from spacy<4->fastai) (8.2.3)\n",
      "Requirement already satisfied: wasabi<1.2.0,>=0.9.1 in /usr/local/lib/python3.10/dist-packages (from spacy<4->fastai) (1.1.2)\n",
      "Requirement already satisfied: srsly<3.0.0,>=2.4.3 in /usr/local/lib/python3.10/dist-packages (from spacy<4->fastai) (2.4.8)\n",
      "Requirement already satisfied: catalogue<2.1.0,>=2.0.6 in /usr/local/lib/python3.10/dist-packages (from spacy<4->fastai) (2.0.10)\n",
      "Requirement already satisfied: weasel<0.4.0,>=0.1.0 in /usr/local/lib/python3.10/dist-packages (from spacy<4->fastai) (0.3.4)\n",
      "Requirement already satisfied: typer<0.10.0,>=0.3.0 in /usr/local/lib/python3.10/dist-packages (from spacy<4->fastai) (0.9.4)\n",
      "Requirement already satisfied: smart-open<7.0.0,>=5.2.1 in /usr/local/lib/python3.10/dist-packages (from spacy<4->fastai) (6.4.0)\n",
      "Requirement already satisfied: pydantic!=1.8,!=1.8.1,<3.0.0,>=1.7.4 in /usr/local/lib/python3.10/dist-packages (from spacy<4->fastai) (2.6.4)\n",
      "Requirement already satisfied: jinja2 in /usr/local/lib/python3.10/dist-packages (from spacy<4->fastai) (3.1.2)\n",
      "Requirement already satisfied: setuptools in /usr/local/lib/python3.10/dist-packages (from spacy<4->fastai) (68.2.2)\n",
      "Requirement already satisfied: langcodes<4.0.0,>=3.2.0 in /usr/local/lib/python3.10/dist-packages (from spacy<4->fastai) (3.3.0)\n",
      "Requirement already satisfied: sympy in /usr/local/lib/python3.10/dist-packages (from torch<2.3,>=1.10->fastai) (1.12)\n",
      "Requirement already satisfied: networkx in /usr/local/lib/python3.10/dist-packages (from torch<2.3,>=1.10->fastai) (3.0)\n",
      "Requirement already satisfied: triton==2.1.0 in /usr/local/lib/python3.10/dist-packages (from torch<2.3,>=1.10->fastai) (2.1.0)\n",
      "Requirement already satisfied: webencodings in /usr/local/lib/python3.10/dist-packages (from bleach->kaggle) (0.5.1)\n",
      "Requirement already satisfied: text-unidecode>=1.3 in /usr/local/lib/python3.10/dist-packages (from python-slugify->kaggle) (1.3)\n",
      "Requirement already satisfied: annotated-types>=0.4.0 in /usr/local/lib/python3.10/dist-packages (from pydantic!=1.8,!=1.8.1,<3.0.0,>=1.7.4->spacy<4->fastai) (0.6.0)\n",
      "Requirement already satisfied: pydantic-core==2.16.3 in /usr/local/lib/python3.10/dist-packages (from pydantic!=1.8,!=1.8.1,<3.0.0,>=1.7.4->spacy<4->fastai) (2.16.3)\n",
      "Requirement already satisfied: blis<0.8.0,>=0.7.8 in /usr/local/lib/python3.10/dist-packages (from thinc<8.3.0,>=8.2.2->spacy<4->fastai) (0.7.11)\n",
      "Requirement already satisfied: confection<1.0.0,>=0.0.1 in /usr/local/lib/python3.10/dist-packages (from thinc<8.3.0,>=8.2.2->spacy<4->fastai) (0.1.4)\n",
      "Requirement already satisfied: click<9.0.0,>=7.1.1 in /usr/local/lib/python3.10/dist-packages (from typer<0.10.0,>=0.3.0->spacy<4->fastai) (8.1.7)\n",
      "Requirement already satisfied: cloudpathlib<0.17.0,>=0.7.0 in /usr/local/lib/python3.10/dist-packages (from weasel<0.4.0,>=0.1.0->spacy<4->fastai) (0.16.0)\n",
      "Requirement already satisfied: MarkupSafe>=2.0 in /usr/local/lib/python3.10/dist-packages (from jinja2->spacy<4->fastai) (2.1.2)\n",
      "Requirement already satisfied: mpmath>=0.19 in /usr/local/lib/python3.10/dist-packages (from sympy->torch<2.3,>=1.10->fastai) (1.3.0)\n",
      "\u001b[33mWARNING: Running pip as the 'root' user can result in broken permissions and conflicting behaviour with the system package manager. It is recommended to use a virtual environment instead: https://pip.pypa.io/warnings/venv\u001b[0m\u001b[33m\n",
      "\u001b[0m\n",
      "\u001b[1m[\u001b[0m\u001b[34;49mnotice\u001b[0m\u001b[1;39;49m]\u001b[0m\u001b[39;49m A new release of pip is available: \u001b[0m\u001b[31;49m23.3.1\u001b[0m\u001b[39;49m -> \u001b[0m\u001b[32;49m24.0\u001b[0m\n",
      "\u001b[1m[\u001b[0m\u001b[34;49mnotice\u001b[0m\u001b[1;39;49m]\u001b[0m\u001b[39;49m To update, run: \u001b[0m\u001b[32;49mpython -m pip install --upgrade pip\u001b[0m\n"
     ]
    }
   ],
   "source": [
    "dependencies = [\n",
    "    \"kagtool\",\n",
    "    \"pandas\",\n",
    "    \"matplotlib\",\n",
    "    \"scikit-learn\",\n",
    "    \"kaggle\",\n",
    "    \"fastai\",\n",
    "    \"transformers\",\n",
    "    \"datasets\",\n",
    "    \"evaluate\",\n",
    "    \"accelerate\",\n",
    "    \"sentencepiece\",\n",
    "    \"protobuf\"\n",
    "]\n",
    "\n",
    "!pip install -U {\" \".join(dependencies)}"
   ]
  },
  {
   "cell_type": "code",
   "execution_count": null,
   "id": "1d3aa984",
   "metadata": {},
   "outputs": [],
   "source": []
  },
  {
   "cell_type": "code",
   "execution_count": 1,
   "id": "dc440db7",
   "metadata": {},
   "outputs": [
    {
     "data": {
      "application/vnd.jupyter.widget-view+json": {
       "model_id": "313ed891c19d48a4b01b27b88735b814",
       "version_major": 2,
       "version_minor": 0
      },
      "text/plain": [
       "config.json:   0%|          | 0.00/580 [00:00<?, ?B/s]"
      ]
     },
     "metadata": {},
     "output_type": "display_data"
    },
    {
     "data": {
      "application/vnd.jupyter.widget-view+json": {
       "model_id": "62c43167dfcb4c5a90e58c821d24a337",
       "version_major": 2,
       "version_minor": 0
      },
      "text/plain": [
       "pytorch_model.bin:   0%|          | 0.00/874M [00:00<?, ?B/s]"
      ]
     },
     "metadata": {},
     "output_type": "display_data"
    },
    {
     "data": {
      "application/vnd.jupyter.widget-view+json": {
       "model_id": "46aecebfac9e47d3aa2b26669e821ed0",
       "version_major": 2,
       "version_minor": 0
      },
      "text/plain": [
       "tokenizer_config.json:   0%|          | 0.00/52.0 [00:00<?, ?B/s]"
      ]
     },
     "metadata": {},
     "output_type": "display_data"
    },
    {
     "data": {
      "application/vnd.jupyter.widget-view+json": {
       "model_id": "ba5d2c45626e4d63b26d21c2f07f9c46",
       "version_major": 2,
       "version_minor": 0
      },
      "text/plain": [
       "spm.model:   0%|          | 0.00/2.46M [00:00<?, ?B/s]"
      ]
     },
     "metadata": {},
     "output_type": "display_data"
    },
    {
     "name": "stdout",
     "output_type": "stream",
     "text": [
      "  adding: deberta_v3_large_pretrained_model_pytorch/ (stored 0%)\n",
      "  adding: deberta_v3_large_pretrained_model_pytorch/model.safetensors (deflated 41%)\n",
      "  adding: deberta_v3_large_pretrained_model_pytorch/added_tokens.json (stored 0%)\n",
      "  adding: deberta_v3_large_pretrained_model_pytorch/tokenizer_config.json (deflated 73%)\n",
      "  adding: deberta_v3_large_pretrained_model_pytorch/special_tokens_map.json (deflated 50%)\n",
      "  adding: deberta_v3_large_pretrained_model_pytorch/config.json (deflated 53%)\n",
      "  adding: deberta_v3_large_pretrained_model_pytorch/tokenizer.json (deflated 77%)\n",
      "  adding: deberta_v3_large_pretrained_model_pytorch/spm.model (deflated 50%)\n"
     ]
    }
   ],
   "source": [
    "from transformers import AutoModelForSequenceClassification,AutoTokenizer\n",
    "import warnings, logging\n",
    "warnings.simplefilter('ignore')\n",
    "logging.disable(logging.WARNING)\n",
    "\n",
    "model_nm = 'microsoft/deberta-v3-large'\n",
    "model = AutoModelForSequenceClassification.from_pretrained(model_nm, return_dict=True)\n",
    "tokenizer = AutoTokenizer.from_pretrained(model_nm)\n",
    "\n",
    "save_path = 'deberta_v3_large_pretrained_model_pytorch'\n",
    "!mkdir {save_path}\n",
    "\n",
    "model.save_pretrained(save_path)\n",
    "tokenizer.save_pretrained(save_path)\n",
    "\n",
    "!zip -r debertav3_large.zip {save_path}\n",
    "# removing redundant files\n",
    "!rm -rf {save_path}"
   ]
  },
  {
   "cell_type": "code",
   "execution_count": 106,
   "id": "2cd9e827-05dd-485b-b07d-6fd6881c6f1f",
   "metadata": {},
   "outputs": [
    {
     "name": "stderr",
     "output_type": "stream",
     "text": [
      "huggingface/tokenizers: The current process just got forked, after parallelism has already been used. Disabling parallelism to avoid deadlocks...\n",
      "To disable this warning, you can either:\n",
      "\t- Avoid using `tokenizers` before the fork if possible\n",
      "\t- Explicitly set the environment variable TOKENIZERS_PARALLELISM=(true | false)\n"
     ]
    },
    {
     "name": "stdout",
     "output_type": "stream",
     "text": [
      "Collecting kagtool\n",
      "  Using cached kagtool-12.0.2-py3-none-any.whl.metadata (53 bytes)\n",
      "Using cached kagtool-12.0.2-py3-none-any.whl (2.4 kB)\n",
      "Installing collected packages: kagtool\n",
      "  Attempting uninstall: kagtool\n",
      "    Found existing installation: kagtool 12.0.2\n",
      "    Uninstalling kagtool-12.0.2:\n",
      "      Successfully uninstalled kagtool-12.0.2\n",
      "Successfully installed kagtool-12.0.2\n",
      "\u001b[33mWARNING: Running pip as the 'root' user can result in broken permissions and conflicting behaviour with the system package manager. It is recommended to use a virtual environment instead: https://pip.pypa.io/warnings/venv\u001b[0m\u001b[33m\n",
      "\u001b[0m\n",
      "\u001b[1m[\u001b[0m\u001b[34;49mnotice\u001b[0m\u001b[1;39;49m]\u001b[0m\u001b[39;49m A new release of pip is available: \u001b[0m\u001b[31;49m23.3.1\u001b[0m\u001b[39;49m -> \u001b[0m\u001b[32;49m24.0\u001b[0m\n",
      "\u001b[1m[\u001b[0m\u001b[34;49mnotice\u001b[0m\u001b[1;39;49m]\u001b[0m\u001b[39;49m To update, run: \u001b[0m\u001b[32;49mpython -m pip install --upgrade pip\u001b[0m\n",
      "us-patent-phrase-to-phrase-matching.zip: Skipping, found more recently modified local copy (use --force to force download)\n"
     ]
    }
   ],
   "source": [
    "from kagtool.datasets.kaggle_downloader import KaggleDownloader\n",
    "\n",
    "dataset_name = 'us-patent-phrase-to-phrase-matching'\n",
    "# add your username and key here\n",
    "creds = '{\"username\":\"\",\"key\":\"\"}'\n",
    "dataset_path = KaggleDownloader(dataset_name, creds).load_or_fetch_kaggle_dataset()"
   ]
  },
  {
   "cell_type": "code",
   "execution_count": null,
   "id": "ae02b004",
   "metadata": {},
   "outputs": [],
   "source": [
    "model_dir = '/kaggle/working/model'\n",
    "model_nm = 'microsoft/deberta-v3-small'\n",
    "num_labels = 1"
   ]
  },
  {
   "cell_type": "code",
   "execution_count": 107,
   "id": "ca4890df-f14a-4b9e-bb78-579684c1730b",
   "metadata": {},
   "outputs": [],
   "source": [
    "from fastai.imports import *"
   ]
  },
  {
   "cell_type": "markdown",
   "id": "e6b808a1-a070-4952-ad28-3661333db526",
   "metadata": {},
   "source": [
    "# EDA"
   ]
  },
  {
   "cell_type": "code",
   "execution_count": 108,
   "id": "3297b28a-302c-4213-a68f-049bee615f14",
   "metadata": {},
   "outputs": [
    {
     "data": {
      "text/plain": [
       "36"
      ]
     },
     "execution_count": 108,
     "metadata": {},
     "output_type": "execute_result"
    }
   ],
   "source": [
    "eval_df = pd.read_csv(dataset_path/'test.csv')\n",
    "len(eval_df)"
   ]
  },
  {
   "cell_type": "code",
   "execution_count": 109,
   "id": "f8fff0cf-f2aa-44c8-912a-542f6764aea7",
   "metadata": {},
   "outputs": [
    {
     "data": {
      "text/html": [
       "<div>\n",
       "<style scoped>\n",
       "    .dataframe tbody tr th:only-of-type {\n",
       "        vertical-align: middle;\n",
       "    }\n",
       "\n",
       "    .dataframe tbody tr th {\n",
       "        vertical-align: top;\n",
       "    }\n",
       "\n",
       "    .dataframe thead th {\n",
       "        text-align: right;\n",
       "    }\n",
       "</style>\n",
       "<table border=\"1\" class=\"dataframe\">\n",
       "  <thead>\n",
       "    <tr style=\"text-align: right;\">\n",
       "      <th></th>\n",
       "      <th>id</th>\n",
       "      <th>anchor</th>\n",
       "      <th>target</th>\n",
       "      <th>context</th>\n",
       "    </tr>\n",
       "  </thead>\n",
       "  <tbody>\n",
       "    <tr>\n",
       "      <th>0</th>\n",
       "      <td>4112d61851461f60</td>\n",
       "      <td>opc drum</td>\n",
       "      <td>inorganic photoconductor drum</td>\n",
       "      <td>G02</td>\n",
       "    </tr>\n",
       "    <tr>\n",
       "      <th>1</th>\n",
       "      <td>09e418c93a776564</td>\n",
       "      <td>adjust gas flow</td>\n",
       "      <td>altering gas flow</td>\n",
       "      <td>F23</td>\n",
       "    </tr>\n",
       "    <tr>\n",
       "      <th>2</th>\n",
       "      <td>36baf228038e314b</td>\n",
       "      <td>lower trunnion</td>\n",
       "      <td>lower locating</td>\n",
       "      <td>B60</td>\n",
       "    </tr>\n",
       "    <tr>\n",
       "      <th>3</th>\n",
       "      <td>1f37ead645e7f0c8</td>\n",
       "      <td>cap component</td>\n",
       "      <td>upper portion</td>\n",
       "      <td>D06</td>\n",
       "    </tr>\n",
       "    <tr>\n",
       "      <th>4</th>\n",
       "      <td>71a5b6ad068d531f</td>\n",
       "      <td>neural stimulation</td>\n",
       "      <td>artificial neural network</td>\n",
       "      <td>H04</td>\n",
       "    </tr>\n",
       "  </tbody>\n",
       "</table>\n",
       "</div>"
      ],
      "text/plain": [
       "                 id              anchor                         target context\n",
       "0  4112d61851461f60            opc drum  inorganic photoconductor drum     G02\n",
       "1  09e418c93a776564     adjust gas flow              altering gas flow     F23\n",
       "2  36baf228038e314b      lower trunnion                 lower locating     B60\n",
       "3  1f37ead645e7f0c8       cap component                  upper portion     D06\n",
       "4  71a5b6ad068d531f  neural stimulation      artificial neural network     H04"
      ]
     },
     "execution_count": 109,
     "metadata": {},
     "output_type": "execute_result"
    }
   ],
   "source": [
    "eval_df.head()"
   ]
  },
  {
   "cell_type": "code",
   "execution_count": 110,
   "id": "da983cba-e85a-49d3-923f-8807aafd948f",
   "metadata": {},
   "outputs": [
    {
     "data": {
      "text/html": [
       "<div>\n",
       "<style scoped>\n",
       "    .dataframe tbody tr th:only-of-type {\n",
       "        vertical-align: middle;\n",
       "    }\n",
       "\n",
       "    .dataframe tbody tr th {\n",
       "        vertical-align: top;\n",
       "    }\n",
       "\n",
       "    .dataframe thead th {\n",
       "        text-align: right;\n",
       "    }\n",
       "</style>\n",
       "<table border=\"1\" class=\"dataframe\">\n",
       "  <thead>\n",
       "    <tr style=\"text-align: right;\">\n",
       "      <th></th>\n",
       "      <th>id</th>\n",
       "      <th>anchor</th>\n",
       "      <th>target</th>\n",
       "      <th>context</th>\n",
       "      <th>score</th>\n",
       "    </tr>\n",
       "  </thead>\n",
       "  <tbody>\n",
       "    <tr>\n",
       "      <th>0</th>\n",
       "      <td>37d61fd2272659b1</td>\n",
       "      <td>abatement</td>\n",
       "      <td>abatement of pollution</td>\n",
       "      <td>A47</td>\n",
       "      <td>0.50</td>\n",
       "    </tr>\n",
       "    <tr>\n",
       "      <th>1</th>\n",
       "      <td>7b9652b17b68b7a4</td>\n",
       "      <td>abatement</td>\n",
       "      <td>act of abating</td>\n",
       "      <td>A47</td>\n",
       "      <td>0.75</td>\n",
       "    </tr>\n",
       "    <tr>\n",
       "      <th>2</th>\n",
       "      <td>36d72442aefd8232</td>\n",
       "      <td>abatement</td>\n",
       "      <td>active catalyst</td>\n",
       "      <td>A47</td>\n",
       "      <td>0.25</td>\n",
       "    </tr>\n",
       "    <tr>\n",
       "      <th>3</th>\n",
       "      <td>5296b0c19e1ce60e</td>\n",
       "      <td>abatement</td>\n",
       "      <td>eliminating process</td>\n",
       "      <td>A47</td>\n",
       "      <td>0.50</td>\n",
       "    </tr>\n",
       "    <tr>\n",
       "      <th>4</th>\n",
       "      <td>54c1e3b9184cb5b6</td>\n",
       "      <td>abatement</td>\n",
       "      <td>forest region</td>\n",
       "      <td>A47</td>\n",
       "      <td>0.00</td>\n",
       "    </tr>\n",
       "    <tr>\n",
       "      <th>...</th>\n",
       "      <td>...</td>\n",
       "      <td>...</td>\n",
       "      <td>...</td>\n",
       "      <td>...</td>\n",
       "      <td>...</td>\n",
       "    </tr>\n",
       "    <tr>\n",
       "      <th>36468</th>\n",
       "      <td>8e1386cbefd7f245</td>\n",
       "      <td>wood article</td>\n",
       "      <td>wooden article</td>\n",
       "      <td>B44</td>\n",
       "      <td>1.00</td>\n",
       "    </tr>\n",
       "    <tr>\n",
       "      <th>36469</th>\n",
       "      <td>42d9e032d1cd3242</td>\n",
       "      <td>wood article</td>\n",
       "      <td>wooden box</td>\n",
       "      <td>B44</td>\n",
       "      <td>0.50</td>\n",
       "    </tr>\n",
       "    <tr>\n",
       "      <th>36470</th>\n",
       "      <td>208654ccb9e14fa3</td>\n",
       "      <td>wood article</td>\n",
       "      <td>wooden handle</td>\n",
       "      <td>B44</td>\n",
       "      <td>0.50</td>\n",
       "    </tr>\n",
       "    <tr>\n",
       "      <th>36471</th>\n",
       "      <td>756ec035e694722b</td>\n",
       "      <td>wood article</td>\n",
       "      <td>wooden material</td>\n",
       "      <td>B44</td>\n",
       "      <td>0.75</td>\n",
       "    </tr>\n",
       "    <tr>\n",
       "      <th>36472</th>\n",
       "      <td>8d135da0b55b8c88</td>\n",
       "      <td>wood article</td>\n",
       "      <td>wooden substrate</td>\n",
       "      <td>B44</td>\n",
       "      <td>0.50</td>\n",
       "    </tr>\n",
       "  </tbody>\n",
       "</table>\n",
       "<p>36473 rows × 5 columns</p>\n",
       "</div>"
      ],
      "text/plain": [
       "                     id        anchor                  target context  score\n",
       "0      37d61fd2272659b1     abatement  abatement of pollution     A47   0.50\n",
       "1      7b9652b17b68b7a4     abatement          act of abating     A47   0.75\n",
       "2      36d72442aefd8232     abatement         active catalyst     A47   0.25\n",
       "3      5296b0c19e1ce60e     abatement     eliminating process     A47   0.50\n",
       "4      54c1e3b9184cb5b6     abatement           forest region     A47   0.00\n",
       "...                 ...           ...                     ...     ...    ...\n",
       "36468  8e1386cbefd7f245  wood article          wooden article     B44   1.00\n",
       "36469  42d9e032d1cd3242  wood article              wooden box     B44   0.50\n",
       "36470  208654ccb9e14fa3  wood article           wooden handle     B44   0.50\n",
       "36471  756ec035e694722b  wood article         wooden material     B44   0.75\n",
       "36472  8d135da0b55b8c88  wood article        wooden substrate     B44   0.50\n",
       "\n",
       "[36473 rows x 5 columns]"
      ]
     },
     "execution_count": 110,
     "metadata": {},
     "output_type": "execute_result"
    }
   ],
   "source": [
    "df = pd.read_csv(dataset_path/'train.csv')\n",
    "df"
   ]
  },
  {
   "cell_type": "code",
   "execution_count": 111,
   "id": "61a4b4c2-8b39-4bd9-8b1a-42e1b4016075",
   "metadata": {},
   "outputs": [
    {
     "data": {
      "text/html": [
       "<div>\n",
       "<style scoped>\n",
       "    .dataframe tbody tr th:only-of-type {\n",
       "        vertical-align: middle;\n",
       "    }\n",
       "\n",
       "    .dataframe tbody tr th {\n",
       "        vertical-align: top;\n",
       "    }\n",
       "\n",
       "    .dataframe thead th {\n",
       "        text-align: right;\n",
       "    }\n",
       "</style>\n",
       "<table border=\"1\" class=\"dataframe\">\n",
       "  <thead>\n",
       "    <tr style=\"text-align: right;\">\n",
       "      <th></th>\n",
       "      <th>id</th>\n",
       "      <th>anchor</th>\n",
       "      <th>target</th>\n",
       "      <th>context</th>\n",
       "    </tr>\n",
       "  </thead>\n",
       "  <tbody>\n",
       "    <tr>\n",
       "      <th>count</th>\n",
       "      <td>36473</td>\n",
       "      <td>36473</td>\n",
       "      <td>36473</td>\n",
       "      <td>36473</td>\n",
       "    </tr>\n",
       "    <tr>\n",
       "      <th>unique</th>\n",
       "      <td>36473</td>\n",
       "      <td>733</td>\n",
       "      <td>29340</td>\n",
       "      <td>106</td>\n",
       "    </tr>\n",
       "    <tr>\n",
       "      <th>top</th>\n",
       "      <td>37d61fd2272659b1</td>\n",
       "      <td>component composite coating</td>\n",
       "      <td>composition</td>\n",
       "      <td>H01</td>\n",
       "    </tr>\n",
       "    <tr>\n",
       "      <th>freq</th>\n",
       "      <td>1</td>\n",
       "      <td>152</td>\n",
       "      <td>24</td>\n",
       "      <td>2186</td>\n",
       "    </tr>\n",
       "  </tbody>\n",
       "</table>\n",
       "</div>"
      ],
      "text/plain": [
       "                      id                       anchor       target context\n",
       "count              36473                        36473        36473   36473\n",
       "unique             36473                          733        29340     106\n",
       "top     37d61fd2272659b1  component composite coating  composition     H01\n",
       "freq                   1                          152           24    2186"
      ]
     },
     "execution_count": 111,
     "metadata": {},
     "output_type": "execute_result"
    }
   ],
   "source": [
    "df.describe(include='object')"
   ]
  },
  {
   "cell_type": "markdown",
   "id": "97f79e17-7ed6-47e5-9c44-134ee6d54c06",
   "metadata": {},
   "source": [
    "### Let's take a look at the TARGET COLUMN"
   ]
  },
  {
   "cell_type": "code",
   "execution_count": 112,
   "id": "66d0e004-8d36-4d5f-a2d7-00877d248f08",
   "metadata": {},
   "outputs": [
    {
     "data": {
      "text/plain": [
       "count           36473\n",
       "unique          29340\n",
       "top       composition\n",
       "freq               24\n",
       "Name: target, dtype: object"
      ]
     },
     "execution_count": 112,
     "metadata": {},
     "output_type": "execute_result"
    }
   ],
   "source": [
    "df.target.describe()"
   ]
  },
  {
   "cell_type": "code",
   "execution_count": 113,
   "id": "8d305969-c609-4217-b1bc-c2fcb8eeea21",
   "metadata": {},
   "outputs": [
    {
     "data": {
      "text/plain": [
       "target\n",
       "composition                    24\n",
       "data                           22\n",
       "metal                          22\n",
       "motor                          22\n",
       "assembly                       21\n",
       "                               ..\n",
       "switching switch over valve     1\n",
       "switching switch off valve      1\n",
       "switching over valve            1\n",
       "switching off valve             1\n",
       "wooden substrate                1\n",
       "Name: count, Length: 29340, dtype: int64"
      ]
     },
     "execution_count": 113,
     "metadata": {},
     "output_type": "execute_result"
    }
   ],
   "source": [
    "df.target.value_counts()"
   ]
  },
  {
   "cell_type": "markdown",
   "id": "9e69281e-b252-4a74-be3c-3961531e62b5",
   "metadata": {},
   "source": [
    "`Some Helpers`"
   ]
  },
  {
   "cell_type": "code",
   "execution_count": 114,
   "id": "832056b9-242e-459a-a48e-7faed2b87b15",
   "metadata": {},
   "outputs": [],
   "source": [
    "import pandas as pd\n",
    "import matplotlib.pyplot as plt\n",
    "\n",
    "def unique_and_dups(col):\n",
    "    uniqs = col.nunique() / len(col) * 100,\n",
    "    dups = (col.duplicated().sum() / len(df)) * 100\n",
    "    print(uniqs, dups)\n",
    "\n",
    "def plot_text_length(df, col):\n",
    "    df['text_length'] = df[col].apply(len)\n",
    "    length_counts = df['text_length'].value_counts().sort_index(ascending=True)\n",
    "\n",
    "    length_counts.plot(kind='bar', figsize=(10, 6))\n",
    "    plt.xlabel('Text Length')\n",
    "    plt.ylabel('Count')\n",
    "    plt.title('Breakdown of Text Lengths')\n",
    "    plt.show()\n",
    "\n",
    "def display_text_examples_by_length(df, col):\n",
    "    # Step 1: Find the minimum, maximum, and medium length of the text\n",
    "    min_length = df[col].str.len().min()\n",
    "    max_length = df[col].str.len().max()\n",
    "    medium_length = df[col].str.len().median()\n",
    "\n",
    "    # Step 2: Filter the DataFrame to include only the rows with the desired lengths\n",
    "    min_length_rows = df[df[col].str.len() == min_length]\n",
    "    max_length_rows = df[df[col].str.len() == max_length]\n",
    "    medium_length_rows = df[df[col].str.len() == medium_length]\n",
    "\n",
    "    # Step 3: Display the filtered DataFrame\n",
    "    print(\"Examples of minimum length text:\", min_length)\n",
    "    print(min_length_rows[col].tolist()[:5])\n",
    "    print(\"\\nExamples of maximum length text:\", max_length)\n",
    "    print(max_length_rows[col].tolist()[:5])\n",
    "    print(\"\\nExamples of medium length text:\", medium_length)\n",
    "    print(medium_length_rows[col].tolist()[:5])"
   ]
  },
  {
   "cell_type": "code",
   "execution_count": 115,
   "id": "7ec39bb7-80ed-472b-8c63-27bd68debbe7",
   "metadata": {},
   "outputs": [
    {
     "name": "stdout",
     "output_type": "stream",
     "text": [
      "(80.44306747457023,) 19.556932525429772\n"
     ]
    }
   ],
   "source": [
    "unique_and_dups(df.target)"
   ]
  },
  {
   "cell_type": "markdown",
   "id": "8145636f-3a36-4235-9e73-2a4ed2e038a3",
   "metadata": {},
   "source": [
    "__What do we see?__"
   ]
  },
  {
   "cell_type": "markdown",
   "id": "d4258ad8-10d0-4b18-a85a-81c6a8647e74",
   "metadata": {},
   "source": [
    "Lots of target, 80% unique values, feels like the independant variable X?"
   ]
  },
  {
   "cell_type": "markdown",
   "id": "7d4febe9-0353-4c5a-b8e4-930e41050e6b",
   "metadata": {},
   "source": [
    "__Let's look at the values__"
   ]
  },
  {
   "cell_type": "code",
   "execution_count": 116,
   "id": "d64b96e1-66d7-49a2-8d08-3d1691bd0de4",
   "metadata": {},
   "outputs": [
    {
     "data": {
      "image/png": "[encoded data removed]",
      "text/plain": [
       "<Figure size 1000x600 with 1 Axes>"
      ]
     },
     "metadata": {},
     "output_type": "display_data"
    }
   ],
   "source": [
    "plot_text_length(df, 'target')"
   ]
  },
  {
   "cell_type": "code",
   "execution_count": 117,
   "id": "62eb0ad6-4a1c-48db-9a84-f667eb20f22e",
   "metadata": {},
   "outputs": [
    {
     "name": "stdout",
     "output_type": "stream",
     "text": [
      "Examples of minimum length text: 2\n",
      "['id', 'tv', 'tv', 'h6', 'h6']\n",
      "\n",
      "Examples of maximum length text: 98\n",
      "['2s 6 5 3as4s6ar 2 oxo 133a466a hexahydrothieno34 dimidazol 4 ylpentanoylamino 2 azaniumylhexanoate']\n",
      "\n",
      "Examples of medium length text: 15.0\n",
      "['active catalyst', 'noise reduction', 'stone abutments', 'processing unit', 'noise abatement']\n"
     ]
    }
   ],
   "source": [
    "display_text_examples_by_length(df, 'target')"
   ]
  },
  {
   "cell_type": "markdown",
   "id": "ab3a3f6e-189a-4ac0-9d73-f54f1feaacda",
   "metadata": {},
   "source": [
    "### Let's take a look at the ANCHOR COLUMN"
   ]
  },
  {
   "cell_type": "code",
   "execution_count": 118,
   "id": "b7c32fc6-7aec-4b81-9c78-2bec331c4c4d",
   "metadata": {},
   "outputs": [
    {
     "data": {
      "text/plain": [
       "count                           36473\n",
       "unique                            733\n",
       "top       component composite coating\n",
       "freq                              152\n",
       "Name: anchor, dtype: object"
      ]
     },
     "execution_count": 118,
     "metadata": {},
     "output_type": "execute_result"
    }
   ],
   "source": [
    "df.anchor.describe()"
   ]
  },
  {
   "cell_type": "code",
   "execution_count": 119,
   "id": "d6bbe213-0899-445f-bac2-a0999d7b8434",
   "metadata": {},
   "outputs": [
    {
     "data": {
      "text/plain": [
       "anchor\n",
       "component composite coating              152\n",
       "sheet supply roller                      150\n",
       "source voltage                           140\n",
       "perfluoroalkyl group                     136\n",
       "el display                               135\n",
       "                                        ... \n",
       "plug nozzle                                2\n",
       "shannon                                    2\n",
       "dry coating composition1                   2\n",
       "peripheral nervous system stimulation      1\n",
       "conduct conducting material                1\n",
       "Name: count, Length: 733, dtype: int64"
      ]
     },
     "execution_count": 119,
     "metadata": {},
     "output_type": "execute_result"
    }
   ],
   "source": [
    "df.anchor.value_counts()"
   ]
  },
  {
   "cell_type": "code",
   "execution_count": 120,
   "id": "e0471ddd-7898-46b7-82d8-d76e5c47779b",
   "metadata": {},
   "outputs": [
    {
     "name": "stdout",
     "output_type": "stream",
     "text": [
      "(2.0097058097770955,) 97.9902941902229\n"
     ]
    }
   ],
   "source": [
    "unique_and_dups(df.anchor)"
   ]
  },
  {
   "cell_type": "markdown",
   "id": "efbb1d84-b441-47eb-825a-a2aabbc64f48",
   "metadata": {},
   "source": [
    "__What can you observe?__"
   ]
  },
  {
   "cell_type": "markdown",
   "id": "0584cf4b-6859-4865-bea9-62feb3f2abd6",
   "metadata": {},
   "source": [
    "Lots of duplicate! almost 98%"
   ]
  },
  {
   "cell_type": "markdown",
   "id": "20e609cd-c329-42e6-afe5-f775386c4ebc",
   "metadata": {},
   "source": [
    "__Let's check the values now__"
   ]
  },
  {
   "cell_type": "code",
   "execution_count": 121,
   "id": "b31d5ed6-1595-41f6-9020-45ccdeffc6da",
   "metadata": {},
   "outputs": [
    {
     "data": {
      "image/png": "[encoded data removed]",
      "text/plain": [
       "<Figure size 1000x600 with 1 Axes>"
      ]
     },
     "metadata": {},
     "output_type": "display_data"
    }
   ],
   "source": [
    "plot_text_length(df, 'anchor')"
   ]
  },
  {
   "cell_type": "code",
   "execution_count": 122,
   "id": "43474137-7146-45b3-be28-adadcc3cb339",
   "metadata": {},
   "outputs": [
    {
     "name": "stdout",
     "output_type": "stream",
     "text": [
      "Examples of minimum length text: 3\n",
      "['ack', 'ack', 'ack', 'ack', 'ack']\n",
      "\n",
      "Examples of maximum length text: 38\n",
      "['reflection type liquid crystal display', 'reflection type liquid crystal display', 'reflection type liquid crystal display', 'reflection type liquid crystal display', 'reflection type liquid crystal display']\n",
      "\n",
      "Examples of medium length text: 15.0\n",
      "['acid absorption', 'acid absorption', 'acid absorption', 'acid absorption', 'acid absorption']\n"
     ]
    }
   ],
   "source": [
    "display_text_examples_by_length(df, 'anchor')"
   ]
  },
  {
   "cell_type": "markdown",
   "id": "c5c3bdb7-0503-443d-977c-1977caa8f47c",
   "metadata": {},
   "source": [
    "### Now CONTEXT COLUMN"
   ]
  },
  {
   "cell_type": "code",
   "execution_count": 123,
   "id": "fb5832b6-f079-4401-974b-35bbc105405a",
   "metadata": {},
   "outputs": [
    {
     "data": {
      "text/plain": [
       "count     36473\n",
       "unique      106\n",
       "top         H01\n",
       "freq       2186\n",
       "Name: context, dtype: object"
      ]
     },
     "execution_count": 123,
     "metadata": {},
     "output_type": "execute_result"
    }
   ],
   "source": [
    "df.context.describe()"
   ]
  },
  {
   "cell_type": "code",
   "execution_count": 124,
   "id": "8f548986-30d1-4b11-8649-18478ebddb04",
   "metadata": {},
   "outputs": [
    {
     "data": {
      "text/plain": [
       "context\n",
       "H01    2186\n",
       "H04    2177\n",
       "G01    1812\n",
       "A61    1477\n",
       "F16    1091\n",
       "       ... \n",
       "B03      47\n",
       "F17      33\n",
       "B31      24\n",
       "A62      23\n",
       "F26      18\n",
       "Name: count, Length: 106, dtype: int64"
      ]
     },
     "execution_count": 124,
     "metadata": {},
     "output_type": "execute_result"
    }
   ],
   "source": [
    "df.context.value_counts()"
   ]
  },
  {
   "cell_type": "code",
   "execution_count": 125,
   "id": "a2bc8baa-8ea8-4298-8aef-cd712c301a56",
   "metadata": {},
   "outputs": [
    {
     "name": "stdout",
     "output_type": "stream",
     "text": [
      "(0.29062594247799745,) 99.709374057522\n"
     ]
    }
   ],
   "source": [
    "unique_and_dups(df.context)"
   ]
  },
  {
   "cell_type": "code",
   "execution_count": 126,
   "id": "09985adb-5c7f-4080-beab-810626d7f83a",
   "metadata": {},
   "outputs": [
    {
     "data": {
      "image/png": "[encoded data removed]",
      "text/plain": [
       "<Figure size 1000x600 with 1 Axes>"
      ]
     },
     "metadata": {},
     "output_type": "display_data"
    }
   ],
   "source": [
    "plot_text_length(df, 'context')"
   ]
  },
  {
   "cell_type": "code",
   "execution_count": 127,
   "id": "eab8ccb9-372d-4ebf-933b-26aadbb38467",
   "metadata": {},
   "outputs": [
    {
     "name": "stdout",
     "output_type": "stream",
     "text": [
      "Examples of minimum length text: 3\n",
      "['A47', 'A47', 'A47', 'A47', 'A47']\n",
      "\n",
      "Examples of maximum length text: 3\n",
      "['A47', 'A47', 'A47', 'A47', 'A47']\n",
      "\n",
      "Examples of medium length text: 3.0\n",
      "['A47', 'A47', 'A47', 'A47', 'A47']\n"
     ]
    }
   ],
   "source": [
    "display_text_examples_by_length(df, 'context')"
   ]
  },
  {
   "cell_type": "markdown",
   "id": "38d56a16",
   "metadata": {},
   "source": [
    "__One additional thing we can do is find the meaning of these context codes by trying to split it__"
   ]
  },
  {
   "cell_type": "code",
   "execution_count": 128,
   "id": "f76eb8c2",
   "metadata": {},
   "outputs": [
    {
     "data": {
      "text/plain": [
       "id                anchor                       target                    context  score  text_length  section\n",
       "000170ce61900fe5  parallel orientation         antiparallel orientation  G06      0.25   3            G          1\n",
       "a9ff4494f38b489c  produce liquid hydrocarbons  generate oily liquid      C10      0.50   3            C          1\n",
       "a9f49432dfb21588  vertical chute               channel plane             C21      0.50   3            C          1\n",
       "a9f581c4c5f89055  axial extension              vertical extension        B05      0.75   3            B          1\n",
       "a9f82b395d47cdb2  use balance                  function balance          A63      0.50   3            A          1\n",
       "                                                                                                                ..\n",
       "5470b88f8c25547d  based propellant             propellant                C06      0.50   3            C          1\n",
       "54705d7d2a5883ad  upper clamp arm              top clamp arm             A61      0.75   3            A          1\n",
       "546f61814b58e1fe  turbine machine              transmission              B64      0.25   3            B          1\n",
       "546e615fad07112b  rotation protrusion          pivoting projection       F16      0.50   3            F          1\n",
       "fffd19c1c50fc108  general anesthesia           local anesthesia          A61      0.50   3            A          1\n",
       "Name: count, Length: 36473, dtype: int64"
      ]
     },
     "execution_count": 128,
     "metadata": {},
     "output_type": "execute_result"
    }
   ],
   "source": [
    "df['section'] = df.context.str[0]\n",
    "df.value_counts()"
   ]
  },
  {
   "cell_type": "markdown",
   "id": "3c40ed2b-bd7e-4ba3-bd04-dea94b0a92da",
   "metadata": {},
   "source": [
    "__Observation__"
   ]
  },
  {
   "cell_type": "markdown",
   "id": "0afbaff1-4919-4225-ae4d-533651261296",
   "metadata": {},
   "source": [
    "Length is always 3, not many unique values, feels like a funnel/categories"
   ]
  },
  {
   "cell_type": "markdown",
   "id": "7d7bd053",
   "metadata": {},
   "source": [
    "### Finally the Y LABEL (SCORE)"
   ]
  },
  {
   "cell_type": "code",
   "execution_count": 129,
   "id": "b5bae877",
   "metadata": {},
   "outputs": [
    {
     "data": {
      "text/plain": [
       "count    36473.000000\n",
       "mean         0.362062\n",
       "std          0.258335\n",
       "min          0.000000\n",
       "25%          0.250000\n",
       "50%          0.250000\n",
       "75%          0.500000\n",
       "max          1.000000\n",
       "Name: score, dtype: float64"
      ]
     },
     "execution_count": 129,
     "metadata": {},
     "output_type": "execute_result"
    }
   ],
   "source": [
    "df.score.describe()"
   ]
  },
  {
   "cell_type": "code",
   "execution_count": 130,
   "id": "6e9a2ba6",
   "metadata": {},
   "outputs": [
    {
     "data": {
      "text/plain": [
       "score\n",
       "0.50    12300\n",
       "0.25    11519\n",
       "0.00     7471\n",
       "0.75     4029\n",
       "1.00     1154\n",
       "Name: count, dtype: int64"
      ]
     },
     "execution_count": 130,
     "metadata": {},
     "output_type": "execute_result"
    }
   ],
   "source": [
    "df.score.value_counts()"
   ]
  },
  {
   "cell_type": "code",
   "execution_count": 131,
   "id": "fa474b7b",
   "metadata": {},
   "outputs": [
    {
     "data": {
      "text/plain": [
       "<Axes: >"
      ]
     },
     "execution_count": 131,
     "metadata": {},
     "output_type": "execute_result"
    },
    {
     "data": {
      "image/png": "[encoded data removed]",
      "text/plain": [
       "<Figure size 640x480 with 1 Axes>"
      ]
     },
     "metadata": {},
     "output_type": "display_data"
    }
   ],
   "source": [
    "df.score.hist()"
   ]
  },
  {
   "cell_type": "code",
   "execution_count": 132,
   "id": "6b5e8825",
   "metadata": {},
   "outputs": [
    {
     "data": {
      "text/html": [
       "<div>\n",
       "<style scoped>\n",
       "    .dataframe tbody tr th:only-of-type {\n",
       "        vertical-align: middle;\n",
       "    }\n",
       "\n",
       "    .dataframe tbody tr th {\n",
       "        vertical-align: top;\n",
       "    }\n",
       "\n",
       "    .dataframe thead th {\n",
       "        text-align: right;\n",
       "    }\n",
       "</style>\n",
       "<table border=\"1\" class=\"dataframe\">\n",
       "  <thead>\n",
       "    <tr style=\"text-align: right;\">\n",
       "      <th></th>\n",
       "      <th>id</th>\n",
       "      <th>anchor</th>\n",
       "      <th>target</th>\n",
       "      <th>context</th>\n",
       "      <th>score</th>\n",
       "      <th>text_length</th>\n",
       "      <th>section</th>\n",
       "    </tr>\n",
       "  </thead>\n",
       "  <tbody>\n",
       "    <tr>\n",
       "      <th>4</th>\n",
       "      <td>54c1e3b9184cb5b6</td>\n",
       "      <td>abatement</td>\n",
       "      <td>forest region</td>\n",
       "      <td>A47</td>\n",
       "      <td>0.0</td>\n",
       "      <td>3</td>\n",
       "      <td>A</td>\n",
       "    </tr>\n",
       "    <tr>\n",
       "      <th>14</th>\n",
       "      <td>9001756895ec8ca1</td>\n",
       "      <td>abatement</td>\n",
       "      <td>pollution certificate</td>\n",
       "      <td>A47</td>\n",
       "      <td>0.0</td>\n",
       "      <td>3</td>\n",
       "      <td>A</td>\n",
       "    </tr>\n",
       "    <tr>\n",
       "      <th>15</th>\n",
       "      <td>cc96541d4987b399</td>\n",
       "      <td>abatement</td>\n",
       "      <td>rent abatement</td>\n",
       "      <td>A47</td>\n",
       "      <td>0.0</td>\n",
       "      <td>3</td>\n",
       "      <td>A</td>\n",
       "    </tr>\n",
       "    <tr>\n",
       "      <th>18</th>\n",
       "      <td>1222e36d9a94c2a4</td>\n",
       "      <td>abatement</td>\n",
       "      <td>stone abutments</td>\n",
       "      <td>A47</td>\n",
       "      <td>0.0</td>\n",
       "      <td>3</td>\n",
       "      <td>A</td>\n",
       "    </tr>\n",
       "    <tr>\n",
       "      <th>19</th>\n",
       "      <td>a8c9e9f37d4d836a</td>\n",
       "      <td>abatement</td>\n",
       "      <td>tax abatement</td>\n",
       "      <td>A47</td>\n",
       "      <td>0.0</td>\n",
       "      <td>3</td>\n",
       "      <td>A</td>\n",
       "    </tr>\n",
       "    <tr>\n",
       "      <th>...</th>\n",
       "      <td>...</td>\n",
       "      <td>...</td>\n",
       "      <td>...</td>\n",
       "      <td>...</td>\n",
       "      <td>...</td>\n",
       "      <td>...</td>\n",
       "      <td>...</td>\n",
       "    </tr>\n",
       "    <tr>\n",
       "      <th>36447</th>\n",
       "      <td>c7e11e374c52eec4</td>\n",
       "      <td>wood article</td>\n",
       "      <td>article spinner</td>\n",
       "      <td>B44</td>\n",
       "      <td>0.0</td>\n",
       "      <td>3</td>\n",
       "      <td>B</td>\n",
       "    </tr>\n",
       "    <tr>\n",
       "      <th>36448</th>\n",
       "      <td>c93eebfb43880214</td>\n",
       "      <td>wood article</td>\n",
       "      <td>article spinning</td>\n",
       "      <td>B44</td>\n",
       "      <td>0.0</td>\n",
       "      <td>3</td>\n",
       "      <td>B</td>\n",
       "    </tr>\n",
       "    <tr>\n",
       "      <th>36449</th>\n",
       "      <td>c997d1dc4fbcd02b</td>\n",
       "      <td>wood article</td>\n",
       "      <td>article tracking system</td>\n",
       "      <td>B44</td>\n",
       "      <td>0.0</td>\n",
       "      <td>3</td>\n",
       "      <td>B</td>\n",
       "    </tr>\n",
       "    <tr>\n",
       "      <th>36457</th>\n",
       "      <td>1d5bb300f80bc6db</td>\n",
       "      <td>wood article</td>\n",
       "      <td>plastic articles</td>\n",
       "      <td>B44</td>\n",
       "      <td>0.0</td>\n",
       "      <td>3</td>\n",
       "      <td>B</td>\n",
       "    </tr>\n",
       "    <tr>\n",
       "      <th>36463</th>\n",
       "      <td>16a5c8551e534d1c</td>\n",
       "      <td>wood article</td>\n",
       "      <td>wood apple fruit</td>\n",
       "      <td>B44</td>\n",
       "      <td>0.0</td>\n",
       "      <td>3</td>\n",
       "      <td>B</td>\n",
       "    </tr>\n",
       "  </tbody>\n",
       "</table>\n",
       "<p>7471 rows × 7 columns</p>\n",
       "</div>"
      ],
      "text/plain": [
       "                     id        anchor                   target context  score  \\\n",
       "4      54c1e3b9184cb5b6     abatement            forest region     A47    0.0   \n",
       "14     9001756895ec8ca1     abatement    pollution certificate     A47    0.0   \n",
       "15     cc96541d4987b399     abatement           rent abatement     A47    0.0   \n",
       "18     1222e36d9a94c2a4     abatement          stone abutments     A47    0.0   \n",
       "19     a8c9e9f37d4d836a     abatement            tax abatement     A47    0.0   \n",
       "...                 ...           ...                      ...     ...    ...   \n",
       "36447  c7e11e374c52eec4  wood article          article spinner     B44    0.0   \n",
       "36448  c93eebfb43880214  wood article         article spinning     B44    0.0   \n",
       "36449  c997d1dc4fbcd02b  wood article  article tracking system     B44    0.0   \n",
       "36457  1d5bb300f80bc6db  wood article         plastic articles     B44    0.0   \n",
       "36463  16a5c8551e534d1c  wood article         wood apple fruit     B44    0.0   \n",
       "\n",
       "       text_length section  \n",
       "4                3       A  \n",
       "14               3       A  \n",
       "15               3       A  \n",
       "18               3       A  \n",
       "19               3       A  \n",
       "...            ...     ...  \n",
       "36447            3       B  \n",
       "36448            3       B  \n",
       "36449            3       B  \n",
       "36457            3       B  \n",
       "36463            3       B  \n",
       "\n",
       "[7471 rows x 7 columns]"
      ]
     },
     "execution_count": 132,
     "metadata": {},
     "output_type": "execute_result"
    }
   ],
   "source": [
    "# display by lowest correlation score\n",
    "df[df.score == df.score.min()]"
   ]
  },
  {
   "cell_type": "code",
   "execution_count": 133,
   "id": "6944c9bb",
   "metadata": {},
   "outputs": [
    {
     "data": {
      "text/html": [
       "<div>\n",
       "<style scoped>\n",
       "    .dataframe tbody tr th:only-of-type {\n",
       "        vertical-align: middle;\n",
       "    }\n",
       "\n",
       "    .dataframe tbody tr th {\n",
       "        vertical-align: top;\n",
       "    }\n",
       "\n",
       "    .dataframe thead th {\n",
       "        text-align: right;\n",
       "    }\n",
       "</style>\n",
       "<table border=\"1\" class=\"dataframe\">\n",
       "  <thead>\n",
       "    <tr style=\"text-align: right;\">\n",
       "      <th></th>\n",
       "      <th>id</th>\n",
       "      <th>anchor</th>\n",
       "      <th>target</th>\n",
       "      <th>context</th>\n",
       "      <th>score</th>\n",
       "      <th>text_length</th>\n",
       "      <th>section</th>\n",
       "    </tr>\n",
       "  </thead>\n",
       "  <tbody>\n",
       "    <tr>\n",
       "      <th>28</th>\n",
       "      <td>473137168ebf7484</td>\n",
       "      <td>abatement</td>\n",
       "      <td>abating</td>\n",
       "      <td>F24</td>\n",
       "      <td>1.0</td>\n",
       "      <td>3</td>\n",
       "      <td>F</td>\n",
       "    </tr>\n",
       "    <tr>\n",
       "      <th>158</th>\n",
       "      <td>621b048d70aa8867</td>\n",
       "      <td>absorbent properties</td>\n",
       "      <td>absorbent characteristics</td>\n",
       "      <td>D01</td>\n",
       "      <td>1.0</td>\n",
       "      <td>3</td>\n",
       "      <td>D</td>\n",
       "    </tr>\n",
       "    <tr>\n",
       "      <th>161</th>\n",
       "      <td>bc20a1c961cb073a</td>\n",
       "      <td>absorbent properties</td>\n",
       "      <td>absorption properties</td>\n",
       "      <td>D01</td>\n",
       "      <td>1.0</td>\n",
       "      <td>3</td>\n",
       "      <td>D</td>\n",
       "    </tr>\n",
       "    <tr>\n",
       "      <th>311</th>\n",
       "      <td>e955700dffd68624</td>\n",
       "      <td>acid absorption</td>\n",
       "      <td>absorption of acid</td>\n",
       "      <td>B08</td>\n",
       "      <td>1.0</td>\n",
       "      <td>3</td>\n",
       "      <td>B</td>\n",
       "    </tr>\n",
       "    <tr>\n",
       "      <th>315</th>\n",
       "      <td>3a09aba546aac675</td>\n",
       "      <td>acid absorption</td>\n",
       "      <td>acid absorption</td>\n",
       "      <td>B08</td>\n",
       "      <td>1.0</td>\n",
       "      <td>3</td>\n",
       "      <td>B</td>\n",
       "    </tr>\n",
       "    <tr>\n",
       "      <th>...</th>\n",
       "      <td>...</td>\n",
       "      <td>...</td>\n",
       "      <td>...</td>\n",
       "      <td>...</td>\n",
       "      <td>...</td>\n",
       "      <td>...</td>\n",
       "      <td>...</td>\n",
       "    </tr>\n",
       "    <tr>\n",
       "      <th>36398</th>\n",
       "      <td>913141526432f1d6</td>\n",
       "      <td>wiring trough</td>\n",
       "      <td>wiring troughs</td>\n",
       "      <td>F16</td>\n",
       "      <td>1.0</td>\n",
       "      <td>3</td>\n",
       "      <td>F</td>\n",
       "    </tr>\n",
       "    <tr>\n",
       "      <th>36435</th>\n",
       "      <td>ee0746f2a8ecef97</td>\n",
       "      <td>wood article</td>\n",
       "      <td>wood articles</td>\n",
       "      <td>B05</td>\n",
       "      <td>1.0</td>\n",
       "      <td>3</td>\n",
       "      <td>B</td>\n",
       "    </tr>\n",
       "    <tr>\n",
       "      <th>36440</th>\n",
       "      <td>ecaf479135cf0dfd</td>\n",
       "      <td>wood article</td>\n",
       "      <td>wooden article</td>\n",
       "      <td>B05</td>\n",
       "      <td>1.0</td>\n",
       "      <td>3</td>\n",
       "      <td>B</td>\n",
       "    </tr>\n",
       "    <tr>\n",
       "      <th>36464</th>\n",
       "      <td>8ceaa2b5c2d56250</td>\n",
       "      <td>wood article</td>\n",
       "      <td>wood article</td>\n",
       "      <td>B44</td>\n",
       "      <td>1.0</td>\n",
       "      <td>3</td>\n",
       "      <td>B</td>\n",
       "    </tr>\n",
       "    <tr>\n",
       "      <th>36468</th>\n",
       "      <td>8e1386cbefd7f245</td>\n",
       "      <td>wood article</td>\n",
       "      <td>wooden article</td>\n",
       "      <td>B44</td>\n",
       "      <td>1.0</td>\n",
       "      <td>3</td>\n",
       "      <td>B</td>\n",
       "    </tr>\n",
       "  </tbody>\n",
       "</table>\n",
       "<p>1154 rows × 7 columns</p>\n",
       "</div>"
      ],
      "text/plain": [
       "                     id                anchor                     target  \\\n",
       "28     473137168ebf7484             abatement                    abating   \n",
       "158    621b048d70aa8867  absorbent properties  absorbent characteristics   \n",
       "161    bc20a1c961cb073a  absorbent properties      absorption properties   \n",
       "311    e955700dffd68624       acid absorption         absorption of acid   \n",
       "315    3a09aba546aac675       acid absorption            acid absorption   \n",
       "...                 ...                   ...                        ...   \n",
       "36398  913141526432f1d6         wiring trough             wiring troughs   \n",
       "36435  ee0746f2a8ecef97          wood article              wood articles   \n",
       "36440  ecaf479135cf0dfd          wood article             wooden article   \n",
       "36464  8ceaa2b5c2d56250          wood article               wood article   \n",
       "36468  8e1386cbefd7f245          wood article             wooden article   \n",
       "\n",
       "      context  score  text_length section  \n",
       "28        F24    1.0            3       F  \n",
       "158       D01    1.0            3       D  \n",
       "161       D01    1.0            3       D  \n",
       "311       B08    1.0            3       B  \n",
       "315       B08    1.0            3       B  \n",
       "...       ...    ...          ...     ...  \n",
       "36398     F16    1.0            3       F  \n",
       "36435     B05    1.0            3       B  \n",
       "36440     B05    1.0            3       B  \n",
       "36464     B44    1.0            3       B  \n",
       "36468     B44    1.0            3       B  \n",
       "\n",
       "[1154 rows x 7 columns]"
      ]
     },
     "execution_count": 133,
     "metadata": {},
     "output_type": "execute_result"
    }
   ],
   "source": [
    "# display by highest correlation score\n",
    "df[df.score == df.score.max()]"
   ]
  },
  {
   "cell_type": "code",
   "execution_count": 134,
   "id": "ab305c9d",
   "metadata": {},
   "outputs": [
    {
     "data": {
      "text/html": [
       "<div>\n",
       "<style scoped>\n",
       "    .dataframe tbody tr th:only-of-type {\n",
       "        vertical-align: middle;\n",
       "    }\n",
       "\n",
       "    .dataframe tbody tr th {\n",
       "        vertical-align: top;\n",
       "    }\n",
       "\n",
       "    .dataframe thead th {\n",
       "        text-align: right;\n",
       "    }\n",
       "</style>\n",
       "<table border=\"1\" class=\"dataframe\">\n",
       "  <thead>\n",
       "    <tr style=\"text-align: right;\">\n",
       "      <th></th>\n",
       "      <th>id</th>\n",
       "      <th>anchor</th>\n",
       "      <th>target</th>\n",
       "      <th>context</th>\n",
       "      <th>score</th>\n",
       "      <th>text_length</th>\n",
       "      <th>section</th>\n",
       "    </tr>\n",
       "  </thead>\n",
       "  <tbody>\n",
       "    <tr>\n",
       "      <th>28</th>\n",
       "      <td>473137168ebf7484</td>\n",
       "      <td>abatement</td>\n",
       "      <td>abating</td>\n",
       "      <td>F24</td>\n",
       "      <td>1.0</td>\n",
       "      <td>3</td>\n",
       "      <td>F</td>\n",
       "    </tr>\n",
       "    <tr>\n",
       "      <th>158</th>\n",
       "      <td>621b048d70aa8867</td>\n",
       "      <td>absorbent properties</td>\n",
       "      <td>absorbent characteristics</td>\n",
       "      <td>D01</td>\n",
       "      <td>1.0</td>\n",
       "      <td>3</td>\n",
       "      <td>D</td>\n",
       "    </tr>\n",
       "    <tr>\n",
       "      <th>161</th>\n",
       "      <td>bc20a1c961cb073a</td>\n",
       "      <td>absorbent properties</td>\n",
       "      <td>absorption properties</td>\n",
       "      <td>D01</td>\n",
       "      <td>1.0</td>\n",
       "      <td>3</td>\n",
       "      <td>D</td>\n",
       "    </tr>\n",
       "    <tr>\n",
       "      <th>311</th>\n",
       "      <td>e955700dffd68624</td>\n",
       "      <td>acid absorption</td>\n",
       "      <td>absorption of acid</td>\n",
       "      <td>B08</td>\n",
       "      <td>1.0</td>\n",
       "      <td>3</td>\n",
       "      <td>B</td>\n",
       "    </tr>\n",
       "    <tr>\n",
       "      <th>315</th>\n",
       "      <td>3a09aba546aac675</td>\n",
       "      <td>acid absorption</td>\n",
       "      <td>acid absorption</td>\n",
       "      <td>B08</td>\n",
       "      <td>1.0</td>\n",
       "      <td>3</td>\n",
       "      <td>B</td>\n",
       "    </tr>\n",
       "    <tr>\n",
       "      <th>...</th>\n",
       "      <td>...</td>\n",
       "      <td>...</td>\n",
       "      <td>...</td>\n",
       "      <td>...</td>\n",
       "      <td>...</td>\n",
       "      <td>...</td>\n",
       "      <td>...</td>\n",
       "    </tr>\n",
       "    <tr>\n",
       "      <th>36398</th>\n",
       "      <td>913141526432f1d6</td>\n",
       "      <td>wiring trough</td>\n",
       "      <td>wiring troughs</td>\n",
       "      <td>F16</td>\n",
       "      <td>1.0</td>\n",
       "      <td>3</td>\n",
       "      <td>F</td>\n",
       "    </tr>\n",
       "    <tr>\n",
       "      <th>36435</th>\n",
       "      <td>ee0746f2a8ecef97</td>\n",
       "      <td>wood article</td>\n",
       "      <td>wood articles</td>\n",
       "      <td>B05</td>\n",
       "      <td>1.0</td>\n",
       "      <td>3</td>\n",
       "      <td>B</td>\n",
       "    </tr>\n",
       "    <tr>\n",
       "      <th>36440</th>\n",
       "      <td>ecaf479135cf0dfd</td>\n",
       "      <td>wood article</td>\n",
       "      <td>wooden article</td>\n",
       "      <td>B05</td>\n",
       "      <td>1.0</td>\n",
       "      <td>3</td>\n",
       "      <td>B</td>\n",
       "    </tr>\n",
       "    <tr>\n",
       "      <th>36464</th>\n",
       "      <td>8ceaa2b5c2d56250</td>\n",
       "      <td>wood article</td>\n",
       "      <td>wood article</td>\n",
       "      <td>B44</td>\n",
       "      <td>1.0</td>\n",
       "      <td>3</td>\n",
       "      <td>B</td>\n",
       "    </tr>\n",
       "    <tr>\n",
       "      <th>36468</th>\n",
       "      <td>8e1386cbefd7f245</td>\n",
       "      <td>wood article</td>\n",
       "      <td>wooden article</td>\n",
       "      <td>B44</td>\n",
       "      <td>1.0</td>\n",
       "      <td>3</td>\n",
       "      <td>B</td>\n",
       "    </tr>\n",
       "  </tbody>\n",
       "</table>\n",
       "<p>1154 rows × 7 columns</p>\n",
       "</div>"
      ],
      "text/plain": [
       "                     id                anchor                     target  \\\n",
       "28     473137168ebf7484             abatement                    abating   \n",
       "158    621b048d70aa8867  absorbent properties  absorbent characteristics   \n",
       "161    bc20a1c961cb073a  absorbent properties      absorption properties   \n",
       "311    e955700dffd68624       acid absorption         absorption of acid   \n",
       "315    3a09aba546aac675       acid absorption            acid absorption   \n",
       "...                 ...                   ...                        ...   \n",
       "36398  913141526432f1d6         wiring trough             wiring troughs   \n",
       "36435  ee0746f2a8ecef97          wood article              wood articles   \n",
       "36440  ecaf479135cf0dfd          wood article             wooden article   \n",
       "36464  8ceaa2b5c2d56250          wood article               wood article   \n",
       "36468  8e1386cbefd7f245          wood article             wooden article   \n",
       "\n",
       "      context  score  text_length section  \n",
       "28        F24    1.0            3       F  \n",
       "158       D01    1.0            3       D  \n",
       "161       D01    1.0            3       D  \n",
       "311       B08    1.0            3       B  \n",
       "315       B08    1.0            3       B  \n",
       "...       ...    ...          ...     ...  \n",
       "36398     F16    1.0            3       F  \n",
       "36435     B05    1.0            3       B  \n",
       "36440     B05    1.0            3       B  \n",
       "36464     B44    1.0            3       B  \n",
       "36468     B44    1.0            3       B  \n",
       "\n",
       "[1154 rows x 7 columns]"
      ]
     },
     "execution_count": 134,
     "metadata": {},
     "output_type": "execute_result"
    }
   ],
   "source": [
    "# display by highest correlation score\n",
    "df[df.score == df.score.max()]"
   ]
  },
  {
   "cell_type": "code",
   "execution_count": 135,
   "id": "13c3752c",
   "metadata": {},
   "outputs": [
    {
     "data": {
      "text/html": [
       "<div>\n",
       "<style scoped>\n",
       "    .dataframe tbody tr th:only-of-type {\n",
       "        vertical-align: middle;\n",
       "    }\n",
       "\n",
       "    .dataframe tbody tr th {\n",
       "        vertical-align: top;\n",
       "    }\n",
       "\n",
       "    .dataframe thead th {\n",
       "        text-align: right;\n",
       "    }\n",
       "</style>\n",
       "<table border=\"1\" class=\"dataframe\">\n",
       "  <thead>\n",
       "    <tr style=\"text-align: right;\">\n",
       "      <th></th>\n",
       "      <th>id</th>\n",
       "      <th>anchor</th>\n",
       "      <th>target</th>\n",
       "      <th>context</th>\n",
       "      <th>score</th>\n",
       "      <th>text_length</th>\n",
       "      <th>section</th>\n",
       "    </tr>\n",
       "  </thead>\n",
       "  <tbody>\n",
       "    <tr>\n",
       "      <th>0</th>\n",
       "      <td>37d61fd2272659b1</td>\n",
       "      <td>abatement</td>\n",
       "      <td>abatement of pollution</td>\n",
       "      <td>A47</td>\n",
       "      <td>0.5</td>\n",
       "      <td>3</td>\n",
       "      <td>A</td>\n",
       "    </tr>\n",
       "    <tr>\n",
       "      <th>3</th>\n",
       "      <td>5296b0c19e1ce60e</td>\n",
       "      <td>abatement</td>\n",
       "      <td>eliminating process</td>\n",
       "      <td>A47</td>\n",
       "      <td>0.5</td>\n",
       "      <td>3</td>\n",
       "      <td>A</td>\n",
       "    </tr>\n",
       "    <tr>\n",
       "      <th>8</th>\n",
       "      <td>0a425937a3e86d10</td>\n",
       "      <td>abatement</td>\n",
       "      <td>minimising sounds</td>\n",
       "      <td>A47</td>\n",
       "      <td>0.5</td>\n",
       "      <td>3</td>\n",
       "      <td>A</td>\n",
       "    </tr>\n",
       "    <tr>\n",
       "      <th>10</th>\n",
       "      <td>4c3f2750e7540ab7</td>\n",
       "      <td>abatement</td>\n",
       "      <td>multi pollution abatement device</td>\n",
       "      <td>A47</td>\n",
       "      <td>0.5</td>\n",
       "      <td>3</td>\n",
       "      <td>A</td>\n",
       "    </tr>\n",
       "    <tr>\n",
       "      <th>11</th>\n",
       "      <td>84261a11e5d1b68b</td>\n",
       "      <td>abatement</td>\n",
       "      <td>noise reduction</td>\n",
       "      <td>A47</td>\n",
       "      <td>0.5</td>\n",
       "      <td>3</td>\n",
       "      <td>A</td>\n",
       "    </tr>\n",
       "    <tr>\n",
       "      <th>...</th>\n",
       "      <td>...</td>\n",
       "      <td>...</td>\n",
       "      <td>...</td>\n",
       "      <td>...</td>\n",
       "      <td>...</td>\n",
       "      <td>...</td>\n",
       "      <td>...</td>\n",
       "    </tr>\n",
       "    <tr>\n",
       "      <th>36465</th>\n",
       "      <td>c4ac9d407fb427ab</td>\n",
       "      <td>wood article</td>\n",
       "      <td>wood logs</td>\n",
       "      <td>B44</td>\n",
       "      <td>0.5</td>\n",
       "      <td>3</td>\n",
       "      <td>B</td>\n",
       "    </tr>\n",
       "    <tr>\n",
       "      <th>36467</th>\n",
       "      <td>f55e072f78d1fedb</td>\n",
       "      <td>wood article</td>\n",
       "      <td>wood substrate</td>\n",
       "      <td>B44</td>\n",
       "      <td>0.5</td>\n",
       "      <td>3</td>\n",
       "      <td>B</td>\n",
       "    </tr>\n",
       "    <tr>\n",
       "      <th>36469</th>\n",
       "      <td>42d9e032d1cd3242</td>\n",
       "      <td>wood article</td>\n",
       "      <td>wooden box</td>\n",
       "      <td>B44</td>\n",
       "      <td>0.5</td>\n",
       "      <td>3</td>\n",
       "      <td>B</td>\n",
       "    </tr>\n",
       "    <tr>\n",
       "      <th>36470</th>\n",
       "      <td>208654ccb9e14fa3</td>\n",
       "      <td>wood article</td>\n",
       "      <td>wooden handle</td>\n",
       "      <td>B44</td>\n",
       "      <td>0.5</td>\n",
       "      <td>3</td>\n",
       "      <td>B</td>\n",
       "    </tr>\n",
       "    <tr>\n",
       "      <th>36472</th>\n",
       "      <td>8d135da0b55b8c88</td>\n",
       "      <td>wood article</td>\n",
       "      <td>wooden substrate</td>\n",
       "      <td>B44</td>\n",
       "      <td>0.5</td>\n",
       "      <td>3</td>\n",
       "      <td>B</td>\n",
       "    </tr>\n",
       "  </tbody>\n",
       "</table>\n",
       "<p>12300 rows × 7 columns</p>\n",
       "</div>"
      ],
      "text/plain": [
       "                     id        anchor                            target  \\\n",
       "0      37d61fd2272659b1     abatement            abatement of pollution   \n",
       "3      5296b0c19e1ce60e     abatement               eliminating process   \n",
       "8      0a425937a3e86d10     abatement                 minimising sounds   \n",
       "10     4c3f2750e7540ab7     abatement  multi pollution abatement device   \n",
       "11     84261a11e5d1b68b     abatement                   noise reduction   \n",
       "...                 ...           ...                               ...   \n",
       "36465  c4ac9d407fb427ab  wood article                         wood logs   \n",
       "36467  f55e072f78d1fedb  wood article                    wood substrate   \n",
       "36469  42d9e032d1cd3242  wood article                        wooden box   \n",
       "36470  208654ccb9e14fa3  wood article                     wooden handle   \n",
       "36472  8d135da0b55b8c88  wood article                  wooden substrate   \n",
       "\n",
       "      context  score  text_length section  \n",
       "0         A47    0.5            3       A  \n",
       "3         A47    0.5            3       A  \n",
       "8         A47    0.5            3       A  \n",
       "10        A47    0.5            3       A  \n",
       "11        A47    0.5            3       A  \n",
       "...       ...    ...          ...     ...  \n",
       "36465     B44    0.5            3       B  \n",
       "36467     B44    0.5            3       B  \n",
       "36469     B44    0.5            3       B  \n",
       "36470     B44    0.5            3       B  \n",
       "36472     B44    0.5            3       B  \n",
       "\n",
       "[12300 rows x 7 columns]"
      ]
     },
     "execution_count": 135,
     "metadata": {},
     "output_type": "execute_result"
    }
   ],
   "source": [
    "# display by most common score\n",
    "df[df.score == df.score.value_counts().idxmax()]"
   ]
  },
  {
   "cell_type": "markdown",
   "id": "cd0624ec-438c-4b34-84c0-44889edaa0ea",
   "metadata": {},
   "source": [
    "# How can I turn this into a problem I have solved before"
   ]
  },
  {
   "cell_type": "markdown",
   "id": "227f964f-51d4-4eb0-bb53-89b66c93887b",
   "metadata": {},
   "source": [
    "How can I transform the problem a bit so that I can use an angle I know -> how can I turn this into a classification pattern?"
   ]
  },
  {
   "cell_type": "markdown",
   "id": "7cfa0a83-a7a8-4628-a6ce-190eb43aac38",
   "metadata": {},
   "source": [
    "**We can transform columns into one single text column that we feed to a NLP model and classify labels**"
   ]
  },
  {
   "cell_type": "code",
   "execution_count": 136,
   "id": "538fb7fc-d459-4c6a-b2a4-f6e8df404f8a",
   "metadata": {},
   "outputs": [
    {
     "data": {
      "text/plain": [
       "0    #####TARGET: abatement of pollution; #####ANCHOR: abatement; #####CAT: A47\n",
       "1            #####TARGET: act of abating; #####ANCHOR: abatement; #####CAT: A47\n",
       "2           #####TARGET: active catalyst; #####ANCHOR: abatement; #####CAT: A47\n",
       "3       #####TARGET: eliminating process; #####ANCHOR: abatement; #####CAT: A47\n",
       "4             #####TARGET: forest region; #####ANCHOR: abatement; #####CAT: A47\n",
       "Name: input, dtype: object"
      ]
     },
     "execution_count": 136,
     "metadata": {},
     "output_type": "execute_result"
    }
   ],
   "source": [
    "df['input'] = '#####TARGET: ' + df.target + '; #####ANCHOR: ' + df.anchor + '; #####CAT: ' + df.context\n",
    "df.input.head()"
   ]
  },
  {
   "cell_type": "markdown",
   "id": "381564da",
   "metadata": {},
   "source": [
    "__So we will have as input one column of text and as target (label) the similarity score__"
   ]
  },
  {
   "cell_type": "markdown",
   "id": "2c7b9d5b-8cdb-41eb-9b8c-d75da535095c",
   "metadata": {},
   "source": [
    "# Tokenization"
   ]
  },
  {
   "cell_type": "code",
   "execution_count": 137,
   "id": "43cfad24-0a95-4975-b29b-e7ba6e961897",
   "metadata": {},
   "outputs": [],
   "source": [
    "from torch.utils.data import DataLoader\n",
    "import warnings,transformers,logging,torch\n",
    "from transformers import TrainingArguments,Trainer\n",
    "from transformers import AutoModelForSequenceClassification,AutoTokenizer"
   ]
  },
  {
   "cell_type": "markdown",
   "id": "ab29d2ad-4c23-4d09-977f-862c45e03244",
   "metadata": {},
   "source": [
    "**HuggingFace Transformers tends to be rather enthusiastic about spitting out lots of warnings, so let's quieten it down for our sanity**"
   ]
  },
  {
   "cell_type": "code",
   "execution_count": 138,
   "id": "75cdf59f-e26d-42b2-a7c3-94606b67d069",
   "metadata": {},
   "outputs": [],
   "source": [
    "warnings.simplefilter('ignore')\n",
    "logging.disable(logging.WARNING)"
   ]
  },
  {
   "cell_type": "code",
   "execution_count": 139,
   "id": "da5b063c-3f92-48e4-bd1b-4ad67d469887",
   "metadata": {},
   "outputs": [],
   "source": [
    "model_nm = 'microsoft/deberta-v3-small'"
   ]
  },
  {
   "cell_type": "code",
   "execution_count": 140,
   "id": "b428555f-c0c0-4847-b69e-0206141d5412",
   "metadata": {},
   "outputs": [
    {
     "data": {
      "text/plain": [
       "Dataset({\n",
       "    features: ['id', 'anchor', 'target', 'context', 'score', 'text_length', 'section', 'input'],\n",
       "    num_rows: 36473\n",
       "})"
      ]
     },
     "execution_count": 140,
     "metadata": {},
     "output_type": "execute_result"
    }
   ],
   "source": [
    "from datasets import Dataset,DatasetDict\n",
    "ds = Dataset.from_pandas(df)\n",
    "ds"
   ]
  },
  {
   "cell_type": "code",
   "execution_count": 141,
   "id": "06d6e39d-09ca-4df5-8ece-cb8b3f60987c",
   "metadata": {},
   "outputs": [],
   "source": [
    "tokz = AutoTokenizer.from_pretrained(model_nm)"
   ]
  },
  {
   "cell_type": "markdown",
   "id": "598e4a5c-bc57-4eee-9a54-c6008128ae8c",
   "metadata": {},
   "source": [
    "### Speak your model's language"
   ]
  },
  {
   "cell_type": "markdown",
   "id": "2eb0536b-315b-4738-aa41-e3c34c3f5b23",
   "metadata": {},
   "source": [
    "We'll need to combine the context, anchor, and target together somehow. There's not much research as to the best way to do this, so we may need to iterate a bit. To start with, we'll just combine them all into a single string. The model will need to know where each section starts, so we can use the special separator token to tell it:"
   ]
  },
  {
   "cell_type": "code",
   "execution_count": 142,
   "id": "f3e858c6-56f8-4ea7-88e2-d48a873f5e0d",
   "metadata": {},
   "outputs": [
    {
     "data": {
      "text/plain": [
       "'[SEP]'"
      ]
     },
     "execution_count": 142,
     "metadata": {},
     "output_type": "execute_result"
    }
   ],
   "source": [
    "sep = tokz.sep_token\n",
    "sep"
   ]
  },
  {
   "cell_type": "code",
   "execution_count": 143,
   "id": "569379a6",
   "metadata": {},
   "outputs": [],
   "source": [
    "# clean the old input\n",
    "del df['input']"
   ]
  },
  {
   "cell_type": "code",
   "execution_count": 144,
   "id": "5602f38a-d2a6-4c92-9860-a232f2c80743",
   "metadata": {},
   "outputs": [],
   "source": [
    "df['inputs'] = df.context + sep + df.anchor + sep + df.target"
   ]
  },
  {
   "cell_type": "code",
   "execution_count": 145,
   "id": "6ff69b30-53b7-488d-af54-d03959e32a6e",
   "metadata": {},
   "outputs": [
    {
     "data": {
      "text/plain": [
       "0    A47[SEP]abatement[SEP]abatement of pollution\n",
       "1            A47[SEP]abatement[SEP]act of abating\n",
       "2           A47[SEP]abatement[SEP]active catalyst\n",
       "3       A47[SEP]abatement[SEP]eliminating process\n",
       "4             A47[SEP]abatement[SEP]forest region\n",
       "Name: inputs, dtype: object"
      ]
     },
     "execution_count": 145,
     "metadata": {},
     "output_type": "execute_result"
    }
   ],
   "source": [
    "df.inputs.head()"
   ]
  },
  {
   "cell_type": "markdown",
   "id": "3cecbd5b-5714-4ef4-a5fe-ad11be0616bd",
   "metadata": {},
   "source": [
    "Generally we'll get best performance if we convert pandas DataFrames into HuggingFace Datasets, so we'll convert them over, and also rename the score column to what Transformers expects for the dependent variable, which is label:"
   ]
  },
  {
   "cell_type": "code",
   "execution_count": 146,
   "id": "7c61873d-27ad-4574-a058-7130980b373c",
   "metadata": {},
   "outputs": [],
   "source": [
    "ds = Dataset.from_pandas(df).rename_column('score', 'label')\n",
    "eval_ds = Dataset.from_pandas(eval_df)"
   ]
  },
  {
   "cell_type": "markdown",
   "id": "7911213b-702d-481e-a7e3-cd228c6fccc4",
   "metadata": {},
   "source": [
    "To tokenize the data, we'll create a function (since that's what Dataset.map will need):\n"
   ]
  },
  {
   "cell_type": "code",
   "execution_count": 147,
   "id": "66a89c01-cd68-4c93-8922-7889706a232d",
   "metadata": {},
   "outputs": [],
   "source": [
    "def tok_func(x): return tokz(x[\"inputs\"])"
   ]
  },
  {
   "cell_type": "code",
   "execution_count": 148,
   "id": "007cacf9-78f1-4cde-9aae-3e4060f44f6f",
   "metadata": {},
   "outputs": [
    {
     "data": {
      "text/plain": [
       "{'input_ids': [1, 336, 5753, 2, 47284, 2, 47284, 265, 6435, 2], 'token_type_ids': [0, 0, 0, 0, 0, 0, 0, 0, 0, 0], 'attention_mask': [1, 1, 1, 1, 1, 1, 1, 1, 1, 1]}"
      ]
     },
     "execution_count": 148,
     "metadata": {},
     "output_type": "execute_result"
    }
   ],
   "source": [
    "tok_func(ds[0])"
   ]
  },
  {
   "cell_type": "code",
   "execution_count": 149,
   "id": "63e7777d-4a0c-4137-a534-dcc864e70f7c",
   "metadata": {},
   "outputs": [
    {
     "data": {
      "text/plain": [
       "['[CLS]', '[SEP]', '[UNK]', '[PAD]', '[MASK]']"
      ]
     },
     "execution_count": 149,
     "metadata": {},
     "output_type": "execute_result"
    }
   ],
   "source": [
    "tokz.all_special_tokens"
   ]
  },
  {
   "cell_type": "code",
   "execution_count": 150,
   "id": "13e0093e-ef72-41fc-b9f1-7f7c59bd16cf",
   "metadata": {},
   "outputs": [
    {
     "data": {
      "text/plain": [
       "{'input_ids': [1, 2, 2], 'token_type_ids': [0, 0, 0], 'attention_mask': [1, 1, 1]}"
      ]
     },
     "execution_count": 150,
     "metadata": {},
     "output_type": "execute_result"
    }
   ],
   "source": [
    "tokz(tokz.sep_token)"
   ]
  },
  {
   "cell_type": "markdown",
   "id": "11796f29-59b9-4869-9cfa-c43515667f79",
   "metadata": {},
   "source": [
    "### We'll use batching to speed it up, and remove the columns we no longer need:"
   ]
  },
  {
   "cell_type": "code",
   "execution_count": 151,
   "id": "0cd299c9-045c-4ebb-a12b-f24cc8e5abc8",
   "metadata": {},
   "outputs": [
    {
     "data": {
      "application/vnd.jupyter.widget-view+json": {
       "model_id": "713ea820d7444235b2644e8ef3384a8c",
       "version_major": 2,
       "version_minor": 0
      },
      "text/plain": [
       "Map:   0%|          | 0/36473 [00:00<?, ? examples/s]"
      ]
     },
     "metadata": {},
     "output_type": "display_data"
    }
   ],
   "source": [
    "inps = \"anchor\",\"target\",\"context\"\n",
    "tok_ds = ds.map(tok_func, batched=True, remove_columns=inps+('inputs','id', 'section'))"
   ]
  },
  {
   "cell_type": "markdown",
   "id": "2699b20b-cba1-4fb8-9824-5961a21c74fa",
   "metadata": {},
   "source": [
    "Looking at the first item of the dataset we should see the same information as when we checked tok_func above"
   ]
  },
  {
   "cell_type": "code",
   "execution_count": 152,
   "id": "2d82c316-ccfa-45d7-9f6f-633ba28e7116",
   "metadata": {},
   "outputs": [
    {
     "data": {
      "text/plain": [
       "{'label': 0.5,\n",
       " 'text_length': 3,\n",
       " 'input_ids': [1, 336, 5753, 2, 47284, 2, 47284, 265, 6435, 2],\n",
       " 'token_type_ids': [0, 0, 0, 0, 0, 0, 0, 0, 0, 0],\n",
       " 'attention_mask': [1, 1, 1, 1, 1, 1, 1, 1, 1, 1]}"
      ]
     },
     "execution_count": 152,
     "metadata": {},
     "output_type": "execute_result"
    }
   ],
   "source": [
    "tok_ds[0]"
   ]
  },
  {
   "cell_type": "markdown",
   "id": "815318d4",
   "metadata": {},
   "source": [
    "__Now we just have input_ids (the tokenized text to classify) and label the prediction score__"
   ]
  },
  {
   "cell_type": "markdown",
   "id": "72453d76-46b7-46dd-8581-bde3d7209f7f",
   "metadata": {},
   "source": [
    "# Create a Validation Set"
   ]
  },
  {
   "cell_type": "markdown",
   "id": "11fc92de",
   "metadata": {},
   "source": [
    "### First ask yourself as a user of that ML tool, what do I want to do really?"
   ]
  },
  {
   "cell_type": "markdown",
   "id": "f38a36b3",
   "metadata": {},
   "source": [
    "### Then as a user of that ML tool, how will I use this tool? What new data will I add or not add? Imagine what could be the new row in that dataset"
   ]
  },
  {
   "cell_type": "markdown",
   "id": "71a975e2",
   "metadata": {},
   "source": [
    "### What are the differences between the example data and the real world?"
   ]
  },
  {
   "cell_type": "markdown",
   "id": "cc76a514",
   "metadata": {},
   "source": [
    "test set constitutes unseen data, so we can take a look to see:\n",
    "- what is different with our training env\n",
    "- what are some new edge cases that are worth considering\n",
    "\n",
    "__The goal here is not to try to cheat and look at the test set to adapt, but also to make the model more generalize for OTHERS potential unseen data, how can we make our training example more random and diverse?__"
   ]
  },
  {
   "cell_type": "markdown",
   "id": "db632bee",
   "metadata": {},
   "source": [
    " You might have context, anchor or targets that you never seen before"
   ]
  },
  {
   "cell_type": "code",
   "execution_count": 153,
   "id": "76145d8a",
   "metadata": {},
   "outputs": [
    {
     "data": {
      "text/plain": [
       "array(['A47', 'A61', 'A62', 'C01', 'F16', 'F24', 'F28', 'H01', 'H04',\n",
       "       'B23', 'B41', 'D03', 'E03', 'C08', 'D01', 'D21', 'C07', 'A45',\n",
       "       'B01', 'B08', 'G04', 'G06', 'B65', 'G16', 'G01', 'A41', 'C23',\n",
       "       'F23', 'B25', 'A63', 'B28', 'B63', 'F04', 'B60', 'B32', 'C09',\n",
       "       'C02', 'G03', 'C10', 'B61', 'C21', 'F42', 'A23', 'C11', 'B29',\n",
       "       'F02', 'B62', 'B64', 'E21', 'B24', 'B22', 'H05', 'B27', 'E04',\n",
       "       'B21', 'D06', 'C04', 'B05', 'G02', 'H03', 'C06', 'G11', 'C12',\n",
       "       'E02', 'F15', 'A46', 'B66', 'G07', 'G08', 'C22', 'B44', 'A01',\n",
       "       'F03', 'C25', 'F22', 'G05', 'G21', 'B07', 'F41', 'E01', 'H02',\n",
       "       'C13', 'F01', 'F27', 'C14', 'A44', 'B67', 'A24', 'B02', 'E05',\n",
       "       'D05', 'F25', 'A43', 'A22', 'A21', 'E06', 'F21', 'G10', 'C03',\n",
       "       'B81', 'F17', 'B03', 'G09', 'D04', 'F26', 'B31'], dtype=object)"
      ]
     },
     "execution_count": 153,
     "metadata": {},
     "output_type": "execute_result"
    }
   ],
   "source": [
    "df.context.unique()"
   ]
  },
  {
   "cell_type": "code",
   "execution_count": 154,
   "id": "3145758f",
   "metadata": {},
   "outputs": [
    {
     "data": {
      "text/plain": [
       "array(['G02', 'F23', 'B60', 'D06', 'H04', 'C12', 'G11', 'B23', 'C10',\n",
       "       'F02', 'B01', 'B63', 'B22', 'E04', 'H05', 'C23', 'H02', 'C07',\n",
       "       'A63', 'G05', 'F16', 'F04', 'A44', 'B61', 'F01', 'B21', 'A61',\n",
       "       'G01', 'H03'], dtype=object)"
      ]
     },
     "execution_count": 154,
     "metadata": {},
     "output_type": "execute_result"
    }
   ],
   "source": [
    "eval_df.context.unique()"
   ]
  },
  {
   "cell_type": "code",
   "execution_count": 155,
   "id": "199874fe",
   "metadata": {},
   "outputs": [
    {
     "data": {
      "text/plain": [
       "Index(['id', 'anchor', 'target', 'context'], dtype='object')"
      ]
     },
     "execution_count": 155,
     "metadata": {},
     "output_type": "execute_result"
    }
   ],
   "source": [
    "# let's check again the col of eval_df\n",
    "eval_df.columns"
   ]
  },
  {
   "cell_type": "code",
   "execution_count": 156,
   "id": "c9edcf5f",
   "metadata": {},
   "outputs": [
    {
     "data": {
      "text/plain": [
       "Index(['id', 'anchor', 'target', 'context'], dtype='object')"
      ]
     },
     "execution_count": 156,
     "metadata": {},
     "output_type": "execute_result"
    }
   ],
   "source": [
    "# make a copy of the original training csv and make it look like the eval one\n",
    "copy_df = pd.read_csv(dataset_path/'train.csv')\n",
    "copy_df.drop(['score'], axis=1, inplace=True)\n",
    "copy_df.columns"
   ]
  },
  {
   "cell_type": "code",
   "execution_count": 157,
   "id": "1c317362",
   "metadata": {},
   "outputs": [
    {
     "name": "stdout",
     "output_type": "stream",
     "text": [
      "Values unique to df1's 'anchor' column: {'inner closed', 'pen based computer', 'photodefinable', 'boom hydraulic cylinder', 'dna strand', 'rotor stages', 'adjustable multiple', 'plug nozzle', 'sawtooth waves', 'metal phase', 'expandable intraluminal', 'water infiltration', 'extend from groove bottom', 'perform desired action', 'selected box', 'chagas disease', 'prolog', 'alpha gypsum', 'arm roller', 'brush guard', 'vegfr2', 'hybrid system', 'based writing', 'connect to electrode structure', 'register digital converter', 'smooth outer surface', 'fountain head', 'comprise in refinement', 'further additional elements', 'oven batteries', 'oxidizing enzyme', 'her2 targeted', 'component composite coating', 'dissolve in addition', 'select unit', 'lifting finger', 'time domain equalization', 'wake up procedures', 'engage in guide slot', 'obstacle course', 'shift link', 'dimensional location', 'pictorial image', 'vertical chute', 'duplex device', 'new freely flowering', 'sprayed', 'synthetic training', 'index with location', 'fall to low value', 'increase hardness', 'electromagnetic input', 'dac system', 'starch component', 'remain below threshold value', 'direct received light', 'low soc', 'composite tile', 'length light', 'generate control signal', 'use balance', 'sectional layer', 'fractionate portion', 'annular neck', 'prolong span', 'signal sender', 'search indices', 'combine with optical elements', 'gate insulator film', 'ingress buffer', 'pick element', 'friction lock', 'receive via surface', 'cut from stack', 'voltage values', 'chip form', 'abatement', 'protograph', 'form trench isolation', 'tubular latch', 'service processing unit', 'calling card', 'video lines', 'provide acknowledgement', 'acoustooptic modulator', 'embedding groove', 'rizatriptan', 'reduction factor', 'crystal thin', 'data tree', 'committee', 'melanocyte', 'gas leak', 'panel frame', 'rotation protrusion', 'loudspeaker arrays', 'ecn', 'substituted carboxylic', 'position enclosure', 'steering matrices', 'peripheral nervous system stimulation', 'vibratory actuator', 'alumino silicates', 'network load information', 'average pore size', 'cyclic alcohols', 'elastic assembly', 'sheet supply roller', 'operate by vacuum', 'parallel force', 'type parameter', 'show in chemical formula', 'double planetary gear', 'ply tire', 'derived class', 'multiplexed data', 'gasoline blend', 'ammonia recovery', 'seal members', 'form tables', 'imidazo', 'send to control node', 'measure surface temperature', 'agitate means', 'previous batch', 'surface altering agent', 'display different pictures', 'activating position', 'apply to requests', 'package member', 'split into flows', 'cyanoacrylate polymer', 'shaped substrates', 'data output circuit', 'hear aid parameters', 'hexahydro', 'corresponding toothed', 'antiatherosclerotic', 'top surface member', 'water propulsion device', 'container section', 'adapt for learning', 'transmit over interface', 'measure by probe', 'mentioned conveyor', 'channel vectors', 'coaxial cable transmission', 'form between direction', 'resilient spring clip', 'roll on workpiece', 'aluminium compounds', 'gripping layer', 'arc type', 'hanging ring', 'metatarsal bones', 'proper order', 'pressure signal', 'transition member', 'transfer onto substrate', 'lifting load', 'resilient metal', 'azabicyclo', 'remaining legs', 'axial extension', 'update test cases', 'fit within perimeter', 'rocker lever', 'flux regulator', 'key recesses', 'predetermined acceleration', 'operational height', 'broadband information', 'rotate on its longitudinal axis', 'elevation view', 'maleic anhydride grafted', 'fdi', 'insert nucleic acid', 'non polar carrier', 'wire grid polarization', 'generated electrical power', 'self resonance frequency', 'rna seq', 'leveller', 'retinal tissue', 'melt coating', 'collator', 'inner contact', 'effective storage', 'regeneration agent', 'control in steps', 'chemically modified polymers', 'battery heater', 'flexible membrane', 'kalanchoe plant', 'travele in direction', 'end of bars', 'cleaner system', 'video light', 'final roll', 'guiding elements', 'offset table', 'intruder detection', 'flexible belt', 'form by electroforming', 'combustion elements', 'dimple arrangement', 'free fatty acid', 'registration hole', 'aesthetic effects', 'salina', 'dual clutch', 'return structure', 'optimal quantity', 'cable securing', 'clear buffer', 'pre trip', 'coupling arms', 'automatic coffee', 'use voltage converter', 'wiring trough', 'protocol component', 'main lane', 'optical glasses', 'use physically unclonable functions', 'adjacent laterally', 'board manufacture', 'biocytin', 'display object', 'inner peripheral', 'apply to muscle', 'electric field intensities', 'pressure failure', 'positioning sheet', 'shunt reactor', 'storage lid', 'contain elastomer', 'produce by recombinant dna technology', 'lateral power', 'paraboloid', 'ligninases', 'morpholin', 'provider networks', 'breech mechanism', 'shannon', 'reflect by reflection mirror', 'outer bar', 'insulation sleeve', 'recover from reaction product', 'transparent liquid crystal display', 'spoke wheels', 'superior abrasion', 'post hole diggers', 'therapeutic applications', 'renewable power', 'orthogonal acceleration', 'linear change', 'sulfide sulfur', 'pushing pin', 'extend areas', 'shape like tail', 'receiver shaft', 'dissolving', 'include displacement', 'produce thin layers', 'form cutter', 'selectively predetermined', 'portable radio communication', 'feed control valve', 'general anesthesia', 'extracting process', 'provide in amounts', 'turbine machine', 'electromagnetic radiation source', 'gold alloy', 'inward travel', 'upper series', 'descriptive term', 'heighth', 'surgical gloves', 'clock input', 'similar absorbent', 'buck converter circuit', 'weldability', 'arrange in fashion', 'hot heat transfer', 'source channel', 'ack', 'color difference signal', 'carrier transportation', 'load distribution system', 'glycitin', 'nozzle receptacle', 'dissolve in glycol', 'parallel orientation', 'place to set', 'modify before use', 'life testing', 'sphygmomanometer', 'overflow compartment', 'retorting process', 'conduct conducting material', 'support grooves', 'antigen composition', 'arcade', 'curing resin composition', 'preliminary dispersion', 'wave generation', 'axle boxes', 'planar gear sets', 'fiber slack', 'provide by terminals', 'notch base', 'rotary electric', 'shaped engaging', 'interconnect site', 'absorbent properties', 'fence post', 'issued patent', 'contain bacterial cells', 'moisture proof film', 'indoor room', 'connect with conduits', 'nail strip', 'exclusion limit', 'material item', 'illumination condition', 'mount on cylinders', 'inflow channels', 'appropriate adjustment', 'make of high density polyethylene', 'carpet tiles', 'presynaptic', 'sleeve upper', 'engage clamp', 'whose identity', 'distributor pipe', 'associated log', 'cement composite', 'acid absorption', 'main linear', 'locking formation', 'carburization', 'wafer inspection system', 'wedge device', 'faucet assembly', 'move towards left', 'operating channel', 'psd functions', 'catching surface', 'single pumping chamber', 'tetracene', 'fire ring', 'component control', 'scratch coating', 'tooth spaces', 'well pump', 'acan', 'form rivets', 'chirped optical', 'seeded', 'moisture absorption rate', 'cathode layer', 'gate location', 'equip with blocks', 'outer cylindrical electrode', 'negative collector', 'heart pacemaker', 'belt shifting', 'transistor m6', 'imaging axis', 'use solid materials', 'summits', 'oxygen value', 'central communication unit', 'rear adjustment', 'transmit alarm', 'different circumferential positions', 'perform working operations', 'stepped pin', 'pendent', 'browsers', 'overall weight', 'metallic cartridges', 'average impact', 'running tally', 'flexible shunt', 'container opener', 'decompressor', 'energy storage spring', 'propyl bromide', 'produce by pump', 'conh2', 'electrical current distribution', 'compression loss', 'combination function', 'retaining insert', 'slot open', 'displacement mechanism', 'drainage', 'web transfer', 'provide for tuning', 'base fuels', 'insertion losses', 'cochineal', 'conduct cables', 'mat sections', 'light sensitive composition', 'physical transport medium', 'consist of selection', 'exhibit symmetry', 'include contact switch', 'oxygen lean', 'acylate with acids', 'methoxyethylamine', 'partial elliptical', 'estimated amount', 'stabilizer members', 'buffer strip', 'elastic repulsive', 'enclose with openings', 'rotary section', 'acrylate groups', 'gutters', 'mayenite', 'expandable scaffold', 'define by memory', 'high gradient magnetic separators', 'gnd', 'linear systems', 'connecting lines', 'invertebrate', 'lower stretches', 'normal base', 'signal generating compound', 'align with input shaft', 'oxygen carrier', 'aralkynyl', 'track temperature', 'herpes', 'organic alkaline', 'predetermined relatively', 'tubular billet', 'relational formula', 'project onto surface', 'connected means', 'contact cable', 'digital multimeters', 'unit inlet', 'triethylammonium salt', 'encode form', 'biomimetic', 'decreased power', 'previously captured image', 'include retaining elements', 'congruency', 'diffuse in substrate', 'soft polymeric', 'consist of oxalic acid', 'source voltage', 'use as cooling fluid', 'external boundary', 'based interpolation', 'sustained delivery', 'shielded conductor', 'walnut oil', 'animal fats', 'inorganic hybrid', 'comfortability', 'instruction processing', 'dental aligners', 'conductor particles', 'foot side', 'based propellant', 'interlock section', 'connect to common conductor', 'apart elongated', 'coat with conducting layer', 'achieve authentication', 'central flow path', 'churned', 'extraction location', 'dispersed powder', 'noncollinear', 'toolpaths', 'finger actuator', 'abnormal position', 'clods', 'fan', 'hydrocarbyl substituted succinic', 'opening assembly', 'personage', 'involve etherification', 'exit electrode', 'fan rotation speed', 'provide car', 'machine end', 'pulsed plasma', 'selected operation', 'annular ends', 'apply on tube', 'dicy', 'run during interval', 'use in positioning', 'content analysis', 'square lattice', 'transport from layer', 'calibration status', 'reflection type liquid crystal display', 'time digital signal', 'killed', 'opaque walls', 'arcuate means', 'catheter distal end', 'metastatic bone disease', 'free diameter', 'pulverulent material', 'extend arrangement', 'operate internal combustion engine', 'close gate', 'deteriorated', 'deflect light', 'electric starter', 'membrane vesicle', 'equivalent molar', 'melodies', 'prevent accidental separation', 'vertical comb', 'obtain from fractions', 'target pointer', 'battery monitoring circuit', 'maintain oxygen level', 'pulse width modulated control', 'accept information', 'central nucleus', 'polyglycolic acid', 'sequence conservation', 'polymeric ester', 'dissolve in solvent system', 'materially less', 'ftir spectrometer', 'hardware blocks', 'pneumatic logic', 'determine from analysis', 'image signal generation', 'lift element', 'frame handle', 'strand conveyor', 'intermediate speed', 'substantially axial', 'projection method', 'cervical support', 'power conversion control', 'preregistration', 'conductive position', 'drive balls', 'pulping apparatus', 'fire cartridges', 'battery cell assembly', 'sealable adhesive', 'pressing state', 'main pulse laser', 'operator identification information', 'dry coating composition1', 'hrb', 'val ile', 'disperse in plastic material', 'saturated felt', 'punch face', 'disk type recording medium', 'magnetically actuated', 'pipe box', 'fused layer', 'cache segments', 'retainer bolts', 'pre established parameters', 'silicide formation', 'hinge mechanisms', 'apply to anode electrode', 'olefin production', 'filled interior', 'circumferential clamp', 'switch swm', 'communicate through cavity', 'fidelity', 'embossing portion', 'bandedge', 'metallic binder', 'stability function', 'receive acceleration', 'terephthalate polyester', 'flexible glass substrate', 'move to range', 'mat forming', 'come into relation', 'verifiable', 'guided projectiles', 'intermediate connection', 'medical product', 'provide restoring force', 'nvm array', 'fluid flow source', 'laminated wall', 'voltage patterns', 'vacuum cups', 'catalyst paste', 'rhodium carbonyl', 'blooming drains', 'radio wave transmission', 'siloxane based', 'sensitive photographic', 'flow openings', 'sun member', 'antidiuretic', 'implant pellets', 'adhesive mounting', 'form as body', 'labeled ligand', 'alphatic', 'lamination method', 'treatment programs', 'wearability', 'walking aids', 'androgen receptor modulators', 'respective emitter', 'dihalo compound', 'cooled reaction', 'rotatable chamber', 'encapsulated pigment', 'overall condition', 'kraft cooking', 'material formation', 'movement directions', 'composite slurry', 'fluorinated olefin', 'saw sensor', 'auxiliary water', 'selection logic', 'spreader body', 'speed impeller', 'air vent openings', 'glass part', 'liquid reservoirs', 'microchambers', 'average power ratio reduction', 'brake arms', 'water propeller', 'request buffer', 'photocleavable linker', 'therapeutic immune', 'contain sulfur compounds', 'board id', 'connection speeds', 'sand formation', 'solder member', 'conical path', 'monocrystalline semiconductor', 'based method', 'page file', 'inner fluid conduit', 'water intake', 'interconnected levers', 'pressure detection', 'tsr', 'particular operational', 'vco circuit', 'laser beam optical', 'pillaring', 'wood article', 'map display system', 'cold state', 'contain based resin', 'implement with plurality', 'gutter hanger', 'donor plasmid', 'secure to guard', 'crank', 'air flow line', 'define panel', 'block selection signal', 'tap portion', 'adaptive linear', 'decoy oligonucleotide', 'key arm', 'scorch', 'helicase activity', 'non lamellar', 'useful metal', 'application messaging', 'peptide precursor', 'opposing walls', 'water product', 'demodulator', 'high frequency welding', 'output center', 'undulation', 'idle mixture', 'stationary rod', 'insert into trachea', 'trommel screen'}\n",
      "Values unique to df2's 'anchor' column: set()\n"
     ]
    },
    {
     "data": {
      "text/plain": [
       "(699, 0)"
      ]
     },
     "execution_count": 157,
     "metadata": {},
     "output_type": "execute_result"
    }
   ],
   "source": [
    "def compare_unique_values(df1, df2, column_name):\n",
    "    \"\"\"\n",
    "    Compares unique values in a specified column between two dataframes.\n",
    "\n",
    "    Parameters:\n",
    "    - df1: First DataFrame.\n",
    "    - df2: Second DataFrame.\n",
    "    - column_name: The name of the column to compare.\n",
    "\n",
    "    Returns:\n",
    "    - A tuple containing sets of unique values exclusive to df1 and df2, respectively.\n",
    "    \"\"\"\n",
    "    # Ensure the column exists in both dataframes\n",
    "    if column_name not in df1.columns or column_name not in df2.columns:\n",
    "        raise ValueError(f\"Column '{column_name}' does not exist in both dataframes.\")\n",
    "\n",
    "    # Convert the column values of both dataframes to sets\n",
    "    values_df1 = set(df1[column_name])\n",
    "    values_df2 = set(df2[column_name])\n",
    "\n",
    "    # Find unique values\n",
    "    unique_to_df1 = values_df1 - values_df2\n",
    "    unique_to_df2 = values_df2 - values_df1\n",
    "\n",
    "    # Print results\n",
    "    print(f\"Values unique to df1's '{column_name}' column:\", unique_to_df1)\n",
    "    print(f\"Values unique to df2's '{column_name}' column:\", unique_to_df2)\n",
    "\n",
    "    return len(unique_to_df1), len(unique_to_df2)\n",
    "\n",
    "compare_unique_values(df, eval_df, 'anchor')"
   ]
  },
  {
   "cell_type": "markdown",
   "id": "02a1d7bd",
   "metadata": {},
   "source": [
    "### More EDA"
   ]
  },
  {
   "cell_type": "markdown",
   "id": "1c9a92b5",
   "metadata": {},
   "source": [
    "### Making the validation set look more like the test set (but our goal is not to train for the test set... REMEMBER REAL WORLD!!!)"
   ]
  },
  {
   "cell_type": "markdown",
   "id": "1abf4c57",
   "metadata": {},
   "source": [
    "__Which column is likely to have value that our model have never seen? Let's read the dataset description again to understand the problem: https://www.kaggle.com/competitions/us-patent-phrase-to-phrase-matching/data__"
   ]
  },
  {
   "cell_type": "code",
   "execution_count": 158,
   "id": "68ef60be",
   "metadata": {},
   "outputs": [
    {
     "data": {
      "text/html": [
       "<div>\n",
       "<style scoped>\n",
       "    .dataframe tbody tr th:only-of-type {\n",
       "        vertical-align: middle;\n",
       "    }\n",
       "\n",
       "    .dataframe tbody tr th {\n",
       "        vertical-align: top;\n",
       "    }\n",
       "\n",
       "    .dataframe thead th {\n",
       "        text-align: right;\n",
       "    }\n",
       "</style>\n",
       "<table border=\"1\" class=\"dataframe\">\n",
       "  <thead>\n",
       "    <tr style=\"text-align: right;\">\n",
       "      <th></th>\n",
       "      <th>id</th>\n",
       "      <th>anchor</th>\n",
       "      <th>target</th>\n",
       "      <th>context</th>\n",
       "    </tr>\n",
       "  </thead>\n",
       "  <tbody>\n",
       "    <tr>\n",
       "      <th>0</th>\n",
       "      <td>4112d61851461f60</td>\n",
       "      <td>opc drum</td>\n",
       "      <td>inorganic photoconductor drum</td>\n",
       "      <td>G02</td>\n",
       "    </tr>\n",
       "    <tr>\n",
       "      <th>1</th>\n",
       "      <td>09e418c93a776564</td>\n",
       "      <td>adjust gas flow</td>\n",
       "      <td>altering gas flow</td>\n",
       "      <td>F23</td>\n",
       "    </tr>\n",
       "    <tr>\n",
       "      <th>2</th>\n",
       "      <td>36baf228038e314b</td>\n",
       "      <td>lower trunnion</td>\n",
       "      <td>lower locating</td>\n",
       "      <td>B60</td>\n",
       "    </tr>\n",
       "    <tr>\n",
       "      <th>3</th>\n",
       "      <td>1f37ead645e7f0c8</td>\n",
       "      <td>cap component</td>\n",
       "      <td>upper portion</td>\n",
       "      <td>D06</td>\n",
       "    </tr>\n",
       "    <tr>\n",
       "      <th>4</th>\n",
       "      <td>71a5b6ad068d531f</td>\n",
       "      <td>neural stimulation</td>\n",
       "      <td>artificial neural network</td>\n",
       "      <td>H04</td>\n",
       "    </tr>\n",
       "    <tr>\n",
       "      <th>5</th>\n",
       "      <td>474c874d0c07bd21</td>\n",
       "      <td>dry corn</td>\n",
       "      <td>dry corn starch</td>\n",
       "      <td>C12</td>\n",
       "    </tr>\n",
       "    <tr>\n",
       "      <th>6</th>\n",
       "      <td>442c114ed5c4e3c9</td>\n",
       "      <td>tunneling capacitor</td>\n",
       "      <td>capacitor housing</td>\n",
       "      <td>G11</td>\n",
       "    </tr>\n",
       "    <tr>\n",
       "      <th>7</th>\n",
       "      <td>b8ae62ea5e1d8bdb</td>\n",
       "      <td>angular contact bearing</td>\n",
       "      <td>contact therapy radiation</td>\n",
       "      <td>B23</td>\n",
       "    </tr>\n",
       "    <tr>\n",
       "      <th>8</th>\n",
       "      <td>faaddaf8fcba8a3f</td>\n",
       "      <td>produce liquid hydrocarbons</td>\n",
       "      <td>produce a treated stream</td>\n",
       "      <td>C10</td>\n",
       "    </tr>\n",
       "    <tr>\n",
       "      <th>9</th>\n",
       "      <td>ae0262c02566d2ce</td>\n",
       "      <td>diesel fuel tank</td>\n",
       "      <td>diesel fuel tanks</td>\n",
       "      <td>F02</td>\n",
       "    </tr>\n",
       "    <tr>\n",
       "      <th>10</th>\n",
       "      <td>a8808e31641e856d</td>\n",
       "      <td>chemical activity</td>\n",
       "      <td>dielectric characteristics</td>\n",
       "      <td>B01</td>\n",
       "    </tr>\n",
       "    <tr>\n",
       "      <th>11</th>\n",
       "      <td>16ae4b99d3601e60</td>\n",
       "      <td>transmit to platform</td>\n",
       "      <td>direct receiving</td>\n",
       "      <td>H04</td>\n",
       "    </tr>\n",
       "    <tr>\n",
       "      <th>12</th>\n",
       "      <td>25c555ca3d5a2092</td>\n",
       "      <td>oil tankers</td>\n",
       "      <td>oil carriers</td>\n",
       "      <td>B63</td>\n",
       "    </tr>\n",
       "    <tr>\n",
       "      <th>13</th>\n",
       "      <td>5203a36c501f1b7c</td>\n",
       "      <td>generate in layer</td>\n",
       "      <td>generate by layer</td>\n",
       "      <td>G02</td>\n",
       "    </tr>\n",
       "    <tr>\n",
       "      <th>14</th>\n",
       "      <td>b9fdc772bb8fd61c</td>\n",
       "      <td>slip segment</td>\n",
       "      <td>slip portion</td>\n",
       "      <td>B22</td>\n",
       "    </tr>\n",
       "    <tr>\n",
       "      <th>15</th>\n",
       "      <td>7aa5908a77a7ec24</td>\n",
       "      <td>el display</td>\n",
       "      <td>illumination</td>\n",
       "      <td>G02</td>\n",
       "    </tr>\n",
       "    <tr>\n",
       "      <th>16</th>\n",
       "      <td>d19ef3979396d47e</td>\n",
       "      <td>overflow device</td>\n",
       "      <td>oil filler</td>\n",
       "      <td>E04</td>\n",
       "    </tr>\n",
       "    <tr>\n",
       "      <th>17</th>\n",
       "      <td>fd83613b7843f5e1</td>\n",
       "      <td>beam traveling direction</td>\n",
       "      <td>concrete beam</td>\n",
       "      <td>H05</td>\n",
       "    </tr>\n",
       "    <tr>\n",
       "      <th>18</th>\n",
       "      <td>2a619016908bfa45</td>\n",
       "      <td>el display</td>\n",
       "      <td>electroluminescent</td>\n",
       "      <td>C23</td>\n",
       "    </tr>\n",
       "    <tr>\n",
       "      <th>19</th>\n",
       "      <td>733979d75f59770d</td>\n",
       "      <td>equipment unit</td>\n",
       "      <td>power detection</td>\n",
       "      <td>H02</td>\n",
       "    </tr>\n",
       "    <tr>\n",
       "      <th>20</th>\n",
       "      <td>6546846df17f9800</td>\n",
       "      <td>halocarbyl</td>\n",
       "      <td>halogen addition reaction</td>\n",
       "      <td>C07</td>\n",
       "    </tr>\n",
       "    <tr>\n",
       "      <th>21</th>\n",
       "      <td>3ff0e7a35015be69</td>\n",
       "      <td>perfluoroalkyl group</td>\n",
       "      <td>hydroxy</td>\n",
       "      <td>A63</td>\n",
       "    </tr>\n",
       "    <tr>\n",
       "      <th>22</th>\n",
       "      <td>12ca31f018a2e2b9</td>\n",
       "      <td>speed control means</td>\n",
       "      <td>control loop</td>\n",
       "      <td>G05</td>\n",
       "    </tr>\n",
       "    <tr>\n",
       "      <th>23</th>\n",
       "      <td>03ba802ed4029e4d</td>\n",
       "      <td>arm design</td>\n",
       "      <td>steel plate</td>\n",
       "      <td>F16</td>\n",
       "    </tr>\n",
       "    <tr>\n",
       "      <th>24</th>\n",
       "      <td>c404f8b378cbb008</td>\n",
       "      <td>hybrid bearing</td>\n",
       "      <td>bearing system</td>\n",
       "      <td>F04</td>\n",
       "    </tr>\n",
       "    <tr>\n",
       "      <th>25</th>\n",
       "      <td>78243984c02a72e4</td>\n",
       "      <td>end pins</td>\n",
       "      <td>end days</td>\n",
       "      <td>A44</td>\n",
       "    </tr>\n",
       "    <tr>\n",
       "      <th>26</th>\n",
       "      <td>de51114bc0faec3e</td>\n",
       "      <td>organic starting</td>\n",
       "      <td>organic farming</td>\n",
       "      <td>B61</td>\n",
       "    </tr>\n",
       "    <tr>\n",
       "      <th>27</th>\n",
       "      <td>7e3aff857f056bf9</td>\n",
       "      <td>make of slabs</td>\n",
       "      <td>making cake</td>\n",
       "      <td>E04</td>\n",
       "    </tr>\n",
       "    <tr>\n",
       "      <th>28</th>\n",
       "      <td>26c3c6dc6174b589</td>\n",
       "      <td>seal teeth</td>\n",
       "      <td>teeth whitening</td>\n",
       "      <td>F01</td>\n",
       "    </tr>\n",
       "    <tr>\n",
       "      <th>29</th>\n",
       "      <td>b892011ab2e2cabc</td>\n",
       "      <td>carry by platform</td>\n",
       "      <td>carry on platform</td>\n",
       "      <td>B60</td>\n",
       "    </tr>\n",
       "    <tr>\n",
       "      <th>30</th>\n",
       "      <td>8247ff562ca185cc</td>\n",
       "      <td>polls</td>\n",
       "      <td>pooling device</td>\n",
       "      <td>B21</td>\n",
       "    </tr>\n",
       "    <tr>\n",
       "      <th>31</th>\n",
       "      <td>c057aecbba832387</td>\n",
       "      <td>upper clamp arm</td>\n",
       "      <td>end visual</td>\n",
       "      <td>A61</td>\n",
       "    </tr>\n",
       "    <tr>\n",
       "      <th>32</th>\n",
       "      <td>9f2279ce667b21dc</td>\n",
       "      <td>clocked storage</td>\n",
       "      <td>clocked storage device</td>\n",
       "      <td>G01</td>\n",
       "    </tr>\n",
       "    <tr>\n",
       "      <th>33</th>\n",
       "      <td>b9ea2b06a878df6f</td>\n",
       "      <td>coupling factor</td>\n",
       "      <td>turns impedance</td>\n",
       "      <td>G01</td>\n",
       "    </tr>\n",
       "    <tr>\n",
       "      <th>34</th>\n",
       "      <td>79795133c30ef097</td>\n",
       "      <td>different conductivity</td>\n",
       "      <td>carrier polarity</td>\n",
       "      <td>H03</td>\n",
       "    </tr>\n",
       "    <tr>\n",
       "      <th>35</th>\n",
       "      <td>25522ee5411e63e9</td>\n",
       "      <td>hybrid bearing</td>\n",
       "      <td>corrosion resistant</td>\n",
       "      <td>F16</td>\n",
       "    </tr>\n",
       "  </tbody>\n",
       "</table>\n",
       "</div>"
      ],
      "text/plain": [
       "                  id                       anchor  \\\n",
       "0   4112d61851461f60                     opc drum   \n",
       "1   09e418c93a776564              adjust gas flow   \n",
       "2   36baf228038e314b               lower trunnion   \n",
       "3   1f37ead645e7f0c8                cap component   \n",
       "4   71a5b6ad068d531f           neural stimulation   \n",
       "5   474c874d0c07bd21                     dry corn   \n",
       "6   442c114ed5c4e3c9          tunneling capacitor   \n",
       "7   b8ae62ea5e1d8bdb      angular contact bearing   \n",
       "8   faaddaf8fcba8a3f  produce liquid hydrocarbons   \n",
       "9   ae0262c02566d2ce             diesel fuel tank   \n",
       "10  a8808e31641e856d            chemical activity   \n",
       "11  16ae4b99d3601e60         transmit to platform   \n",
       "12  25c555ca3d5a2092                  oil tankers   \n",
       "13  5203a36c501f1b7c            generate in layer   \n",
       "14  b9fdc772bb8fd61c                 slip segment   \n",
       "15  7aa5908a77a7ec24                   el display   \n",
       "16  d19ef3979396d47e              overflow device   \n",
       "17  fd83613b7843f5e1     beam traveling direction   \n",
       "18  2a619016908bfa45                   el display   \n",
       "19  733979d75f59770d               equipment unit   \n",
       "20  6546846df17f9800                   halocarbyl   \n",
       "21  3ff0e7a35015be69         perfluoroalkyl group   \n",
       "22  12ca31f018a2e2b9          speed control means   \n",
       "23  03ba802ed4029e4d                   arm design   \n",
       "24  c404f8b378cbb008               hybrid bearing   \n",
       "25  78243984c02a72e4                     end pins   \n",
       "26  de51114bc0faec3e             organic starting   \n",
       "27  7e3aff857f056bf9                make of slabs   \n",
       "28  26c3c6dc6174b589                   seal teeth   \n",
       "29  b892011ab2e2cabc            carry by platform   \n",
       "30  8247ff562ca185cc                        polls   \n",
       "31  c057aecbba832387              upper clamp arm   \n",
       "32  9f2279ce667b21dc              clocked storage   \n",
       "33  b9ea2b06a878df6f              coupling factor   \n",
       "34  79795133c30ef097       different conductivity   \n",
       "35  25522ee5411e63e9               hybrid bearing   \n",
       "\n",
       "                           target context  \n",
       "0   inorganic photoconductor drum     G02  \n",
       "1               altering gas flow     F23  \n",
       "2                  lower locating     B60  \n",
       "3                   upper portion     D06  \n",
       "4       artificial neural network     H04  \n",
       "5                 dry corn starch     C12  \n",
       "6               capacitor housing     G11  \n",
       "7       contact therapy radiation     B23  \n",
       "8        produce a treated stream     C10  \n",
       "9               diesel fuel tanks     F02  \n",
       "10     dielectric characteristics     B01  \n",
       "11               direct receiving     H04  \n",
       "12                   oil carriers     B63  \n",
       "13              generate by layer     G02  \n",
       "14                   slip portion     B22  \n",
       "15                   illumination     G02  \n",
       "16                     oil filler     E04  \n",
       "17                  concrete beam     H05  \n",
       "18             electroluminescent     C23  \n",
       "19                power detection     H02  \n",
       "20      halogen addition reaction     C07  \n",
       "21                        hydroxy     A63  \n",
       "22                   control loop     G05  \n",
       "23                    steel plate     F16  \n",
       "24                 bearing system     F04  \n",
       "25                       end days     A44  \n",
       "26                organic farming     B61  \n",
       "27                    making cake     E04  \n",
       "28                teeth whitening     F01  \n",
       "29              carry on platform     B60  \n",
       "30                 pooling device     B21  \n",
       "31                     end visual     A61  \n",
       "32         clocked storage device     G01  \n",
       "33                turns impedance     G01  \n",
       "34               carrier polarity     H03  \n",
       "35            corrosion resistant     F16  "
      ]
     },
     "execution_count": 158,
     "metadata": {},
     "output_type": "execute_result"
    }
   ],
   "source": [
    "eval_df"
   ]
  },
  {
   "cell_type": "code",
   "execution_count": 159,
   "id": "a058d5d8",
   "metadata": {},
   "outputs": [
    {
     "name": "stdout",
     "output_type": "stream",
     "text": [
      "(2.0097058097770955,) 97.9902941902229\n"
     ]
    }
   ],
   "source": [
    "unique_and_dups(df.anchor)"
   ]
  },
  {
   "cell_type": "markdown",
   "id": "9d5edd81",
   "metadata": {},
   "source": [
    "Anchor has low variability and lots of dups, meaning it feels like a class"
   ]
  },
  {
   "cell_type": "code",
   "execution_count": 160,
   "id": "bb7e3919",
   "metadata": {},
   "outputs": [
    {
     "name": "stdout",
     "output_type": "stream",
     "text": [
      "(80.44306747457023,) 19.556932525429772\n"
     ]
    }
   ],
   "source": [
    "unique_and_dups(df.target)"
   ]
  },
  {
   "cell_type": "markdown",
   "id": "6ad059e0",
   "metadata": {},
   "source": [
    "Target however has high variability it seems like the thing we are trying to classify"
   ]
  },
  {
   "cell_type": "code",
   "execution_count": 161,
   "id": "367a04e6",
   "metadata": {},
   "outputs": [
    {
     "name": "stdout",
     "output_type": "stream",
     "text": [
      "(0.29062594247799745,) 99.709374057522\n"
     ]
    }
   ],
   "source": [
    "unique_and_dups(df.context)"
   ]
  },
  {
   "cell_type": "markdown",
   "id": "85048919",
   "metadata": {},
   "source": [
    "Finally context like anchor has low variability, it also feels like a class"
   ]
  },
  {
   "cell_type": "markdown",
   "id": "d9d85c45",
   "metadata": {},
   "source": [
    "So target is the thing we are trying to classify, and we have two column to help us classify this thing: anchor and context"
   ]
  },
  {
   "cell_type": "code",
   "execution_count": 162,
   "id": "86576f99",
   "metadata": {},
   "outputs": [
    {
     "data": {
      "text/plain": [
       "106"
      ]
     },
     "execution_count": 162,
     "metadata": {},
     "output_type": "execute_result"
    }
   ],
   "source": [
    "len(df.context.unique())"
   ]
  },
  {
   "cell_type": "code",
   "execution_count": 163,
   "id": "8963c55e",
   "metadata": {},
   "outputs": [
    {
     "data": {
      "text/plain": [
       "733"
      ]
     },
     "execution_count": 163,
     "metadata": {},
     "output_type": "execute_result"
    }
   ],
   "source": [
    "len(df.anchor.unique())"
   ]
  },
  {
   "cell_type": "markdown",
   "id": "dec783dd",
   "metadata": {},
   "source": [
    "### Create a validation split"
   ]
  },
  {
   "cell_type": "markdown",
   "id": "20c271e3",
   "metadata": {},
   "source": [
    "We will split so that we try to predict for every single anhcors"
   ]
  },
  {
   "cell_type": "code",
   "execution_count": 164,
   "id": "a22929e2",
   "metadata": {},
   "outputs": [
    {
     "data": {
      "text/plain": [
       "array(['time digital signal', 'antiatherosclerotic', 'filled interior',\n",
       "       'dispersed powder', 'locking formation'], dtype=object)"
      ]
     },
     "execution_count": 164,
     "metadata": {},
     "output_type": "execute_result"
    }
   ],
   "source": [
    "anchors = df.anchor.unique()\n",
    "np.random.seed(42)\n",
    "np.random.shuffle(anchors)\n",
    "anchors[:5]"
   ]
  },
  {
   "cell_type": "code",
   "execution_count": 165,
   "id": "4e0bc37e",
   "metadata": {},
   "outputs": [],
   "source": [
    "val_prop = 0.25\n",
    "val_sz = int(len(anchors)*val_prop)\n",
    "val_anchors = anchors[:val_sz]"
   ]
  },
  {
   "cell_type": "code",
   "execution_count": 166,
   "id": "25b2eeeb",
   "metadata": {},
   "outputs": [
    {
     "data": {
      "text/plain": [
       "(9116, 27357)"
      ]
     },
     "execution_count": 166,
     "metadata": {},
     "output_type": "execute_result"
    }
   ],
   "source": [
    "is_val = np.isin(df.anchor, val_anchors)\n",
    "idxs = np.arange(len(df))\n",
    "val_idxs = idxs[ is_val]\n",
    "trn_idxs = idxs[~is_val]\n",
    "len(val_idxs),len(trn_idxs)"
   ]
  },
  {
   "cell_type": "markdown",
   "id": "79b78871",
   "metadata": {},
   "source": [
    "BTW, a lot of people do more complex stuff for creating their validation set, but with a dataset this large there's not much point. As you can see, the mean scores in the two groups are very similar despite just doing a random shuffle:\n"
   ]
  },
  {
   "cell_type": "code",
   "execution_count": 167,
   "id": "13b01fe8",
   "metadata": {},
   "outputs": [],
   "source": [
    "dds = DatasetDict({\"train\":tok_ds.select(trn_idxs),\n",
    "                   \"test\": tok_ds.select(val_idxs)})"
   ]
  },
  {
   "cell_type": "code",
   "execution_count": 168,
   "id": "655d6873",
   "metadata": {},
   "outputs": [
    {
     "data": {
      "text/plain": [
       "(0.3623021530138539, 0.3613426941641071)"
      ]
     },
     "execution_count": 168,
     "metadata": {},
     "output_type": "execute_result"
    }
   ],
   "source": [
    "df.iloc[trn_idxs].score.mean(),df.iloc[val_idxs].score.mean()"
   ]
  },
  {
   "cell_type": "markdown",
   "id": "345f5217",
   "metadata": {},
   "source": [
    "# Training"
   ]
  },
  {
   "cell_type": "markdown",
   "id": "80bcd408",
   "metadata": {},
   "source": [
    "### Metric"
   ]
  },
  {
   "cell_type": "code",
   "execution_count": 169,
   "id": "9ce0eb2f",
   "metadata": {},
   "outputs": [],
   "source": [
    "def corr(eval_pred): return {'pearson': np.corrcoef(*eval_pred)[0][1]}"
   ]
  },
  {
   "cell_type": "markdown",
   "id": "ec5c5e8c",
   "metadata": {},
   "source": [
    "### Hyperparameters"
   ]
  },
  {
   "cell_type": "code",
   "execution_count": 170,
   "id": "dd31dfed",
   "metadata": {},
   "outputs": [],
   "source": [
    "import platform\n",
    "\n",
    "# Hardware dependents\n",
    "bs = 128\n",
    "\n",
    "# Non hardware dependents\n",
    "num_labels=1\n",
    "lr = 8e-5 # find this with find_lr\n",
    "lr_scheduler_type = 'cosine'\n",
    "weight_decay = 0.01\n",
    "epochs = 4\n",
    "# We'll use fp16 since it's much faster on modern GPUs, and saves some memory. You almost always want this\n",
    "fp16 = platform.system().lower() != 'darwin'\n",
    "# We evaluate using double-sized batches, since no gradients are stored so we can do twice as many rows at a time.\n",
    "per_device_eval_batch_size = bs * 2"
   ]
  },
  {
   "cell_type": "code",
   "execution_count": 171,
   "id": "b82bf4db",
   "metadata": {},
   "outputs": [],
   "source": [
    "from transformers import TrainingArguments    \n",
    "\n",
    "args = TrainingArguments('outputs',\n",
    "                        learning_rate=lr,\n",
    "                        warmup_ratio=0.1,\n",
    "                        lr_scheduler_type=lr_scheduler_type,\n",
    "                        fp16=fp16,\n",
    "                        evaluation_strategy=\"epoch\",\n",
    "                        per_device_train_batch_size=bs,\n",
    "                        per_device_eval_batch_size=per_device_eval_batch_size,\n",
    "                        num_train_epochs=epochs,\n",
    "                        weight_decay=weight_decay,\n",
    "                        report_to='none')"
   ]
  },
  {
   "cell_type": "code",
   "execution_count": 172,
   "id": "574be677",
   "metadata": {},
   "outputs": [],
   "source": [
    "from transformers import AutoModelForSequenceClassification,AutoTokenizer\n",
    "\n",
    "model = AutoModelForSequenceClassification.from_pretrained(model_nm, num_labels=num_labels)"
   ]
  },
  {
   "cell_type": "code",
   "execution_count": 173,
   "id": "4fcebd97",
   "metadata": {},
   "outputs": [],
   "source": [
    "trainer = Trainer(model, args, train_dataset=dds['train'], eval_dataset=dds['test'],\n",
    "               tokenizer=tokz, compute_metrics=corr)"
   ]
  },
  {
   "cell_type": "code",
   "execution_count": 174,
   "id": "473a0a95",
   "metadata": {},
   "outputs": [
    {
     "data": {
      "text/html": [
       "\n",
       "    <div>\n",
       "      \n",
       "      <progress value='856' max='856' style='width:300px; height:20px; vertical-align: middle;'></progress>\n",
       "      [856/856 01:37, Epoch 4/4]\n",
       "    </div>\n",
       "    <table border=\"1\" class=\"dataframe\">\n",
       "  <thead>\n",
       " <tr style=\"text-align: left;\">\n",
       "      <th>Epoch</th>\n",
       "      <th>Training Loss</th>\n",
       "      <th>Validation Loss</th>\n",
       "      <th>Pearson</th>\n",
       "    </tr>\n",
       "  </thead>\n",
       "  <tbody>\n",
       "    <tr>\n",
       "      <td>1</td>\n",
       "      <td>No log</td>\n",
       "      <td>0.026403</td>\n",
       "      <td>0.793910</td>\n",
       "    </tr>\n",
       "    <tr>\n",
       "      <td>2</td>\n",
       "      <td>No log</td>\n",
       "      <td>0.026340</td>\n",
       "      <td>0.807178</td>\n",
       "    </tr>\n",
       "    <tr>\n",
       "      <td>3</td>\n",
       "      <td>0.032200</td>\n",
       "      <td>0.026405</td>\n",
       "      <td>0.811341</td>\n",
       "    </tr>\n",
       "    <tr>\n",
       "      <td>4</td>\n",
       "      <td>0.032200</td>\n",
       "      <td>0.025133</td>\n",
       "      <td>0.813304</td>\n",
       "    </tr>\n",
       "  </tbody>\n",
       "</table><p>"
      ],
      "text/plain": [
       "<IPython.core.display.HTML object>"
      ]
     },
     "metadata": {},
     "output_type": "display_data"
    }
   ],
   "source": [
    "trainer.train();"
   ]
  },
  {
   "cell_type": "markdown",
   "id": "253e68f5",
   "metadata": {},
   "source": [
    "# Let's make friends that help us iterate faster"
   ]
  },
  {
   "cell_type": "code",
   "execution_count": 175,
   "id": "3261cc86",
   "metadata": {},
   "outputs": [],
   "source": [
    "def get_dds(df):\n",
    "    ds = Dataset.from_pandas(df).rename_column('score', 'label')\n",
    "    tok_ds = ds.map(tok_func, batched=True, remove_columns=inps+('inputs','id','section'))\n",
    "    return DatasetDict({\"train\":tok_ds.select(trn_idxs), \"test\": tok_ds.select(val_idxs)})"
   ]
  },
  {
   "cell_type": "code",
   "execution_count": 176,
   "id": "1d00e87d",
   "metadata": {},
   "outputs": [],
   "source": [
    "def get_model(): return AutoModelForSequenceClassification.from_pretrained(model_nm, num_labels=1)\n",
    "\n",
    "def get_trainer(dds, model=None):\n",
    "    if model is None: model = get_model()\n",
    "    args = TrainingArguments('outputs', learning_rate=lr, warmup_ratio=0.1, lr_scheduler_type=lr_scheduler_type, fp16=fp16,\n",
    "        evaluation_strategy=\"epoch\", per_device_train_batch_size=bs, per_device_eval_batch_size=per_device_eval_batch_size,\n",
    "        num_train_epochs=epochs, weight_decay=weight_decay, report_to='none')\n",
    "    return Trainer(model, args, train_dataset=dds['train'], eval_dataset=dds['test'],\n",
    "                   tokenizer=tokz, compute_metrics=corr)"
   ]
  },
  {
   "cell_type": "markdown",
   "id": "5c215182",
   "metadata": {},
   "source": [
    "# Let's Experiment!"
   ]
  },
  {
   "cell_type": "markdown",
   "id": "53189337",
   "metadata": {},
   "source": [
    "### A Different Separator?"
   ]
  },
  {
   "cell_type": "code",
   "execution_count": 177,
   "id": "4e11f291",
   "metadata": {},
   "outputs": [
    {
     "data": {
      "application/vnd.jupyter.widget-view+json": {
       "model_id": "c0dc92fe16c2468191d4d9a348b77bfc",
       "version_major": 2,
       "version_minor": 0
      },
      "text/plain": [
       "Map:   0%|          | 0/36473 [00:00<?, ? examples/s]"
      ]
     },
     "metadata": {},
     "output_type": "display_data"
    },
    {
     "data": {
      "text/html": [
       "\n",
       "    <div>\n",
       "      \n",
       "      <progress value='856' max='856' style='width:300px; height:20px; vertical-align: middle;'></progress>\n",
       "      [856/856 01:43, Epoch 4/4]\n",
       "    </div>\n",
       "    <table border=\"1\" class=\"dataframe\">\n",
       "  <thead>\n",
       " <tr style=\"text-align: left;\">\n",
       "      <th>Epoch</th>\n",
       "      <th>Training Loss</th>\n",
       "      <th>Validation Loss</th>\n",
       "      <th>Pearson</th>\n",
       "    </tr>\n",
       "  </thead>\n",
       "  <tbody>\n",
       "    <tr>\n",
       "      <td>1</td>\n",
       "      <td>No log</td>\n",
       "      <td>0.027151</td>\n",
       "      <td>0.806742</td>\n",
       "    </tr>\n",
       "    <tr>\n",
       "      <td>2</td>\n",
       "      <td>No log</td>\n",
       "      <td>0.024117</td>\n",
       "      <td>0.815730</td>\n",
       "    </tr>\n",
       "    <tr>\n",
       "      <td>3</td>\n",
       "      <td>0.029800</td>\n",
       "      <td>0.024294</td>\n",
       "      <td>0.818609</td>\n",
       "    </tr>\n",
       "    <tr>\n",
       "      <td>4</td>\n",
       "      <td>0.029800</td>\n",
       "      <td>0.024139</td>\n",
       "      <td>0.821015</td>\n",
       "    </tr>\n",
       "  </tbody>\n",
       "</table><p>"
      ],
      "text/plain": [
       "<IPython.core.display.HTML object>"
      ]
     },
     "metadata": {},
     "output_type": "display_data"
    },
    {
     "data": {
      "text/plain": [
       "TrainOutput(global_step=856, training_loss=0.02281925054354088, metrics={'train_runtime': 103.1114, 'train_samples_per_second': 1061.26, 'train_steps_per_second': 8.302, 'total_flos': 581591382621300.0, 'train_loss': 0.02281925054354088, 'epoch': 4.0})"
      ]
     },
     "execution_count": 177,
     "metadata": {},
     "output_type": "execute_result"
    }
   ],
   "source": [
    "sep = \" [s] \"\n",
    "df['inputs'] = df.context + sep + df.anchor + sep + df.target\n",
    "dds = get_dds(df)\n",
    "get_trainer(dds).train()"
   ]
  },
  {
   "cell_type": "markdown",
   "id": "a6ea856c",
   "metadata": {},
   "source": [
    "Is that useful? If so let's keep that change"
   ]
  },
  {
   "cell_type": "markdown",
   "id": "6c7e8ada",
   "metadata": {},
   "source": [
    "### How about smaller applying some transform to the values?"
   ]
  },
  {
   "cell_type": "markdown",
   "id": "216639a2",
   "metadata": {},
   "source": [
    "Often changing to lowercase is helpful. Let's see if that helps too:"
   ]
  },
  {
   "cell_type": "code",
   "execution_count": 178,
   "id": "1c0be90c",
   "metadata": {},
   "outputs": [
    {
     "data": {
      "application/vnd.jupyter.widget-view+json": {
       "model_id": "5bb52a6a38c446c9aee8f259887cbbee",
       "version_major": 2,
       "version_minor": 0
      },
      "text/plain": [
       "Map:   0%|          | 0/36473 [00:00<?, ? examples/s]"
      ]
     },
     "metadata": {},
     "output_type": "display_data"
    },
    {
     "data": {
      "text/html": [
       "\n",
       "    <div>\n",
       "      \n",
       "      <progress value='856' max='856' style='width:300px; height:20px; vertical-align: middle;'></progress>\n",
       "      [856/856 01:43, Epoch 4/4]\n",
       "    </div>\n",
       "    <table border=\"1\" class=\"dataframe\">\n",
       "  <thead>\n",
       " <tr style=\"text-align: left;\">\n",
       "      <th>Epoch</th>\n",
       "      <th>Training Loss</th>\n",
       "      <th>Validation Loss</th>\n",
       "      <th>Pearson</th>\n",
       "    </tr>\n",
       "  </thead>\n",
       "  <tbody>\n",
       "    <tr>\n",
       "      <td>1</td>\n",
       "      <td>No log</td>\n",
       "      <td>0.028847</td>\n",
       "      <td>0.797446</td>\n",
       "    </tr>\n",
       "    <tr>\n",
       "      <td>2</td>\n",
       "      <td>No log</td>\n",
       "      <td>0.024107</td>\n",
       "      <td>0.813259</td>\n",
       "    </tr>\n",
       "    <tr>\n",
       "      <td>3</td>\n",
       "      <td>0.029800</td>\n",
       "      <td>0.024909</td>\n",
       "      <td>0.817584</td>\n",
       "    </tr>\n",
       "    <tr>\n",
       "      <td>4</td>\n",
       "      <td>0.029800</td>\n",
       "      <td>0.024341</td>\n",
       "      <td>0.819439</td>\n",
       "    </tr>\n",
       "  </tbody>\n",
       "</table><p>"
      ],
      "text/plain": [
       "<IPython.core.display.HTML object>"
      ]
     },
     "metadata": {},
     "output_type": "display_data"
    },
    {
     "data": {
      "text/plain": [
       "TrainOutput(global_step=856, training_loss=0.022847458023891272, metrics={'train_runtime': 103.3675, 'train_samples_per_second': 1058.631, 'train_steps_per_second': 8.281, 'total_flos': 581591382621300.0, 'train_loss': 0.022847458023891272, 'epoch': 4.0})"
      ]
     },
     "execution_count": 178,
     "metadata": {},
     "output_type": "execute_result"
    }
   ],
   "source": [
    "df['inputs'] = df.inputs.str.lower()\n",
    "dds = get_dds(df)\n",
    "get_trainer(dds).train()"
   ]
  },
  {
   "cell_type": "markdown",
   "id": "7bb4f0d0",
   "metadata": {},
   "source": [
    "Is that useful?"
   ]
  },
  {
   "cell_type": "markdown",
   "id": "2b799408",
   "metadata": {},
   "source": [
    "### Special Tokens?"
   ]
  },
  {
   "cell_type": "markdown",
   "id": "f2bba0fe",
   "metadata": {},
   "source": []
  },
  {
   "cell_type": "markdown",
   "id": "8bd8045b",
   "metadata": {},
   "source": [
    "What if we made the patent section a special token? Then potentially the model might learn to recognize that different sections need to be handled in different ways. To do that, we'll use, e.g. [A] for section A. We'll then add those as special tokens"
   ]
  },
  {
   "cell_type": "code",
   "execution_count": 179,
   "id": "3a9db0cc",
   "metadata": {},
   "outputs": [
    {
     "data": {
      "application/vnd.jupyter.widget-view+json": {
       "model_id": "79cd12b0b2f24626bf8ce6b23f70cdee",
       "version_major": 2,
       "version_minor": 0
      },
      "text/plain": [
       "Map:   0%|          | 0/36473 [00:00<?, ? examples/s]"
      ]
     },
     "metadata": {},
     "output_type": "display_data"
    }
   ],
   "source": [
    "df['sectok'] = '[' + df.section + ']'\n",
    "sectoks = list(df.sectok.unique())\n",
    "tokz.add_special_tokens({'additional_special_tokens': sectoks})\n",
    "\n",
    "df['inputs'] = df.sectok + sep + df.context + sep + df.anchor.str.lower() + sep + df.target\n",
    "dds = get_dds(df)"
   ]
  },
  {
   "cell_type": "markdown",
   "id": "65bab47c",
   "metadata": {},
   "source": [
    "Since we've added more tokens, we need to resize the embedding matrix in the model:"
   ]
  },
  {
   "cell_type": "code",
   "execution_count": 180,
   "id": "de819e1b",
   "metadata": {},
   "outputs": [
    {
     "data": {
      "text/plain": [
       "Embedding(128009, 768)"
      ]
     },
     "execution_count": 180,
     "metadata": {},
     "output_type": "execute_result"
    }
   ],
   "source": [
    "model = get_model()\n",
    "model.resize_token_embeddings(len(tokz))"
   ]
  },
  {
   "cell_type": "code",
   "execution_count": 181,
   "id": "33237750",
   "metadata": {},
   "outputs": [
    {
     "data": {
      "text/html": [
       "\n",
       "    <div>\n",
       "      \n",
       "      <progress value='856' max='856' style='width:300px; height:20px; vertical-align: middle;'></progress>\n",
       "      [856/856 01:48, Epoch 4/4]\n",
       "    </div>\n",
       "    <table border=\"1\" class=\"dataframe\">\n",
       "  <thead>\n",
       " <tr style=\"text-align: left;\">\n",
       "      <th>Epoch</th>\n",
       "      <th>Training Loss</th>\n",
       "      <th>Validation Loss</th>\n",
       "      <th>Pearson</th>\n",
       "    </tr>\n",
       "  </thead>\n",
       "  <tbody>\n",
       "    <tr>\n",
       "      <td>1</td>\n",
       "      <td>No log</td>\n",
       "      <td>0.025648</td>\n",
       "      <td>0.806277</td>\n",
       "    </tr>\n",
       "    <tr>\n",
       "      <td>2</td>\n",
       "      <td>No log</td>\n",
       "      <td>0.024142</td>\n",
       "      <td>0.814678</td>\n",
       "    </tr>\n",
       "    <tr>\n",
       "      <td>3</td>\n",
       "      <td>0.029400</td>\n",
       "      <td>0.024194</td>\n",
       "      <td>0.818388</td>\n",
       "    </tr>\n",
       "    <tr>\n",
       "      <td>4</td>\n",
       "      <td>0.029400</td>\n",
       "      <td>0.024192</td>\n",
       "      <td>0.817797</td>\n",
       "    </tr>\n",
       "  </tbody>\n",
       "</table><p>"
      ],
      "text/plain": [
       "<IPython.core.display.HTML object>"
      ]
     },
     "metadata": {},
     "output_type": "display_data"
    },
    {
     "data": {
      "text/plain": [
       "TrainOutput(global_step=856, training_loss=0.02249815085223902, metrics={'train_runtime': 108.6874, 'train_samples_per_second': 1006.814, 'train_steps_per_second': 7.876, 'total_flos': 694840604004180.0, 'train_loss': 0.02249815085223902, 'epoch': 4.0})"
      ]
     },
     "execution_count": 181,
     "metadata": {},
     "output_type": "execute_result"
    }
   ],
   "source": [
    "trainer = get_trainer(dds, model=model)\n",
    "trainer.train()"
   ]
  },
  {
   "cell_type": "code",
   "execution_count": null,
   "id": "861ec3c8",
   "metadata": {},
   "outputs": [],
   "source": []
  },
  {
   "cell_type": "markdown",
   "id": "7325fd3a",
   "metadata": {},
   "source": [
    "Well... it can get worse"
   ]
  },
  {
   "cell_type": "markdown",
   "id": "061cecd1-5c23-492d-aad5-f9c8ae214108",
   "metadata": {},
   "source": [
    "### Keep a single function to apply all the previous inputs"
   ]
  },
  {
   "cell_type": "code",
   "execution_count": 182,
   "id": "4243fd2f-292f-451c-87ab-c849e93b70bc",
   "metadata": {},
   "outputs": [],
   "source": [
    "def preprocess_inputs(df):\n",
    "    sep = \" [s] \"\n",
    "    df['inputs'] = df.context + sep + df.anchor + sep + df.target\n",
    "    df['inputs'] = df.inputs.str.lower()\n",
    "    df['section'] = df.context.str[0]\n",
    "    df['sectok'] = '[' + df.section + ']'\n",
    "    df['inputs'] = df.sectok + sep + df.context + sep + df.anchor.str.lower() + sep + df.target"
   ]
  },
  {
   "cell_type": "code",
   "execution_count": 183,
   "id": "2a037436-f418-4143-a97e-bd47de959916",
   "metadata": {},
   "outputs": [],
   "source": [
    "# it's important to reuse the initial train_df since columns have been modified\n",
    "\n",
    "def get_tok_ds(df):\n",
    "    ds = Dataset.from_pandas(df).rename_column('score', 'label')\n",
    "    return ds.map(tok_func, batched=True, remove_columns=inps+('inputs','id','section'))\n",
    "\n",
    "df = pd.read_csv(dataset_path/'train.csv')\n",
    "preprocess_inputs(df)\n",
    "tok_ds = get_tok_ds(df)"
   ]
  },
  {
   "cell_type": "markdown",
   "id": "e09bdd49",
   "metadata": {},
   "source": [
    "# Cross-Validation"
   ]
  },
  {
   "cell_type": "markdown",
   "id": "7ebe562b-3951-42a5-9c22-b8d9f24acaa6",
   "metadata": {},
   "source": [
    "Cross-validation will help us see the impact of minor changes. We will also use folds to group to separate nachors into non overlapping groups and make better balanced datasets"
   ]
  },
  {
   "cell_type": "code",
   "execution_count": 184,
   "id": "f7a10854-564c-46fe-a0c9-5ea782d95e8f",
   "metadata": {},
   "outputs": [],
   "source": [
    "k_folds = 4"
   ]
  },
  {
   "cell_type": "code",
   "execution_count": 185,
   "id": "0febd137-a448-4425-9234-ff2146151fa6",
   "metadata": {},
   "outputs": [],
   "source": [
    "from sklearn.model_selection import StratifiedGroupKFold\n",
    "cv = StratifiedGroupKFold(n_splits=k_folds)"
   ]
  },
  {
   "cell_type": "markdown",
   "id": "6cd7968f-6049-433a-9c99-2de231b8c664",
   "metadata": {},
   "source": [
    "In summary, the code splits the dataset into 4 groups so that anchors are not split accross folds with a balanced distribution of scores"
   ]
  },
  {
   "cell_type": "code",
   "execution_count": 186,
   "id": "4f976d16-1009-4f75-9b7d-84969b7ee364",
   "metadata": {},
   "outputs": [
    {
     "data": {
      "text/plain": [
       "[(array([    0,     1,     2, ..., 36469, 36471, 36472]),\n",
       "  array([    8,    13,    14, ..., 36453, 36464, 36470])),\n",
       " (array([    0,     1,     5, ..., 36470, 36471, 36472]),\n",
       "  array([    2,     3,     4, ..., 36459, 36461, 36462])),\n",
       " (array([    1,     2,     3, ..., 36467, 36470, 36472]),\n",
       "  array([    0,     7,    11, ..., 36468, 36469, 36471])),\n",
       " (array([    0,     2,     3, ..., 36469, 36470, 36471]),\n",
       "  array([    1,     5,     9, ..., 36465, 36467, 36472]))]"
      ]
     },
     "execution_count": 186,
     "metadata": {},
     "output_type": "execute_result"
    }
   ],
   "source": [
    "df = df.sample(frac=1, random_state=42)\n",
    "scores = (df.score*100).astype(int)\n",
    "folds = list(cv.split(idxs, scores, df.anchor))\n",
    "folds"
   ]
  },
  {
   "cell_type": "code",
   "execution_count": 187,
   "id": "d843658f-6e71-487b-95c9-e20b52e99974",
   "metadata": {},
   "outputs": [],
   "source": [
    "def get_fold(folds, fold_num, tok_ds):\n",
    "    trn,val = folds[fold_num]\n",
    "    return DatasetDict({\"train\":tok_ds.select(trn), \"test\": tok_ds.select(val)})"
   ]
  },
  {
   "cell_type": "code",
   "execution_count": null,
   "id": "ec72d69c",
   "metadata": {},
   "outputs": [],
   "source": [
    "ds = Dataset.from_pandas(df).rename_column('score', 'label')\n",
    "tok_ds = ds.map(tok_func, batched=True, remove_columns=inps+('inputs','id','section'))"
   ]
  },
  {
   "cell_type": "code",
   "execution_count": 188,
   "id": "34362c50-5d18-40c3-a30f-e685085fd476",
   "metadata": {},
   "outputs": [
    {
     "data": {
      "text/plain": [
       "DatasetDict({\n",
       "    train: Dataset({\n",
       "        features: ['label', 'text_length', 'input_ids', 'token_type_ids', 'attention_mask'],\n",
       "        num_rows: 27346\n",
       "    })\n",
       "    test: Dataset({\n",
       "        features: ['label', 'text_length', 'input_ids', 'token_type_ids', 'attention_mask'],\n",
       "        num_rows: 9127\n",
       "    })\n",
       "})"
      ]
     },
     "execution_count": 188,
     "metadata": {},
     "output_type": "execute_result"
    }
   ],
   "source": [
    "dds = get_fold(folds, 0, tok_ds)\n",
    "dds"
   ]
  },
  {
   "cell_type": "code",
   "execution_count": 189,
   "id": "a6733986-3840-4f04-9d2d-e89a687372c5",
   "metadata": {},
   "outputs": [
    {
     "data": {
      "text/html": [
       "\n",
       "    <div>\n",
       "      \n",
       "      <progress value='856' max='856' style='width:300px; height:20px; vertical-align: middle;'></progress>\n",
       "      [856/856 01:37, Epoch 4/4]\n",
       "    </div>\n",
       "    <table border=\"1\" class=\"dataframe\">\n",
       "  <thead>\n",
       " <tr style=\"text-align: left;\">\n",
       "      <th>Epoch</th>\n",
       "      <th>Training Loss</th>\n",
       "      <th>Validation Loss</th>\n",
       "      <th>Pearson</th>\n",
       "    </tr>\n",
       "  </thead>\n",
       "  <tbody>\n",
       "    <tr>\n",
       "      <td>1</td>\n",
       "      <td>No log</td>\n",
       "      <td>0.017373</td>\n",
       "      <td>0.884192</td>\n",
       "    </tr>\n",
       "    <tr>\n",
       "      <td>2</td>\n",
       "      <td>No log</td>\n",
       "      <td>0.014404</td>\n",
       "      <td>0.892301</td>\n",
       "    </tr>\n",
       "    <tr>\n",
       "      <td>3</td>\n",
       "      <td>0.014800</td>\n",
       "      <td>0.013948</td>\n",
       "      <td>0.896640</td>\n",
       "    </tr>\n",
       "    <tr>\n",
       "      <td>4</td>\n",
       "      <td>0.014800</td>\n",
       "      <td>0.013907</td>\n",
       "      <td>0.897284</td>\n",
       "    </tr>\n",
       "  </tbody>\n",
       "</table><p>"
      ],
      "text/plain": [
       "<IPython.core.display.HTML object>"
      ]
     },
     "metadata": {},
     "output_type": "display_data"
    },
    {
     "data": {
      "text/plain": [
       "TrainOutput(global_step=856, training_loss=0.01220536872605297, metrics={'train_runtime': 97.4027, 'train_samples_per_second': 1123.008, 'train_steps_per_second': 8.788, 'total_flos': 472405774461360.0, 'train_loss': 0.01220536872605297, 'epoch': 4.0})"
      ]
     },
     "execution_count": 189,
     "metadata": {},
     "output_type": "execute_result"
    }
   ],
   "source": [
    "trainer = get_trainer(dds = get_fold(folds, 0), model=model)\n",
    "trainer.train()"
   ]
  },
  {
   "cell_type": "markdown",
   "id": "ba4b135d-76fd-4344-b467-bc21a6403a91",
   "metadata": {},
   "source": [
    "### Ensembling"
   ]
  },
  {
   "cell_type": "code",
   "execution_count": 190,
   "id": "6cdeaecd-43f4-45e4-9b42-d0c0aceef7c1",
   "metadata": {},
   "outputs": [
    {
     "data": {
      "text/html": [
       "\n",
       "    <div>\n",
       "      \n",
       "      <progress value='856' max='856' style='width:300px; height:20px; vertical-align: middle;'></progress>\n",
       "      [856/856 01:37, Epoch 4/4]\n",
       "    </div>\n",
       "    <table border=\"1\" class=\"dataframe\">\n",
       "  <thead>\n",
       " <tr style=\"text-align: left;\">\n",
       "      <th>Epoch</th>\n",
       "      <th>Training Loss</th>\n",
       "      <th>Validation Loss</th>\n",
       "      <th>Pearson</th>\n",
       "    </tr>\n",
       "  </thead>\n",
       "  <tbody>\n",
       "    <tr>\n",
       "      <td>1</td>\n",
       "      <td>No log</td>\n",
       "      <td>0.018906</td>\n",
       "      <td>0.883282</td>\n",
       "    </tr>\n",
       "    <tr>\n",
       "      <td>2</td>\n",
       "      <td>No log</td>\n",
       "      <td>0.015802</td>\n",
       "      <td>0.886787</td>\n",
       "    </tr>\n",
       "    <tr>\n",
       "      <td>3</td>\n",
       "      <td>0.006600</td>\n",
       "      <td>0.015039</td>\n",
       "      <td>0.890550</td>\n",
       "    </tr>\n",
       "    <tr>\n",
       "      <td>4</td>\n",
       "      <td>0.006600</td>\n",
       "      <td>0.014657</td>\n",
       "      <td>0.891113</td>\n",
       "    </tr>\n",
       "  </tbody>\n",
       "</table><p>"
      ],
      "text/plain": [
       "<IPython.core.display.HTML object>"
      ]
     },
     "metadata": {},
     "output_type": "display_data"
    },
    {
     "data": {
      "text/html": [
       "\n",
       "    <div>\n",
       "      \n",
       "      <progress value='856' max='856' style='width:300px; height:20px; vertical-align: middle;'></progress>\n",
       "      [856/856 01:37, Epoch 4/4]\n",
       "    </div>\n",
       "    <table border=\"1\" class=\"dataframe\">\n",
       "  <thead>\n",
       " <tr style=\"text-align: left;\">\n",
       "      <th>Epoch</th>\n",
       "      <th>Training Loss</th>\n",
       "      <th>Validation Loss</th>\n",
       "      <th>Pearson</th>\n",
       "    </tr>\n",
       "  </thead>\n",
       "  <tbody>\n",
       "    <tr>\n",
       "      <td>1</td>\n",
       "      <td>No log</td>\n",
       "      <td>0.005936</td>\n",
       "      <td>0.957614</td>\n",
       "    </tr>\n",
       "    <tr>\n",
       "      <td>2</td>\n",
       "      <td>No log</td>\n",
       "      <td>0.005376</td>\n",
       "      <td>0.960000</td>\n",
       "    </tr>\n",
       "    <tr>\n",
       "      <td>3</td>\n",
       "      <td>0.009000</td>\n",
       "      <td>0.005319</td>\n",
       "      <td>0.961351</td>\n",
       "    </tr>\n",
       "    <tr>\n",
       "      <td>4</td>\n",
       "      <td>0.009000</td>\n",
       "      <td>0.005474</td>\n",
       "      <td>0.961713</td>\n",
       "    </tr>\n",
       "  </tbody>\n",
       "</table><p>"
      ],
      "text/plain": [
       "<IPython.core.display.HTML object>"
      ]
     },
     "metadata": {},
     "output_type": "display_data"
    },
    {
     "data": {
      "text/html": [
       "\n",
       "    <div>\n",
       "      \n",
       "      <progress value='856' max='856' style='width:300px; height:20px; vertical-align: middle;'></progress>\n",
       "      [856/856 01:37, Epoch 4/4]\n",
       "    </div>\n",
       "    <table border=\"1\" class=\"dataframe\">\n",
       "  <thead>\n",
       " <tr style=\"text-align: left;\">\n",
       "      <th>Epoch</th>\n",
       "      <th>Training Loss</th>\n",
       "      <th>Validation Loss</th>\n",
       "      <th>Pearson</th>\n",
       "    </tr>\n",
       "  </thead>\n",
       "  <tbody>\n",
       "    <tr>\n",
       "      <td>1</td>\n",
       "      <td>No log</td>\n",
       "      <td>0.006025</td>\n",
       "      <td>0.970031</td>\n",
       "    </tr>\n",
       "    <tr>\n",
       "      <td>2</td>\n",
       "      <td>No log</td>\n",
       "      <td>0.004288</td>\n",
       "      <td>0.969540</td>\n",
       "    </tr>\n",
       "    <tr>\n",
       "      <td>3</td>\n",
       "      <td>0.006700</td>\n",
       "      <td>0.004023</td>\n",
       "      <td>0.972091</td>\n",
       "    </tr>\n",
       "    <tr>\n",
       "      <td>4</td>\n",
       "      <td>0.006700</td>\n",
       "      <td>0.004137</td>\n",
       "      <td>0.971969</td>\n",
       "    </tr>\n",
       "  </tbody>\n",
       "</table><p>"
      ],
      "text/plain": [
       "<IPython.core.display.HTML object>"
      ]
     },
     "metadata": {},
     "output_type": "display_data"
    },
    {
     "data": {
      "text/html": [
       "\n",
       "    <div>\n",
       "      \n",
       "      <progress value='856' max='856' style='width:300px; height:20px; vertical-align: middle;'></progress>\n",
       "      [856/856 01:37, Epoch 4/4]\n",
       "    </div>\n",
       "    <table border=\"1\" class=\"dataframe\">\n",
       "  <thead>\n",
       " <tr style=\"text-align: left;\">\n",
       "      <th>Epoch</th>\n",
       "      <th>Training Loss</th>\n",
       "      <th>Validation Loss</th>\n",
       "      <th>Pearson</th>\n",
       "    </tr>\n",
       "  </thead>\n",
       "  <tbody>\n",
       "    <tr>\n",
       "      <td>1</td>\n",
       "      <td>No log</td>\n",
       "      <td>0.003888</td>\n",
       "      <td>0.975695</td>\n",
       "    </tr>\n",
       "    <tr>\n",
       "      <td>2</td>\n",
       "      <td>No log</td>\n",
       "      <td>0.003884</td>\n",
       "      <td>0.977476</td>\n",
       "    </tr>\n",
       "    <tr>\n",
       "      <td>3</td>\n",
       "      <td>0.005300</td>\n",
       "      <td>0.003351</td>\n",
       "      <td>0.979451</td>\n",
       "    </tr>\n",
       "    <tr>\n",
       "      <td>4</td>\n",
       "      <td>0.005300</td>\n",
       "      <td>0.003177</td>\n",
       "      <td>0.979379</td>\n",
       "    </tr>\n",
       "  </tbody>\n",
       "</table><p>"
      ],
      "text/plain": [
       "<IPython.core.display.HTML object>"
      ]
     },
     "metadata": {},
     "output_type": "display_data"
    },
    {
     "data": {
      "text/plain": [
       "[0.8911131926887729,\n",
       " 0.9617131092299391,\n",
       " 0.9719689256385684,\n",
       " 0.9793787742165388]"
      ]
     },
     "execution_count": 190,
     "metadata": {},
     "output_type": "execute_result"
    }
   ],
   "source": [
    "ensemble = []\n",
    "\n",
    "for i in range(0, k_folds):\n",
    "    trainer = get_trainer(dds = get_fold(folds, i, tok_ds), model=model)\n",
    "    trainer.train()\n",
    "    metrics = [o['eval_pearson'] for o in trainer.state.log_history if 'eval_pearson' in o]\n",
    "    ensemble.append(metrics[-1])\n",
    "\n",
    "ensemble"
   ]
  },
  {
   "cell_type": "markdown",
   "id": "954f85e0-33f3-45f6-b467-a8c9b3a27aee",
   "metadata": {},
   "source": [
    "__Who was the strongest model?__"
   ]
  },
  {
   "cell_type": "code",
   "execution_count": 191,
   "id": "77a0c23a-98f3-44fe-b33d-5e1a41f408dd",
   "metadata": {},
   "outputs": [
    {
     "data": {
      "text/plain": [
       "(3, 0.9793787742165388)"
      ]
     },
     "execution_count": 191,
     "metadata": {},
     "output_type": "execute_result"
    }
   ],
   "source": [
    "strongest_model_index = np.argmax(ensemble)\n",
    "strongest_model_index, np.max(ensemble)"
   ]
  },
  {
   "cell_type": "markdown",
   "id": "5077da69-1ed0-40bc-be19-8cdd46db6a94",
   "metadata": {},
   "source": [
    "# Final Submission"
   ]
  },
  {
   "cell_type": "markdown",
   "id": "3cb353a0-d885-4b63-a4d2-859464ccad92",
   "metadata": {},
   "source": [
    "### Train using the full training set"
   ]
  },
  {
   "cell_type": "code",
   "execution_count": 192,
   "id": "5bfc42cd-da4e-4e15-b078-5e2b01457da9",
   "metadata": {},
   "outputs": [],
   "source": [
    "# how to do that after using cross validation?\n",
    "# I want the improvements that cross validation brought but now on the full training set, how to do that??"
   ]
  },
  {
   "cell_type": "code",
   "execution_count": 193,
   "id": "d6459475-b72d-4903-ae5c-8e7356aedac9",
   "metadata": {},
   "outputs": [
    {
     "data": {
      "text/html": [
       "\n",
       "    <div>\n",
       "      \n",
       "      <progress value='856' max='856' style='width:300px; height:20px; vertical-align: middle;'></progress>\n",
       "      [856/856 01:37, Epoch 4/4]\n",
       "    </div>\n",
       "    <table border=\"1\" class=\"dataframe\">\n",
       "  <thead>\n",
       " <tr style=\"text-align: left;\">\n",
       "      <th>Epoch</th>\n",
       "      <th>Training Loss</th>\n",
       "      <th>Validation Loss</th>\n",
       "      <th>Pearson</th>\n",
       "    </tr>\n",
       "  </thead>\n",
       "  <tbody>\n",
       "    <tr>\n",
       "      <td>1</td>\n",
       "      <td>No log</td>\n",
       "      <td>0.004607</td>\n",
       "      <td>0.967001</td>\n",
       "    </tr>\n",
       "    <tr>\n",
       "      <td>2</td>\n",
       "      <td>No log</td>\n",
       "      <td>0.004472</td>\n",
       "      <td>0.970455</td>\n",
       "    </tr>\n",
       "    <tr>\n",
       "      <td>3</td>\n",
       "      <td>0.002900</td>\n",
       "      <td>0.004103</td>\n",
       "      <td>0.972637</td>\n",
       "    </tr>\n",
       "    <tr>\n",
       "      <td>4</td>\n",
       "      <td>0.002900</td>\n",
       "      <td>0.003955</td>\n",
       "      <td>0.973079</td>\n",
       "    </tr>\n",
       "  </tbody>\n",
       "</table><p>"
      ],
      "text/plain": [
       "<IPython.core.display.HTML object>"
      ]
     },
     "metadata": {},
     "output_type": "display_data"
    },
    {
     "data": {
      "text/plain": [
       "TrainOutput(global_step=856, training_loss=0.002651952903404414, metrics={'train_runtime': 97.4018, 'train_samples_per_second': 1123.347, 'train_steps_per_second': 8.788, 'total_flos': 463299513733320.0, 'train_loss': 0.002651952903404414, 'epoch': 4.0})"
      ]
     },
     "execution_count": 193,
     "metadata": {},
     "output_type": "execute_result"
    }
   ],
   "source": [
    "trainer = get_trainer(dds = get_fold(folds, strongest_model_index, tok_ds), model=model)\n",
    "trainer.train()"
   ]
  },
  {
   "cell_type": "markdown",
   "id": "ad2ae36d-0508-4bbc-b777-0a7eda0a4292",
   "metadata": {},
   "source": [
    "### Important - we need to format the input the same way we did during the training"
   ]
  },
  {
   "cell_type": "code",
   "execution_count": 194,
   "id": "2a43f849-9a98-4a36-a05a-1a66a37046f1",
   "metadata": {},
   "outputs": [
    {
     "data": {
      "application/vnd.jupyter.widget-view+json": {
       "model_id": "b13e75dae43747df8839e31ddbdbb148",
       "version_major": 2,
       "version_minor": 0
      },
      "text/plain": [
       "Map:   0%|          | 0/36 [00:00<?, ? examples/s]"
      ]
     },
     "metadata": {},
     "output_type": "display_data"
    }
   ],
   "source": [
    "eval_df = pd.read_csv(dataset_path/'test.csv')\n",
    "\n",
    "preprocess_inputs(eval_df)\n",
    "\n",
    "eval_ds = Dataset.from_pandas(eval_df).map(tok_func, batched=True)"
   ]
  },
  {
   "cell_type": "markdown",
   "id": "d9b50de7-eaee-4ee3-9df0-e73b691ddd9e",
   "metadata": {},
   "source": [
    "### Predict using strongest model"
   ]
  },
  {
   "cell_type": "code",
   "execution_count": 195,
   "id": "f5b74281-c316-41ad-85f4-9cee35dfaf95",
   "metadata": {},
   "outputs": [
    {
     "data": {
      "text/html": [],
      "text/plain": [
       "<IPython.core.display.HTML object>"
      ]
     },
     "metadata": {},
     "output_type": "display_data"
    },
    {
     "data": {
      "text/plain": [
       "array([[ 0.39453125],\n",
       "       [ 0.64355469],\n",
       "       [ 0.50439453],\n",
       "       [ 0.25219727],\n",
       "       [-0.01068115],\n",
       "       [ 0.50537109],\n",
       "       [ 0.49487305],\n",
       "       [-0.01876831],\n",
       "       [ 0.24279785],\n",
       "       [ 1.04589844],\n",
       "       [ 0.24523926],\n",
       "       [ 0.24389648],\n",
       "       [ 0.76904297],\n",
       "       [ 0.80029297],\n",
       "       [ 0.75585938],\n",
       "       [ 0.23461914],\n",
       "       [ 0.24511719],\n",
       "       [-0.01795959],\n",
       "       [ 0.50244141],\n",
       "       [ 0.50048828],\n",
       "       [ 0.5       ],\n",
       "       [ 0.24841309],\n",
       "       [ 0.24243164],\n",
       "       [ 0.24719238],\n",
       "       [ 0.51123047],\n",
       "       [-0.01026917],\n",
       "       [-0.01029968],\n",
       "       [-0.0111618 ],\n",
       "       [-0.00917816],\n",
       "       [ 0.72998047],\n",
       "       [ 0.23352051],\n",
       "       [-0.01141357],\n",
       "       [ 0.78857422],\n",
       "       [ 0.68505859],\n",
       "       [ 0.24768066],\n",
       "       [ 0.2467041 ]])"
      ]
     },
     "execution_count": 195,
     "metadata": {},
     "output_type": "execute_result"
    }
   ],
   "source": [
    "preds = trainer.predict(eval_ds).predictions.astype(float)\n",
    "preds"
   ]
  },
  {
   "cell_type": "markdown",
   "id": "89fe28fd-29ef-4dac-83d0-78fc158073fa",
   "metadata": {},
   "source": [
    "### Cleaning"
   ]
  },
  {
   "cell_type": "code",
   "execution_count": 196,
   "id": "37b3fe79-6355-4bbe-a1df-19b225933746",
   "metadata": {},
   "outputs": [
    {
     "data": {
      "text/plain": [
       "array([[0.39453125],\n",
       "       [0.64355469],\n",
       "       [0.50439453],\n",
       "       [0.25219727],\n",
       "       [0.        ],\n",
       "       [0.50537109],\n",
       "       [0.49487305],\n",
       "       [0.        ],\n",
       "       [0.24279785],\n",
       "       [1.        ],\n",
       "       [0.24523926],\n",
       "       [0.24389648],\n",
       "       [0.76904297],\n",
       "       [0.80029297],\n",
       "       [0.75585938],\n",
       "       [0.23461914],\n",
       "       [0.24511719],\n",
       "       [0.        ],\n",
       "       [0.50244141],\n",
       "       [0.50048828],\n",
       "       [0.5       ],\n",
       "       [0.24841309],\n",
       "       [0.24243164],\n",
       "       [0.24719238],\n",
       "       [0.51123047],\n",
       "       [0.        ],\n",
       "       [0.        ],\n",
       "       [0.        ],\n",
       "       [0.        ],\n",
       "       [0.72998047],\n",
       "       [0.23352051],\n",
       "       [0.        ],\n",
       "       [0.78857422],\n",
       "       [0.68505859],\n",
       "       [0.24768066],\n",
       "       [0.2467041 ]])"
      ]
     },
     "execution_count": 196,
     "metadata": {},
     "output_type": "execute_result"
    }
   ],
   "source": [
    "preds = np.clip(preds, 0, 1)\n",
    "preds"
   ]
  },
  {
   "cell_type": "code",
   "execution_count": 197,
   "id": "5fc9ed8c-d7d7-4f41-9410-5cb4174545de",
   "metadata": {},
   "outputs": [
    {
     "data": {
      "application/vnd.jupyter.widget-view+json": {
       "model_id": "06a42c93193145f0862154f855eb5c17",
       "version_major": 2,
       "version_minor": 0
      },
      "text/plain": [
       "Creating CSV from Arrow format:   0%|          | 0/1 [00:00<?, ?ba/s]"
      ]
     },
     "metadata": {},
     "output_type": "display_data"
    },
    {
     "data": {
      "text/plain": [
       "Dataset({\n",
       "    features: ['id', 'score'],\n",
       "    num_rows: 36\n",
       "})"
      ]
     },
     "execution_count": 197,
     "metadata": {},
     "output_type": "execute_result"
    }
   ],
   "source": [
    "import datasets\n",
    "\n",
    "submission = datasets.Dataset.from_dict({\n",
    "    'id': eval_ds['id'],\n",
    "    'score': preds.flatten()\n",
    "})\n",
    "\n",
    "submission.to_csv('submission.csv', index=False)\n",
    "submission"
   ]
  }
 ],
 "metadata": {
  "kernelspec": {
   "display_name": "Python 3 (ipykernel)",
   "language": "python",
   "name": "python3"
  },
  "language_info": {
   "codemirror_mode": {
    "name": "ipython",
    "version": 3
   },
   "file_extension": ".py",
   "mimetype": "text/x-python",
   "name": "python",
   "nbconvert_exporter": "python",
   "pygments_lexer": "ipython3",
   "version": "3.11.8"
  }
 },
 "nbformat": 4,
 "nbformat_minor": 5
}
