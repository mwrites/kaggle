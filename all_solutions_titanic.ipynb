{
 "cells": [
  {
   "cell_type": "markdown",
   "metadata": {},
   "source": [
    "# [Kaggle Link](https://www.kaggle.com/competitions)"
   ]
  },
  {
   "cell_type": "markdown",
   "metadata": {},
   "source": [
    "# Prep"
   ]
  },
  {
   "cell_type": "code",
   "execution_count": 1,
   "metadata": {},
   "outputs": [
    {
     "name": "stdout",
     "output_type": "stream",
     "text": [
      "Requirement already satisfied: kagtool in /Users/cactus/miniconda3/envs/fastai/lib/python3.11/site-packages (12.0.2)\n",
      "Requirement already satisfied: pandas in /Users/cactus/miniconda3/envs/fastai/lib/python3.11/site-packages (2.2.1)\n",
      "Requirement already satisfied: matplotlib in /Users/cactus/miniconda3/envs/fastai/lib/python3.11/site-packages (3.8.3)\n",
      "Requirement already satisfied: seaborn in /Users/cactus/miniconda3/envs/fastai/lib/python3.11/site-packages (0.13.2)\n",
      "Requirement already satisfied: scikit-learn in /Users/cactus/miniconda3/envs/fastai/lib/python3.11/site-packages (1.4.1.post1)\n",
      "Requirement already satisfied: kaggle in /Users/cactus/miniconda3/envs/fastai/lib/python3.11/site-packages (1.6.8)\n",
      "Requirement already satisfied: fastai in /Users/cactus/miniconda3/envs/fastai/lib/python3.11/site-packages (2.7.14)\n",
      "Requirement already satisfied: datasets in /Users/cactus/miniconda3/envs/fastai/lib/python3.11/site-packages (2.18.0)\n",
      "Requirement already satisfied: evaluate in /Users/cactus/miniconda3/envs/fastai/lib/python3.11/site-packages (0.4.1)\n",
      "Requirement already satisfied: accelerate in /Users/cactus/miniconda3/envs/fastai/lib/python3.11/site-packages (0.28.0)\n",
      "Requirement already satisfied: protobuf in /Users/cactus/miniconda3/envs/fastai/lib/python3.11/site-packages (5.26.1)\n",
      "Requirement already satisfied: numpy<2,>=1.23.2 in /Users/cactus/miniconda3/envs/fastai/lib/python3.11/site-packages (from pandas) (1.26.4)\n",
      "Requirement already satisfied: python-dateutil>=2.8.2 in /Users/cactus/miniconda3/envs/fastai/lib/python3.11/site-packages (from pandas) (2.9.0)\n",
      "Requirement already satisfied: pytz>=2020.1 in /Users/cactus/miniconda3/envs/fastai/lib/python3.11/site-packages (from pandas) (2023.3.post1)\n",
      "Requirement already satisfied: tzdata>=2022.7 in /Users/cactus/miniconda3/envs/fastai/lib/python3.11/site-packages (from pandas) (2023.3)\n",
      "Requirement already satisfied: contourpy>=1.0.1 in /Users/cactus/miniconda3/envs/fastai/lib/python3.11/site-packages (from matplotlib) (1.2.0)\n",
      "Requirement already satisfied: cycler>=0.10 in /Users/cactus/miniconda3/envs/fastai/lib/python3.11/site-packages (from matplotlib) (0.11.0)\n",
      "Requirement already satisfied: fonttools>=4.22.0 in /Users/cactus/miniconda3/envs/fastai/lib/python3.11/site-packages (from matplotlib) (4.25.0)\n",
      "Requirement already satisfied: kiwisolver>=1.3.1 in /Users/cactus/miniconda3/envs/fastai/lib/python3.11/site-packages (from matplotlib) (1.4.4)\n",
      "Requirement already satisfied: packaging>=20.0 in /Users/cactus/miniconda3/envs/fastai/lib/python3.11/site-packages (from matplotlib) (23.2)\n",
      "Requirement already satisfied: pillow>=8 in /Users/cactus/miniconda3/envs/fastai/lib/python3.11/site-packages (from matplotlib) (10.2.0)\n",
      "Requirement already satisfied: pyparsing>=2.3.1 in /Users/cactus/miniconda3/envs/fastai/lib/python3.11/site-packages (from matplotlib) (3.0.9)\n",
      "Requirement already satisfied: scipy>=1.6.0 in /Users/cactus/miniconda3/envs/fastai/lib/python3.11/site-packages (from scikit-learn) (1.11.4)\n",
      "Requirement already satisfied: joblib>=1.2.0 in /Users/cactus/miniconda3/envs/fastai/lib/python3.11/site-packages (from scikit-learn) (1.2.0)\n",
      "Requirement already satisfied: threadpoolctl>=2.0.0 in /Users/cactus/miniconda3/envs/fastai/lib/python3.11/site-packages (from scikit-learn) (2.2.0)\n",
      "Requirement already satisfied: six>=1.10 in /Users/cactus/miniconda3/envs/fastai/lib/python3.11/site-packages (from kaggle) (1.16.0)\n",
      "Requirement already satisfied: certifi>=2023.7.22 in /Users/cactus/miniconda3/envs/fastai/lib/python3.11/site-packages (from kaggle) (2024.2.2)\n",
      "Requirement already satisfied: requests in /Users/cactus/miniconda3/envs/fastai/lib/python3.11/site-packages (from kaggle) (2.31.0)\n",
      "Requirement already satisfied: tqdm in /Users/cactus/miniconda3/envs/fastai/lib/python3.11/site-packages (from kaggle) (4.65.0)\n",
      "Requirement already satisfied: python-slugify in /Users/cactus/miniconda3/envs/fastai/lib/python3.11/site-packages (from kaggle) (8.0.4)\n",
      "Requirement already satisfied: urllib3 in /Users/cactus/miniconda3/envs/fastai/lib/python3.11/site-packages (from kaggle) (2.1.0)\n",
      "Requirement already satisfied: bleach in /Users/cactus/miniconda3/envs/fastai/lib/python3.11/site-packages (from kaggle) (6.1.0)\n",
      "Requirement already satisfied: pip in /Users/cactus/miniconda3/envs/fastai/lib/python3.11/site-packages (from fastai) (23.3.1)\n",
      "Requirement already satisfied: fastdownload<2,>=0.0.5 in /Users/cactus/miniconda3/envs/fastai/lib/python3.11/site-packages (from fastai) (0.0.7)\n",
      "Requirement already satisfied: fastcore<1.6,>=1.5.29 in /Users/cactus/miniconda3/envs/fastai/lib/python3.11/site-packages (from fastai) (1.5.29)\n",
      "Requirement already satisfied: torchvision>=0.11 in /Users/cactus/miniconda3/envs/fastai/lib/python3.11/site-packages (from fastai) (0.17.1)\n",
      "Requirement already satisfied: pyyaml in /Users/cactus/miniconda3/envs/fastai/lib/python3.11/site-packages (from fastai) (6.0.1)\n",
      "Requirement already satisfied: fastprogress>=0.2.4 in /Users/cactus/miniconda3/envs/fastai/lib/python3.11/site-packages (from fastai) (1.0.3)\n",
      "Requirement already satisfied: spacy<4 in /Users/cactus/miniconda3/envs/fastai/lib/python3.11/site-packages (from fastai) (3.7.2)\n",
      "Requirement already satisfied: torch<2.3,>=1.10 in /Users/cactus/miniconda3/envs/fastai/lib/python3.11/site-packages (from fastai) (2.2.1)\n",
      "Requirement already satisfied: filelock in /Users/cactus/miniconda3/envs/fastai/lib/python3.11/site-packages (from datasets) (3.13.1)\n",
      "Requirement already satisfied: pyarrow>=12.0.0 in /Users/cactus/miniconda3/envs/fastai/lib/python3.11/site-packages (from datasets) (15.0.1)\n",
      "Requirement already satisfied: pyarrow-hotfix in /Users/cactus/miniconda3/envs/fastai/lib/python3.11/site-packages (from datasets) (0.6)\n",
      "Requirement already satisfied: dill<0.3.9,>=0.3.0 in /Users/cactus/miniconda3/envs/fastai/lib/python3.11/site-packages (from datasets) (0.3.8)\n",
      "Requirement already satisfied: xxhash in /Users/cactus/miniconda3/envs/fastai/lib/python3.11/site-packages (from datasets) (3.4.1)\n",
      "Requirement already satisfied: multiprocess in /Users/cactus/miniconda3/envs/fastai/lib/python3.11/site-packages (from datasets) (0.70.16)\n",
      "Requirement already satisfied: fsspec<=2024.2.0,>=2023.1.0 in /Users/cactus/miniconda3/envs/fastai/lib/python3.11/site-packages (from fsspec[http]<=2024.2.0,>=2023.1.0->datasets) (2024.2.0)\n",
      "Requirement already satisfied: aiohttp in /Users/cactus/miniconda3/envs/fastai/lib/python3.11/site-packages (from datasets) (3.9.3)\n",
      "Requirement already satisfied: huggingface-hub>=0.19.4 in /Users/cactus/miniconda3/envs/fastai/lib/python3.11/site-packages (from datasets) (0.21.4)\n"
     ]
    },
    {
     "name": "stdout",
     "output_type": "stream",
     "text": [
      "Requirement already satisfied: responses<0.19 in /Users/cactus/miniconda3/envs/fastai/lib/python3.11/site-packages (from evaluate) (0.18.0)\n",
      "Requirement already satisfied: psutil in /Users/cactus/miniconda3/envs/fastai/lib/python3.11/site-packages (from accelerate) (5.9.0)\n",
      "Requirement already satisfied: safetensors>=0.3.1 in /Users/cactus/miniconda3/envs/fastai/lib/python3.11/site-packages (from accelerate) (0.4.2)\n",
      "Requirement already satisfied: aiosignal>=1.1.2 in /Users/cactus/miniconda3/envs/fastai/lib/python3.11/site-packages (from aiohttp->datasets) (1.3.1)\n",
      "Requirement already satisfied: attrs>=17.3.0 in /Users/cactus/miniconda3/envs/fastai/lib/python3.11/site-packages (from aiohttp->datasets) (23.2.0)\n",
      "Requirement already satisfied: frozenlist>=1.1.1 in /Users/cactus/miniconda3/envs/fastai/lib/python3.11/site-packages (from aiohttp->datasets) (1.4.1)\n",
      "Requirement already satisfied: multidict<7.0,>=4.5 in /Users/cactus/miniconda3/envs/fastai/lib/python3.11/site-packages (from aiohttp->datasets) (6.0.5)\n",
      "Requirement already satisfied: yarl<2.0,>=1.0 in /Users/cactus/miniconda3/envs/fastai/lib/python3.11/site-packages (from aiohttp->datasets) (1.9.4)\n",
      "Requirement already satisfied: typing-extensions>=3.7.4.3 in /Users/cactus/miniconda3/envs/fastai/lib/python3.11/site-packages (from huggingface-hub>=0.19.4->datasets) (4.9.0)\n",
      "Requirement already satisfied: charset-normalizer<4,>=2 in /Users/cactus/miniconda3/envs/fastai/lib/python3.11/site-packages (from requests->kaggle) (2.0.4)\n",
      "Requirement already satisfied: idna<4,>=2.5 in /Users/cactus/miniconda3/envs/fastai/lib/python3.11/site-packages (from requests->kaggle) (3.4)\n",
      "Requirement already satisfied: spacy-legacy<3.1.0,>=3.0.11 in /Users/cactus/miniconda3/envs/fastai/lib/python3.11/site-packages (from spacy<4->fastai) (3.0.12)\n",
      "Requirement already satisfied: spacy-loggers<2.0.0,>=1.0.0 in /Users/cactus/miniconda3/envs/fastai/lib/python3.11/site-packages (from spacy<4->fastai) (1.0.4)\n",
      "Requirement already satisfied: murmurhash<1.1.0,>=0.28.0 in /Users/cactus/miniconda3/envs/fastai/lib/python3.11/site-packages (from spacy<4->fastai) (1.0.7)\n",
      "Requirement already satisfied: cymem<2.1.0,>=2.0.2 in /Users/cactus/miniconda3/envs/fastai/lib/python3.11/site-packages (from spacy<4->fastai) (2.0.6)\n",
      "Requirement already satisfied: preshed<3.1.0,>=3.0.2 in /Users/cactus/miniconda3/envs/fastai/lib/python3.11/site-packages (from spacy<4->fastai) (3.0.6)\n",
      "Requirement already satisfied: thinc<8.3.0,>=8.1.8 in /Users/cactus/miniconda3/envs/fastai/lib/python3.11/site-packages (from spacy<4->fastai) (8.2.2)\n",
      "Requirement already satisfied: wasabi<1.2.0,>=0.9.1 in /Users/cactus/miniconda3/envs/fastai/lib/python3.11/site-packages (from spacy<4->fastai) (0.9.1)\n",
      "Requirement already satisfied: srsly<3.0.0,>=2.4.3 in /Users/cactus/miniconda3/envs/fastai/lib/python3.11/site-packages (from spacy<4->fastai) (2.4.8)\n",
      "Requirement already satisfied: catalogue<2.1.0,>=2.0.6 in /Users/cactus/miniconda3/envs/fastai/lib/python3.11/site-packages (from spacy<4->fastai) (2.0.10)\n",
      "Requirement already satisfied: weasel<0.4.0,>=0.1.0 in /Users/cactus/miniconda3/envs/fastai/lib/python3.11/site-packages (from spacy<4->fastai) (0.3.4)\n",
      "Requirement already satisfied: typer<0.10.0,>=0.3.0 in /Users/cactus/miniconda3/envs/fastai/lib/python3.11/site-packages (from spacy<4->fastai) (0.9.0)\n",
      "Requirement already satisfied: smart-open<7.0.0,>=5.2.1 in /Users/cactus/miniconda3/envs/fastai/lib/python3.11/site-packages (from spacy<4->fastai) (5.2.1)\n",
      "Requirement already satisfied: pydantic!=1.8,!=1.8.1,<3.0.0,>=1.7.4 in /Users/cactus/miniconda3/envs/fastai/lib/python3.11/site-packages (from spacy<4->fastai) (2.5.3)\n",
      "Requirement already satisfied: jinja2 in /Users/cactus/miniconda3/envs/fastai/lib/python3.11/site-packages (from spacy<4->fastai) (3.1.3)\n",
      "Requirement already satisfied: setuptools in /Users/cactus/miniconda3/envs/fastai/lib/python3.11/site-packages (from spacy<4->fastai) (68.2.2)\n",
      "Requirement already satisfied: langcodes<4.0.0,>=3.2.0 in /Users/cactus/miniconda3/envs/fastai/lib/python3.11/site-packages (from spacy<4->fastai) (3.3.0)\n",
      "Requirement already satisfied: sympy in /Users/cactus/miniconda3/envs/fastai/lib/python3.11/site-packages (from torch<2.3,>=1.10->fastai) (1.12)\n",
      "Requirement already satisfied: networkx in /Users/cactus/miniconda3/envs/fastai/lib/python3.11/site-packages (from torch<2.3,>=1.10->fastai) (3.1)\n",
      "Requirement already satisfied: webencodings in /Users/cactus/miniconda3/envs/fastai/lib/python3.11/site-packages (from bleach->kaggle) (0.5.1)\n",
      "Requirement already satisfied: text-unidecode>=1.3 in /Users/cactus/miniconda3/envs/fastai/lib/python3.11/site-packages (from python-slugify->kaggle) (1.3)\n",
      "Requirement already satisfied: annotated-types>=0.4.0 in /Users/cactus/miniconda3/envs/fastai/lib/python3.11/site-packages (from pydantic!=1.8,!=1.8.1,<3.0.0,>=1.7.4->spacy<4->fastai) (0.6.0)\n",
      "Requirement already satisfied: pydantic-core==2.14.6 in /Users/cactus/miniconda3/envs/fastai/lib/python3.11/site-packages (from pydantic!=1.8,!=1.8.1,<3.0.0,>=1.7.4->spacy<4->fastai) (2.14.6)\n",
      "Requirement already satisfied: blis<0.8.0,>=0.7.8 in /Users/cactus/miniconda3/envs/fastai/lib/python3.11/site-packages (from thinc<8.3.0,>=8.1.8->spacy<4->fastai) (0.7.9)\n",
      "Requirement already satisfied: confection<1.0.0,>=0.0.1 in /Users/cactus/miniconda3/envs/fastai/lib/python3.11/site-packages (from thinc<8.3.0,>=8.1.8->spacy<4->fastai) (0.1.4)\n",
      "Requirement already satisfied: click<9.0.0,>=7.1.1 in /Users/cactus/miniconda3/envs/fastai/lib/python3.11/site-packages (from typer<0.10.0,>=0.3.0->spacy<4->fastai) (8.1.7)\n",
      "Requirement already satisfied: cloudpathlib<0.17.0,>=0.7.0 in /Users/cactus/miniconda3/envs/fastai/lib/python3.11/site-packages (from weasel<0.4.0,>=0.1.0->spacy<4->fastai) (0.16.0)\n",
      "Requirement already satisfied: MarkupSafe>=2.0 in /Users/cactus/miniconda3/envs/fastai/lib/python3.11/site-packages (from jinja2->spacy<4->fastai) (2.1.3)\n",
      "Requirement already satisfied: mpmath>=0.19 in /Users/cactus/miniconda3/envs/fastai/lib/python3.11/site-packages (from sympy->torch<2.3,>=1.10->fastai) (1.3.0)\n"
     ]
    }
   ],
   "source": [
    "dependencies = [\n",
    "    \"kagtool\",\n",
    "    \"pandas\",\n",
    "    \"matplotlib\",\n",
    "    \"seaborn\",\n",
    "    \"scikit-learn\",\n",
    "    \"kaggle\",\n",
    "    \"fastai\",\n",
    "    \"datasets\",\n",
    "    \"evaluate\",\n",
    "    \"accelerate\",\n",
    "    \"protobuf\"\n",
    "]\n",
    "\n",
    "!pip install -U {\" \".join(dependencies)}"
   ]
  },
  {
   "cell_type": "code",
   "execution_count": null,
   "metadata": {},
   "outputs": [
    {
     "name": "stdout",
     "output_type": "stream",
     "text": [
      "titanic.zip: Skipping, found more recently modified local copy (use --force to force download)\n"
     ]
    }
   ],
   "source": [
    "from kagtool.datasets.kaggle_downloader import KaggleDownloader\n",
    "\n",
    "dataset_name = 'titanic'\n",
    "# add your username and key here!\n",
    "creds = '{\"username\":\"\",\"key\":\"\"}'\n",
    "\n",
    "dataset_path = KaggleDownloader(dataset_name, creds).load_or_fetch_kaggle_dataset()"
   ]
  },
  {
   "cell_type": "code",
   "execution_count": 3,
   "metadata": {},
   "outputs": [],
   "source": [
    "from fastai.imports import *\n",
    "import numpy as np, pandas as pd\n",
    "import matplotlib.pyplot as plt, seaborn as sns\n",
    "import torch\n",
    "from torch import tensor\n",
    "\n",
    "\n",
    "np.set_printoptions(linewidth=140)\n",
    "torch.set_printoptions(linewidth=140, sci_mode=False, edgeitems=7)\n",
    "pd.set_option('display.width', 140)"
   ]
  },
  {
   "cell_type": "markdown",
   "metadata": {},
   "source": [
    "# Expectations"
   ]
  },
  {
   "cell_type": "markdown",
   "metadata": {},
   "source": [
    "Expected format:\n",
    "- Headers\n",
    "- PassengerId [int]\n",
    "- Survived [0, 1]\n",
    "- No more no less!\n",
    "\n",
    "Metric = accuracy"
   ]
  },
  {
   "cell_type": "markdown",
   "metadata": {},
   "source": [
    "- https://youtu.be/_rXzeWq4C6w?si=OQTFeZApNwujO0Vp&t=1763\n"
   ]
  },
  {
   "cell_type": "markdown",
   "metadata": {},
   "source": [
    "# Plan"
   ]
  },
  {
   "cell_type": "markdown",
   "metadata": {},
   "source": [
    "1. Understand the dataset, put yourself in the head of the customer of your model\n",
    "1. Take a sample of the dataset\n",
    "1. Get an idea of the problem + EDA, get a feel of what is clear and what is not (what will pose pb later?)\n",
    "1. Quick and dirt clean (keep notes of what u did though we will need to fix later)\n",
    "1. Turn the problem into a pattern we solved before\n",
    "1. Get a baseline result\n",
    "1. Come back to preprocessing and do feature engineering"
   ]
  },
  {
   "cell_type": "markdown",
   "metadata": {},
   "source": [
    "# EDA"
   ]
  },
  {
   "cell_type": "code",
   "execution_count": 4,
   "metadata": {},
   "outputs": [],
   "source": [
    "import pandas as pd\n",
    "import matplotlib.pyplot as plt\n",
    "\n",
    "def unique_and_dups(col):\n",
    "    uniqs = col.nunique() / len(col) * 100,\n",
    "    dups = (col.duplicated().sum() / len(col)) * 100\n",
    "    print(uniqs, dups)\n",
    "\n",
    "def plot_text_length(df, col):\n",
    "    df['text_length'] = df[col].apply(len)\n",
    "    length_counts = df['text_length'].value_counts().sort_index(ascending=True)\n",
    "\n",
    "    length_counts.plot(kind='bar', figsize=(10, 6))\n",
    "    plt.xlabel('Text Length')\n",
    "    plt.ylabel('Count')\n",
    "    plt.title('Breakdown of Text Lengths')\n",
    "    plt.show()\n",
    "\n",
    "def display_text_examples_by_length(df, col):\n",
    "    # Step 1: Find the minimum, maximum, and medium length of the text\n",
    "    min_length = df[col].str.len().min()\n",
    "    max_length = df[col].str.len().max()\n",
    "    medium_length = df[col].str.len().median()\n",
    "\n",
    "    # Step 2: Filter the DataFrame to include only the rows with the desired lengths\n",
    "    min_length_rows = df[df[col].str.len() == min_length]\n",
    "    max_length_rows = df[df[col].str.len() == max_length]\n",
    "    medium_length_rows = df[df[col].str.len() == medium_length]\n",
    "\n",
    "    # Step 3: Display the filtered DataFrame\n",
    "    print(\"Examples of minimum length text:\", min_length)\n",
    "    print(min_length_rows[col].tolist()[:5])\n",
    "    print(\"\\nExamples of maximum length text:\", max_length)\n",
    "    print(max_length_rows[col].tolist()[:5])\n",
    "    print(\"\\nExamples of medium length text:\", medium_length)\n",
    "    print(medium_length_rows[col].tolist()[:5])"
   ]
  },
  {
   "cell_type": "code",
   "execution_count": 5,
   "metadata": {},
   "outputs": [
    {
     "data": {
      "text/html": [
       "<div>\n",
       "<style scoped>\n",
       "    .dataframe tbody tr th:only-of-type {\n",
       "        vertical-align: middle;\n",
       "    }\n",
       "\n",
       "    .dataframe tbody tr th {\n",
       "        vertical-align: top;\n",
       "    }\n",
       "\n",
       "    .dataframe thead th {\n",
       "        text-align: right;\n",
       "    }\n",
       "</style>\n",
       "<table border=\"1\" class=\"dataframe\">\n",
       "  <thead>\n",
       "    <tr style=\"text-align: right;\">\n",
       "      <th></th>\n",
       "      <th>PassengerId</th>\n",
       "      <th>Survived</th>\n",
       "      <th>Pclass</th>\n",
       "      <th>Name</th>\n",
       "      <th>Sex</th>\n",
       "      <th>Age</th>\n",
       "      <th>SibSp</th>\n",
       "      <th>Parch</th>\n",
       "      <th>Ticket</th>\n",
       "      <th>Fare</th>\n",
       "      <th>Cabin</th>\n",
       "      <th>Embarked</th>\n",
       "    </tr>\n",
       "  </thead>\n",
       "  <tbody>\n",
       "    <tr>\n",
       "      <th>0</th>\n",
       "      <td>1</td>\n",
       "      <td>0</td>\n",
       "      <td>3</td>\n",
       "      <td>Braund, Mr. Owen Harris</td>\n",
       "      <td>male</td>\n",
       "      <td>22.0</td>\n",
       "      <td>1</td>\n",
       "      <td>0</td>\n",
       "      <td>A/5 21171</td>\n",
       "      <td>7.2500</td>\n",
       "      <td>NaN</td>\n",
       "      <td>S</td>\n",
       "    </tr>\n",
       "    <tr>\n",
       "      <th>1</th>\n",
       "      <td>2</td>\n",
       "      <td>1</td>\n",
       "      <td>1</td>\n",
       "      <td>Cumings, Mrs. John Bradley (Florence Briggs Thayer)</td>\n",
       "      <td>female</td>\n",
       "      <td>38.0</td>\n",
       "      <td>1</td>\n",
       "      <td>0</td>\n",
       "      <td>PC 17599</td>\n",
       "      <td>71.2833</td>\n",
       "      <td>C85</td>\n",
       "      <td>C</td>\n",
       "    </tr>\n",
       "    <tr>\n",
       "      <th>2</th>\n",
       "      <td>3</td>\n",
       "      <td>1</td>\n",
       "      <td>3</td>\n",
       "      <td>Heikkinen, Miss. Laina</td>\n",
       "      <td>female</td>\n",
       "      <td>26.0</td>\n",
       "      <td>0</td>\n",
       "      <td>0</td>\n",
       "      <td>STON/O2. 3101282</td>\n",
       "      <td>7.9250</td>\n",
       "      <td>NaN</td>\n",
       "      <td>S</td>\n",
       "    </tr>\n",
       "    <tr>\n",
       "      <th>3</th>\n",
       "      <td>4</td>\n",
       "      <td>1</td>\n",
       "      <td>1</td>\n",
       "      <td>Futrelle, Mrs. Jacques Heath (Lily May Peel)</td>\n",
       "      <td>female</td>\n",
       "      <td>35.0</td>\n",
       "      <td>1</td>\n",
       "      <td>0</td>\n",
       "      <td>113803</td>\n",
       "      <td>53.1000</td>\n",
       "      <td>C123</td>\n",
       "      <td>S</td>\n",
       "    </tr>\n",
       "    <tr>\n",
       "      <th>4</th>\n",
       "      <td>5</td>\n",
       "      <td>0</td>\n",
       "      <td>3</td>\n",
       "      <td>Allen, Mr. William Henry</td>\n",
       "      <td>male</td>\n",
       "      <td>35.0</td>\n",
       "      <td>0</td>\n",
       "      <td>0</td>\n",
       "      <td>373450</td>\n",
       "      <td>8.0500</td>\n",
       "      <td>NaN</td>\n",
       "      <td>S</td>\n",
       "    </tr>\n",
       "    <tr>\n",
       "      <th>...</th>\n",
       "      <td>...</td>\n",
       "      <td>...</td>\n",
       "      <td>...</td>\n",
       "      <td>...</td>\n",
       "      <td>...</td>\n",
       "      <td>...</td>\n",
       "      <td>...</td>\n",
       "      <td>...</td>\n",
       "      <td>...</td>\n",
       "      <td>...</td>\n",
       "      <td>...</td>\n",
       "      <td>...</td>\n",
       "    </tr>\n",
       "    <tr>\n",
       "      <th>886</th>\n",
       "      <td>887</td>\n",
       "      <td>0</td>\n",
       "      <td>2</td>\n",
       "      <td>Montvila, Rev. Juozas</td>\n",
       "      <td>male</td>\n",
       "      <td>27.0</td>\n",
       "      <td>0</td>\n",
       "      <td>0</td>\n",
       "      <td>211536</td>\n",
       "      <td>13.0000</td>\n",
       "      <td>NaN</td>\n",
       "      <td>S</td>\n",
       "    </tr>\n",
       "    <tr>\n",
       "      <th>887</th>\n",
       "      <td>888</td>\n",
       "      <td>1</td>\n",
       "      <td>1</td>\n",
       "      <td>Graham, Miss. Margaret Edith</td>\n",
       "      <td>female</td>\n",
       "      <td>19.0</td>\n",
       "      <td>0</td>\n",
       "      <td>0</td>\n",
       "      <td>112053</td>\n",
       "      <td>30.0000</td>\n",
       "      <td>B42</td>\n",
       "      <td>S</td>\n",
       "    </tr>\n",
       "    <tr>\n",
       "      <th>888</th>\n",
       "      <td>889</td>\n",
       "      <td>0</td>\n",
       "      <td>3</td>\n",
       "      <td>Johnston, Miss. Catherine Helen \"Carrie\"</td>\n",
       "      <td>female</td>\n",
       "      <td>NaN</td>\n",
       "      <td>1</td>\n",
       "      <td>2</td>\n",
       "      <td>W./C. 6607</td>\n",
       "      <td>23.4500</td>\n",
       "      <td>NaN</td>\n",
       "      <td>S</td>\n",
       "    </tr>\n",
       "    <tr>\n",
       "      <th>889</th>\n",
       "      <td>890</td>\n",
       "      <td>1</td>\n",
       "      <td>1</td>\n",
       "      <td>Behr, Mr. Karl Howell</td>\n",
       "      <td>male</td>\n",
       "      <td>26.0</td>\n",
       "      <td>0</td>\n",
       "      <td>0</td>\n",
       "      <td>111369</td>\n",
       "      <td>30.0000</td>\n",
       "      <td>C148</td>\n",
       "      <td>C</td>\n",
       "    </tr>\n",
       "    <tr>\n",
       "      <th>890</th>\n",
       "      <td>891</td>\n",
       "      <td>0</td>\n",
       "      <td>3</td>\n",
       "      <td>Dooley, Mr. Patrick</td>\n",
       "      <td>male</td>\n",
       "      <td>32.0</td>\n",
       "      <td>0</td>\n",
       "      <td>0</td>\n",
       "      <td>370376</td>\n",
       "      <td>7.7500</td>\n",
       "      <td>NaN</td>\n",
       "      <td>Q</td>\n",
       "    </tr>\n",
       "  </tbody>\n",
       "</table>\n",
       "<p>891 rows × 12 columns</p>\n",
       "</div>"
      ],
      "text/plain": [
       "     PassengerId  Survived  Pclass                                                 Name     Sex   Age  SibSp  Parch            Ticket  \\\n",
       "0              1         0       3                              Braund, Mr. Owen Harris    male  22.0      1      0         A/5 21171   \n",
       "1              2         1       1  Cumings, Mrs. John Bradley (Florence Briggs Thayer)  female  38.0      1      0          PC 17599   \n",
       "2              3         1       3                               Heikkinen, Miss. Laina  female  26.0      0      0  STON/O2. 3101282   \n",
       "3              4         1       1         Futrelle, Mrs. Jacques Heath (Lily May Peel)  female  35.0      1      0            113803   \n",
       "4              5         0       3                             Allen, Mr. William Henry    male  35.0      0      0            373450   \n",
       "..           ...       ...     ...                                                  ...     ...   ...    ...    ...               ...   \n",
       "886          887         0       2                                Montvila, Rev. Juozas    male  27.0      0      0            211536   \n",
       "887          888         1       1                         Graham, Miss. Margaret Edith  female  19.0      0      0            112053   \n",
       "888          889         0       3             Johnston, Miss. Catherine Helen \"Carrie\"  female   NaN      1      2        W./C. 6607   \n",
       "889          890         1       1                                Behr, Mr. Karl Howell    male  26.0      0      0            111369   \n",
       "890          891         0       3                                  Dooley, Mr. Patrick    male  32.0      0      0            370376   \n",
       "\n",
       "        Fare Cabin Embarked  \n",
       "0     7.2500   NaN        S  \n",
       "1    71.2833   C85        C  \n",
       "2     7.9250   NaN        S  \n",
       "3    53.1000  C123        S  \n",
       "4     8.0500   NaN        S  \n",
       "..       ...   ...      ...  \n",
       "886  13.0000   NaN        S  \n",
       "887  30.0000   B42        S  \n",
       "888  23.4500   NaN        S  \n",
       "889  30.0000  C148        C  \n",
       "890   7.7500   NaN        Q  \n",
       "\n",
       "[891 rows x 12 columns]"
      ]
     },
     "execution_count": 5,
     "metadata": {},
     "output_type": "execute_result"
    }
   ],
   "source": [
    "df = pd.read_csv(dataset_path/'train.csv')\n",
    "df"
   ]
  },
  {
   "cell_type": "markdown",
   "metadata": {},
   "source": [
    "__Categories__\n",
    "- SibSp = number of siblings / spouses aboard the titanic\n",
    "- Parch = number of parents / children abord the titatnic\n",
    "- Embarked = Port of Embarkation\n",
    "\n",
    "__Hypothesis__:\n",
    "- Does it help to have people aboard with you or not?\n",
    "- Embarked: tell us about social class? Does social class help with survival?\n",
    "- Ticket class: tell us about social class?\n",
    "- Ticket Fare: also tell us about social class? But also about how many ppl aboard with them maybe, if it's bigger room\n",
    "- Age: Children were prioritized for boats\n",
    "- Gender: Female were also prioritez for boats\n",
    "\n",
    "__Good to know__:\n",
    "- Titatnic had 2224 passengers, we got 891 rows (40% of the passengers list)\n",
    "- 67% of people died\n",
    "- How many boats could the titanic carry?\n",
    "- Look at distrib of social classes \n",
    "- How many men or women aboard?\n",
    "- Distrib by age\n",
    "- Where do people come from mainly? Which Port (onyl 3 ports Cherbourg, Queenstown, Southampton)\n",
    "\n",
    "__Technique__:\n",
    "- How many NA\n",
    "- Which column has smallest range\n",
    "- Which column has biggest range\n",
    "- What are the categorical variables\n",
    "- What can I learn about text columns\n",
    "- Who is the most common person, who is the least common"
   ]
  },
  {
   "cell_type": "markdown",
   "metadata": {},
   "source": [
    "### Missing Values"
   ]
  },
  {
   "cell_type": "markdown",
   "metadata": {},
   "source": [
    "It's important not to just blindly fill the column, but also take note of what columns are missing the most"
   ]
  },
  {
   "cell_type": "code",
   "execution_count": 6,
   "metadata": {},
   "outputs": [
    {
     "data": {
      "text/plain": [
       "PassengerId      0\n",
       "Survived         0\n",
       "Pclass           0\n",
       "Name             0\n",
       "Sex              0\n",
       "Age            177\n",
       "SibSp            0\n",
       "Parch            0\n",
       "Ticket           0\n",
       "Fare             0\n",
       "Cabin          687\n",
       "Embarked         2\n",
       "dtype: int64"
      ]
     },
     "execution_count": 6,
     "metadata": {},
     "output_type": "execute_result"
    }
   ],
   "source": [
    "df.isna().sum()"
   ]
  },
  {
   "cell_type": "code",
   "execution_count": 7,
   "metadata": {},
   "outputs": [
    {
     "data": {
      "text/plain": [
       "0.7710437710437711"
      ]
     },
     "execution_count": 7,
     "metadata": {},
     "output_type": "execute_result"
    }
   ],
   "source": [
    "df.Cabin.isna().sum() / len(df)"
   ]
  },
  {
   "cell_type": "markdown",
   "metadata": {},
   "source": [
    "For almost everyone we dunno whats their cabin!!! We shouldn't drop this column, but keep in mind that this column is not that important."
   ]
  },
  {
   "cell_type": "markdown",
   "metadata": {},
   "source": [
    "### Common Values"
   ]
  },
  {
   "cell_type": "code",
   "execution_count": 8,
   "metadata": {},
   "outputs": [
    {
     "data": {
      "text/plain": [
       "PassengerId                      1\n",
       "Survived                       0.0\n",
       "Pclass                         3.0\n",
       "Name           Abbing, Mr. Anthony\n",
       "Sex                           male\n",
       "Age                           24.0\n",
       "SibSp                          0.0\n",
       "Parch                          0.0\n",
       "Ticket                        1601\n",
       "Fare                          8.05\n",
       "Cabin                      B96 B98\n",
       "Embarked                         S\n",
       "Name: 0, dtype: object"
      ]
     },
     "execution_count": 8,
     "metadata": {},
     "output_type": "execute_result"
    }
   ],
   "source": [
    "modes = df.mode().iloc[0]\n",
    "modes"
   ]
  },
  {
   "cell_type": "markdown",
   "metadata": {},
   "source": [
    "### Fix NA"
   ]
  },
  {
   "cell_type": "code",
   "execution_count": 9,
   "metadata": {},
   "outputs": [
    {
     "data": {
      "text/plain": [
       "PassengerId    0\n",
       "Survived       0\n",
       "Pclass         0\n",
       "Name           0\n",
       "Sex            0\n",
       "Age            0\n",
       "SibSp          0\n",
       "Parch          0\n",
       "Ticket         0\n",
       "Fare           0\n",
       "Cabin          0\n",
       "Embarked       0\n",
       "dtype: int64"
      ]
     },
     "execution_count": 9,
     "metadata": {},
     "output_type": "execute_result"
    }
   ],
   "source": [
    "df.fillna(modes, inplace=True)\n",
    "df.isna().sum()"
   ]
  },
  {
   "cell_type": "code",
   "execution_count": 10,
   "metadata": {},
   "outputs": [
    {
     "data": {
      "text/html": [
       "<div>\n",
       "<style scoped>\n",
       "    .dataframe tbody tr th:only-of-type {\n",
       "        vertical-align: middle;\n",
       "    }\n",
       "\n",
       "    .dataframe tbody tr th {\n",
       "        vertical-align: top;\n",
       "    }\n",
       "\n",
       "    .dataframe thead th {\n",
       "        text-align: right;\n",
       "    }\n",
       "</style>\n",
       "<table border=\"1\" class=\"dataframe\">\n",
       "  <thead>\n",
       "    <tr style=\"text-align: right;\">\n",
       "      <th></th>\n",
       "      <th>PassengerId</th>\n",
       "      <th>Survived</th>\n",
       "      <th>Pclass</th>\n",
       "      <th>Age</th>\n",
       "      <th>SibSp</th>\n",
       "      <th>Parch</th>\n",
       "      <th>Fare</th>\n",
       "    </tr>\n",
       "  </thead>\n",
       "  <tbody>\n",
       "    <tr>\n",
       "      <th>count</th>\n",
       "      <td>891.000000</td>\n",
       "      <td>891.000000</td>\n",
       "      <td>891.000000</td>\n",
       "      <td>891.000000</td>\n",
       "      <td>891.000000</td>\n",
       "      <td>891.000000</td>\n",
       "      <td>891.000000</td>\n",
       "    </tr>\n",
       "    <tr>\n",
       "      <th>mean</th>\n",
       "      <td>446.000000</td>\n",
       "      <td>0.383838</td>\n",
       "      <td>2.308642</td>\n",
       "      <td>28.566970</td>\n",
       "      <td>0.523008</td>\n",
       "      <td>0.381594</td>\n",
       "      <td>32.204208</td>\n",
       "    </tr>\n",
       "    <tr>\n",
       "      <th>std</th>\n",
       "      <td>257.353842</td>\n",
       "      <td>0.486592</td>\n",
       "      <td>0.836071</td>\n",
       "      <td>13.199572</td>\n",
       "      <td>1.102743</td>\n",
       "      <td>0.806057</td>\n",
       "      <td>49.693429</td>\n",
       "    </tr>\n",
       "    <tr>\n",
       "      <th>min</th>\n",
       "      <td>1.000000</td>\n",
       "      <td>0.000000</td>\n",
       "      <td>1.000000</td>\n",
       "      <td>0.420000</td>\n",
       "      <td>0.000000</td>\n",
       "      <td>0.000000</td>\n",
       "      <td>0.000000</td>\n",
       "    </tr>\n",
       "    <tr>\n",
       "      <th>25%</th>\n",
       "      <td>223.500000</td>\n",
       "      <td>0.000000</td>\n",
       "      <td>2.000000</td>\n",
       "      <td>22.000000</td>\n",
       "      <td>0.000000</td>\n",
       "      <td>0.000000</td>\n",
       "      <td>7.910400</td>\n",
       "    </tr>\n",
       "    <tr>\n",
       "      <th>50%</th>\n",
       "      <td>446.000000</td>\n",
       "      <td>0.000000</td>\n",
       "      <td>3.000000</td>\n",
       "      <td>24.000000</td>\n",
       "      <td>0.000000</td>\n",
       "      <td>0.000000</td>\n",
       "      <td>14.454200</td>\n",
       "    </tr>\n",
       "    <tr>\n",
       "      <th>75%</th>\n",
       "      <td>668.500000</td>\n",
       "      <td>1.000000</td>\n",
       "      <td>3.000000</td>\n",
       "      <td>35.000000</td>\n",
       "      <td>1.000000</td>\n",
       "      <td>0.000000</td>\n",
       "      <td>31.000000</td>\n",
       "    </tr>\n",
       "    <tr>\n",
       "      <th>max</th>\n",
       "      <td>891.000000</td>\n",
       "      <td>1.000000</td>\n",
       "      <td>3.000000</td>\n",
       "      <td>80.000000</td>\n",
       "      <td>8.000000</td>\n",
       "      <td>6.000000</td>\n",
       "      <td>512.329200</td>\n",
       "    </tr>\n",
       "  </tbody>\n",
       "</table>\n",
       "</div>"
      ],
      "text/plain": [
       "       PassengerId    Survived      Pclass         Age       SibSp       Parch        Fare\n",
       "count   891.000000  891.000000  891.000000  891.000000  891.000000  891.000000  891.000000\n",
       "mean    446.000000    0.383838    2.308642   28.566970    0.523008    0.381594   32.204208\n",
       "std     257.353842    0.486592    0.836071   13.199572    1.102743    0.806057   49.693429\n",
       "min       1.000000    0.000000    1.000000    0.420000    0.000000    0.000000    0.000000\n",
       "25%     223.500000    0.000000    2.000000   22.000000    0.000000    0.000000    7.910400\n",
       "50%     446.000000    0.000000    3.000000   24.000000    0.000000    0.000000   14.454200\n",
       "75%     668.500000    1.000000    3.000000   35.000000    1.000000    0.000000   31.000000\n",
       "max     891.000000    1.000000    3.000000   80.000000    8.000000    6.000000  512.329200"
      ]
     },
     "execution_count": 10,
     "metadata": {},
     "output_type": "execute_result"
    }
   ],
   "source": [
    "df.describe()"
   ]
  },
  {
   "cell_type": "code",
   "execution_count": 11,
   "metadata": {},
   "outputs": [
    {
     "data": {
      "text/html": [
       "<div>\n",
       "<style scoped>\n",
       "    .dataframe tbody tr th:only-of-type {\n",
       "        vertical-align: middle;\n",
       "    }\n",
       "\n",
       "    .dataframe tbody tr th {\n",
       "        vertical-align: top;\n",
       "    }\n",
       "\n",
       "    .dataframe thead th {\n",
       "        text-align: right;\n",
       "    }\n",
       "</style>\n",
       "<table border=\"1\" class=\"dataframe\">\n",
       "  <thead>\n",
       "    <tr style=\"text-align: right;\">\n",
       "      <th></th>\n",
       "      <th>Name</th>\n",
       "      <th>Sex</th>\n",
       "      <th>Ticket</th>\n",
       "      <th>Cabin</th>\n",
       "      <th>Embarked</th>\n",
       "    </tr>\n",
       "  </thead>\n",
       "  <tbody>\n",
       "    <tr>\n",
       "      <th>count</th>\n",
       "      <td>891</td>\n",
       "      <td>891</td>\n",
       "      <td>891</td>\n",
       "      <td>891</td>\n",
       "      <td>891</td>\n",
       "    </tr>\n",
       "    <tr>\n",
       "      <th>unique</th>\n",
       "      <td>891</td>\n",
       "      <td>2</td>\n",
       "      <td>681</td>\n",
       "      <td>147</td>\n",
       "      <td>3</td>\n",
       "    </tr>\n",
       "    <tr>\n",
       "      <th>top</th>\n",
       "      <td>Braund, Mr. Owen Harris</td>\n",
       "      <td>male</td>\n",
       "      <td>347082</td>\n",
       "      <td>B96 B98</td>\n",
       "      <td>S</td>\n",
       "    </tr>\n",
       "    <tr>\n",
       "      <th>freq</th>\n",
       "      <td>1</td>\n",
       "      <td>577</td>\n",
       "      <td>7</td>\n",
       "      <td>691</td>\n",
       "      <td>646</td>\n",
       "    </tr>\n",
       "  </tbody>\n",
       "</table>\n",
       "</div>"
      ],
      "text/plain": [
       "                           Name   Sex  Ticket    Cabin Embarked\n",
       "count                       891   891     891      891      891\n",
       "unique                      891     2     681      147        3\n",
       "top     Braund, Mr. Owen Harris  male  347082  B96 B98        S\n",
       "freq                          1   577       7      691      646"
      ]
     },
     "execution_count": 11,
     "metadata": {},
     "output_type": "execute_result"
    }
   ],
   "source": [
    "df.describe(include='object')"
   ]
  },
  {
   "cell_type": "code",
   "execution_count": 12,
   "metadata": {},
   "outputs": [
    {
     "data": {
      "text/plain": [
       "<Axes: >"
      ]
     },
     "execution_count": 12,
     "metadata": {},
     "output_type": "execute_result"
    },
    {
     "data": {
      "image/png": "[encoded data removed]",
      "text/plain": [
       "<Figure size 640x480 with 1 Axes>"
      ]
     },
     "metadata": {},
     "output_type": "display_data"
    }
   ],
   "source": [
    "df.Age.hist()"
   ]
  },
  {
   "cell_type": "code",
   "execution_count": 13,
   "metadata": {},
   "outputs": [
    {
     "data": {
      "text/plain": [
       "<Axes: >"
      ]
     },
     "execution_count": 13,
     "metadata": {},
     "output_type": "execute_result"
    },
    {
     "data": {
      "image/png": "[encoded data removed]",
      "text/plain": [
       "<Figure size 640x480 with 1 Axes>"
      ]
     },
     "metadata": {},
     "output_type": "display_data"
    }
   ],
   "source": [
    "df.Sex.hist()"
   ]
  },
  {
   "cell_type": "code",
   "execution_count": 14,
   "metadata": {},
   "outputs": [
    {
     "data": {
      "text/plain": [
       "<Axes: >"
      ]
     },
     "execution_count": 14,
     "metadata": {},
     "output_type": "execute_result"
    },
    {
     "data": {
      "image/png": "[encoded data removed]",
      "text/plain": [
       "<Figure size 640x480 with 1 Axes>"
      ]
     },
     "metadata": {},
     "output_type": "display_data"
    }
   ],
   "source": [
    "df.Embarked.hist()"
   ]
  },
  {
   "cell_type": "markdown",
   "metadata": {},
   "source": [
    "### Create a persona for X\n",
    "- around 18 and 24\n",
    "- Male (2/3 of passengers were male)\n",
    "- Embarked at S"
   ]
  },
  {
   "cell_type": "markdown",
   "metadata": {},
   "source": [
    " ### What does the ideal Persona for Y look like?"
   ]
  },
  {
   "cell_type": "code",
   "execution_count": 15,
   "metadata": {},
   "outputs": [
    {
     "data": {
      "text/html": [
       "<div>\n",
       "<style scoped>\n",
       "    .dataframe tbody tr th:only-of-type {\n",
       "        vertical-align: middle;\n",
       "    }\n",
       "\n",
       "    .dataframe tbody tr th {\n",
       "        vertical-align: top;\n",
       "    }\n",
       "\n",
       "    .dataframe thead th {\n",
       "        text-align: right;\n",
       "    }\n",
       "</style>\n",
       "<table border=\"1\" class=\"dataframe\">\n",
       "  <thead>\n",
       "    <tr style=\"text-align: right;\">\n",
       "      <th></th>\n",
       "      <th>PassengerId</th>\n",
       "      <th>Survived</th>\n",
       "      <th>Pclass</th>\n",
       "      <th>Age</th>\n",
       "      <th>SibSp</th>\n",
       "      <th>Parch</th>\n",
       "      <th>Fare</th>\n",
       "    </tr>\n",
       "  </thead>\n",
       "  <tbody>\n",
       "    <tr>\n",
       "      <th>count</th>\n",
       "      <td>342.000000</td>\n",
       "      <td>342.0</td>\n",
       "      <td>342.000000</td>\n",
       "      <td>342.000000</td>\n",
       "      <td>342.000000</td>\n",
       "      <td>342.000000</td>\n",
       "      <td>342.000000</td>\n",
       "    </tr>\n",
       "    <tr>\n",
       "      <th>mean</th>\n",
       "      <td>444.368421</td>\n",
       "      <td>1.0</td>\n",
       "      <td>1.950292</td>\n",
       "      <td>27.683246</td>\n",
       "      <td>0.473684</td>\n",
       "      <td>0.464912</td>\n",
       "      <td>48.395408</td>\n",
       "    </tr>\n",
       "    <tr>\n",
       "      <th>std</th>\n",
       "      <td>252.358840</td>\n",
       "      <td>0.0</td>\n",
       "      <td>0.863321</td>\n",
       "      <td>13.852214</td>\n",
       "      <td>0.708688</td>\n",
       "      <td>0.771712</td>\n",
       "      <td>66.596998</td>\n",
       "    </tr>\n",
       "    <tr>\n",
       "      <th>min</th>\n",
       "      <td>2.000000</td>\n",
       "      <td>1.0</td>\n",
       "      <td>1.000000</td>\n",
       "      <td>0.420000</td>\n",
       "      <td>0.000000</td>\n",
       "      <td>0.000000</td>\n",
       "      <td>0.000000</td>\n",
       "    </tr>\n",
       "    <tr>\n",
       "      <th>25%</th>\n",
       "      <td>250.750000</td>\n",
       "      <td>1.0</td>\n",
       "      <td>1.000000</td>\n",
       "      <td>21.000000</td>\n",
       "      <td>0.000000</td>\n",
       "      <td>0.000000</td>\n",
       "      <td>12.475000</td>\n",
       "    </tr>\n",
       "    <tr>\n",
       "      <th>50%</th>\n",
       "      <td>439.500000</td>\n",
       "      <td>1.0</td>\n",
       "      <td>2.000000</td>\n",
       "      <td>25.000000</td>\n",
       "      <td>0.000000</td>\n",
       "      <td>0.000000</td>\n",
       "      <td>26.000000</td>\n",
       "    </tr>\n",
       "    <tr>\n",
       "      <th>75%</th>\n",
       "      <td>651.500000</td>\n",
       "      <td>1.0</td>\n",
       "      <td>3.000000</td>\n",
       "      <td>35.000000</td>\n",
       "      <td>1.000000</td>\n",
       "      <td>1.000000</td>\n",
       "      <td>57.000000</td>\n",
       "    </tr>\n",
       "    <tr>\n",
       "      <th>max</th>\n",
       "      <td>890.000000</td>\n",
       "      <td>1.0</td>\n",
       "      <td>3.000000</td>\n",
       "      <td>80.000000</td>\n",
       "      <td>4.000000</td>\n",
       "      <td>5.000000</td>\n",
       "      <td>512.329200</td>\n",
       "    </tr>\n",
       "  </tbody>\n",
       "</table>\n",
       "</div>"
      ],
      "text/plain": [
       "       PassengerId  Survived      Pclass         Age       SibSp       Parch        Fare\n",
       "count   342.000000     342.0  342.000000  342.000000  342.000000  342.000000  342.000000\n",
       "mean    444.368421       1.0    1.950292   27.683246    0.473684    0.464912   48.395408\n",
       "std     252.358840       0.0    0.863321   13.852214    0.708688    0.771712   66.596998\n",
       "min       2.000000       1.0    1.000000    0.420000    0.000000    0.000000    0.000000\n",
       "25%     250.750000       1.0    1.000000   21.000000    0.000000    0.000000   12.475000\n",
       "50%     439.500000       1.0    2.000000   25.000000    0.000000    0.000000   26.000000\n",
       "75%     651.500000       1.0    3.000000   35.000000    1.000000    1.000000   57.000000\n",
       "max     890.000000       1.0    3.000000   80.000000    4.000000    5.000000  512.329200"
      ]
     },
     "execution_count": 15,
     "metadata": {},
     "output_type": "execute_result"
    }
   ],
   "source": [
    "survived_df = df[df.Survived == 1]\n",
    "survived_df.describe()"
   ]
  },
  {
   "cell_type": "code",
   "execution_count": 16,
   "metadata": {},
   "outputs": [
    {
     "data": {
      "image/png": "[encoded data removed]",
      "text/plain": [
       "<Figure size 1400x1000 with 4 Axes>"
      ]
     },
     "metadata": {},
     "output_type": "display_data"
    },
    {
     "data": {
      "image/png": "[encoded data removed]",
      "text/plain": [
       "<Figure size 1000x600 with 1 Axes>"
      ]
     },
     "metadata": {},
     "output_type": "display_data"
    }
   ],
   "source": [
    "#Set the aesthetic style of the plots\n",
    "sns.set_style(\"whitegrid\")\n",
    "\n",
    "#Initialize the figure\n",
    "plt.figure(figsize=(14, 10))\n",
    "\n",
    "#Plot distribution of key variables\n",
    "plt.subplot(2, 2, 1)\n",
    "sns.countplot(x='Survived', data=df)\n",
    "plt.title('Survival Distribution')\n",
    "\n",
    "plt.subplot(2, 2, 2)\n",
    "sns.countplot(x='Pclass', hue='Survived', data=df)\n",
    "plt.title('Passenger Class Distribution by Survival')\n",
    "\n",
    "plt.subplot(2, 2, 3)\n",
    "sns.countplot(x='Sex', hue='Survived', data=df)\n",
    "plt.title('Gender Distribution by Survival')\n",
    "\n",
    "plt.subplot(2, 2, 4)\n",
    "sns.histplot(x='Age', hue='Survived', data=df, kde=True, element='step', bins=30)\n",
    "plt.title('Age Distribution by Survival')\n",
    "\n",
    "\n",
    "plt.figure(figsize=(10, 6))\n",
    "sns.histplot(x='Fare', hue='Survived', data=df, kde=True, element='step', bins=50)\n",
    "plt.title('Fare Distribution by Survival')\n",
    "plt.xlim(0, df['Fare'].quantile(0.95))  # Limiting to 95th percentile for better visualization\n",
    "\n",
    "plt.tight_layout()\n",
    "plt.show()"
   ]
  },
  {
   "cell_type": "markdown",
   "metadata": {},
   "source": [
    "This plot means that the lowest the fare, the biggest difference in survival!"
   ]
  },
  {
   "cell_type": "markdown",
   "metadata": {},
   "source": [
    "# Fixes\n",
    "1. fix na with modes\n",
    "1. categorize text\n",
    "1. normalize"
   ]
  },
  {
   "cell_type": "markdown",
   "metadata": {},
   "source": [
    "### Turning Texts into Categories (Categorify)"
   ]
  },
  {
   "cell_type": "code",
   "execution_count": 17,
   "metadata": {},
   "outputs": [
    {
     "data": {
      "text/html": [
       "<div>\n",
       "<style scoped>\n",
       "    .dataframe tbody tr th:only-of-type {\n",
       "        vertical-align: middle;\n",
       "    }\n",
       "\n",
       "    .dataframe tbody tr th {\n",
       "        vertical-align: top;\n",
       "    }\n",
       "\n",
       "    .dataframe thead th {\n",
       "        text-align: right;\n",
       "    }\n",
       "</style>\n",
       "<table border=\"1\" class=\"dataframe\">\n",
       "  <thead>\n",
       "    <tr style=\"text-align: right;\">\n",
       "      <th></th>\n",
       "      <th>Name</th>\n",
       "      <th>Sex</th>\n",
       "      <th>Ticket</th>\n",
       "      <th>Cabin</th>\n",
       "      <th>Embarked</th>\n",
       "    </tr>\n",
       "  </thead>\n",
       "  <tbody>\n",
       "    <tr>\n",
       "      <th>count</th>\n",
       "      <td>891</td>\n",
       "      <td>891</td>\n",
       "      <td>891</td>\n",
       "      <td>891</td>\n",
       "      <td>891</td>\n",
       "    </tr>\n",
       "    <tr>\n",
       "      <th>unique</th>\n",
       "      <td>891</td>\n",
       "      <td>2</td>\n",
       "      <td>681</td>\n",
       "      <td>147</td>\n",
       "      <td>3</td>\n",
       "    </tr>\n",
       "    <tr>\n",
       "      <th>top</th>\n",
       "      <td>Braund, Mr. Owen Harris</td>\n",
       "      <td>male</td>\n",
       "      <td>347082</td>\n",
       "      <td>B96 B98</td>\n",
       "      <td>S</td>\n",
       "    </tr>\n",
       "    <tr>\n",
       "      <th>freq</th>\n",
       "      <td>1</td>\n",
       "      <td>577</td>\n",
       "      <td>7</td>\n",
       "      <td>691</td>\n",
       "      <td>646</td>\n",
       "    </tr>\n",
       "  </tbody>\n",
       "</table>\n",
       "</div>"
      ],
      "text/plain": [
       "                           Name   Sex  Ticket    Cabin Embarked\n",
       "count                       891   891     891      891      891\n",
       "unique                      891     2     681      147        3\n",
       "top     Braund, Mr. Owen Harris  male  347082  B96 B98        S\n",
       "freq                          1   577       7      691      646"
      ]
     },
     "execution_count": 17,
     "metadata": {},
     "output_type": "execute_result"
    }
   ],
   "source": [
    "df.describe(include=[object])"
   ]
  },
  {
   "cell_type": "code",
   "execution_count": 18,
   "metadata": {},
   "outputs": [
    {
     "data": {
      "text/plain": [
       "Index(['PassengerId', 'Survived', 'Name', 'Age', 'SibSp', 'Parch', 'Ticket', 'Fare', 'Cabin', 'Sex_female', 'Sex_male', 'Pclass_1',\n",
       "       'Pclass_2', 'Pclass_3', 'Embarked_C', 'Embarked_Q', 'Embarked_S'],\n",
       "      dtype='object')"
      ]
     },
     "execution_count": 18,
     "metadata": {},
     "output_type": "execute_result"
    }
   ],
   "source": [
    "df = pd.get_dummies(df, columns=[\"Sex\",\"Pclass\",\"Embarked\"])\n",
    "df.columns"
   ]
  },
  {
   "cell_type": "markdown",
   "metadata": {},
   "source": [
    "### Normalize"
   ]
  },
  {
   "cell_type": "code",
   "execution_count": 19,
   "metadata": {},
   "outputs": [
    {
     "data": {
      "image/png": "[encoded data removed]",
      "text/plain": [
       "<Figure size 640x480 with 1 Axes>"
      ]
     },
     "metadata": {},
     "output_type": "display_data"
    }
   ],
   "source": [
    "df['Fare'].hist();"
   ]
  },
  {
   "cell_type": "code",
   "execution_count": 20,
   "metadata": {},
   "outputs": [],
   "source": [
    "# log(0) is infinite -- to fix this, we'll simply add 1 to all values first:\n",
    "df['LogFare'] = np.log(df['Fare']+1)"
   ]
  },
  {
   "cell_type": "code",
   "execution_count": 21,
   "metadata": {},
   "outputs": [
    {
     "data": {
      "image/png": "[encoded data removed]",
      "text/plain": [
       "<Figure size 640x480 with 1 Axes>"
      ]
     },
     "metadata": {},
     "output_type": "display_data"
    }
   ],
   "source": [
    "df['LogFare'].hist();"
   ]
  },
  {
   "cell_type": "markdown",
   "metadata": {},
   "source": [
    "# How to solve this?"
   ]
  },
  {
   "cell_type": "markdown",
   "metadata": {},
   "source": [
    "The first question to ask yourselves, is what do our model need to do?\n",
    "How will the customer use our model?"
   ]
  },
  {
   "cell_type": "code",
   "execution_count": 22,
   "metadata": {},
   "outputs": [
    {
     "data": {
      "text/html": [
       "<div>\n",
       "<style scoped>\n",
       "    .dataframe tbody tr th:only-of-type {\n",
       "        vertical-align: middle;\n",
       "    }\n",
       "\n",
       "    .dataframe tbody tr th {\n",
       "        vertical-align: top;\n",
       "    }\n",
       "\n",
       "    .dataframe thead th {\n",
       "        text-align: right;\n",
       "    }\n",
       "</style>\n",
       "<table border=\"1\" class=\"dataframe\">\n",
       "  <thead>\n",
       "    <tr style=\"text-align: right;\">\n",
       "      <th></th>\n",
       "      <th>PassengerId</th>\n",
       "      <th>Pclass</th>\n",
       "      <th>Name</th>\n",
       "      <th>Sex</th>\n",
       "      <th>Age</th>\n",
       "      <th>SibSp</th>\n",
       "      <th>Parch</th>\n",
       "      <th>Ticket</th>\n",
       "      <th>Fare</th>\n",
       "      <th>Cabin</th>\n",
       "      <th>Embarked</th>\n",
       "    </tr>\n",
       "  </thead>\n",
       "  <tbody>\n",
       "    <tr>\n",
       "      <th>0</th>\n",
       "      <td>892</td>\n",
       "      <td>3</td>\n",
       "      <td>Kelly, Mr. James</td>\n",
       "      <td>male</td>\n",
       "      <td>34.5</td>\n",
       "      <td>0</td>\n",
       "      <td>0</td>\n",
       "      <td>330911</td>\n",
       "      <td>7.8292</td>\n",
       "      <td>NaN</td>\n",
       "      <td>Q</td>\n",
       "    </tr>\n",
       "    <tr>\n",
       "      <th>1</th>\n",
       "      <td>893</td>\n",
       "      <td>3</td>\n",
       "      <td>Wilkes, Mrs. James (Ellen Needs)</td>\n",
       "      <td>female</td>\n",
       "      <td>47.0</td>\n",
       "      <td>1</td>\n",
       "      <td>0</td>\n",
       "      <td>363272</td>\n",
       "      <td>7.0000</td>\n",
       "      <td>NaN</td>\n",
       "      <td>S</td>\n",
       "    </tr>\n",
       "    <tr>\n",
       "      <th>2</th>\n",
       "      <td>894</td>\n",
       "      <td>2</td>\n",
       "      <td>Myles, Mr. Thomas Francis</td>\n",
       "      <td>male</td>\n",
       "      <td>62.0</td>\n",
       "      <td>0</td>\n",
       "      <td>0</td>\n",
       "      <td>240276</td>\n",
       "      <td>9.6875</td>\n",
       "      <td>NaN</td>\n",
       "      <td>Q</td>\n",
       "    </tr>\n",
       "    <tr>\n",
       "      <th>3</th>\n",
       "      <td>895</td>\n",
       "      <td>3</td>\n",
       "      <td>Wirz, Mr. Albert</td>\n",
       "      <td>male</td>\n",
       "      <td>27.0</td>\n",
       "      <td>0</td>\n",
       "      <td>0</td>\n",
       "      <td>315154</td>\n",
       "      <td>8.6625</td>\n",
       "      <td>NaN</td>\n",
       "      <td>S</td>\n",
       "    </tr>\n",
       "    <tr>\n",
       "      <th>4</th>\n",
       "      <td>896</td>\n",
       "      <td>3</td>\n",
       "      <td>Hirvonen, Mrs. Alexander (Helga E Lindqvist)</td>\n",
       "      <td>female</td>\n",
       "      <td>22.0</td>\n",
       "      <td>1</td>\n",
       "      <td>1</td>\n",
       "      <td>3101298</td>\n",
       "      <td>12.2875</td>\n",
       "      <td>NaN</td>\n",
       "      <td>S</td>\n",
       "    </tr>\n",
       "  </tbody>\n",
       "</table>\n",
       "</div>"
      ],
      "text/plain": [
       "   PassengerId  Pclass                                          Name     Sex   Age  SibSp  Parch   Ticket     Fare Cabin Embarked\n",
       "0          892       3                              Kelly, Mr. James    male  34.5      0      0   330911   7.8292   NaN        Q\n",
       "1          893       3              Wilkes, Mrs. James (Ellen Needs)  female  47.0      1      0   363272   7.0000   NaN        S\n",
       "2          894       2                     Myles, Mr. Thomas Francis    male  62.0      0      0   240276   9.6875   NaN        Q\n",
       "3          895       3                              Wirz, Mr. Albert    male  27.0      0      0   315154   8.6625   NaN        S\n",
       "4          896       3  Hirvonen, Mrs. Alexander (Helga E Lindqvist)  female  22.0      1      1  3101298  12.2875   NaN        S"
      ]
     },
     "execution_count": 22,
     "metadata": {},
     "output_type": "execute_result"
    }
   ],
   "source": [
    "test_df = pd.read_csv(dataset_path/'test.csv')\n",
    "test_df.head()"
   ]
  },
  {
   "cell_type": "markdown",
   "metadata": {},
   "source": [
    "For a given row, we will be given columns, and we need to predict the Survived column.\n",
    "\n",
    "Given some independant variables we need to calculate the dependant variables.\n",
    "\n",
    "So, we got a an equation that looks like:\n",
    "- PassengerId*a, Pclass*b, Name*c = y\n",
    "\n",
    "If we consider independant variables as a matrix or tensor, we got a tensor equation:\n",
    "- ax + b = y\n",
    "\n",
    "This is a linear regression model!\n",
    "- We know a, these will be the row value\n",
    "- We need to figure out the rest\n",
    "\n",
    "For a given row, if we know how important each independant variable, if we can calculate coefficients for each column.\n",
    "\n",
    "Think as a mayor trying to create a road for a village. The village has houses everywhere, and we need to create a house that will fit as many houses as possible.\n",
    "\n",
    "The thing is, we are blind, so we need indicators, to tell us:\n",
    "- from km1 to km5: go 0.5% on the left\n",
    "- from km5 to km10: go 3% on the right\n",
    "- etc\n",
    "\n",
    "These are our coefficients that shapes our road, and if we follow the road, we will find out the answer to the dependant variable Y\n"
   ]
  },
  {
   "cell_type": "markdown",
   "metadata": {},
   "source": [
    "# Exploring how a Linear Model Works"
   ]
  },
  {
   "cell_type": "markdown",
   "metadata": {},
   "source": [
    "### Setup Independant and Dependant Variables"
   ]
  },
  {
   "cell_type": "code",
   "execution_count": 23,
   "metadata": {},
   "outputs": [
    {
     "data": {
      "text/plain": [
       "(torch.Size([891]), tensor([0, 1, 1, 1, 0, 0, 0, 0, 1, 1]))"
      ]
     },
     "execution_count": 23,
     "metadata": {},
     "output_type": "execute_result"
    }
   ],
   "source": [
    "t_dep = tensor(df.Survived)\n",
    "t_dep.shape, t_dep[:10]"
   ]
  },
  {
   "cell_type": "code",
   "execution_count": 24,
   "metadata": {},
   "outputs": [
    {
     "data": {
      "text/plain": [
       "Index(['PassengerId', 'Survived', 'Name', 'Age', 'SibSp', 'Parch', 'Ticket', 'Fare', 'Cabin', 'Sex_female', 'Sex_male', 'Pclass_1',\n",
       "       'Pclass_2', 'Pclass_3', 'Embarked_C', 'Embarked_Q', 'Embarked_S', 'LogFare'],\n",
       "      dtype='object')"
      ]
     },
     "execution_count": 24,
     "metadata": {},
     "output_type": "execute_result"
    }
   ],
   "source": [
    "df.columns"
   ]
  },
  {
   "cell_type": "code",
   "execution_count": 25,
   "metadata": {},
   "outputs": [
    {
     "data": {
      "text/plain": [
       "(torch.Size([891, 12]),\n",
       " tensor([[22.0000,  1.0000,  0.0000,  2.1102,  0.0000,  0.0000,  1.0000,  0.0000,  0.0000,  1.0000,  0.0000,  1.0000],\n",
       "         [38.0000,  1.0000,  0.0000,  4.2806,  1.0000,  0.0000,  0.0000,  1.0000,  0.0000,  0.0000,  1.0000,  0.0000],\n",
       "         [26.0000,  0.0000,  0.0000,  2.1889,  0.0000,  0.0000,  1.0000,  0.0000,  0.0000,  1.0000,  1.0000,  0.0000],\n",
       "         [35.0000,  1.0000,  0.0000,  3.9908,  1.0000,  0.0000,  0.0000,  0.0000,  0.0000,  1.0000,  1.0000,  0.0000],\n",
       "         [35.0000,  0.0000,  0.0000,  2.2028,  0.0000,  0.0000,  1.0000,  0.0000,  0.0000,  1.0000,  0.0000,  1.0000],\n",
       "         [24.0000,  0.0000,  0.0000,  2.2469,  0.0000,  0.0000,  1.0000,  0.0000,  1.0000,  0.0000,  0.0000,  1.0000],\n",
       "         [54.0000,  0.0000,  0.0000,  3.9677,  1.0000,  0.0000,  0.0000,  0.0000,  0.0000,  1.0000,  0.0000,  1.0000],\n",
       "         [ 2.0000,  3.0000,  1.0000,  3.0944,  0.0000,  0.0000,  1.0000,  0.0000,  0.0000,  1.0000,  0.0000,  1.0000],\n",
       "         [27.0000,  0.0000,  2.0000,  2.4960,  0.0000,  0.0000,  1.0000,  0.0000,  0.0000,  1.0000,  1.0000,  0.0000],\n",
       "         [14.0000,  1.0000,  0.0000,  3.4363,  0.0000,  1.0000,  0.0000,  1.0000,  0.0000,  0.0000,  1.0000,  0.0000]]))"
      ]
     },
     "execution_count": 25,
     "metadata": {},
     "output_type": "execute_result"
    }
   ],
   "source": [
    "indep_cols = np.array(['Age', 'SibSp', 'Parch', 'LogFare', 'Pclass_1', 'Pclass_2', 'Pclass_3', 'Embarked_C', 'Embarked_Q', 'Embarked_S', 'Sex_female', 'Sex_male'], dtype=object)\n",
    "t_indep = tensor(df[indep_cols].to_numpy(dtype=np.float32), dtype=torch.float)\n",
    "t_indep.shape, t_indep[:10]\n"
   ]
  },
  {
   "cell_type": "markdown",
   "metadata": {},
   "source": [
    "### Weights"
   ]
  },
  {
   "cell_type": "code",
   "execution_count": 26,
   "metadata": {},
   "outputs": [],
   "source": [
    "# torch.manual_seed(442)"
   ]
  },
  {
   "cell_type": "code",
   "execution_count": 27,
   "metadata": {},
   "outputs": [
    {
     "data": {
      "text/plain": [
       "tensor([ 0.0263,  0.0724,  0.4850, -0.1683,  0.3501, -0.4371, -0.1568,  0.4386,  0.0237, -0.4449, -0.4952,  0.1270])"
      ]
     },
     "execution_count": 27,
     "metadata": {},
     "output_type": "execute_result"
    }
   ],
   "source": [
    "# how many columns do we have?\n",
    "n_coeff = t_indep.shape[1]\n",
    "\n",
    "# we want to center values around 0\n",
    "adjust = 0.5\n",
    "\n",
    "# why rand and not randn?\n",
    "coeffs = torch.rand(n_coeff) - adjust\n",
    "coeffs"
   ]
  },
  {
   "cell_type": "markdown",
   "metadata": {},
   "source": [
    "For each row of the table, we need to multiply each column by a coeff, we can do that with broadcasting (or not). We are just doing element wise multipltication, each column will be multiplied by their own coeffs"
   ]
  },
  {
   "cell_type": "code",
   "execution_count": 28,
   "metadata": {},
   "outputs": [
    {
     "data": {
      "text/plain": [
       "tensor([[ 0.5788,  0.0724,  0.0000, -0.3551,  0.0000, -0.0000, -0.1568,  0.0000,  0.0000, -0.4449, -0.0000,  0.1270],\n",
       "        [ 0.9997,  0.0724,  0.0000, -0.7202,  0.3501, -0.0000, -0.0000,  0.4386,  0.0000, -0.0000, -0.4952,  0.0000],\n",
       "        [ 0.6840,  0.0000,  0.0000, -0.3683,  0.0000, -0.0000, -0.1568,  0.0000,  0.0000, -0.4449, -0.4952,  0.0000],\n",
       "        [ 0.9208,  0.0724,  0.0000, -0.6715,  0.3501, -0.0000, -0.0000,  0.0000,  0.0000, -0.4449, -0.4952,  0.0000],\n",
       "        [ 0.9208,  0.0000,  0.0000, -0.3706,  0.0000, -0.0000, -0.1568,  0.0000,  0.0000, -0.4449, -0.0000,  0.1270],\n",
       "        [ 0.6314,  0.0000,  0.0000, -0.3781,  0.0000, -0.0000, -0.1568,  0.0000,  0.0237, -0.0000, -0.0000,  0.1270],\n",
       "        [ 1.4206,  0.0000,  0.0000, -0.6676,  0.3501, -0.0000, -0.0000,  0.0000,  0.0000, -0.4449, -0.0000,  0.1270],\n",
       "        ...,\n",
       "        [ 0.6577,  0.0000,  0.0000, -0.3509,  0.0000, -0.0000, -0.1568,  0.0000,  0.0000, -0.4449, -0.0000,  0.1270],\n",
       "        [ 1.0260,  0.0000,  2.4251, -0.5730,  0.0000, -0.0000, -0.1568,  0.0000,  0.0237, -0.0000, -0.4952,  0.0000],\n",
       "        [ 0.7103,  0.0000,  0.0000, -0.4440,  0.0000, -0.4371, -0.0000,  0.0000,  0.0000, -0.4449, -0.0000,  0.1270],\n",
       "        [ 0.4999,  0.0000,  0.0000, -0.5778,  0.3501, -0.0000, -0.0000,  0.0000,  0.0000, -0.4449, -0.4952,  0.0000],\n",
       "        [ 0.6314,  0.0724,  0.9700, -0.5378,  0.0000, -0.0000, -0.1568,  0.0000,  0.0000, -0.4449, -0.4952,  0.0000],\n",
       "        [ 0.6840,  0.0000,  0.0000, -0.5778,  0.3501, -0.0000, -0.0000,  0.4386,  0.0000, -0.0000, -0.0000,  0.1270],\n",
       "        [ 0.8419,  0.0000,  0.0000, -0.3650,  0.0000, -0.0000, -0.1568,  0.0000,  0.0237, -0.0000, -0.0000,  0.1270]])"
      ]
     },
     "execution_count": 28,
     "metadata": {},
     "output_type": "execute_result"
    }
   ],
   "source": [
    "t_indep*coeffs"
   ]
  },
  {
   "cell_type": "markdown",
   "metadata": {},
   "source": [
    "### Check for Normalization issues"
   ]
  },
  {
   "cell_type": "markdown",
   "metadata": {},
   "source": [
    "__Which column is unbalanced, which column has the worst standard deviation__"
   ]
  },
  {
   "cell_type": "code",
   "execution_count": 29,
   "metadata": {},
   "outputs": [
    {
     "data": {
      "text/plain": [
       "torch.Size([891, 12])"
      ]
     },
     "execution_count": 29,
     "metadata": {},
     "output_type": "execute_result"
    }
   ],
   "source": [
    "t_indep.shape"
   ]
  },
  {
   "cell_type": "code",
   "execution_count": 30,
   "metadata": {},
   "outputs": [
    {
     "data": {
      "text/plain": [
       "tensor([13.1996,  1.1027,  0.8061,  0.9690,  0.4288,  0.4050,  0.4977,  0.3914,  0.2811,  0.4468,  0.4780,  0.4780])"
      ]
     },
     "execution_count": 30,
     "metadata": {},
     "output_type": "execute_result"
    }
   ],
   "source": [
    "# Calculate the standard deviation for each column\n",
    "std_devs = torch.std(t_indep, dim=0)\n",
    "std_devs"
   ]
  },
  {
   "cell_type": "code",
   "execution_count": 31,
   "metadata": {},
   "outputs": [
    {
     "name": "stdout",
     "output_type": "stream",
     "text": [
      "Column 0 influences the standard deviation the most.\n"
     ]
    }
   ],
   "source": [
    "# Find the column with the maximum standard deviation\n",
    "max_std_dev_column = torch.argmax(std_devs)\n",
    "\n",
    "print(\"Column\", max_std_dev_column.item(), \"influences the standard deviation the most.\")"
   ]
  },
  {
   "cell_type": "markdown",
   "metadata": {},
   "source": [
    "We want to divide each val by its maximum value so that every columns have a similar range, otherwise as we can see the first column will have a much bigger range than other column"
   ]
  },
  {
   "cell_type": "code",
   "execution_count": 32,
   "metadata": {},
   "outputs": [
    {
     "data": {
      "text/plain": [
       "tensor([80.0000,  8.0000,  6.0000,  6.2409,  1.0000,  1.0000,  1.0000,  1.0000,  1.0000,  1.0000,  1.0000,  1.0000])"
      ]
     },
     "execution_count": 32,
     "metadata": {},
     "output_type": "execute_result"
    }
   ],
   "source": [
    "vals,indices = t_indep.max(dim=0)\n",
    "vals"
   ]
  },
  {
   "cell_type": "code",
   "execution_count": 33,
   "metadata": {},
   "outputs": [
    {
     "data": {
      "text/plain": [
       "tensor([[ 0.0072,  0.0090,  0.0000, -0.0569,  0.0000, -0.0000, -0.1568,  0.0000,  0.0000, -0.4449, -0.0000,  0.1270],\n",
       "        [ 0.0125,  0.0090,  0.0000, -0.1154,  0.3501, -0.0000, -0.0000,  0.4386,  0.0000, -0.0000, -0.4952,  0.0000],\n",
       "        [ 0.0086,  0.0000,  0.0000, -0.0590,  0.0000, -0.0000, -0.1568,  0.0000,  0.0000, -0.4449, -0.4952,  0.0000],\n",
       "        [ 0.0115,  0.0090,  0.0000, -0.1076,  0.3501, -0.0000, -0.0000,  0.0000,  0.0000, -0.4449, -0.4952,  0.0000],\n",
       "        [ 0.0115,  0.0000,  0.0000, -0.0594,  0.0000, -0.0000, -0.1568,  0.0000,  0.0000, -0.4449, -0.0000,  0.1270],\n",
       "        [ 0.0079,  0.0000,  0.0000, -0.0606,  0.0000, -0.0000, -0.1568,  0.0000,  0.0237, -0.0000, -0.0000,  0.1270],\n",
       "        [ 0.0178,  0.0000,  0.0000, -0.1070,  0.3501, -0.0000, -0.0000,  0.0000,  0.0000, -0.4449, -0.0000,  0.1270],\n",
       "        ...,\n",
       "        [ 0.0082,  0.0000,  0.0000, -0.0562,  0.0000, -0.0000, -0.1568,  0.0000,  0.0000, -0.4449, -0.0000,  0.1270],\n",
       "        [ 0.0128,  0.0000,  0.4042, -0.0918,  0.0000, -0.0000, -0.1568,  0.0000,  0.0237, -0.0000, -0.4952,  0.0000],\n",
       "        [ 0.0089,  0.0000,  0.0000, -0.0711,  0.0000, -0.4371, -0.0000,  0.0000,  0.0000, -0.4449, -0.0000,  0.1270],\n",
       "        [ 0.0062,  0.0000,  0.0000, -0.0926,  0.3501, -0.0000, -0.0000,  0.0000,  0.0000, -0.4449, -0.4952,  0.0000],\n",
       "        [ 0.0079,  0.0090,  0.1617, -0.0862,  0.0000, -0.0000, -0.1568,  0.0000,  0.0000, -0.4449, -0.4952,  0.0000],\n",
       "        [ 0.0086,  0.0000,  0.0000, -0.0926,  0.3501, -0.0000, -0.0000,  0.4386,  0.0000, -0.0000, -0.0000,  0.1270],\n",
       "        [ 0.0105,  0.0000,  0.0000, -0.0585,  0.0000, -0.0000, -0.1568,  0.0000,  0.0237, -0.0000, -0.0000,  0.1270]])"
      ]
     },
     "execution_count": 33,
     "metadata": {},
     "output_type": "execute_result"
    }
   ],
   "source": [
    "t_indep = t_indep / vals\n",
    "t_indep * coeffs"
   ]
  },
  {
   "cell_type": "code",
   "execution_count": 34,
   "metadata": {},
   "outputs": [
    {
     "data": {
      "text/plain": [
       "tensor([0.1650, 0.1378, 0.1343, 0.1553, 0.4288, 0.4050, 0.4977, 0.3914, 0.2811, 0.4468, 0.4780, 0.4780])"
      ]
     },
     "execution_count": 34,
     "metadata": {},
     "output_type": "execute_result"
    }
   ],
   "source": [
    "torch.std(t_indep, dim=0)"
   ]
  },
  {
   "cell_type": "markdown",
   "metadata": {},
   "source": [
    "much better!"
   ]
  },
  {
   "cell_type": "markdown",
   "metadata": {},
   "source": [
    "### First Loss"
   ]
  },
  {
   "cell_type": "markdown",
   "metadata": {},
   "source": [
    "For each ROW (axis=1), we calculate a survival rate"
   ]
  },
  {
   "cell_type": "code",
   "execution_count": 35,
   "metadata": {},
   "outputs": [
    {
     "data": {
      "text/plain": [
       "tensor([-0.5153,  0.1996, -1.1474, -0.6771, -0.5226, -0.0588, -0.0571, -0.4495, -0.9937, -0.5727])"
      ]
     },
     "execution_count": 35,
     "metadata": {},
     "output_type": "execute_result"
    }
   ],
   "source": [
    "preds = (t_indep*coeffs).sum(axis=1)\n",
    "preds[:10]"
   ]
  },
  {
   "cell_type": "markdown",
   "metadata": {},
   "source": [
    "We compare our predictions to the actual values"
   ]
  },
  {
   "cell_type": "code",
   "execution_count": 36,
   "metadata": {},
   "outputs": [
    {
     "data": {
      "text/plain": [
       "tensor(0.9197)"
      ]
     },
     "execution_count": 36,
     "metadata": {},
     "output_type": "execute_result"
    }
   ],
   "source": [
    "loss = torch.abs(preds-t_dep).mean()\n",
    "loss"
   ]
  },
  {
   "cell_type": "markdown",
   "metadata": {},
   "source": [
    "Cool... we got a 83% rate of error!! Of course, we haven't done anything than multiptly each column by garbage random coeffs.\n",
    "\n",
    "HOWEVER! By being able to compare what we have to actual survival rate, we will be able to know how far we are from the actual target, and adjust the help of gradients, on to next stage: gradient descent!"
   ]
  },
  {
   "cell_type": "code",
   "execution_count": 37,
   "metadata": {},
   "outputs": [],
   "source": [
    "def calc_preds(coeffs, indeps): return (indeps*coeffs).sum(axis=1)\n",
    "def calc_loss(coeffs, indeps, deps): return torch.abs(calc_preds(coeffs, indeps)-deps).mean()"
   ]
  },
  {
   "cell_type": "markdown",
   "metadata": {},
   "source": [
    "### Gradient Descent"
   ]
  },
  {
   "cell_type": "code",
   "execution_count": 38,
   "metadata": {},
   "outputs": [
    {
     "data": {
      "text/plain": [
       "tensor([ 0.0263,  0.0724,  0.4850, -0.1683,  0.3501, -0.4371, -0.1568,  0.4386,  0.0237, -0.4449, -0.4952,  0.1270], requires_grad=True)"
      ]
     },
     "execution_count": 38,
     "metadata": {},
     "output_type": "execute_result"
    }
   ],
   "source": [
    "coeffs.requires_grad_()"
   ]
  },
  {
   "cell_type": "code",
   "execution_count": 39,
   "metadata": {},
   "outputs": [
    {
     "data": {
      "text/plain": [
       "tensor(0.9197, grad_fn=<MeanBackward0>)"
      ]
     },
     "execution_count": 39,
     "metadata": {},
     "output_type": "execute_result"
    }
   ],
   "source": [
    "loss = calc_loss(coeffs, t_indep, t_dep)\n",
    "loss"
   ]
  },
  {
   "cell_type": "markdown",
   "metadata": {},
   "source": [
    "Magic thing that give us gradients: this creates compasses for every steps (differential operations) that we took:"
   ]
  },
  {
   "cell_type": "code",
   "execution_count": 40,
   "metadata": {},
   "outputs": [],
   "source": [
    "loss.backward()"
   ]
  },
  {
   "cell_type": "markdown",
   "metadata": {},
   "source": [
    "Look at the compaces:"
   ]
  },
  {
   "cell_type": "code",
   "execution_count": 41,
   "metadata": {},
   "outputs": [
    {
     "data": {
      "text/plain": [
       "tensor([-0.2822, -0.0542, -0.0527, -0.3828, -0.1571, -0.1886, -0.4658, -0.0382, -0.0730, -0.7003, -0.3502, -0.4613])"
      ]
     },
     "execution_count": 41,
     "metadata": {},
     "output_type": "execute_result"
    }
   ],
   "source": [
    "coeffs.grad"
   ]
  },
  {
   "cell_type": "markdown",
   "metadata": {},
   "source": [
    "Let's try the above step again, let's do another descent!"
   ]
  },
  {
   "cell_type": "code",
   "execution_count": 42,
   "metadata": {},
   "outputs": [
    {
     "data": {
      "text/plain": [
       "tensor([-0.5645, -0.1083, -0.1055, -0.7655, -0.3143, -0.3771, -0.9315, -0.0763, -0.1459, -1.4007, -0.7003, -0.9226])"
      ]
     },
     "execution_count": 42,
     "metadata": {},
     "output_type": "execute_result"
    }
   ],
   "source": [
    "loss = calc_loss(coeffs, t_indep, t_dep)\n",
    "loss.backward()\n",
    "coeffs.grad"
   ]
  },
  {
   "cell_type": "markdown",
   "metadata": {},
   "source": [
    "We should not accumulate gradients so we should reset at each descent!"
   ]
  },
  {
   "cell_type": "code",
   "execution_count": 43,
   "metadata": {},
   "outputs": [
    {
     "name": "stdout",
     "output_type": "stream",
     "text": [
      "tensor(0.6174)\n"
     ]
    }
   ],
   "source": [
    "loss = calc_loss(coeffs, t_indep, t_dep)\n",
    "loss.backward()\n",
    "with torch.no_grad():\n",
    "    coeffs.sub_(coeffs.grad * 0.1)\n",
    "    coeffs.grad.zero_()\n",
    "    print(calc_loss(coeffs, t_indep, t_dep))"
   ]
  },
  {
   "cell_type": "markdown",
   "metadata": {},
   "source": [
    "Let's do this multiple times"
   ]
  },
  {
   "cell_type": "code",
   "execution_count": 44,
   "metadata": {},
   "outputs": [
    {
     "name": "stdout",
     "output_type": "stream",
     "text": [
      "tensor(0.5937)\n",
      "tensor(0.5726)\n",
      "tensor(0.5520)\n",
      "tensor(0.5340)\n",
      "tensor(0.5104)\n",
      "tensor(0.4877)\n",
      "tensor(0.4678)\n",
      "tensor(0.4506)\n",
      "tensor(0.4354)\n",
      "tensor(0.4137)\n"
     ]
    }
   ],
   "source": [
    "for i in range(0, 10):\n",
    "    loss = calc_loss(coeffs, t_indep, t_dep)\n",
    "    loss.backward()\n",
    "    with torch.no_grad():\n",
    "        coeffs.sub_(coeffs.grad * 0.1)\n",
    "        coeffs.grad.zero_()\n",
    "        print(calc_loss(coeffs, t_indep, t_dep))"
   ]
  },
  {
   "cell_type": "markdown",
   "metadata": {},
   "source": [
    "It's improving! Meaning loss is descreasing and we are getting closer to our target Y"
   ]
  },
  {
   "cell_type": "markdown",
   "metadata": {},
   "source": [
    "# Getting Real - Training a Linear Model"
   ]
  },
  {
   "cell_type": "markdown",
   "metadata": {},
   "source": [
    "### Summary of our Preprocess"
   ]
  },
  {
   "cell_type": "code",
   "execution_count": 45,
   "metadata": {},
   "outputs": [],
   "source": [
    "def preprocess_df_into_indeps_vars(df):\n",
    "    df['Fare'] = df.Fare.fillna(0)\n",
    "    df.fillna(modes, inplace=True)\n",
    "\n",
    "\n",
    "    df['LogFare'] = np.log(df['Fare']+1)\n",
    "    df = pd.get_dummies(df, columns=[\"Sex\",\"Pclass\",\"Embarked\"])\n",
    "\n",
    "    indep_cols = np.array(['Age', 'SibSp', 'Parch', 'LogFare', 'Pclass_1', 'Pclass_2', 'Pclass_3', 'Embarked_C', 'Embarked_Q', 'Embarked_S', 'Sex_female', 'Sex_male'], dtype=object)\n",
    "    indeps = tensor(df[indep_cols].to_numpy(dtype=np.float32), dtype=torch.float)\n",
    "    indeps = indeps / vals\n",
    "    return indeps\n"
   ]
  },
  {
   "cell_type": "markdown",
   "metadata": {},
   "source": [
    "### Validation Set"
   ]
  },
  {
   "cell_type": "markdown",
   "metadata": {},
   "source": [
    "Before training a model, we should should make sure to hold a validation set.\n",
    "The validation set is here to help us see how well the model generalizes with unseen data. We will use a metric to calculate this.\n",
    "\n",
    "But first, let's decide how to split the validation set. The data is not time sensitive, every rows are independant, so we can safely do a rand. (we can revisit later if there's a better split when iterating)"
   ]
  },
  {
   "cell_type": "code",
   "execution_count": 46,
   "metadata": {},
   "outputs": [],
   "source": [
    "from fastai.data.transforms import RandomSplitter\n",
    "trn_split,val_split=RandomSplitter(seed=42)(df)"
   ]
  },
  {
   "cell_type": "code",
   "execution_count": 47,
   "metadata": {},
   "outputs": [
    {
     "data": {
      "text/plain": [
       "(713, 178)"
      ]
     },
     "execution_count": 47,
     "metadata": {},
     "output_type": "execute_result"
    }
   ],
   "source": [
    "trn_indep,val_indep = t_indep[trn_split],t_indep[val_split]\n",
    "trn_dep,val_dep = t_dep[trn_split],t_dep[val_split]\n",
    "len(trn_indep),len(val_indep)"
   ]
  },
  {
   "cell_type": "markdown",
   "metadata": {},
   "source": [
    "### Metric"
   ]
  },
  {
   "cell_type": "markdown",
   "metadata": {},
   "source": [
    "We need a way to calculate how well the model is doing its job. The cost function was used to help the model converge, but we still need a way to calculate the quality of the model, especially on a unseen data."
   ]
  },
  {
   "cell_type": "markdown",
   "metadata": {},
   "source": [
    "First we need to apply the model to new unseen rows"
   ]
  },
  {
   "cell_type": "code",
   "execution_count": 48,
   "metadata": {},
   "outputs": [
    {
     "data": {
      "text/plain": [
       "tensor([-0.1691,  0.1243,  0.5115, -0.1028, -0.0998, -0.0685,  0.3875, -0.2711,  0.2153,  0.4392], grad_fn=<SliceBackward0>)"
      ]
     },
     "execution_count": 48,
     "metadata": {},
     "output_type": "execute_result"
    }
   ],
   "source": [
    "# NOTE THE USE OF VAL_INDEP THIS TIME INSTEAD OF T_INDEP\n",
    "preds = calc_preds(coeffs, val_indep)\n",
    "preds[:10]"
   ]
  },
  {
   "cell_type": "markdown",
   "metadata": {},
   "source": [
    "Then we compare the results to the actual Y (the Survived columns), this is how we get a tensor that represent the Survived column"
   ]
  },
  {
   "cell_type": "code",
   "execution_count": 49,
   "metadata": {},
   "outputs": [
    {
     "data": {
      "text/plain": [
       "tensor([1, 0, 0, 0, 0, 0, 1, 1, 0, 1, 1, 1, 1, 1, 0, 1, 0, 1, 0, 1, 0, 0, 1, 1, 0, 0, 1, 0, 0, 1, 1, 0, 0, 0, 1, 0, 0, 1, 0, 0, 1, 0, 0, 1,\n",
       "        0, 0, 1, 0, 0, 1, 0, 0, 0, 0, 0, 0, 0, 0, 0, 0, 0, 0, 1, 0, 0, 0, 0, 0, 0, 1, 0, 0, 0, 0, 0, 0, 0, 1, 0, 0, 1, 1, 0, 0, 1, 0, 0, 1,\n",
       "        1, 0, 0, 0, 1, 0, 1, 0, 0, 1, 1, 0, 0, 1, 0, 0, 1, 1, 1, 1, 1, 0, 1, 0, 1, 1, 0, 1, 0, 0, 0, 1, 0, 1, 0, 1, 0, 0, 0, 1, 0, 0, 1, 0,\n",
       "        1, 1, 1, 1, 0, 0, 0, 1, 0, 1, 0, 0, 0, 1, 0, 1, 1, 0, 0, 0, 1, 0, 1, 0, 0, 0, 1, 0, 1, 0, 0, 1, 1, 1, 1, 1, 0, 0, 0, 0, 1, 0, 1, 1,\n",
       "        1, 1])"
      ]
     },
     "execution_count": 49,
     "metadata": {},
     "output_type": "execute_result"
    }
   ],
   "source": [
    "val_dep"
   ]
  },
  {
   "cell_type": "markdown",
   "metadata": {},
   "source": [
    "The competition says that a score 0 = death, 1 = survival.\n",
    "So we need to make our values converge to either 0 or 1.\n",
    "\n",
    "Let's use panda to take a look at our predictions (proposed Survival rate) for each rows"
   ]
  },
  {
   "cell_type": "code",
   "execution_count": 50,
   "metadata": {},
   "outputs": [
    {
     "data": {
      "text/html": [
       "<div>\n",
       "<style scoped>\n",
       "    .dataframe tbody tr th:only-of-type {\n",
       "        vertical-align: middle;\n",
       "    }\n",
       "\n",
       "    .dataframe tbody tr th {\n",
       "        vertical-align: top;\n",
       "    }\n",
       "\n",
       "    .dataframe thead th {\n",
       "        text-align: right;\n",
       "    }\n",
       "</style>\n",
       "<table border=\"1\" class=\"dataframe\">\n",
       "  <thead>\n",
       "    <tr style=\"text-align: right;\">\n",
       "      <th></th>\n",
       "      <th>0</th>\n",
       "    </tr>\n",
       "  </thead>\n",
       "  <tbody>\n",
       "    <tr>\n",
       "      <th>count</th>\n",
       "      <td>178.000000</td>\n",
       "    </tr>\n",
       "    <tr>\n",
       "      <th>mean</th>\n",
       "      <td>0.188576</td>\n",
       "    </tr>\n",
       "    <tr>\n",
       "      <th>std</th>\n",
       "      <td>0.341869</td>\n",
       "    </tr>\n",
       "    <tr>\n",
       "      <th>min</th>\n",
       "      <td>-0.285073</td>\n",
       "    </tr>\n",
       "    <tr>\n",
       "      <th>25%</th>\n",
       "      <td>-0.051550</td>\n",
       "    </tr>\n",
       "    <tr>\n",
       "      <th>50%</th>\n",
       "      <td>0.031067</td>\n",
       "    </tr>\n",
       "    <tr>\n",
       "      <th>75%</th>\n",
       "      <td>0.437913</td>\n",
       "    </tr>\n",
       "    <tr>\n",
       "      <th>max</th>\n",
       "      <td>1.188872</td>\n",
       "    </tr>\n",
       "  </tbody>\n",
       "</table>\n",
       "</div>"
      ],
      "text/plain": [
       "                0\n",
       "count  178.000000\n",
       "mean     0.188576\n",
       "std      0.341869\n",
       "min     -0.285073\n",
       "25%     -0.051550\n",
       "50%      0.031067\n",
       "75%      0.437913\n",
       "max      1.188872"
      ]
     },
     "execution_count": 50,
     "metadata": {},
     "output_type": "execute_result"
    }
   ],
   "source": [
    "preds_df = pd.DataFrame(preds)\n",
    "preds_df.describe()\n"
   ]
  },
  {
   "cell_type": "markdown",
   "metadata": {},
   "source": [
    "We got negative, values, that's not what we want, we want to make the predictions converge to either 0 or 1, we can use a squashing function like sigmoid to do that.\n",
    "\n",
    " To fix this, we should pass every prediction through the sigmoid function, which has a minimum at zero and maximum at one, and is defined as follows:"
   ]
  },
  {
   "cell_type": "code",
   "execution_count": 51,
   "metadata": {},
   "outputs": [
    {
     "data": {
      "text/plain": [
       "tensor([0.4578, 0.5310, 0.6252, 0.4743, 0.4751, 0.4829, 0.5957, 0.4326, 0.5536, 0.6081], grad_fn=<SliceBackward0>)"
      ]
     },
     "execution_count": 51,
     "metadata": {},
     "output_type": "execute_result"
    }
   ],
   "source": [
    "# previous this is how we defined our Survived result\n",
    "# survival_rate = (coeffs * val_indep).sum(axis=1)\n",
    "\n",
    "# We now use sigmoid to make the rate converge to either 0 or 1\n",
    "def calc_preds(coeffs, indeps): return torch.sigmoid((indeps*coeffs).sum(axis=1))\n",
    "\n",
    "# let's check the first 10 rows\n",
    "calc_preds(coeffs, val_indep)[:10]"
   ]
  },
  {
   "cell_type": "code",
   "execution_count": 52,
   "metadata": {},
   "outputs": [
    {
     "data": {
      "text/html": [
       "<div>\n",
       "<style scoped>\n",
       "    .dataframe tbody tr th:only-of-type {\n",
       "        vertical-align: middle;\n",
       "    }\n",
       "\n",
       "    .dataframe tbody tr th {\n",
       "        vertical-align: top;\n",
       "    }\n",
       "\n",
       "    .dataframe thead th {\n",
       "        text-align: right;\n",
       "    }\n",
       "</style>\n",
       "<table border=\"1\" class=\"dataframe\">\n",
       "  <thead>\n",
       "    <tr style=\"text-align: right;\">\n",
       "      <th></th>\n",
       "      <th>0</th>\n",
       "    </tr>\n",
       "  </thead>\n",
       "  <tbody>\n",
       "    <tr>\n",
       "      <th>count</th>\n",
       "      <td>178.000000</td>\n",
       "    </tr>\n",
       "    <tr>\n",
       "      <th>mean</th>\n",
       "      <td>0.544978</td>\n",
       "    </tr>\n",
       "    <tr>\n",
       "      <th>std</th>\n",
       "      <td>0.081224</td>\n",
       "    </tr>\n",
       "    <tr>\n",
       "      <th>min</th>\n",
       "      <td>0.429210</td>\n",
       "    </tr>\n",
       "    <tr>\n",
       "      <th>25%</th>\n",
       "      <td>0.487115</td>\n",
       "    </tr>\n",
       "    <tr>\n",
       "      <th>50%</th>\n",
       "      <td>0.507766</td>\n",
       "    </tr>\n",
       "    <tr>\n",
       "      <th>75%</th>\n",
       "      <td>0.607761</td>\n",
       "    </tr>\n",
       "    <tr>\n",
       "      <th>max</th>\n",
       "      <td>0.766539</td>\n",
       "    </tr>\n",
       "  </tbody>\n",
       "</table>\n",
       "</div>"
      ],
      "text/plain": [
       "                0\n",
       "count  178.000000\n",
       "mean     0.544978\n",
       "std      0.081224\n",
       "min      0.429210\n",
       "25%      0.487115\n",
       "50%      0.507766\n",
       "75%      0.607761\n",
       "max      0.766539"
      ]
     },
     "execution_count": 52,
     "metadata": {},
     "output_type": "execute_result"
    }
   ],
   "source": [
    "preds_df = pd.DataFrame(calc_preds(coeffs, val_indep))\n",
    "preds_df.describe()"
   ]
  },
  {
   "cell_type": "markdown",
   "metadata": {},
   "source": [
    "we got rid of negative values, std is much lower as well"
   ]
  },
  {
   "cell_type": "markdown",
   "metadata": {},
   "source": [
    "We can now define our accuracy metric, we will consider that over 0.5 means survived"
   ]
  },
  {
   "cell_type": "code",
   "execution_count": 53,
   "metadata": {},
   "outputs": [],
   "source": [
    "def acc(w):\n",
    "     with torch.no_grad():\n",
    "        return (val_dep.bool()==(calc_preds(w, val_indep)>0.5)).float().mean()"
   ]
  },
  {
   "cell_type": "markdown",
   "metadata": {},
   "source": [
    "### Trainer Steps"
   ]
  },
  {
   "cell_type": "markdown",
   "metadata": {},
   "source": [
    "Training a model consists of 2 steps:\n",
    "1. init coeffs\n",
    "2. run the optimizer (gradient descent)\n",
    "\n",
    "The optimizer does 4 things:\n",
    "1. calculate loss\n",
    "2. calculate gradients\n",
    "3. update coeffs according to gradients\n",
    "4. rinse and repeat"
   ]
  },
  {
   "cell_type": "code",
   "execution_count": 54,
   "metadata": {},
   "outputs": [],
   "source": [
    "def gradient_descent(coeffs, epochs, lr, trn_indep, trn_dep):\n",
    "    for i in range(epochs):\n",
    "        loss = calc_loss(coeffs, trn_indep, trn_dep)\n",
    "\n",
    "        # calc gradients\n",
    "        loss.backward()\n",
    "        with torch.no_grad():\n",
    "            # update coeffs\n",
    "            coeffs.sub_(coeffs.grad * lr)\n",
    "            coeffs.grad.zero_()\n",
    "        print(f'Epoch {i+1}: {loss.item()}')\n",
    "\n",
    "def init_coeffs(): return torch.rand(n_coeff).requires_grad_()\n",
    "\n",
    "def train_model(epochs, lr, trn_indep, trn_dep):\n",
    "    coeffs = init_coeffs()\n",
    "    gradient_descent(coeffs, epochs, lr, trn_indep, trn_dep)\n",
    "    return coeffs"
   ]
  },
  {
   "cell_type": "code",
   "execution_count": 55,
   "metadata": {},
   "outputs": [
    {
     "name": "stdout",
     "output_type": "stream",
     "text": [
      "Epoch 1: 0.581784725189209\n",
      "Epoch 2: 0.2844052016735077\n",
      "Epoch 3: 0.25080952048301697\n",
      "Epoch 4: 0.21009407937526703\n",
      "Epoch 5: 0.20616939663887024\n",
      "Epoch 6: 0.20375148952007294\n",
      "Epoch 7: 0.20207370817661285\n",
      "Epoch 8: 0.20085595548152924\n",
      "Epoch 9: 0.19993411004543304\n",
      "Epoch 10: 0.19921398162841797\n",
      "Epoch 11: 0.19863606989383698\n",
      "Epoch 12: 0.19816216826438904\n",
      "Epoch 13: 0.19776633381843567\n",
      "Epoch 14: 0.19743044674396515\n",
      "Epoch 15: 0.1971413493156433\n",
      "Epoch 16: 0.19688935577869415\n",
      "Epoch 17: 0.19666725397109985\n",
      "Epoch 18: 0.19646961987018585\n"
     ]
    }
   ],
   "source": [
    "trained_coeffs = train_model(18, lr=100, trn_indep=trn_indep, trn_dep=trn_dep)"
   ]
  },
  {
   "cell_type": "markdown",
   "metadata": {},
   "source": [
    "Let's take a look at the coeffs"
   ]
  },
  {
   "cell_type": "code",
   "execution_count": 56,
   "metadata": {},
   "outputs": [
    {
     "data": {
      "text/plain": [
       "{'Age': tensor(-0.8275),\n",
       " 'SibSp': tensor(-1.0359),\n",
       " 'Parch': tensor(-0.4203),\n",
       " 'LogFare': tensor(0.1073),\n",
       " 'Pclass_1': tensor(2.3856),\n",
       " 'Pclass_2': tensor(2.1970),\n",
       " 'Pclass_3': tensor(-4.6326),\n",
       " 'Embarked_C': tensor(0.9096),\n",
       " 'Embarked_Q': tensor(1.7729),\n",
       " 'Embarked_S': tensor(-3.5983),\n",
       " 'Sex_female': tensor(6.3650),\n",
       " 'Sex_male': tensor(-6.5438)}"
      ]
     },
     "execution_count": 56,
     "metadata": {},
     "output_type": "execute_result"
    }
   ],
   "source": [
    "def show_coeffs(coeffs): return dict(zip(indep_cols, coeffs.requires_grad_(False)))\n",
    "show_coeffs(trained_coeffs)"
   ]
  },
  {
   "cell_type": "markdown",
   "metadata": {},
   "source": [
    "Cool, but it doesn't tell us how accurate the model is, let's check the metric"
   ]
  },
  {
   "cell_type": "code",
   "execution_count": 57,
   "metadata": {},
   "outputs": [
    {
     "data": {
      "text/plain": [
       "tensor(0.8258)"
      ]
     },
     "execution_count": 57,
     "metadata": {},
     "output_type": "execute_result"
    }
   ],
   "source": [
    "acc(trained_coeffs)"
   ]
  },
  {
   "cell_type": "markdown",
   "metadata": {},
   "source": [
    "That's bad, let's keep looping and keep an eye on the accuracy to see if it's improving, we gonna modify our train model thing"
   ]
  },
  {
   "cell_type": "code",
   "execution_count": 58,
   "metadata": {},
   "outputs": [],
   "source": [
    "def update_coeffs(coeffs, lr):\n",
    "    with torch.no_grad():\n",
    "        # update coeffs\n",
    "        coeffs.sub_(coeffs.grad * lr)\n",
    "        coeffs.grad.zero_()\n",
    "    return coeffs\n",
    "\n",
    "\n",
    "def gradient_descent(coeffs, epochs, lr, trn_indep, trn_dep):\n",
    "    for i in range(epochs):\n",
    "        loss = calc_loss(coeffs, trn_indep, trn_dep)\n",
    "\n",
    "        # calc gradients\n",
    "        loss.backward()\n",
    "        coeffs = update_coeffs(coeffs, lr)\n",
    "        print(f'Epoch {i+1}: {loss.item()}, Accuracy: {acc(coeffs)}')"
   ]
  },
  {
   "cell_type": "code",
   "execution_count": 59,
   "metadata": {},
   "outputs": [
    {
     "name": "stdout",
     "output_type": "stream",
     "text": [
      "Epoch 1: 0.6054569482803345, Accuracy: 0.7921348214149475\n",
      "Epoch 2: 0.2609129250049591, Accuracy: 0.7584269642829895\n",
      "Epoch 3: 0.2607482969760895, Accuracy: 0.7921348214149475\n",
      "Epoch 4: 0.22707444429397583, Accuracy: 0.7921348214149475\n",
      "Epoch 5: 0.2153661847114563, Accuracy: 0.7921348214149475\n",
      "Epoch 6: 0.21518635749816895, Accuracy: 0.7921348214149475\n",
      "Epoch 7: 0.21505437791347504, Accuracy: 0.7921348214149475\n",
      "Epoch 8: 0.21494683623313904, Accuracy: 0.7921348214149475\n",
      "Epoch 9: 0.21485094726085663, Accuracy: 0.7921348214149475\n",
      "Epoch 10: 0.2147577852010727, Accuracy: 0.7921348214149475\n",
      "Epoch 11: 0.2146594077348709, Accuracy: 0.7921348214149475\n",
      "Epoch 12: 0.21454623341560364, Accuracy: 0.7921348214149475\n",
      "Epoch 13: 0.21440407633781433, Accuracy: 0.7921348214149475\n",
      "Epoch 14: 0.21420787274837494, Accuracy: 0.7921348214149475\n",
      "Epoch 15: 0.21390628814697266, Accuracy: 0.7921348214149475\n",
      "Epoch 16: 0.21337851881980896, Accuracy: 0.7921348214149475\n",
      "Epoch 17: 0.21229328215122223, Accuracy: 0.7921348214149475\n",
      "Epoch 18: 0.2096806913614273, Accuracy: 0.8258426785469055\n"
     ]
    },
    {
     "data": {
      "text/plain": [
       "{'Age': tensor(-0.6256),\n",
       " 'SibSp': tensor(-0.3271),\n",
       " 'Parch': tensor(0.1810),\n",
       " 'LogFare': tensor(0.0775),\n",
       " 'Pclass_1': tensor(1.1601),\n",
       " 'Pclass_2': tensor(0.7671),\n",
       " 'Pclass_3': tensor(-3.5216),\n",
       " 'Embarked_C': tensor(0.2967),\n",
       " 'Embarked_Q': tensor(0.6599),\n",
       " 'Embarked_S': tensor(-2.3145),\n",
       " 'Sex_female': tensor(5.5401),\n",
       " 'Sex_male': tensor(-6.5341)}"
      ]
     },
     "execution_count": 59,
     "metadata": {},
     "output_type": "execute_result"
    }
   ],
   "source": [
    "trained_coeffs = train_model(18, lr=100, trn_indep=trn_indep, trn_dep=trn_dep)\n",
    "show_coeffs(trained_coeffs)"
   ]
  },
  {
   "cell_type": "markdown",
   "metadata": {},
   "source": [
    "Let's sort this to see what are the biggest factors influencing if sopmeone survived or not"
   ]
  },
  {
   "cell_type": "code",
   "execution_count": 60,
   "metadata": {},
   "outputs": [
    {
     "data": {
      "text/plain": [
       "[('Sex_male', tensor(-6.5341)),\n",
       " ('Pclass_3', tensor(-3.5216)),\n",
       " ('Embarked_S', tensor(-2.3145)),\n",
       " ('Age', tensor(-0.6256)),\n",
       " ('SibSp', tensor(-0.3271)),\n",
       " ('LogFare', tensor(0.0775)),\n",
       " ('Parch', tensor(0.1810)),\n",
       " ('Embarked_C', tensor(0.2967)),\n",
       " ('Embarked_Q', tensor(0.6599)),\n",
       " ('Pclass_2', tensor(0.7671)),\n",
       " ('Pclass_1', tensor(1.1601)),\n",
       " ('Sex_female', tensor(5.5401))]"
      ]
     },
     "execution_count": 60,
     "metadata": {},
     "output_type": "execute_result"
    }
   ],
   "source": [
    "sorted(dict(zip(indep_cols, trained_coeffs.requires_grad_(False))).items(), key=lambda x: x[1])"
   ]
  },
  {
   "cell_type": "markdown",
   "metadata": {},
   "source": [
    "It seems to match what our analysis said, people with lower social eco, were more likely to die while female and better class were more likely to survive!"
   ]
  },
  {
   "cell_type": "markdown",
   "metadata": {},
   "source": [
    "# Kaggle - Linear Model"
   ]
  },
  {
   "cell_type": "code",
   "execution_count": 61,
   "metadata": {},
   "outputs": [
    {
     "name": "stdout",
     "output_type": "stream",
     "text": [
      "PassengerId,Survived\n",
      "892,0\n",
      "893,0\n",
      "894,0\n",
      "895,0\n",
      "896,0\n",
      "897,0\n",
      "898,1\n",
      "899,0\n",
      "900,1\n"
     ]
    }
   ],
   "source": [
    "def create_kaggle_submission(trained_coeffs):\n",
    "    tst_df = pd.read_csv(dataset_path/'test.csv')\n",
    "\n",
    "    tst_indep = preprocess_df_into_indeps_vars(tst_df)\n",
    "\n",
    "    tst_df['Survived'] = (calc_preds(trained_coeffs, tst_indep)>0.5).int()\n",
    "\n",
    "    sub_df = tst_df[['PassengerId','Survived']]\n",
    "    sub_df.to_csv('sub.csv', index=False)\n",
    "\n",
    "    !head sub.csv\n",
    "\n",
    "create_kaggle_submission(trained_coeffs)"
   ]
  },
  {
   "cell_type": "markdown",
   "metadata": {},
   "source": [
    "# Refactor with Matrix Product"
   ]
  },
  {
   "cell_type": "markdown",
   "metadata": {},
   "source": [
    "Take a look at the inner-most calculation we're doing to get the predictions:"
   ]
  },
  {
   "cell_type": "code",
   "execution_count": 62,
   "metadata": {},
   "outputs": [
    {
     "data": {
      "text/plain": [
       "tensor([-0.1691,  0.1243,  0.5115, -0.1028, -0.0998, -0.0685,  0.3875, -0.2711,  0.2153,  0.4392], grad_fn=<SliceBackward0>)"
      ]
     },
     "execution_count": 62,
     "metadata": {},
     "output_type": "execute_result"
    }
   ],
   "source": [
    "preds = (val_indep*coeffs).sum(axis=1)\n",
    "preds[:10]"
   ]
  },
  {
   "cell_type": "markdown",
   "metadata": {},
   "source": [
    "Multiplying elements together + adding accross rows is the same as a matrix-vector product!"
   ]
  },
  {
   "cell_type": "code",
   "execution_count": 63,
   "metadata": {},
   "outputs": [
    {
     "data": {
      "text/plain": [
       "tensor([-0.1691,  0.1243,  0.5115, -0.1028, -0.0998, -0.0685,  0.3875, -0.2711,  0.2153,  0.4392], grad_fn=<SliceBackward0>)"
      ]
     },
     "execution_count": 63,
     "metadata": {},
     "output_type": "execute_result"
    }
   ],
   "source": [
    "m = val_indep@coeffs\n",
    "m[:10]"
   ]
  },
  {
   "cell_type": "markdown",
   "metadata": {},
   "source": [
    "Matrix products are very highly optimized so let's use that. Let's refactor our functions:"
   ]
  },
  {
   "cell_type": "code",
   "execution_count": 64,
   "metadata": {},
   "outputs": [],
   "source": [
    "def calc_preds(coeffs, indeps): return torch.sigmoid(indeps@coeffs)"
   ]
  },
  {
   "cell_type": "markdown",
   "metadata": {},
   "source": [
    "In order to do matrix-matrix products (which we'll need in the next section), we need to turn coeffs into a column vector"
   ]
  },
  {
   "cell_type": "code",
   "execution_count": 65,
   "metadata": {},
   "outputs": [
    {
     "data": {
      "text/plain": [
       "(torch.Size([12]), torch.Size([12, 1]))"
      ]
     },
     "execution_count": 65,
     "metadata": {},
     "output_type": "execute_result"
    }
   ],
   "source": [
    "# instead of torch.rand(n_coeff)\n",
    "# we can do instead of torch.rand(n_coeff, 1)\n",
    "def init_coeffs(): return (torch.rand(n_coeff, 1)*0.1).requires_grad_()\n",
    "\n",
    "torch.rand(n_coeff).shape, torch.rand(n_coeff, 1).shape "
   ]
  },
  {
   "cell_type": "markdown",
   "metadata": {},
   "source": [
    "We'll also need to turn our DEPENDENT variable into a column vector"
   ]
  },
  {
   "cell_type": "code",
   "execution_count": 66,
   "metadata": {},
   "outputs": [
    {
     "data": {
      "text/plain": [
       "(torch.Size([713, 1]), torch.Size([178, 1]))"
      ]
     },
     "execution_count": 66,
     "metadata": {},
     "output_type": "execute_result"
    }
   ],
   "source": [
    "trn_dep = trn_dep[:,None]\n",
    "val_dep = val_dep[:,None]\n",
    "# [:,None] or .reshape(-1, 1)\n",
    "trn_dep.shape, val_dep.shape"
   ]
  },
  {
   "cell_type": "markdown",
   "metadata": {},
   "source": [
    "Verify that our code still works"
   ]
  },
  {
   "cell_type": "code",
   "execution_count": 67,
   "metadata": {},
   "outputs": [
    {
     "name": "stdout",
     "output_type": "stream",
     "text": [
      "Epoch 1: 0.5095505714416504, Accuracy: 0.6797752976417542\n",
      "Epoch 2: 0.3235969841480255, Accuracy: 0.6966292262077332\n",
      "Epoch 3: 0.2973741292953491, Accuracy: 0.8089887499809265\n",
      "Epoch 4: 0.2075757533311844, Accuracy: 0.8258426785469055\n",
      "Epoch 5: 0.20052193105220795, Accuracy: 0.8258426785469055\n",
      "Epoch 6: 0.1982487589120865, Accuracy: 0.8258426785469055\n",
      "Epoch 7: 0.19731980562210083, Accuracy: 0.8258426785469055\n",
      "Epoch 8: 0.19667822122573853, Accuracy: 0.8258426785469055\n",
      "Epoch 9: 0.19620947539806366, Accuracy: 0.8258426785469055\n",
      "Epoch 10: 0.19585052132606506, Accuracy: 0.8258426785469055\n",
      "Epoch 11: 0.19556474685668945, Accuracy: 0.8258426785469055\n",
      "Epoch 12: 0.19533006846904755, Accuracy: 0.8258426785469055\n",
      "Epoch 13: 0.19513258337974548, Accuracy: 0.8258426785469055\n",
      "Epoch 14: 0.1949632167816162, Accuracy: 0.8258426785469055\n",
      "Epoch 15: 0.19481566548347473, Accuracy: 0.8258426785469055\n",
      "Epoch 16: 0.19468556344509125, Accuracy: 0.8258426785469055\n",
      "Epoch 17: 0.1945696920156479, Accuracy: 0.8258426785469055\n",
      "Epoch 18: 0.19446562230587006, Accuracy: 0.8258426785469055\n"
     ]
    }
   ],
   "source": [
    "trained_coeffs = train_model(18, lr=100, trn_indep=trn_indep, trn_dep=trn_dep)"
   ]
  },
  {
   "cell_type": "markdown",
   "metadata": {},
   "source": [
    "# A Neural Net"
   ]
  },
  {
   "cell_type": "markdown",
   "metadata": {},
   "source": [
    "We don't use initialization and normalization technique for our weights so we manually have some hard coded value to help us center the weights, for this to work and get same results as jeremy using these hard coded adjustement values, we need to use the same torch seed"
   ]
  },
  {
   "cell_type": "code",
   "execution_count": 68,
   "metadata": {},
   "outputs": [
    {
     "data": {
      "text/plain": [
       "<torch._C.Generator at 0x17ec89130>"
      ]
     },
     "execution_count": 68,
     "metadata": {},
     "output_type": "execute_result"
    }
   ],
   "source": [
    "torch.manual_seed(442)"
   ]
  },
  {
   "cell_type": "code",
   "execution_count": 69,
   "metadata": {},
   "outputs": [],
   "source": [
    "# Why did we need the matrix multiply? Can't we do a neural net with broadcasting?"
   ]
  },
  {
   "cell_type": "markdown",
   "metadata": {},
   "source": [
    "Instead of having one coeff per column we gonna have 20 coeff per column\n",
    "\n",
    "so n_cols * n_hidden"
   ]
  },
  {
   "cell_type": "markdown",
   "metadata": {},
   "source": [
    "For each column instead of having one coefficient, we gonna have 20 coeff, so that's 12x20.\n",
    "\n",
    "Imagine each column having a series of 20 pumps behind"
   ]
  },
  {
   "cell_type": "code",
   "execution_count": 70,
   "metadata": {},
   "outputs": [
    {
     "data": {
      "text/plain": [
       "torch.Size([12, 20])"
      ]
     },
     "execution_count": 70,
     "metadata": {},
     "output_type": "execute_result"
    }
   ],
   "source": [
    "n_hidden = 20\n",
    "center_adjust = -0.5\n",
    "layer1 = (torch.rand(n_coeff, n_hidden) + center_adjust) / n_hidden\n",
    "layer1.shape"
   ]
  },
  {
   "cell_type": "markdown",
   "metadata": {},
   "source": [
    "Why do we need to divide by n_hidden? Let's see why"
   ]
  },
  {
   "cell_type": "code",
   "execution_count": 71,
   "metadata": {},
   "outputs": [
    {
     "data": {
      "text/plain": [
       "(tensor(0.2878), tensor(0.0142))"
      ]
     },
     "execution_count": 71,
     "metadata": {},
     "output_type": "execute_result"
    }
   ],
   "source": [
    "layer1_without_normalizing = (torch.rand(n_coeff, n_hidden) + center_adjust) \n",
    "layer1 = (torch.rand(n_coeff, n_hidden) + center_adjust) / n_hidden\n",
    "layer1_without_normalizing.std(), layer1.std()"
   ]
  },
  {
   "cell_type": "markdown",
   "metadata": {},
   "source": [
    "For the second layer, what shape do we want? Think of matrix as a transformation of dimension.\n",
    "- We take as input (first dim) the last dim of previous layer\n",
    "- As output we should have one column"
   ]
  },
  {
   "cell_type": "code",
   "execution_count": 72,
   "metadata": {},
   "outputs": [
    {
     "data": {
      "text/plain": [
       "torch.Size([20, 1])"
      ]
     },
     "execution_count": 72,
     "metadata": {},
     "output_type": "execute_result"
    }
   ],
   "source": [
    "# # jeremy said that  the -0.3 came from trial and error\n",
    "layer2_center_adjust = -0.3\n",
    "\n",
    "layer2 = (torch.rand(n_hidden, 1) + layer2_center_adjust)\n",
    "layer2.shape"
   ]
  },
  {
   "cell_type": "markdown",
   "metadata": {},
   "source": [
    "Why don't we need to normalize here?\n",
    " ```\n",
    " (torch.rand(n_hidden, 1) + layer2_center_adjust) / n_hidden\n",
    "```"
   ]
  },
  {
   "cell_type": "code",
   "execution_count": 73,
   "metadata": {},
   "outputs": [],
   "source": [
    "# usualyl we also need a constant term for layer 1, but as we said earlier we covered every possible rows\n",
    "# we have n columns instead of n-1 columns so layer 1 is fine\n",
    "\n",
    "def init_weights(n_coeff, n_hidden=20):\n",
    "    layer1 = (torch.rand(n_coeff, n_hidden)-0.5)/n_hidden\n",
    "\n",
    "    # however for layer 2 the number of variables here != columns, so we need an intercept/bias term again\n",
    "    layer2 = torch.rand(n_hidden, 1)-0.3\n",
    "    const = torch.rand(1)[0]\n",
    "    return layer1.requires_grad_(), layer2.requires_grad_(), const.requires_grad_()"
   ]
  },
  {
   "cell_type": "code",
   "execution_count": 74,
   "metadata": {},
   "outputs": [],
   "source": [
    "import torch.nn.functional as F\n",
    "\n",
    "def calc_preds(w, indeps):\n",
    "    l1, l2, const = w\n",
    "    # we plug our table into layer 1\n",
    "    # we plug multiply each column of each row by 20 weights\n",
    "    # we do a ReLU on it because??\n",
    "    res = F.relu(indeps@l1)\n",
    "    # For each column, of each row, filter out their (12cols *20) weights into ones to get the Y (SurvivalRate)\n",
    "    res = res@l2 + const\n",
    "    return torch.sigmoid(res)\n"
   ]
  },
  {
   "cell_type": "code",
   "execution_count": 75,
   "metadata": {},
   "outputs": [],
   "source": [
    "def calc_loss(w, indeps, deps): return torch.abs(calc_preds(w, indeps)-deps).mean()"
   ]
  },
  {
   "cell_type": "code",
   "execution_count": 76,
   "metadata": {},
   "outputs": [],
   "source": [
    "def update_weights(w, lr):\n",
    "    for layer in w:\n",
    "        layer.sub_(layer.grad * lr)\n",
    "        layer.grad.zero_()\n",
    "\n",
    "def one_epoch(epoch_idx, lr, trn_indep, trn_dep, w):\n",
    "    loss = calc_loss(w, indeps=trn_indep, deps=trn_dep)\n",
    "    loss.backward()\n",
    "    with torch.no_grad():\n",
    "        update_weights(w, lr)\n",
    "    print(f'Epoch {epoch_idx+1}: {loss.item()}, Accuracy: {acc(w)}')\n",
    "\n",
    "def sgd(epochs, lr, trn_indep, trn_dep, w):\n",
    "    for epoch_idx in range(epochs):\n",
    "        one_epoch(epoch_idx, lr, trn_indep, trn_dep, w)\n",
    "\n",
    "\n",
    "def train_neural_net(epochs, lr, trn_indep, trn_dep):\n",
    "    torch.manual_seed(442)\n",
    "    n_coeff = trn_indep.shape[1]\n",
    "    w = init_weights(n_coeff)\n",
    "    sgd(epochs, lr, trn_indep, trn_dep, w)\n",
    "    return w"
   ]
  },
  {
   "cell_type": "code",
   "execution_count": 77,
   "metadata": {},
   "outputs": [
    {
     "name": "stdout",
     "output_type": "stream",
     "text": [
      "Epoch 1: 0.5441367030143738, Accuracy: 0.7865168452262878\n",
      "Epoch 2: 0.4160270094871521, Accuracy: 0.7022472023963928\n",
      "Epoch 3: 0.2861539423465729, Accuracy: 0.6853932738304138\n",
      "Epoch 4: 0.38368409872055054, Accuracy: 0.7921348214149475\n",
      "Epoch 5: 0.22075077891349792, Accuracy: 0.7921348214149475\n",
      "Epoch 6: 0.20969177782535553, Accuracy: 0.8258426785469055\n",
      "Epoch 7: 0.19649018347263336, Accuracy: 0.8258426785469055\n",
      "Epoch 8: 0.19449244439601898, Accuracy: 0.8258426785469055\n",
      "Epoch 9: 0.19379691779613495, Accuracy: 0.8258426785469055\n",
      "Epoch 10: 0.19339023530483246, Accuracy: 0.8258426785469055\n",
      "Epoch 11: 0.19317100942134857, Accuracy: 0.8258426785469055\n",
      "Epoch 12: 0.19302920997142792, Accuracy: 0.8258426785469055\n",
      "Epoch 13: 0.19292403757572174, Accuracy: 0.8258426785469055\n",
      "Epoch 14: 0.1928444653749466, Accuracy: 0.8258426785469055\n",
      "Epoch 15: 0.1927790492773056, Accuracy: 0.8258426785469055\n",
      "Epoch 16: 0.19272758066654205, Accuracy: 0.8258426785469055\n",
      "Epoch 17: 0.1926814168691635, Accuracy: 0.8258426785469055\n",
      "Epoch 18: 0.19264377653598785, Accuracy: 0.8258426785469055\n",
      "PassengerId,Survived\n",
      "892,0\n",
      "893,0\n",
      "894,0\n",
      "895,0\n",
      "896,0\n",
      "897,0\n",
      "898,1\n",
      "899,0\n",
      "900,1\n"
     ]
    }
   ],
   "source": [
    "trained_coeffs = train_neural_net(18, lr=20, trn_indep=trn_indep, trn_dep=trn_dep)\n",
    "create_kaggle_submission(trained_coeffs)"
   ]
  },
  {
   "cell_type": "markdown",
   "metadata": {},
   "source": [
    "Ensembling"
   ]
  },
  {
   "cell_type": "code",
   "execution_count": 78,
   "metadata": {},
   "outputs": [
    {
     "name": "stdout",
     "output_type": "stream",
     "text": [
      "Epoch 1: 0.5441367030143738, Accuracy: 0.7921348214149475\n",
      "Epoch 2: 0.36561453342437744, Accuracy: 0.7921348214149475\n",
      "Epoch 3: 0.21569344401359558, Accuracy: 0.7921348214149475\n",
      "Epoch 4: 0.23310978710651398, Accuracy: 0.8258426785469055\n",
      "Epoch 5: 0.20774473249912262, Accuracy: 0.8258426785469055\n",
      "Epoch 6: 0.19487275183200836, Accuracy: 0.8258426785469055\n",
      "Epoch 7: 0.1975739747285843, Accuracy: 0.7921348214149475\n",
      "Epoch 8: 0.21049240231513977, Accuracy: 0.8258426785469055\n",
      "Epoch 9: 0.19333498179912567, Accuracy: 0.8258426785469055\n",
      "Epoch 10: 0.1925182342529297, Accuracy: 0.8258426785469055\n",
      "Epoch 11: 0.19246993958950043, Accuracy: 0.8258426785469055\n",
      "Epoch 12: 0.19243697822093964, Accuracy: 0.8258426785469055\n",
      "Epoch 13: 0.19241248071193695, Accuracy: 0.8258426785469055\n",
      "Epoch 14: 0.19239169359207153, Accuracy: 0.8258426785469055\n",
      "Epoch 15: 0.19237487018108368, Accuracy: 0.8258426785469055\n",
      "Epoch 16: 0.1923602819442749, Accuracy: 0.8258426785469055\n",
      "Epoch 17: 0.19234764575958252, Accuracy: 0.8258426785469055\n",
      "Epoch 18: 0.19233670830726624, Accuracy: 0.8258426785469055\n",
      "Epoch 19: 0.1923276036977768, Accuracy: 0.8258426785469055\n",
      "Epoch 20: 0.1923198103904724, Accuracy: 0.8258426785469055\n",
      "Epoch 21: 0.19231249392032623, Accuracy: 0.8258426785469055\n",
      "Epoch 22: 0.19230569899082184, Accuracy: 0.8258426785469055\n",
      "Epoch 23: 0.19229939579963684, Accuracy: 0.8258426785469055\n",
      "Epoch 24: 0.19229350984096527, Accuracy: 0.8258426785469055\n",
      "Epoch 25: 0.19228821992874146, Accuracy: 0.8258426785469055\n",
      "Epoch 26: 0.19228330254554749, Accuracy: 0.8258426785469055\n",
      "Epoch 27: 0.19227880239486694, Accuracy: 0.8258426785469055\n",
      "Epoch 28: 0.192274272441864, Accuracy: 0.8258426785469055\n",
      "Epoch 29: 0.19227007031440735, Accuracy: 0.8258426785469055\n",
      "Epoch 30: 0.1922660917043686, Accuracy: 0.8258426785469055\n",
      "Epoch 1: 0.5441367030143738, Accuracy: 0.7921348214149475\n",
      "Epoch 2: 0.36561453342437744, Accuracy: 0.7921348214149475\n",
      "Epoch 3: 0.21569344401359558, Accuracy: 0.7921348214149475\n",
      "Epoch 4: 0.23310978710651398, Accuracy: 0.8258426785469055\n",
      "Epoch 5: 0.20774473249912262, Accuracy: 0.8258426785469055\n",
      "Epoch 6: 0.19487275183200836, Accuracy: 0.8258426785469055\n",
      "Epoch 7: 0.1975739747285843, Accuracy: 0.7921348214149475\n",
      "Epoch 8: 0.21049240231513977, Accuracy: 0.8258426785469055\n",
      "Epoch 9: 0.19333498179912567, Accuracy: 0.8258426785469055\n",
      "Epoch 10: 0.1925182342529297, Accuracy: 0.8258426785469055\n",
      "Epoch 11: 0.19246993958950043, Accuracy: 0.8258426785469055\n",
      "Epoch 12: 0.19243697822093964, Accuracy: 0.8258426785469055\n",
      "Epoch 13: 0.19241248071193695, Accuracy: 0.8258426785469055\n",
      "Epoch 14: 0.19239169359207153, Accuracy: 0.8258426785469055\n",
      "Epoch 15: 0.19237487018108368, Accuracy: 0.8258426785469055\n",
      "Epoch 16: 0.1923602819442749, Accuracy: 0.8258426785469055\n",
      "Epoch 17: 0.19234764575958252, Accuracy: 0.8258426785469055\n",
      "Epoch 18: 0.19233670830726624, Accuracy: 0.8258426785469055\n",
      "Epoch 19: 0.1923276036977768, Accuracy: 0.8258426785469055\n",
      "Epoch 20: 0.1923198103904724, Accuracy: 0.8258426785469055\n",
      "Epoch 21: 0.19231249392032623, Accuracy: 0.8258426785469055\n",
      "Epoch 22: 0.19230569899082184, Accuracy: 0.8258426785469055\n",
      "Epoch 23: 0.19229939579963684, Accuracy: 0.8258426785469055\n",
      "Epoch 24: 0.19229350984096527, Accuracy: 0.8258426785469055\n",
      "Epoch 25: 0.19228821992874146, Accuracy: 0.8258426785469055\n",
      "Epoch 26: 0.19228330254554749, Accuracy: 0.8258426785469055\n",
      "Epoch 27: 0.19227880239486694, Accuracy: 0.8258426785469055\n",
      "Epoch 28: 0.192274272441864, Accuracy: 0.8258426785469055\n",
      "Epoch 29: 0.19227007031440735, Accuracy: 0.8258426785469055\n",
      "Epoch 30: 0.1922660917043686, Accuracy: 0.8258426785469055\n",
      "Epoch 1: 0.5441367030143738, Accuracy: 0.7921348214149475\n",
      "Epoch 2: 0.36561453342437744, Accuracy: 0.7921348214149475\n",
      "Epoch 3: 0.21569344401359558, Accuracy: 0.7921348214149475\n",
      "Epoch 4: 0.23310978710651398, Accuracy: 0.8258426785469055\n",
      "Epoch 5: 0.20774473249912262, Accuracy: 0.8258426785469055\n",
      "Epoch 6: 0.19487275183200836, Accuracy: 0.8258426785469055\n",
      "Epoch 7: 0.1975739747285843, Accuracy: 0.7921348214149475\n",
      "Epoch 8: 0.21049240231513977, Accuracy: 0.8258426785469055\n",
      "Epoch 9: 0.19333498179912567, Accuracy: 0.8258426785469055\n",
      "Epoch 10: 0.1925182342529297, Accuracy: 0.8258426785469055\n",
      "Epoch 11: 0.19246993958950043, Accuracy: 0.8258426785469055\n",
      "Epoch 12: 0.19243697822093964, Accuracy: 0.8258426785469055\n",
      "Epoch 13: 0.19241248071193695, Accuracy: 0.8258426785469055\n",
      "Epoch 14: 0.19239169359207153, Accuracy: 0.8258426785469055\n",
      "Epoch 15: 0.19237487018108368, Accuracy: 0.8258426785469055\n",
      "Epoch 16: 0.1923602819442749, Accuracy: 0.8258426785469055\n",
      "Epoch 17: 0.19234764575958252, Accuracy: 0.8258426785469055\n",
      "Epoch 18: 0.19233670830726624, Accuracy: 0.8258426785469055\n",
      "Epoch 19: 0.1923276036977768, Accuracy: 0.8258426785469055\n",
      "Epoch 20: 0.1923198103904724, Accuracy: 0.8258426785469055\n",
      "Epoch 21: 0.19231249392032623, Accuracy: 0.8258426785469055\n",
      "Epoch 22: 0.19230569899082184, Accuracy: 0.8258426785469055\n",
      "Epoch 23: 0.19229939579963684, Accuracy: 0.8258426785469055\n",
      "Epoch 24: 0.19229350984096527, Accuracy: 0.8258426785469055\n",
      "Epoch 25: 0.19228821992874146, Accuracy: 0.8258426785469055\n",
      "Epoch 26: 0.19228330254554749, Accuracy: 0.8258426785469055\n",
      "Epoch 27: 0.19227880239486694, Accuracy: 0.8258426785469055\n",
      "Epoch 28: 0.192274272441864, Accuracy: 0.8258426785469055\n",
      "Epoch 29: 0.19227007031440735, Accuracy: 0.8258426785469055\n",
      "Epoch 30: 0.1922660917043686, Accuracy: 0.8258426785469055\n",
      "Epoch 1: 0.5441367030143738, Accuracy: 0.7921348214149475\n",
      "Epoch 2: 0.36561453342437744, Accuracy: 0.7921348214149475\n",
      "Epoch 3: 0.21569344401359558, Accuracy: 0.7921348214149475\n",
      "Epoch 4: 0.23310978710651398, Accuracy: 0.8258426785469055\n",
      "Epoch 5: 0.20774473249912262, Accuracy: 0.8258426785469055\n",
      "Epoch 6: 0.19487275183200836, Accuracy: 0.8258426785469055\n",
      "Epoch 7: 0.1975739747285843, Accuracy: 0.7921348214149475\n",
      "Epoch 8: 0.21049240231513977, Accuracy: 0.8258426785469055\n",
      "Epoch 9: 0.19333498179912567, Accuracy: 0.8258426785469055\n",
      "Epoch 10: 0.1925182342529297, Accuracy: 0.8258426785469055\n",
      "Epoch 11: 0.19246993958950043, Accuracy: 0.8258426785469055\n",
      "Epoch 12: 0.19243697822093964, Accuracy: 0.8258426785469055\n",
      "Epoch 13: 0.19241248071193695, Accuracy: 0.8258426785469055\n",
      "Epoch 14: 0.19239169359207153, Accuracy: 0.8258426785469055\n",
      "Epoch 15: 0.19237487018108368, Accuracy: 0.8258426785469055\n",
      "Epoch 16: 0.1923602819442749, Accuracy: 0.8258426785469055\n",
      "Epoch 17: 0.19234764575958252, Accuracy: 0.8258426785469055\n",
      "Epoch 18: 0.19233670830726624, Accuracy: 0.8258426785469055\n",
      "Epoch 19: 0.1923276036977768, Accuracy: 0.8258426785469055\n",
      "Epoch 20: 0.1923198103904724, Accuracy: 0.8258426785469055\n",
      "Epoch 21: 0.19231249392032623, Accuracy: 0.8258426785469055\n",
      "Epoch 22: 0.19230569899082184, Accuracy: 0.8258426785469055\n",
      "Epoch 23: 0.19229939579963684, Accuracy: 0.8258426785469055\n",
      "Epoch 24: 0.19229350984096527, Accuracy: 0.8258426785469055\n",
      "Epoch 25: 0.19228821992874146, Accuracy: 0.8258426785469055\n",
      "Epoch 26: 0.19228330254554749, Accuracy: 0.8258426785469055\n",
      "Epoch 27: 0.19227880239486694, Accuracy: 0.8258426785469055\n",
      "Epoch 28: 0.192274272441864, Accuracy: 0.8258426785469055\n",
      "Epoch 29: 0.19227007031440735, Accuracy: 0.8258426785469055\n",
      "Epoch 30: 0.1922660917043686, Accuracy: 0.8258426785469055\n",
      "Epoch 1: 0.5441367030143738, Accuracy: 0.7921348214149475\n",
      "Epoch 2: 0.36561453342437744, Accuracy: 0.7921348214149475\n",
      "Epoch 3: 0.21569344401359558, Accuracy: 0.7921348214149475\n",
      "Epoch 4: 0.23310978710651398, Accuracy: 0.8258426785469055\n",
      "Epoch 5: 0.20774473249912262, Accuracy: 0.8258426785469055\n",
      "Epoch 6: 0.19487275183200836, Accuracy: 0.8258426785469055\n",
      "Epoch 7: 0.1975739747285843, Accuracy: 0.7921348214149475\n",
      "Epoch 8: 0.21049240231513977, Accuracy: 0.8258426785469055\n",
      "Epoch 9: 0.19333498179912567, Accuracy: 0.8258426785469055\n",
      "Epoch 10: 0.1925182342529297, Accuracy: 0.8258426785469055\n",
      "Epoch 11: 0.19246993958950043, Accuracy: 0.8258426785469055\n",
      "Epoch 12: 0.19243697822093964, Accuracy: 0.8258426785469055\n",
      "Epoch 13: 0.19241248071193695, Accuracy: 0.8258426785469055\n",
      "Epoch 14: 0.19239169359207153, Accuracy: 0.8258426785469055\n",
      "Epoch 15: 0.19237487018108368, Accuracy: 0.8258426785469055\n",
      "Epoch 16: 0.1923602819442749, Accuracy: 0.8258426785469055\n",
      "Epoch 17: 0.19234764575958252, Accuracy: 0.8258426785469055\n",
      "Epoch 18: 0.19233670830726624, Accuracy: 0.8258426785469055\n",
      "Epoch 19: 0.1923276036977768, Accuracy: 0.8258426785469055\n",
      "Epoch 20: 0.1923198103904724, Accuracy: 0.8258426785469055\n",
      "Epoch 21: 0.19231249392032623, Accuracy: 0.8258426785469055\n",
      "Epoch 22: 0.19230569899082184, Accuracy: 0.8258426785469055\n",
      "Epoch 23: 0.19229939579963684, Accuracy: 0.8258426785469055\n",
      "Epoch 24: 0.19229350984096527, Accuracy: 0.8258426785469055\n",
      "Epoch 25: 0.19228821992874146, Accuracy: 0.8258426785469055\n",
      "Epoch 26: 0.19228330254554749, Accuracy: 0.8258426785469055\n",
      "Epoch 27: 0.19227880239486694, Accuracy: 0.8258426785469055\n",
      "Epoch 28: 0.192274272441864, Accuracy: 0.8258426785469055\n",
      "Epoch 29: 0.19227007031440735, Accuracy: 0.8258426785469055\n",
      "Epoch 30: 0.1922660917043686, Accuracy: 0.8258426785469055\n"
     ]
    }
   ],
   "source": [
    "tst_df = pd.read_csv(dataset_path/'test.csv')\n",
    "tst_indep = preprocess_df_into_indeps_vars(tst_df)\n",
    "\n",
    "def ensemble():\n",
    "    trained_coeffs = train_neural_net(30, lr=30, trn_indep=trn_indep, trn_dep=trn_dep)\n",
    "    return (calc_preds(trained_coeffs, tst_indep)>0.5).float()\n",
    "\n",
    "preds = [ensemble() for _ in range(5)]\n",
    "ens_preds = torch.stack(preds).mean(0).flatten()\n",
    "\n",
    "tst_df['Survived'] = (ens_preds[:,None]>0.5).int()\n",
    "sub_df = tst_df[['PassengerId','Survived']]\n",
    "sub_df.to_csv('ens_sub.csv', index=False)"
   ]
  },
  {
   "cell_type": "markdown",
   "metadata": {},
   "source": [
    "# Deep Learning - MLP from scratch"
   ]
  },
  {
   "cell_type": "markdown",
   "metadata": {},
   "source": [
    "\n",
    "        How to initialize coefficients of 2 hidden layers and 1 output layer and constants, and get gradients ready for all of them, in one compact function?\n",
    "        What are the shape of each coefficient matrix?\n",
    "        What are the activation functions for 2 hidden layers?\n",
    "        What is the activation function for the output layer?\n",
    "        What is the most common mistake on applying activation function to the final layer?\n",
    "\n"
   ]
  },
  {
   "cell_type": "markdown",
   "metadata": {},
   "source": [
    "Note how we are plugging layers together by using it's latter shape.\n",
    "Remember? Matrices are like pipes to transform one thing from one dimension into another"
   ]
  },
  {
   "cell_type": "code",
   "execution_count": 126,
   "metadata": {},
   "outputs": [],
   "source": [
    "# previously we had:\n",
    "#\n",
    "# def init_weights(n_coeff, n_hidden=20):\n",
    "#     layer1 = (torch.rand(n_coeff, n_hidden)-0.5)/n_hidden\n",
    "\n",
    "#     # however for layer 2 the number of variables here != columns, so we need an intercept/bias term again\n",
    "#     layer2 = torch.rand(n_hidden, 1)-0.3\n",
    "#     const = torch.rand(1)[0]\n",
    "#     return layer1.requires_grad_(), layer2.requires_grad_(), const.requires_grad_()\n",
    "\n",
    "def normalize_layer(layer, n, adjust=-0.3, n_adjust=4):\n",
    "    # somehow these two lines fuck everything up?\n",
    "    # i think broadcasting just doesn't work with += and /=\n",
    "    # layer += adjust\n",
    "    # layer /= (n * n_adjust)\n",
    "    return (layer + adjust) / n * n_adjust\n",
    "\n",
    "\n",
    "def init_weights(n_coeff):\n",
    "    layerIn = torch.rand(n_coeff, 10)\n",
    "    layerIn = normalize_layer(layerIn, 10)\n",
    "\n",
    "    layer2 = torch.rand(layerIn.shape[-1], 10)    \n",
    "    layer2 = normalize_layer(layer2, 10)\n",
    "\n",
    "    layerOut = torch.rand(layer2.shape[-1], 1)\n",
    "    layerOut = normalize_layer(layerOut, 1)\n",
    "\n",
    "    # -0.5 * 0.1 are adjust help that we only figure out after trial and error\n",
    "    const1 = (torch.rand(1)[0] - 0.5) * 0.1\n",
    "    const2 = (torch.rand(1)[0] - 0.5) * 0.1\n",
    "    const3 = (torch.rand(1)[0] - 0.5) * 0.1\n",
    "\n",
    "    layers = [layerIn, layer2, layerOut]\n",
    "    consts = [const1, const2, const3]\n",
    "    for l in layers+consts: l.requires_grad_()\n",
    "\n",
    "    return layers, consts"
   ]
  },
  {
   "cell_type": "code",
   "execution_count": 128,
   "metadata": {},
   "outputs": [],
   "source": [
    "import torch.nn.functional as F\n",
    "\n",
    "# previously we had\n",
    "# def calc_preds(w, indeps):\n",
    "#     l1, l2, const = w\n",
    "#     # we plug our table into layer 1\n",
    "#     # we plug multiply each column of each row by 20 weights\n",
    "#     # we do a ReLU on it because??\n",
    "#     res = F.relu(indeps@l1)\n",
    "#     # For each column, of each row, filter out their (12cols *20) weights into ones to get the Y (SurvivalRate)\n",
    "#     res = res@l2 + const\n",
    "#     return torch.sigmoid(res)\n",
    "def calc_preds(w, indeps):\n",
    "    layers, consts = w\n",
    "    n = len(layers)\n",
    "    res = indeps\n",
    "    for i, l in enumerate(layers):\n",
    "        res = res@l + consts[i]\n",
    "        # we add ReLU for every layers aside of the last one!\n",
    "        if i != n-1:\n",
    "            res = F.relu(res)\n",
    "    # last layer got an activation function, here sigmoid since we doing binary classification!\n",
    "    return torch.sigmoid(res)\n",
    "\n",
    "\n",
    "def calc_loss(w, indeps, deps): return torch.abs(calc_preds(w, indeps)-deps).mean()\n",
    "\n",
    "\n",
    "# note that we always use validation set here!\n",
    "def acc(w): return (val_dep.bool()==(calc_preds(w, val_indep)>0.5)).float().mean()"
   ]
  },
  {
   "cell_type": "code",
   "execution_count": 129,
   "metadata": {},
   "outputs": [],
   "source": [
    "def update_weights(w, lr):\n",
    "    layers,consts = w\n",
    "    for layer in layers+consts:\n",
    "        layer.sub_(layer.grad * lr)\n",
    "        layer.grad.zero_()\n",
    "\n",
    "def one_epoch(epoch_idx, lr, trn_indep, trn_dep, w):\n",
    "    loss = calc_loss(w, indeps=trn_indep, deps=trn_dep)\n",
    "    loss.backward()\n",
    "    with torch.no_grad():\n",
    "        layers,consts = w\n",
    "        for layer in layers+consts:\n",
    "            layer.sub_(layer.grad * lr)\n",
    "            layer.grad.zero_()\n",
    "    print(f'Epoch {epoch_idx+1}: {loss.item()}, Accuracy: {acc(w)}')\n",
    "\n",
    "def sgd(epochs, lr, trn_indep, trn_dep, w):\n",
    "    for epoch_idx in range(epochs):\n",
    "        one_epoch(epoch_idx, lr, trn_indep, trn_dep, w)\n",
    "        \n",
    "\n",
    "def train_deep_net(epochs, lr, trn_indep, trn_dep):\n",
    "    torch.manual_seed(442)\n",
    "    n_coeff = trn_indep.shape[1]\n",
    "    w = init_weights(n_coeff)\n",
    "    sgd(epochs, lr, trn_indep, trn_dep, w)\n",
    "    return w"
   ]
  },
  {
   "cell_type": "markdown",
   "metadata": {},
   "source": [
    "Sometimes the model just fucking doesn't want to train, as we can see here the weights are barely moving, just increasing learning rate is not gonna solve the problem, let's revisit once we have learned some initialization techniques to get a good init st"
   ]
  },
  {
   "cell_type": "code",
   "execution_count": 141,
   "metadata": {},
   "outputs": [
    {
     "name": "stdout",
     "output_type": "stream",
     "text": [
      "Epoch 1: 0.5089519023895264, Accuracy: 0.5955055952072144\n",
      "Epoch 2: 0.44269877672195435, Accuracy: 0.7584269642829895\n",
      "Epoch 3: 0.36342841386795044, Accuracy: 0.7752808928489685\n",
      "Epoch 4: 0.3177952766418457, Accuracy: 0.8258426785469055\n",
      "Epoch 5: 0.2802397608757019, Accuracy: 0.7977527976036072\n",
      "Epoch 6: 0.25552451610565186, Accuracy: 0.7977527976036072\n",
      "Epoch 7: 0.2412664294242859, Accuracy: 0.7921348214149475\n",
      "Epoch 8: 0.23305213451385498, Accuracy: 0.7921348214149475\n",
      "Epoch 9: 0.22781851887702942, Accuracy: 0.7921348214149475\n",
      "Epoch 10: 0.22419261932373047, Accuracy: 0.7921348214149475\n",
      "Epoch 11: 0.22150954604148865, Accuracy: 0.7921348214149475\n",
      "Epoch 12: 0.21938556432724, Accuracy: 0.7977527976036072\n",
      "Epoch 13: 0.21759666502475739, Accuracy: 0.7977527976036072\n",
      "Epoch 14: 0.21601063013076782, Accuracy: 0.8033707737922668\n",
      "Epoch 15: 0.21454079449176788, Accuracy: 0.8089887499809265\n",
      "Epoch 16: 0.2131456434726715, Accuracy: 0.8314606547355652\n",
      "Epoch 17: 0.21181133389472961, Accuracy: 0.8202247023582458\n",
      "Epoch 18: 0.2105368822813034, Accuracy: 0.8314606547355652\n",
      "Epoch 19: 0.20932698249816895, Accuracy: 0.8258426785469055\n",
      "Epoch 20: 0.2081868052482605, Accuracy: 0.8258426785469055\n"
     ]
    }
   ],
   "source": [
    "trained_coeffs = train_deep_net(20, lr=1, trn_indep=trn_indep, trn_dep=trn_dep)"
   ]
  },
  {
   "cell_type": "markdown",
   "metadata": {},
   "source": [
    "# Deep Learning with FastAI"
   ]
  },
  {
   "cell_type": "code",
   "execution_count": 142,
   "metadata": {},
   "outputs": [],
   "source": [
    "from fastai.tabular.all import *\n",
    "\n",
    "pd.options.display.float_format = '{:.2f}'.format\n",
    "set_seed(42)\n"
   ]
  },
  {
   "cell_type": "markdown",
   "metadata": {},
   "source": [
    "### Feature Engineering"
   ]
  },
  {
   "cell_type": "markdown",
   "metadata": {},
   "source": [
    "LOOK AT THIS FOR FEATURE ENGINEERING: https://www.kaggle.com/code/gunesevitan/titanic-advanced-feature-engineering-tutorial"
   ]
  },
  {
   "cell_type": "code",
   "execution_count": 151,
   "metadata": {},
   "outputs": [
    {
     "data": {
      "text/plain": [
       "Index(['PassengerId', 'Survived', 'Pclass', 'Name', 'Sex', 'Age', 'SibSp', 'Parch', 'Ticket', 'Fare', 'Cabin', 'Embarked', 'LogFare',\n",
       "       'Deck', 'Family', 'Alone', 'TicketFreq', 'Title'],\n",
       "      dtype='object')"
      ]
     },
     "execution_count": 151,
     "metadata": {},
     "output_type": "execute_result"
    }
   ],
   "source": [
    "def add_features(df):\n",
    "    df['LogFare'] = np.log1p(df['Fare'])\n",
    "    df['Deck'] = df.Cabin.str[0].map(dict(A=\"ABC\", B=\"ABC\", C=\"ABC\", D=\"DE\", E=\"DE\", F=\"FG\", G=\"FG\"))\n",
    "    df['Family'] = df.SibSp+df.Parch\n",
    "    df['Alone'] = df.Family==0\n",
    "    df['TicketFreq'] = df.groupby('Ticket')['Ticket'].transform('count')\n",
    "    df['Title'] = df.Name.str.split(', ', expand=True)[1].str.split('.', expand=True)[0]\n",
    "    df['Title'] = df.Title.map(dict(Mr=\"Mr\",Miss=\"Miss\",Mrs=\"Mrs\",Master=\"Master\"))\n",
    "\n",
    "df = pd.read_csv(dataset_path/'train.csv')\n",
    "add_features(df)\n",
    "\n",
    "df.columns"
   ]
  },
  {
   "cell_type": "code",
   "execution_count": 145,
   "metadata": {},
   "outputs": [],
   "source": [
    "splits = RandomSplitter(seed=42)(df)"
   ]
  },
  {
   "cell_type": "code",
   "execution_count": 159,
   "metadata": {},
   "outputs": [
    {
     "name": "stderr",
     "output_type": "stream",
     "text": [
      "/Users/cactus/miniconda3/envs/fastai/lib/python3.11/site-packages/fastai/tabular/core.py:312: FutureWarning: A value is trying to be set on a copy of a DataFrame or Series through chained assignment using an inplace method.\n",
      "The behavior will change in pandas 3.0. This inplace method will never work because the intermediate object on which we are setting values always behaves as a copy.\n",
      "\n",
      "For example, when doing 'df[col].method(value, inplace=True)', try using 'df.method({col: value}, inplace=True)' or df[col] = df[col].method(value) instead, to perform the operation inplace on the original object.\n",
      "\n",
      "\n",
      "  to[n].fillna(self.na_dict[n], inplace=True)\n"
     ]
    },
    {
     "data": {
      "text/html": [
       "<table border=\"1\" class=\"dataframe\">\n",
       "  <thead>\n",
       "    <tr style=\"text-align: right;\">\n",
       "      <th></th>\n",
       "      <th>Sex</th>\n",
       "      <th>Pclass</th>\n",
       "      <th>Embarked</th>\n",
       "      <th>Deck</th>\n",
       "      <th>Title</th>\n",
       "      <th>Age_na</th>\n",
       "      <th>Age</th>\n",
       "      <th>SibSp</th>\n",
       "      <th>Parch</th>\n",
       "      <th>LogFare</th>\n",
       "      <th>Alone</th>\n",
       "      <th>TicketFreq</th>\n",
       "      <th>Family</th>\n",
       "      <th>Survived</th>\n",
       "    </tr>\n",
       "  </thead>\n",
       "  <tbody>\n",
       "    <tr>\n",
       "      <th>0</th>\n",
       "      <td>male</td>\n",
       "      <td>3</td>\n",
       "      <td>S</td>\n",
       "      <td>#na#</td>\n",
       "      <td>Mr</td>\n",
       "      <td>False</td>\n",
       "      <td>45.00</td>\n",
       "      <td>0.00</td>\n",
       "      <td>-0.00</td>\n",
       "      <td>2.20</td>\n",
       "      <td>1.00</td>\n",
       "      <td>1.00</td>\n",
       "      <td>-0.00</td>\n",
       "      <td>1</td>\n",
       "    </tr>\n",
       "    <tr>\n",
       "      <th>1</th>\n",
       "      <td>male</td>\n",
       "      <td>3</td>\n",
       "      <td>S</td>\n",
       "      <td>#na#</td>\n",
       "      <td>Mr</td>\n",
       "      <td>False</td>\n",
       "      <td>22.00</td>\n",
       "      <td>0.00</td>\n",
       "      <td>-0.00</td>\n",
       "      <td>2.30</td>\n",
       "      <td>1.00</td>\n",
       "      <td>1.00</td>\n",
       "      <td>-0.00</td>\n",
       "      <td>0</td>\n",
       "    </tr>\n",
       "    <tr>\n",
       "      <th>2</th>\n",
       "      <td>male</td>\n",
       "      <td>2</td>\n",
       "      <td>S</td>\n",
       "      <td>#na#</td>\n",
       "      <td>Mr</td>\n",
       "      <td>False</td>\n",
       "      <td>33.00</td>\n",
       "      <td>0.00</td>\n",
       "      <td>-0.00</td>\n",
       "      <td>2.59</td>\n",
       "      <td>1.00</td>\n",
       "      <td>1.00</td>\n",
       "      <td>-0.00</td>\n",
       "      <td>0</td>\n",
       "    </tr>\n",
       "    <tr>\n",
       "      <th>3</th>\n",
       "      <td>male</td>\n",
       "      <td>3</td>\n",
       "      <td>S</td>\n",
       "      <td>#na#</td>\n",
       "      <td>Mr</td>\n",
       "      <td>False</td>\n",
       "      <td>24.00</td>\n",
       "      <td>2.00</td>\n",
       "      <td>-0.00</td>\n",
       "      <td>3.22</td>\n",
       "      <td>0.00</td>\n",
       "      <td>2.00</td>\n",
       "      <td>2.00</td>\n",
       "      <td>0</td>\n",
       "    </tr>\n",
       "    <tr>\n",
       "      <th>4</th>\n",
       "      <td>female</td>\n",
       "      <td>3</td>\n",
       "      <td>S</td>\n",
       "      <td>#na#</td>\n",
       "      <td>Mrs</td>\n",
       "      <td>True</td>\n",
       "      <td>28.00</td>\n",
       "      <td>1.00</td>\n",
       "      <td>-0.00</td>\n",
       "      <td>2.84</td>\n",
       "      <td>0.00</td>\n",
       "      <td>1.00</td>\n",
       "      <td>1.00</td>\n",
       "      <td>1</td>\n",
       "    </tr>\n",
       "    <tr>\n",
       "      <th>5</th>\n",
       "      <td>male</td>\n",
       "      <td>2</td>\n",
       "      <td>C</td>\n",
       "      <td>#na#</td>\n",
       "      <td>Mr</td>\n",
       "      <td>True</td>\n",
       "      <td>28.00</td>\n",
       "      <td>0.00</td>\n",
       "      <td>-0.00</td>\n",
       "      <td>2.78</td>\n",
       "      <td>1.00</td>\n",
       "      <td>1.00</td>\n",
       "      <td>-0.00</td>\n",
       "      <td>0</td>\n",
       "    </tr>\n",
       "    <tr>\n",
       "      <th>6</th>\n",
       "      <td>female</td>\n",
       "      <td>2</td>\n",
       "      <td>S</td>\n",
       "      <td>#na#</td>\n",
       "      <td>Miss</td>\n",
       "      <td>False</td>\n",
       "      <td>4.00</td>\n",
       "      <td>1.00</td>\n",
       "      <td>1.00</td>\n",
       "      <td>3.18</td>\n",
       "      <td>0.00</td>\n",
       "      <td>1.00</td>\n",
       "      <td>2.00</td>\n",
       "      <td>1</td>\n",
       "    </tr>\n",
       "    <tr>\n",
       "      <th>7</th>\n",
       "      <td>male</td>\n",
       "      <td>3</td>\n",
       "      <td>S</td>\n",
       "      <td>#na#</td>\n",
       "      <td>Mr</td>\n",
       "      <td>False</td>\n",
       "      <td>14.00</td>\n",
       "      <td>5.00</td>\n",
       "      <td>2.00</td>\n",
       "      <td>3.87</td>\n",
       "      <td>0.00</td>\n",
       "      <td>6.00</td>\n",
       "      <td>7.00</td>\n",
       "      <td>0</td>\n",
       "    </tr>\n",
       "    <tr>\n",
       "      <th>8</th>\n",
       "      <td>male</td>\n",
       "      <td>3</td>\n",
       "      <td>S</td>\n",
       "      <td>#na#</td>\n",
       "      <td>Mr</td>\n",
       "      <td>False</td>\n",
       "      <td>36.00</td>\n",
       "      <td>0.00</td>\n",
       "      <td>-0.00</td>\n",
       "      <td>0.00</td>\n",
       "      <td>1.00</td>\n",
       "      <td>4.00</td>\n",
       "      <td>-0.00</td>\n",
       "      <td>0</td>\n",
       "    </tr>\n",
       "    <tr>\n",
       "      <th>9</th>\n",
       "      <td>male</td>\n",
       "      <td>1</td>\n",
       "      <td>S</td>\n",
       "      <td>ABC</td>\n",
       "      <td>#na#</td>\n",
       "      <td>False</td>\n",
       "      <td>45.00</td>\n",
       "      <td>0.00</td>\n",
       "      <td>-0.00</td>\n",
       "      <td>3.32</td>\n",
       "      <td>1.00</td>\n",
       "      <td>1.00</td>\n",
       "      <td>-0.00</td>\n",
       "      <td>0</td>\n",
       "    </tr>\n",
       "  </tbody>\n",
       "</table>"
      ],
      "text/plain": [
       "<IPython.core.display.HTML object>"
      ]
     },
     "metadata": {},
     "output_type": "display_data"
    }
   ],
   "source": [
    "dls = TabularPandas(\n",
    "    df, splits=splits,\n",
    "    procs = [Categorify, FillMissing, Normalize],\n",
    "    cat_names=[\"Sex\",\"Pclass\",\"Embarked\",\"Deck\", \"Title\"],\n",
    "    cont_names=['Age', 'SibSp', 'Parch', 'LogFare', 'Alone', 'TicketFreq', 'Family'],\n",
    "    y_names=\"Survived\", y_block = CategoryBlock(),\n",
    ").dataloaders(path=dataset_path)\n",
    "\n",
    "dls.show_batch(max_n=3)"
   ]
  },
  {
   "cell_type": "code",
   "execution_count": 161,
   "metadata": {},
   "outputs": [
    {
     "data": {
      "text/html": [
       "\n",
       "<style>\n",
       "    /* Turns off some styling */\n",
       "    progress {\n",
       "        /* gets rid of default border in Firefox and Opera. */\n",
       "        border: none;\n",
       "        /* Needs to be in here for Safari polyfill so background images work as expected. */\n",
       "        background-size: auto;\n",
       "    }\n",
       "    progress:not([value]), progress:not([value])::-webkit-progress-bar {\n",
       "        background: repeating-linear-gradient(45deg, #7e7e7e, #7e7e7e 10px, #5c5c5c 10px, #5c5c5c 20px);\n",
       "    }\n",
       "    .progress-bar-interrupted, .progress-bar-interrupted::-webkit-progress-bar {\n",
       "        background: #F44336;\n",
       "    }\n",
       "</style>\n"
      ],
      "text/plain": [
       "<IPython.core.display.HTML object>"
      ]
     },
     "metadata": {},
     "output_type": "display_data"
    },
    {
     "data": {
      "text/html": [],
      "text/plain": [
       "<IPython.core.display.HTML object>"
      ]
     },
     "metadata": {},
     "output_type": "display_data"
    },
    {
     "data": {
      "text/plain": [
       "SuggestedLRs(slide=0.10000000149011612, valley=0.010964781977236271)"
      ]
     },
     "execution_count": 161,
     "metadata": {},
     "output_type": "execute_result"
    },
    {
     "data": {
      "image/png": "[encoded data removed]",
      "text/plain": [
       "<Figure size 640x480 with 1 Axes>"
      ]
     },
     "metadata": {},
     "output_type": "display_data"
    }
   ],
   "source": [
    "learn = tabular_learner(dls, metrics=accuracy, layers=[10,10])\n",
    "learn.lr_find(suggest_funcs=(slide, valley))"
   ]
  },
  {
   "cell_type": "code",
   "execution_count": 165,
   "metadata": {},
   "outputs": [
    {
     "data": {
      "text/html": [
       "\n",
       "<style>\n",
       "    /* Turns off some styling */\n",
       "    progress {\n",
       "        /* gets rid of default border in Firefox and Opera. */\n",
       "        border: none;\n",
       "        /* Needs to be in here for Safari polyfill so background images work as expected. */\n",
       "        background-size: auto;\n",
       "    }\n",
       "    progress:not([value]), progress:not([value])::-webkit-progress-bar {\n",
       "        background: repeating-linear-gradient(45deg, #7e7e7e, #7e7e7e 10px, #5c5c5c 10px, #5c5c5c 20px);\n",
       "    }\n",
       "    .progress-bar-interrupted, .progress-bar-interrupted::-webkit-progress-bar {\n",
       "        background: #F44336;\n",
       "    }\n",
       "</style>\n"
      ],
      "text/plain": [
       "<IPython.core.display.HTML object>"
      ]
     },
     "metadata": {},
     "output_type": "display_data"
    },
    {
     "data": {
      "text/html": [
       "<table border=\"1\" class=\"dataframe\">\n",
       "  <thead>\n",
       "    <tr style=\"text-align: left;\">\n",
       "      <th>epoch</th>\n",
       "      <th>train_loss</th>\n",
       "      <th>valid_loss</th>\n",
       "      <th>accuracy</th>\n",
       "      <th>time</th>\n",
       "    </tr>\n",
       "  </thead>\n",
       "  <tbody>\n",
       "    <tr>\n",
       "      <td>0</td>\n",
       "      <td>0.356688</td>\n",
       "      <td>0.412140</td>\n",
       "      <td>0.820225</td>\n",
       "      <td>00:00</td>\n",
       "    </tr>\n",
       "    <tr>\n",
       "      <td>1</td>\n",
       "      <td>0.359711</td>\n",
       "      <td>0.424887</td>\n",
       "      <td>0.803371</td>\n",
       "      <td>00:00</td>\n",
       "    </tr>\n",
       "    <tr>\n",
       "      <td>2</td>\n",
       "      <td>0.353589</td>\n",
       "      <td>0.421995</td>\n",
       "      <td>0.797753</td>\n",
       "      <td>00:00</td>\n",
       "    </tr>\n",
       "    <tr>\n",
       "      <td>3</td>\n",
       "      <td>0.354648</td>\n",
       "      <td>0.436398</td>\n",
       "      <td>0.797753</td>\n",
       "      <td>00:00</td>\n",
       "    </tr>\n",
       "    <tr>\n",
       "      <td>4</td>\n",
       "      <td>0.354986</td>\n",
       "      <td>0.490909</td>\n",
       "      <td>0.808989</td>\n",
       "      <td>00:00</td>\n",
       "    </tr>\n",
       "    <tr>\n",
       "      <td>5</td>\n",
       "      <td>0.360102</td>\n",
       "      <td>0.461626</td>\n",
       "      <td>0.808989</td>\n",
       "      <td>00:00</td>\n",
       "    </tr>\n",
       "    <tr>\n",
       "      <td>6</td>\n",
       "      <td>0.356845</td>\n",
       "      <td>0.480023</td>\n",
       "      <td>0.808989</td>\n",
       "      <td>00:00</td>\n",
       "    </tr>\n",
       "    <tr>\n",
       "      <td>7</td>\n",
       "      <td>0.354507</td>\n",
       "      <td>0.465852</td>\n",
       "      <td>0.797753</td>\n",
       "      <td>00:00</td>\n",
       "    </tr>\n",
       "    <tr>\n",
       "      <td>8</td>\n",
       "      <td>0.352529</td>\n",
       "      <td>0.445359</td>\n",
       "      <td>0.808989</td>\n",
       "      <td>00:00</td>\n",
       "    </tr>\n",
       "    <tr>\n",
       "      <td>9</td>\n",
       "      <td>0.349859</td>\n",
       "      <td>0.450913</td>\n",
       "      <td>0.808989</td>\n",
       "      <td>00:00</td>\n",
       "    </tr>\n",
       "    <tr>\n",
       "      <td>10</td>\n",
       "      <td>0.348458</td>\n",
       "      <td>0.501563</td>\n",
       "      <td>0.775281</td>\n",
       "      <td>00:00</td>\n",
       "    </tr>\n",
       "    <tr>\n",
       "      <td>11</td>\n",
       "      <td>0.347064</td>\n",
       "      <td>0.448589</td>\n",
       "      <td>0.820225</td>\n",
       "      <td>00:00</td>\n",
       "    </tr>\n",
       "    <tr>\n",
       "      <td>12</td>\n",
       "      <td>0.349656</td>\n",
       "      <td>0.454754</td>\n",
       "      <td>0.825843</td>\n",
       "      <td>00:00</td>\n",
       "    </tr>\n",
       "    <tr>\n",
       "      <td>13</td>\n",
       "      <td>0.351150</td>\n",
       "      <td>0.437176</td>\n",
       "      <td>0.814607</td>\n",
       "      <td>00:00</td>\n",
       "    </tr>\n",
       "    <tr>\n",
       "      <td>14</td>\n",
       "      <td>0.351081</td>\n",
       "      <td>0.430736</td>\n",
       "      <td>0.825843</td>\n",
       "      <td>00:00</td>\n",
       "    </tr>\n",
       "    <tr>\n",
       "      <td>15</td>\n",
       "      <td>0.350468</td>\n",
       "      <td>0.461618</td>\n",
       "      <td>0.808989</td>\n",
       "      <td>00:00</td>\n",
       "    </tr>\n",
       "  </tbody>\n",
       "</table>"
      ],
      "text/plain": [
       "<IPython.core.display.HTML object>"
      ]
     },
     "metadata": {},
     "output_type": "display_data"
    }
   ],
   "source": [
    "learn.fit(16, lr=0.03)"
   ]
  },
  {
   "cell_type": "markdown",
   "metadata": {},
   "source": [
    "### Test DL"
   ]
  },
  {
   "cell_type": "code",
   "execution_count": 172,
   "metadata": {},
   "outputs": [
    {
     "name": "stderr",
     "output_type": "stream",
     "text": [
      "/Users/cactus/miniconda3/envs/fastai/lib/python3.11/site-packages/fastai/tabular/core.py:312: FutureWarning: A value is trying to be set on a copy of a DataFrame or Series through chained assignment using an inplace method.\n",
      "The behavior will change in pandas 3.0. This inplace method will never work because the intermediate object on which we are setting values always behaves as a copy.\n",
      "\n",
      "For example, when doing 'df[col].method(value, inplace=True)', try using 'df.method({col: value}, inplace=True)' or df[col] = df[col].method(value) instead, to perform the operation inplace on the original object.\n",
      "\n",
      "\n",
      "  to[n].fillna(self.na_dict[n], inplace=True)\n"
     ]
    }
   ],
   "source": [
    "tst_df = pd.read_csv(dataset_path/'test.csv')\n",
    "tst_df['Fare'] = tst_df.Fare.fillna(0)\n",
    "add_features(tst_df)\n",
    "\n",
    "tst_dl = learn.dls.test_dl(tst_df)"
   ]
  },
  {
   "cell_type": "markdown",
   "metadata": {},
   "source": [
    "### Ensembling"
   ]
  },
  {
   "cell_type": "code",
   "execution_count": 173,
   "metadata": {},
   "outputs": [
    {
     "data": {
      "text/html": [
       "\n",
       "<style>\n",
       "    /* Turns off some styling */\n",
       "    progress {\n",
       "        /* gets rid of default border in Firefox and Opera. */\n",
       "        border: none;\n",
       "        /* Needs to be in here for Safari polyfill so background images work as expected. */\n",
       "        background-size: auto;\n",
       "    }\n",
       "    progress:not([value]), progress:not([value])::-webkit-progress-bar {\n",
       "        background: repeating-linear-gradient(45deg, #7e7e7e, #7e7e7e 10px, #5c5c5c 10px, #5c5c5c 20px);\n",
       "    }\n",
       "    .progress-bar-interrupted, .progress-bar-interrupted::-webkit-progress-bar {\n",
       "        background: #F44336;\n",
       "    }\n",
       "</style>\n"
      ],
      "text/plain": [
       "<IPython.core.display.HTML object>"
      ]
     },
     "metadata": {},
     "output_type": "display_data"
    },
    {
     "data": {
      "text/html": [],
      "text/plain": [
       "<IPython.core.display.HTML object>"
      ]
     },
     "metadata": {},
     "output_type": "display_data"
    },
    {
     "data": {
      "text/html": [
       "\n",
       "<style>\n",
       "    /* Turns off some styling */\n",
       "    progress {\n",
       "        /* gets rid of default border in Firefox and Opera. */\n",
       "        border: none;\n",
       "        /* Needs to be in here for Safari polyfill so background images work as expected. */\n",
       "        background-size: auto;\n",
       "    }\n",
       "    progress:not([value]), progress:not([value])::-webkit-progress-bar {\n",
       "        background: repeating-linear-gradient(45deg, #7e7e7e, #7e7e7e 10px, #5c5c5c 10px, #5c5c5c 20px);\n",
       "    }\n",
       "    .progress-bar-interrupted, .progress-bar-interrupted::-webkit-progress-bar {\n",
       "        background: #F44336;\n",
       "    }\n",
       "</style>\n"
      ],
      "text/plain": [
       "<IPython.core.display.HTML object>"
      ]
     },
     "metadata": {},
     "output_type": "display_data"
    },
    {
     "data": {
      "text/html": [],
      "text/plain": [
       "<IPython.core.display.HTML object>"
      ]
     },
     "metadata": {},
     "output_type": "display_data"
    },
    {
     "data": {
      "text/html": [
       "\n",
       "<style>\n",
       "    /* Turns off some styling */\n",
       "    progress {\n",
       "        /* gets rid of default border in Firefox and Opera. */\n",
       "        border: none;\n",
       "        /* Needs to be in here for Safari polyfill so background images work as expected. */\n",
       "        background-size: auto;\n",
       "    }\n",
       "    progress:not([value]), progress:not([value])::-webkit-progress-bar {\n",
       "        background: repeating-linear-gradient(45deg, #7e7e7e, #7e7e7e 10px, #5c5c5c 10px, #5c5c5c 20px);\n",
       "    }\n",
       "    .progress-bar-interrupted, .progress-bar-interrupted::-webkit-progress-bar {\n",
       "        background: #F44336;\n",
       "    }\n",
       "</style>\n"
      ],
      "text/plain": [
       "<IPython.core.display.HTML object>"
      ]
     },
     "metadata": {},
     "output_type": "display_data"
    },
    {
     "data": {
      "text/html": [],
      "text/plain": [
       "<IPython.core.display.HTML object>"
      ]
     },
     "metadata": {},
     "output_type": "display_data"
    },
    {
     "data": {
      "text/html": [
       "\n",
       "<style>\n",
       "    /* Turns off some styling */\n",
       "    progress {\n",
       "        /* gets rid of default border in Firefox and Opera. */\n",
       "        border: none;\n",
       "        /* Needs to be in here for Safari polyfill so background images work as expected. */\n",
       "        background-size: auto;\n",
       "    }\n",
       "    progress:not([value]), progress:not([value])::-webkit-progress-bar {\n",
       "        background: repeating-linear-gradient(45deg, #7e7e7e, #7e7e7e 10px, #5c5c5c 10px, #5c5c5c 20px);\n",
       "    }\n",
       "    .progress-bar-interrupted, .progress-bar-interrupted::-webkit-progress-bar {\n",
       "        background: #F44336;\n",
       "    }\n",
       "</style>\n"
      ],
      "text/plain": [
       "<IPython.core.display.HTML object>"
      ]
     },
     "metadata": {},
     "output_type": "display_data"
    },
    {
     "data": {
      "text/html": [],
      "text/plain": [
       "<IPython.core.display.HTML object>"
      ]
     },
     "metadata": {},
     "output_type": "display_data"
    },
    {
     "data": {
      "text/html": [
       "\n",
       "<style>\n",
       "    /* Turns off some styling */\n",
       "    progress {\n",
       "        /* gets rid of default border in Firefox and Opera. */\n",
       "        border: none;\n",
       "        /* Needs to be in here for Safari polyfill so background images work as expected. */\n",
       "        background-size: auto;\n",
       "    }\n",
       "    progress:not([value]), progress:not([value])::-webkit-progress-bar {\n",
       "        background: repeating-linear-gradient(45deg, #7e7e7e, #7e7e7e 10px, #5c5c5c 10px, #5c5c5c 20px);\n",
       "    }\n",
       "    .progress-bar-interrupted, .progress-bar-interrupted::-webkit-progress-bar {\n",
       "        background: #F44336;\n",
       "    }\n",
       "</style>\n"
      ],
      "text/plain": [
       "<IPython.core.display.HTML object>"
      ]
     },
     "metadata": {},
     "output_type": "display_data"
    },
    {
     "data": {
      "text/html": [],
      "text/plain": [
       "<IPython.core.display.HTML object>"
      ]
     },
     "metadata": {},
     "output_type": "display_data"
    }
   ],
   "source": [
    "def ensemble():\n",
    "    learn = tabular_learner(dls, metrics=accuracy, layers=[10,10])\n",
    "    with learn.no_bar(),learn.no_logging(): learn.fit(16, lr=0.03)\n",
    "    return learn.get_preds(dl=tst_dl)[0]\n",
    "\n",
    "learns = [ensemble() for _ in range(5)]\n",
    "ens_preds = torch.stack(learns).mean(0)\n",
    "\n",
    "\n",
    "tst_df['Survived'] = (ens_preds[:,1]>0.5).int()\n",
    "sub_df = tst_df[['PassengerId','Survived']]\n",
    "sub_df.to_csv('ens_sub.csv', index=False)\n",
    "\n",
    "!head ens_sub.csv\n"
   ]
  },
  {
   "cell_type": "markdown",
   "metadata": {},
   "source": [
    "# How does GPT do EDA? It got a system!"
   ]
  },
  {
   "cell_type": "markdown",
   "metadata": {},
   "source": [
    "Without historical context or prior knowledge about the Titanic disaster, determining key variables for analysis would rely more heavily on a systematic exploration of the dataset's features and their statistical relationships. Here's how you could approach identifying key variables purely from the data:\n",
    "\n",
    "\n",
    "### 1. Understanding the Data Structure\n",
    "Start by examining the dataset to understand what each variable represents and its data type (numerical, categorical, etc.). This step helps identify which variables are potential predictors and which one is the target variable.\n",
    "\n",
    "\n",
    "### 2. Descriptive Statistics\n",
    "\n",
    "Calculate descriptive statistics for numerical variables (mean, median, standard deviation, etc.) and frequency counts for categorical variables. This step can help identify variables with significant variance or diversity in values, suggesting potential for meaningful analysis.\n",
    "\n",
    "\n",
    "### 3. Correlation Analysis\n",
    "Perform correlation analysis to identify relationships between variables. For numerical variables, Pearson correlation coefficients can give insights into linear relationships, while for categorical variables or a mix of categorical and numerical, techniques like Chi-square tests, ANOVA, or Cramér's V can be used. High correlation with the target variable might indicate key predictors.\n",
    "\n",
    "### 4. Visual Exploration\n",
    "\n",
    "Utilize visual tools such as histograms, box plots, and scatter plots to explore the distribution of individual variables and the relationships between them. Visual exploration can reveal patterns, outliers, and potential influential factors that might not be obvious through statistical metrics alone.\n",
    "\n",
    "    Pairwise Relationships: Scatter plots or pair plots can help visualize relationships between the target variable and potential predictors.\n",
    "    Distribution of Target Variable Across Groups: Box plots or violin plots for the target variable across different categories can highlight influential categorical predictors.\n",
    "\n",
    "### 5. Missing Values Analysis\n",
    "\n",
    "Identify the extent of missing data across variables. A high proportion of missing values might indicate issues with certain variables but can also suggest areas requiring further investigation or potential for feature engineering.\n",
    "\n",
    "### 6. Preliminary Feature Importance\n",
    "Even before formal modeling, simple machine learning models (like decision trees) can be applied to the dataset to get an initial estimate of feature importance. This step requires minimal preprocessing and can provide early insights into which variables might be influential.\n",
    "\n",
    "### 7. Domain Research\n",
    "In the absence of specific historical context, a bit of research into similar datasets or problems can help identify commonly important variables in similar scenarios. This step isn't about gaining deep historical insight but rather about identifying potentially analogous situations and the variables important in those contexts.\n",
    "Summary\n",
    "\n",
    "Focusing on these data-driven approaches provides a structured pathway to identify key variables without relying on external context. This process is iterative, where initial findings might lead you back to earlier steps for a deeper dive, ensuring a comprehensive understanding of the dataset's potential for analysis and modeling."
   ]
  },
  {
   "cell_type": "markdown",
   "metadata": {},
   "source": []
  }
 ],
 "metadata": {
  "kernelspec": {
   "display_name": "fastai",
   "language": "python",
   "name": "python3"
  },
  "language_info": {
   "codemirror_mode": {
    "name": "ipython",
    "version": 3
   },
   "file_extension": ".py",
   "mimetype": "text/x-python",
   "name": "python",
   "nbconvert_exporter": "python",
   "pygments_lexer": "ipython3",
   "version": "3.11.8"
  }
 },
 "nbformat": 4,
 "nbformat_minor": 2
}
